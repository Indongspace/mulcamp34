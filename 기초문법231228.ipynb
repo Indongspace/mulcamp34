{
  "nbformat": 4,
  "nbformat_minor": 0,
  "metadata": {
    "colab": {
      "provenance": [],
      "toc_visible": true,
      "authorship_tag": "ABX9TyO0Yt0E2JTqFdfRso6bLSvt",
      "include_colab_link": true
    },
    "kernelspec": {
      "name": "python3",
      "display_name": "Python 3"
    },
    "language_info": {
      "name": "python"
    }
  },
  "cells": [
    {
      "cell_type": "markdown",
      "metadata": {
        "id": "view-in-github",
        "colab_type": "text"
      },
      "source": [
        "<a href=\"https://colab.research.google.com/github/Indongspace/mulcamp34/blob/main/%EA%B8%B0%EC%B4%88%EB%AC%B8%EB%B2%95231228.ipynb\" target=\"_parent\"><img src=\"https://colab.research.google.com/assets/colab-badge.svg\" alt=\"Open In Colab\"/></a>"
      ]
    },
    {
      "cell_type": "markdown",
      "source": [
        "# 문자열 함수\n",
        "- 교재 (p.158)\n",
        "- 영어 : function, method"
      ],
      "metadata": {
        "id": "i7d0Xz1dxEav"
      }
    },
    {
      "cell_type": "markdown",
      "source": [
        "## split() : 문자열 분리"
      ],
      "metadata": {
        "id": "5e-pX5Z32pfz"
      }
    },
    {
      "cell_type": "code",
      "source": [
        "coffee_menu_str = \"에스프레소,아메리카노,카페라떼,카푸치노\"\n",
        "coffee_menu_str.split(',')\n",
        "\n",
        "# 결과해석\n",
        "# 내가 원하는 대로 결과가 나왔는가?\n",
        "# 반환값, Return 자료형 확인 필수"
      ],
      "metadata": {
        "colab": {
          "base_uri": "https://localhost:8080/"
        },
        "id": "aJx79raryClb",
        "outputId": "80ff25e6-424a-49ae-dea3-0c6bd1bb426d"
      },
      "execution_count": 1,
      "outputs": [
        {
          "output_type": "execute_result",
          "data": {
            "text/plain": [
              "['에스프레소', '아메리카노', '카페라떼', '카푸치노']"
            ]
          },
          "metadata": {},
          "execution_count": 1
        }
      ]
    },
    {
      "cell_type": "code",
      "source": [
        "\"에스프레소,아메리카노,카페라떼,카푸치노\".split(',')"
      ],
      "metadata": {
        "colab": {
          "base_uri": "https://localhost:8080/"
        },
        "id": "i-I2kvQ0zomU",
        "outputId": "251cf982-06e5-4335-c741-6ef9654ab8b9"
      },
      "execution_count": 2,
      "outputs": [
        {
          "output_type": "execute_result",
          "data": {
            "text/plain": [
              "['에스프레소', '아메리카노', '카페라떼', '카푸치노']"
            ]
          },
          "metadata": {},
          "execution_count": 2
        }
      ]
    },
    {
      "cell_type": "code",
      "source": [
        "\"에스프레소 아메리카노 카페라떼 카푸치노\".split(' ')"
      ],
      "metadata": {
        "colab": {
          "base_uri": "https://localhost:8080/"
        },
        "id": "KoKWRrUP0FQL",
        "outputId": "819abc38-a273-4f61-b47b-705bef587168"
      },
      "execution_count": 4,
      "outputs": [
        {
          "output_type": "execute_result",
          "data": {
            "text/plain": [
              "['에스프레소', '아메리카노', '카페라떼', '카푸치노']"
            ]
          },
          "metadata": {},
          "execution_count": 4
        }
      ]
    },
    {
      "cell_type": "code",
      "source": [
        "phone_number = \"+82-01-2345-6789\"\n",
        "print(phone_number[:3])\n",
        "print(phone_number.split('-')[0])\n",
        "print(phone_number.split('-',maxsplit=1))\n",
        "# maxsplit, 매개변수 (arguments,parameters)"
      ],
      "metadata": {
        "colab": {
          "base_uri": "https://localhost:8080/"
        },
        "id": "ZND1OtZa0kbk",
        "outputId": "c10ba1c2-1f25-448a-adc4-df3ce9b73d37"
      },
      "execution_count": 8,
      "outputs": [
        {
          "output_type": "stream",
          "name": "stdout",
          "text": [
            "+82\n",
            "+82\n",
            "['+82', '01-2345-6789']\n"
          ]
        }
      ]
    },
    {
      "cell_type": "markdown",
      "source": [
        "## strip() : 필요없는 문자열 삭제\n",
        "- 앞뒤 공백 혹은 개행문자와 같이 불필요한 부분을 지우고 싶을 때 사용"
      ],
      "metadata": {
        "id": "0tz00aUL2ynB"
      }
    },
    {
      "cell_type": "code",
      "source": [
        "tempText = ' Phyton 언어 '\n",
        "tempText.strip()"
      ],
      "metadata": {
        "colab": {
          "base_uri": "https://localhost:8080/",
          "height": 36
        },
        "id": "jAPH05Ve3fFq",
        "outputId": "751f8425-20fa-4baa-94e8-b89b083cd0e1"
      },
      "execution_count": 11,
      "outputs": [
        {
          "output_type": "execute_result",
          "data": {
            "text/plain": [
              "'Phyton 언어'"
            ],
            "application/vnd.google.colaboratory.intrinsic+json": {
              "type": "string"
            }
          },
          "metadata": {},
          "execution_count": 11
        }
      ]
    },
    {
      "cell_type": "code",
      "source": [
        "tempText = 'aaaPythonaaa'\n",
        "tempText.strip('a')"
      ],
      "metadata": {
        "colab": {
          "base_uri": "https://localhost:8080/",
          "height": 36
        },
        "id": "r3SK8qsE34tI",
        "outputId": "dc700b9f-ea34-43ab-d837-37cce4d62fce"
      },
      "execution_count": 12,
      "outputs": [
        {
          "output_type": "execute_result",
          "data": {
            "text/plain": [
              "'Python'"
            ],
            "application/vnd.google.colaboratory.intrinsic+json": {
              "type": "string"
            }
          },
          "metadata": {},
          "execution_count": 12
        }
      ]
    },
    {
      "cell_type": "code",
      "source": [
        "tempText = 'aaaaabbPythonbbaaaaaa'\n",
        "tempText.strip('ab')\n",
        "# 코딩은 1가지의 정답이 있는 것이 아님\n",
        "# 여러가지 정답 중에서 효율적인 정답을 찾는 과정이 코딩!"
      ],
      "metadata": {
        "colab": {
          "base_uri": "https://localhost:8080/",
          "height": 36
        },
        "id": "St1e2wA04dxS",
        "outputId": "02b47e55-b0c9-43e9-e079-6869e164105e"
      },
      "execution_count": 15,
      "outputs": [
        {
          "output_type": "execute_result",
          "data": {
            "text/plain": [
              "'Python'"
            ],
            "application/vnd.google.colaboratory.intrinsic+json": {
              "type": "string"
            }
          },
          "metadata": {},
          "execution_count": 15
        }
      ]
    },
    {
      "cell_type": "code",
      "source": [
        "tempText = '\\n Python \\n\\n'\n",
        "tempText.strip(' \\n')\n",
        "# lstrip(), 해당 텍스트의 왼쪽\n",
        "# rstrip(), 해당 텍스트의 오른쪽"
      ],
      "metadata": {
        "colab": {
          "base_uri": "https://localhost:8080/",
          "height": 36
        },
        "id": "Hv0nwXm88_Uo",
        "outputId": "b89799b5-8e2c-4cae-bb29-56d1dc61daf1"
      },
      "execution_count": 18,
      "outputs": [
        {
          "output_type": "execute_result",
          "data": {
            "text/plain": [
              "'Python'"
            ],
            "application/vnd.google.colaboratory.intrinsic+json": {
              "type": "string"
            }
          },
          "metadata": {},
          "execution_count": 18
        }
      ]
    },
    {
      "cell_type": "markdown",
      "source": [
        "## join() : 문자열 연결\n",
        " - 더하기 연산자 (+)로 두 문자열을 연결 가능"
      ],
      "metadata": {
        "id": "Dj3wMB3599UV"
      }
    },
    {
      "cell_type": "code",
      "source": [
        "address_list = ['서울시','서초구','반포대로','201(반포동)']\n",
        "# 리스트의 각 값을 모두 연결해서 하나의 텍스트로\n",
        "a = \" \"\n",
        "a.join(address_list)"
      ],
      "metadata": {
        "colab": {
          "base_uri": "https://localhost:8080/",
          "height": 36
        },
        "id": "kg2xyMtb-FDl",
        "outputId": "94af2c4f-4b42-4551-8900-a83f92696752"
      },
      "execution_count": 24,
      "outputs": [
        {
          "output_type": "execute_result",
          "data": {
            "text/plain": [
              "'서울시 서초구 반포대로 201(반포동)'"
            ],
            "application/vnd.google.colaboratory.intrinsic+json": {
              "type": "string"
            }
          },
          "metadata": {},
          "execution_count": 24
        }
      ]
    },
    {
      "cell_type": "markdown",
      "source": [
        "## find() : 문자열 찾기\n",
        "- 문자열의 위치 값을 반환"
      ],
      "metadata": {
        "id": "VE3n4jIAAAGN"
      }
    },
    {
      "cell_type": "code",
      "source": [
        "str_f = 'Python code.'\n",
        "print(\"찾는 문자열의 위치:\",str_f.find('Java')) # -1 해당되는 문자 없음"
      ],
      "metadata": {
        "colab": {
          "base_uri": "https://localhost:8080/"
        },
        "id": "rrvSSH4PAvFv",
        "outputId": "5e78db80-b842-47e2-d715-f09061cd3618"
      },
      "execution_count": 28,
      "outputs": [
        {
          "output_type": "stream",
          "name": "stdout",
          "text": [
            "찾는 문자열의 위치: -1\n"
          ]
        }
      ]
    },
    {
      "cell_type": "markdown",
      "source": [
        "count() : 찾고자 하는 문자열의 횟수 반환\n",
        "- 만약, 찾을 문자열이 없으면 0으로 반환"
      ],
      "metadata": {
        "id": "W_1sG_V3Din4"
      }
    },
    {
      "cell_type": "code",
      "source": [
        "str_c = \"Python is powerful. Python is easy to learn. Python is open\"\n",
        "print(\"Python의 갯수는?\",str_c.count(\"Python\"))\n",
        "print(\"Python의 갯수는?\",str_c.count(\"powerful\"))\n",
        "print(\"Python의 갯수는?\",str_c.count(\"Java\"))"
      ],
      "metadata": {
        "colab": {
          "base_uri": "https://localhost:8080/"
        },
        "id": "76ePEwBtDp0A",
        "outputId": "62bd56ae-6b28-4c99-b51a-0c1a6464f2f5"
      },
      "execution_count": 30,
      "outputs": [
        {
          "output_type": "stream",
          "name": "stdout",
          "text": [
            "Python의 갯수는? 3\n",
            "Python의 갯수는? 1\n",
            "Python의 갯수는? 0\n"
          ]
        }
      ]
    },
    {
      "cell_type": "markdown",
      "source": [
        "## startswith, endswith\n",
        "- 각 문자열이 지정된 문자로 시작하는지 또는 끝나는지 체크(검사)할 때 사"
      ],
      "metadata": {
        "id": "0JHkuQPwELvL"
      }
    },
    {
      "cell_type": "code",
      "source": [
        "str_c = \"Python is powerful. Python is easy to learn. Python is open.\"\n",
        "print(\"Python의 갯수는?\",str_c.startswith(\"Python\"))\n",
        "print(\"Python의 갯수는?\",str_c.startswith(\"is\"))\n",
        "print(\"Python의 갯수는?\",str_c.endswith(\".\"))\n",
        "print(\"Python의 갯수는?\",str_c.endswith(\"!\"))"
      ],
      "metadata": {
        "colab": {
          "base_uri": "https://localhost:8080/"
        },
        "id": "bIrA84h4EU6i",
        "outputId": "3d8da0bd-5169-48ff-b7ad-e6b63db55f9c"
      },
      "execution_count": 32,
      "outputs": [
        {
          "output_type": "stream",
          "name": "stdout",
          "text": [
            "Python의 갯수는? True\n",
            "Python의 갯수는? False\n",
            "Python의 갯수는? True\n",
            "Python의 갯수는? False\n"
          ]
        }
      ]
    },
    {
      "cell_type": "markdown",
      "source": [
        "## replace() : 문자열 바꾸기\n",
        "- 지정한 문자열을 찾아서 바꾸는 메서드"
      ],
      "metadata": {
        "id": "pMjuhjEGE-8e"
      }
    },
    {
      "cell_type": "code",
      "source": [
        "str_a = \"Python is fast. Python is friendly. Python is open.\"\n",
        "# Python IPython\n",
        "print(str_a.replace('Python','IPython'))"
      ],
      "metadata": {
        "colab": {
          "base_uri": "https://localhost:8080/"
        },
        "id": "NzcuvA8QFD4i",
        "outputId": "90ddb240-ee53-4b91-b603-9c0961d1fe2f"
      },
      "execution_count": 33,
      "outputs": [
        {
          "output_type": "stream",
          "name": "stdout",
          "text": [
            "IPython is fast. IPython is friendly. IPython is open.\n"
          ]
        }
      ]
    },
    {
      "cell_type": "code",
      "source": [
        "str_b = '[Python][is][fast]'\n",
        "str_b1 = str_b.replace('[', '')\n",
        "str_b2 = str_b1.replace(']',' ')\n",
        "result = str_b2.rstrip()\n",
        "print(result)"
      ],
      "metadata": {
        "colab": {
          "base_uri": "https://localhost:8080/"
        },
        "id": "5mAx4ejxFmJp",
        "outputId": "2f230afb-f3df-4da4-ddf4-b4a566dd295f"
      },
      "execution_count": 40,
      "outputs": [
        {
          "output_type": "stream",
          "name": "stdout",
          "text": [
            "Python is fast\n"
          ]
        }
      ]
    },
    {
      "cell_type": "markdown",
      "source": [
        "#리스트 함수\n",
        "- 교재(p.54)\n",
        "- 처음에 프로그래밍 공부할 때,\n",
        " + 1차는 교재 확인\n",
        " + 프로젝트 진행 시 ==> 공식문서에 친숙\n",
        " + 라이브러리 사용할 때, 공식문서를 보는 훈련을 계속 해야 함."
      ],
      "metadata": {
        "id": "GUJDuB2BxJVK"
      }
    },
    {
      "cell_type": "markdown",
      "source": [
        "## append()\n",
        "- 리스트에서 항목 하나를 맨 마지막에 추가"
      ],
      "metadata": {
        "id": "1jEGwCzjN3jd"
      }
    },
    {
      "cell_type": "code",
      "source": [
        "myFriends = ['James','Robert','Lisa','Mary']\n",
        "myFriends.append('Thomas')\n",
        "print(myFriends)"
      ],
      "metadata": {
        "colab": {
          "base_uri": "https://localhost:8080/"
        },
        "id": "_67_olT5N8ks",
        "outputId": "85f5ab37-3861-4c70-e6bf-f0d4456b290c"
      },
      "execution_count": 43,
      "outputs": [
        {
          "output_type": "stream",
          "name": "stdout",
          "text": [
            "['James', 'Robert', 'Lisa', 'Mary', 'Thomas']\n"
          ]
        }
      ]
    },
    {
      "cell_type": "markdown",
      "source": [
        "## extend()\n",
        "- 리스트에서 항목 여러 개를 맨 마지막에 추가"
      ],
      "metadata": {
        "id": "SJH6lP2HPluV"
      }
    },
    {
      "cell_type": "code",
      "source": [
        "myFriends = ['James','Robert','Lisa','Mary']\n",
        "myFriends.append('Thomas')\n",
        "\n",
        "newFriends = ['A','B','C']\n",
        "myFriends.extend(newFriends)\n",
        "myFriends"
      ],
      "metadata": {
        "colab": {
          "base_uri": "https://localhost:8080/"
        },
        "id": "pXX3EGEbPnm-",
        "outputId": "cdd9d93d-b913-422e-ce68-64ed1d5c0903"
      },
      "execution_count": 46,
      "outputs": [
        {
          "output_type": "execute_result",
          "data": {
            "text/plain": [
              "['James', 'Robert', 'Lisa', 'Mary', 'Thomas', 'A', 'B', 'C']"
            ]
          },
          "metadata": {},
          "execution_count": 46
        }
      ]
    },
    {
      "cell_type": "markdown",
      "source": [
        "## insert()\n",
        "- 항목의 위치를 나타내는 인덱스 i에 data를 삽입."
      ],
      "metadata": {
        "id": "YIAT-gbOQKPX"
      }
    },
    {
      "cell_type": "code",
      "source": [
        "myFriends = ['James','Robert','Lisa','Mary']\n",
        "myFriends.insert(1,\"Evan\")\n",
        "print(myFriends)"
      ],
      "metadata": {
        "colab": {
          "base_uri": "https://localhost:8080/"
        },
        "id": "3KtiAf8iTAVA",
        "outputId": "147456e5-af34-4bfa-d497-1ea72a921014"
      },
      "execution_count": 47,
      "outputs": [
        {
          "output_type": "stream",
          "name": "stdout",
          "text": [
            "['James', 'Evan', 'Robert', 'Lisa', 'Mary']\n"
          ]
        }
      ]
    },
    {
      "cell_type": "code",
      "source": [
        "ex_list = [\"a\",\"b\",'c',\"d\"]\n",
        "ex_list.insert(4,\"e\")\n",
        "print(ex_list)"
      ],
      "metadata": {
        "colab": {
          "base_uri": "https://localhost:8080/"
        },
        "id": "HXNK2-pzl4xY",
        "outputId": "785436f1-5a1e-4dca-ac70-c77228e042d7"
      },
      "execution_count": 52,
      "outputs": [
        {
          "output_type": "stream",
          "name": "stdout",
          "text": [
            "['a', 'b', 'c', 'd', 'e']\n"
          ]
        }
      ]
    },
    {
      "cell_type": "markdown",
      "source": [
        "## 코드를 암기하려고 하지 말고, 공식문서 보는 방법에 대해 익힘\n",
        " 코드 암기는 언제 필요할까? : 빅데이터 분석기사 실기 볼 때만 집중적으로 통으로 암기 or 코딩 테스트"
      ],
      "metadata": {
        "id": "gEzflMJnUUq3"
      }
    },
    {
      "cell_type": "markdown",
      "source": [
        "# 클래스"
      ],
      "metadata": {
        "id": "Ezwo8ILYxLwF"
      }
    },
    {
      "cell_type": "markdown",
      "source": [
        "## 함수\n",
        " + 분석프로젝트 시, 새로운 파생변수 만드는 메서드를 정의\n",
        " + 개발자 : 속도를 빠르게 만들어주는 함수, ETL을 효율적으로 해주는 함수\n",
        "### 함수의 구조\n",
        "### 매개변수, 인자\n",
        "### 116p\n",
        " def 함수명(인자n):\n",
        "   # 코드블록\n",
        "   return 반환값\n",
        "\n"
      ],
      "metadata": {
        "id": "RcKDWaNdnvL8"
      }
    },
    {
      "cell_type": "code",
      "source": [
        "def mySum(a,b):\n",
        "  c = a+b\n",
        "  return c\n",
        "\n",
        "a = 1\n",
        "b = 1\n",
        "result = mySum(a,b)\n",
        "print(result)"
      ],
      "metadata": {
        "colab": {
          "base_uri": "https://localhost:8080/"
        },
        "id": "7hpgyhrdqHZS",
        "outputId": "9ee009b4-0c1e-4d94-c19c-823f3007105f"
      },
      "execution_count": 54,
      "outputs": [
        {
          "output_type": "stream",
          "name": "stdout",
          "text": [
            "2\n"
          ]
        }
      ]
    },
    {
      "cell_type": "code",
      "source": [
        "def diff(a,b):\n",
        "  c = a - b\n",
        "  return c\n",
        "\n",
        "mySubtract = diff(5,4)\n",
        "print(mySubtract)"
      ],
      "metadata": {
        "colab": {
          "base_uri": "https://localhost:8080/"
        },
        "id": "Z4sgpj-CrpcH",
        "outputId": "b332d424-6747-4608-c4da-8fe77e4093c6"
      },
      "execution_count": 55,
      "outputs": [
        {
          "output_type": "stream",
          "name": "stdout",
          "text": [
            "1\n"
          ]
        }
      ]
    },
    {
      "cell_type": "code",
      "source": [
        "def diff(a,b=0):\n",
        "  c = a - b\n",
        "  return c\n",
        "\n",
        "m = 10\n",
        "n = 100\n",
        "result = diff(m,n)\n",
        "print(result)"
      ],
      "metadata": {
        "colab": {
          "base_uri": "https://localhost:8080/"
        },
        "id": "bOTVHj2pvK4k",
        "outputId": "c10c7338-2a1e-451f-f1c6-19ae1fe4ee55"
      },
      "execution_count": 57,
      "outputs": [
        {
          "output_type": "stream",
          "name": "stdout",
          "text": [
            "-90\n"
          ]
        }
      ]
    },
    {
      "cell_type": "code",
      "source": [
        "def my_func():\n",
        "  print(\"My first function\")\n",
        "  print(\"This is a function\")\n",
        "\n",
        "my_func()"
      ],
      "metadata": {
        "colab": {
          "base_uri": "https://localhost:8080/"
        },
        "id": "plvAhG5-z_Dn",
        "outputId": "5131eb72-c807-4c5b-ab17-e987d7e30caf"
      },
      "execution_count": 58,
      "outputs": [
        {
          "output_type": "stream",
          "name": "stdout",
          "text": [
            "My first function\n",
            "This is a function\n"
          ]
        }
      ]
    },
    {
      "cell_type": "code",
      "source": [
        "def mySum(a,b = 0):\n",
        "  c = a + b\n",
        "  print(f\"함수 잘 작동 중? {c}\")\n",
        "  #return c\n",
        "\n",
        "a = 1\n",
        "result = mySum(a)\n",
        "print(result)"
      ],
      "metadata": {
        "colab": {
          "base_uri": "https://localhost:8080/"
        },
        "id": "7D6Cmg6F086a",
        "outputId": "cb674d3f-b11f-4923-9ceb-308322bb2f01"
      },
      "execution_count": 61,
      "outputs": [
        {
          "output_type": "stream",
          "name": "stdout",
          "text": [
            "함수 잘 작동 중? 1\n",
            "None\n"
          ]
        }
      ]
    },
    {
      "cell_type": "markdown",
      "source": [
        "### 변수의 유효범위\n",
        "- p.121\n",
        "- 지역변수 & 전역변수\n",
        "- local variable & global variable"
      ],
      "metadata": {
        "id": "KrfZB16K2CH0"
      }
    },
    {
      "cell_type": "code",
      "source": [
        "a = 5\n",
        "\n",
        "def func1():\n",
        "  #a = 1\n",
        "  print(f'func1 지역변수 a = {a}')\n",
        "\n",
        "func1()\n",
        "print(f'전역변수 a = {a}')"
      ],
      "metadata": {
        "colab": {
          "base_uri": "https://localhost:8080/"
        },
        "id": "CFCfIYQl2VQH",
        "outputId": "0052e65d-068e-4408-a905-b0a81810956b"
      },
      "execution_count": 64,
      "outputs": [
        {
          "output_type": "stream",
          "name": "stdout",
          "text": [
            "func1 지역변수 a = 5\n",
            "전역변수 a = 5\n"
          ]
        }
      ]
    },
    {
      "cell_type": "code",
      "source": [
        "a = 5\n",
        "\n",
        "def func1():\n",
        "  a = 1\n",
        "  print(f'func1 지역변수 a = {a}')\n",
        "\n",
        "def func2():\n",
        "  a = 4\n",
        "  print(f'func1 지역변수 a = {a}')\n",
        "\n",
        "func1()\n",
        "func2()\n",
        "print(f'전역변수 a = {a}')"
      ],
      "metadata": {
        "colab": {
          "base_uri": "https://localhost:8080/"
        },
        "id": "hQ4XAvYR3-Z2",
        "outputId": "b017cd9f-c3aa-46ee-88db-a0cc5f8389fd"
      },
      "execution_count": 66,
      "outputs": [
        {
          "output_type": "stream",
          "name": "stdout",
          "text": [
            "func1 지역변수 a = 1\n",
            "func1 지역변수 a = 4\n",
            "전역변수 a = 5\n"
          ]
        }
      ]
    },
    {
      "cell_type": "code",
      "source": [
        "a = 5\n",
        "\n",
        "def func3():\n",
        "  print(f'전역변수 a = {a}')\n",
        "\n",
        "def func4():\n",
        "  global a\n",
        "  a = 500\n",
        "  print(f'전역변수 a = {a}')\n",
        "\n",
        "\n",
        "func3()\n",
        "func4()\n",
        "print(f'전역변수 a = {a}')"
      ],
      "metadata": {
        "colab": {
          "base_uri": "https://localhost:8080/"
        },
        "id": "FwO9B9nl4WTS",
        "outputId": "0fe0c7ca-1fc2-45be-f460-0a1b8b4f88c3"
      },
      "execution_count": 72,
      "outputs": [
        {
          "output_type": "stream",
          "name": "stdout",
          "text": [
            "전역변수 a = 5\n",
            "전역변수 a = 500\n",
            "전역변수 a = 500\n"
          ]
        }
      ]
    },
    {
      "cell_type": "markdown",
      "source": [
        "### 람다 함수\n",
        "- 'def' 함수 같은 경우에는 복잡한 함수 로직을 만들 때 주로 사용\n",
        "- 단순 기능을 수행할 때, lambda 함수\n",
        " + 함수를 한줄로 처리\n",
        " + (lambda 인자(=매개변수) : 인자를 활용한 코드)(원하는 인자 코드 입력)"
      ],
      "metadata": {
        "id": "g1Bd_U7C6-7a"
      }
    },
    {
      "cell_type": "code",
      "source": [
        "(lambda x : x**2)(3)"
      ],
      "metadata": {
        "colab": {
          "base_uri": "https://localhost:8080/"
        },
        "id": "L_hSZ8TZ6wpW",
        "outputId": "257c5fd5-1320-42df-c26e-755e3c58099b"
      },
      "execution_count": 75,
      "outputs": [
        {
          "output_type": "execute_result",
          "data": {
            "text/plain": [
              "9"
            ]
          },
          "metadata": {},
          "execution_count": 75
        }
      ]
    },
    {
      "cell_type": "code",
      "source": [
        "mySquare = lambda x : x**2\n",
        "mySquare(5)"
      ],
      "metadata": {
        "colab": {
          "base_uri": "https://localhost:8080/"
        },
        "id": "OBHqQ_3N8OeU",
        "outputId": "df8a3820-d306-4be5-81bc-a9f9463e5081"
      },
      "execution_count": 77,
      "outputs": [
        {
          "output_type": "execute_result",
          "data": {
            "text/plain": [
              "25"
            ]
          },
          "metadata": {},
          "execution_count": 77
        }
      ]
    },
    {
      "cell_type": "markdown",
      "source": [
        "## 클래스 선언과 객체 생성\n",
        "- 교재 p.135\n",
        "- 함수의 확장\n",
        "- 라이브러리 : 클래스들의 묶음\n"
      ],
      "metadata": {
        "id": "kUf_-Lu-BCzb"
      }
    },
    {
      "cell_type": "code",
      "source": [
        "result = 0\n",
        "def add(num):\n",
        "  global result\n",
        "  result = result + num\n",
        "  return result\n",
        "\n",
        "print(add(3))\n",
        "print(add(5))"
      ],
      "metadata": {
        "colab": {
          "base_uri": "https://localhost:8080/"
        },
        "id": "kKITtzusDd23",
        "outputId": "48763670-b57f-46dd-fc8f-81b034d9398f"
      },
      "execution_count": 79,
      "outputs": [
        {
          "output_type": "stream",
          "name": "stdout",
          "text": [
            "3\n",
            "8\n"
          ]
        }
      ]
    },
    {
      "cell_type": "code",
      "source": [
        "result1 = 0\n",
        "result2 = 0\n",
        "\n",
        "def add1(num):\n",
        "  global result1\n",
        "  result1 = result1 + num\n",
        "  return result1\n",
        "\n",
        "def add2(num):\n",
        "  global result2\n",
        "  result2 = result2 + num\n",
        "  return result2\n",
        "\n",
        "print(add1(3))\n",
        "print(add1(5))\n",
        "print(add2(3))\n",
        "print(add2(5))"
      ],
      "metadata": {
        "colab": {
          "base_uri": "https://localhost:8080/"
        },
        "id": "aZUok5gZJ_2p",
        "outputId": "2a4bd3e7-6841-4cd6-aea6-c0f4dd2519f1"
      },
      "execution_count": 80,
      "outputs": [
        {
          "output_type": "stream",
          "name": "stdout",
          "text": [
            "3\n",
            "8\n",
            "3\n",
            "8\n"
          ]
        }
      ]
    },
    {
      "cell_type": "markdown",
      "source": [
        "- 위 코드의 문제점 : 같은 기능을 수행하는 함수가 중복됨 / 코드 가독성 떨어짐\n",
        "- 점프 투 파이썬 클래스 예"
      ],
      "metadata": {
        "id": "EddML7VEKrHB"
      }
    },
    {
      "cell_type": "code",
      "source": [
        "class Calculator:\n",
        "  def __init__(self):\n",
        "    self.result = 0\n",
        "\n",
        "  def add(self,num):\n",
        "    self.result = self.result + num\n",
        "    return self.result\n",
        "\n",
        "cal1 = Calculator() # 인스턴스화\n",
        "cal2 = Calculator()\n",
        "print(cal1.add(3))\n",
        "print(cal1.add(5))\n",
        "print(cal2.add(3))\n",
        "print(cal2.add(100))"
      ],
      "metadata": {
        "colab": {
          "base_uri": "https://localhost:8080/"
        },
        "id": "BFCgoRWSPNZU",
        "outputId": "9dec50da-3796-4f2f-9a92-551abf0d33ba"
      },
      "execution_count": 84,
      "outputs": [
        {
          "output_type": "stream",
          "name": "stdout",
          "text": [
            "3\n",
            "8\n",
            "3\n",
            "103\n"
          ]
        }
      ]
    },
    {
      "cell_type": "markdown",
      "source": [
        "### 객체 초기화\n",
        "- '__init__()' : 객체 생성과 동시에 속성값을 지정할 수 있다.\n",
        " + 주로 클래스 선언 시 변수 초기화"
      ],
      "metadata": {
        "id": "4BtJH-t6U-SD"
      }
    },
    {
      "cell_type": "code",
      "source": [
        "class Bicycle():\n",
        "  def __init__(self,wheel_size,colors):\n",
        "    self.wheel_size = wheel_size\n",
        "    self.color = colors\n",
        "\n",
        "  def stop(self):\n",
        "    print('자전거({0},{1}) : 정지'.format(self.wheel_size,self.color))\n",
        "\n"
      ],
      "metadata": {
        "id": "LCEIqAyyVBQe"
      },
      "execution_count": 89,
      "outputs": []
    },
    {
      "cell_type": "code",
      "source": [
        "my_bicycle = Bicycle(26,'black')\n",
        "ur_bicycle = Bicycle(30,'pink')\n",
        "\n",
        "my_bicycle.stop()\n",
        "ur_bicycle.stop()"
      ],
      "metadata": {
        "colab": {
          "base_uri": "https://localhost:8080/"
        },
        "id": "aXQUFrRfWIib",
        "outputId": "f39004f8-727b-47ba-a722-9932b8453091"
      },
      "execution_count": 90,
      "outputs": [
        {
          "output_type": "stream",
          "name": "stdout",
          "text": [
            "자전거(26,black) : 정지\n",
            "자전거(30,pink) : 정지\n"
          ]
        }
      ]
    }
  ]
}