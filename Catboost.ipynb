{
  "cells": [
    {
      "cell_type": "markdown",
      "metadata": {
        "id": "view-in-github",
        "colab_type": "text"
      },
      "source": [
        "<a href=\"https://colab.research.google.com/github/Indongspace/mulcamp34/blob/main/Catboost.ipynb\" target=\"_parent\"><img src=\"https://colab.research.google.com/assets/colab-badge.svg\" alt=\"Open In Colab\"/></a>"
      ]
    },
    {
      "cell_type": "code",
      "execution_count": null,
      "id": "01045dc3-cca2-4cdd-b2a2-c459c891d1b1",
      "metadata": {
        "id": "01045dc3-cca2-4cdd-b2a2-c459c891d1b1"
      },
      "outputs": [],
      "source": [
        "# This Python 3 environment comes with many helpful analytics libraries installed\n",
        "# It is defined by the kaggle/python Docker image: https://github.com/kaggle/docker-python\n",
        "# For example, here's several helpful packages to load\n",
        "\n",
        "import numpy as np # linear algebra\n",
        "import pandas as pd # data processing, CSV file I/O (e.g. pd.read_csv)\n",
        "\n",
        "# Input data files are available in the read-only \"../input/\" directory\n",
        "# For example, running this (by clicking run or pressing Shift+Enter) will list all files under the input directory\n",
        "\n",
        "import os\n",
        "for dirname, _, filenames in os.walk('/kaggle/input'):\n",
        "    for filename in filenames:\n",
        "        print(os.path.join(dirname, filename))\n",
        "\n",
        "# You can write up to 20GB to the current directory (/kaggle/working/) that gets preserved as output when you create a version using \"Save & Run All\"\n",
        "# You can also write temporary files to /kaggle/temp/, but they won't be saved outside of the current session"
      ]
    },
    {
      "cell_type": "code",
      "execution_count": null,
      "id": "a041a780-8900-43aa-a484-40e82071197a",
      "metadata": {
        "id": "a041a780-8900-43aa-a484-40e82071197a",
        "outputId": "de0567e9-0a1e-4ddd-99ea-c4faadda3bec"
      },
      "outputs": [
        {
          "data": {
            "text/plain": [
              "((20758, 18), (13840, 17))"
            ]
          },
          "execution_count": 32,
          "metadata": {},
          "output_type": "execute_result"
        }
      ],
      "source": [
        "import pandas as pd\n",
        "\n",
        "train = pd.read_csv('kaggle대회/data/train_kaggle.csv')\n",
        "test = pd.read_csv('kaggle대회/data/test_kaggle.csv')\n",
        "submission = pd.read_csv('kaggle대회/data/sample_submission.csv')\n",
        "\n",
        "train.shape, test.shape"
      ]
    },
    {
      "cell_type": "code",
      "execution_count": null,
      "id": "50aa2a5a-bfd7-4375-b1a8-4eeba77b0600",
      "metadata": {
        "id": "50aa2a5a-bfd7-4375-b1a8-4eeba77b0600",
        "outputId": "efe4e437-b622-4f52-f15b-72ebf481c194"
      },
      "outputs": [
        {
          "data": {
            "text/html": [
              "<div>\n",
              "<style scoped>\n",
              "    .dataframe tbody tr th:only-of-type {\n",
              "        vertical-align: middle;\n",
              "    }\n",
              "\n",
              "    .dataframe tbody tr th {\n",
              "        vertical-align: top;\n",
              "    }\n",
              "\n",
              "    .dataframe thead th {\n",
              "        text-align: right;\n",
              "    }\n",
              "</style>\n",
              "<table border=\"1\" class=\"dataframe\">\n",
              "  <thead>\n",
              "    <tr style=\"text-align: right;\">\n",
              "      <th></th>\n",
              "      <th>id</th>\n",
              "      <th>Gender</th>\n",
              "      <th>Age</th>\n",
              "      <th>Height</th>\n",
              "      <th>Weight</th>\n",
              "      <th>family_history_with_overweight</th>\n",
              "      <th>FAVC</th>\n",
              "      <th>FCVC</th>\n",
              "      <th>NCP</th>\n",
              "      <th>CAEC</th>\n",
              "      <th>SMOKE</th>\n",
              "      <th>CH2O</th>\n",
              "      <th>SCC</th>\n",
              "      <th>FAF</th>\n",
              "      <th>TUE</th>\n",
              "      <th>CALC</th>\n",
              "      <th>MTRANS</th>\n",
              "      <th>NObeyesdad</th>\n",
              "    </tr>\n",
              "  </thead>\n",
              "  <tbody>\n",
              "    <tr>\n",
              "      <th>0</th>\n",
              "      <td>0</td>\n",
              "      <td>Male</td>\n",
              "      <td>24.443011</td>\n",
              "      <td>1.699998</td>\n",
              "      <td>81.66995</td>\n",
              "      <td>yes</td>\n",
              "      <td>yes</td>\n",
              "      <td>2.0</td>\n",
              "      <td>2.983297</td>\n",
              "      <td>Sometimes</td>\n",
              "      <td>no</td>\n",
              "      <td>2.763573</td>\n",
              "      <td>no</td>\n",
              "      <td>0.0</td>\n",
              "      <td>0.976473</td>\n",
              "      <td>Sometimes</td>\n",
              "      <td>Public_Transportation</td>\n",
              "      <td>Overweight_Level_II</td>\n",
              "    </tr>\n",
              "  </tbody>\n",
              "</table>\n",
              "</div>"
            ],
            "text/plain": [
              "   id Gender        Age    Height    Weight family_history_with_overweight  \\\n",
              "0   0   Male  24.443011  1.699998  81.66995                            yes   \n",
              "\n",
              "  FAVC  FCVC       NCP       CAEC SMOKE      CH2O SCC  FAF       TUE  \\\n",
              "0  yes   2.0  2.983297  Sometimes    no  2.763573  no  0.0  0.976473   \n",
              "\n",
              "        CALC                 MTRANS           NObeyesdad  \n",
              "0  Sometimes  Public_Transportation  Overweight_Level_II  "
            ]
          },
          "execution_count": 33,
          "metadata": {},
          "output_type": "execute_result"
        }
      ],
      "source": [
        "train.head(1)"
      ]
    },
    {
      "cell_type": "code",
      "execution_count": null,
      "id": "62bc4f54-1c32-4fc8-b68d-6eacbd7a28d6",
      "metadata": {
        "id": "62bc4f54-1c32-4fc8-b68d-6eacbd7a28d6"
      },
      "outputs": [],
      "source": [
        "X_train_id = train.pop('id')\n",
        "X_test_id = test.pop('id')"
      ]
    },
    {
      "cell_type": "code",
      "execution_count": null,
      "id": "663b20ba-acd2-4a1f-aa1e-dc1ad1c3ff1f",
      "metadata": {
        "id": "663b20ba-acd2-4a1f-aa1e-dc1ad1c3ff1f"
      },
      "outputs": [],
      "source": [
        "#y = train.pop('NObeyesdad')"
      ]
    },
    {
      "cell_type": "code",
      "execution_count": null,
      "id": "60f187f6-c9a7-4b7f-9178-9e784ed2a670",
      "metadata": {
        "id": "60f187f6-c9a7-4b7f-9178-9e784ed2a670"
      },
      "outputs": [],
      "source": [
        "train_df = pd.DataFrame(train)\n",
        "test_df = pd.DataFrame(test)"
      ]
    },
    {
      "cell_type": "code",
      "execution_count": null,
      "id": "e0a9c6e7-318a-42fa-9a9e-0d64dc479292",
      "metadata": {
        "id": "e0a9c6e7-318a-42fa-9a9e-0d64dc479292"
      },
      "outputs": [],
      "source": [
        "import pandas as pd\n",
        "from sklearn.preprocessing import MinMaxScaler, OneHotEncoder\n",
        "from sklearn.compose import ColumnTransformer\n",
        "from sklearn.pipeline import Pipeline\n",
        "\n",
        "# Identifying categorical and numerical columns\n",
        "categorical_cols = ['Gender', 'family_history_with_overweight', 'FAVC', 'CAEC', 'SMOKE', 'SCC', 'CALC', 'MTRANS']\n",
        "numerical_cols = ['Age', 'Height', 'Weight', 'FCVC', 'NCP', 'CH2O', 'FAF', 'TUE']\n",
        "\n",
        "# Defining the transformer for numerical features\n",
        "numerical_transformer = MinMaxScaler()\n",
        "\n",
        "# Defining the transformer for categorical features\n",
        "categorical_transformer = OneHotEncoder(handle_unknown='ignore')\n",
        "\n",
        "# Combining transformers into a preprocessor\n",
        "preprocessor = ColumnTransformer(\n",
        "    transformers=[\n",
        "        ('num', numerical_transformer, numerical_cols),\n",
        "        ('cat', categorical_transformer, categorical_cols)\n",
        "    ])\n",
        "\n",
        "# Applying preprocessing\n",
        "X_train = train_df.drop('NObeyesdad', axis=1)  # Features\n",
        "y_train = train_df['NObeyesdad']  # Target variable\n",
        "X_test = test_df  # Test set doesn't include the target variable\n",
        "\n",
        "X_train_transformed = preprocessor.fit_transform(X_train)\n",
        "X_test_transformed = preprocessor.transform(X_test)"
      ]
    },
    {
      "cell_type": "code",
      "execution_count": null,
      "id": "f597740f-cfd1-4395-8f8b-620b13524830",
      "metadata": {
        "id": "f597740f-cfd1-4395-8f8b-620b13524830",
        "outputId": "84dcee64-70a6-4fdf-fcac-ebdc2ba7158c"
      },
      "outputs": [
        {
          "data": {
            "text/html": [
              "<div>\n",
              "<style scoped>\n",
              "    .dataframe tbody tr th:only-of-type {\n",
              "        vertical-align: middle;\n",
              "    }\n",
              "\n",
              "    .dataframe tbody tr th {\n",
              "        vertical-align: top;\n",
              "    }\n",
              "\n",
              "    .dataframe thead th {\n",
              "        text-align: right;\n",
              "    }\n",
              "</style>\n",
              "<table border=\"1\" class=\"dataframe\">\n",
              "  <thead>\n",
              "    <tr style=\"text-align: right;\">\n",
              "      <th></th>\n",
              "      <th>Gender</th>\n",
              "      <th>Age</th>\n",
              "      <th>Height</th>\n",
              "      <th>Weight</th>\n",
              "      <th>family_history_with_overweight</th>\n",
              "      <th>FAVC</th>\n",
              "      <th>FCVC</th>\n",
              "      <th>NCP</th>\n",
              "      <th>CAEC</th>\n",
              "      <th>SMOKE</th>\n",
              "      <th>CH2O</th>\n",
              "      <th>SCC</th>\n",
              "      <th>FAF</th>\n",
              "      <th>TUE</th>\n",
              "      <th>CALC</th>\n",
              "      <th>MTRANS</th>\n",
              "      <th>NObeyesdad</th>\n",
              "    </tr>\n",
              "  </thead>\n",
              "  <tbody>\n",
              "    <tr>\n",
              "      <th>0</th>\n",
              "      <td>Male</td>\n",
              "      <td>24.443011</td>\n",
              "      <td>1.699998</td>\n",
              "      <td>81.66995</td>\n",
              "      <td>yes</td>\n",
              "      <td>yes</td>\n",
              "      <td>2.0</td>\n",
              "      <td>2.983297</td>\n",
              "      <td>Sometimes</td>\n",
              "      <td>no</td>\n",
              "      <td>2.763573</td>\n",
              "      <td>no</td>\n",
              "      <td>0.0</td>\n",
              "      <td>0.976473</td>\n",
              "      <td>Sometimes</td>\n",
              "      <td>Public_Transportation</td>\n",
              "      <td>Overweight_Level_II</td>\n",
              "    </tr>\n",
              "  </tbody>\n",
              "</table>\n",
              "</div>"
            ],
            "text/plain": [
              "  Gender        Age    Height    Weight family_history_with_overweight FAVC  \\\n",
              "0   Male  24.443011  1.699998  81.66995                            yes  yes   \n",
              "\n",
              "   FCVC       NCP       CAEC SMOKE      CH2O SCC  FAF       TUE       CALC  \\\n",
              "0   2.0  2.983297  Sometimes    no  2.763573  no  0.0  0.976473  Sometimes   \n",
              "\n",
              "                  MTRANS           NObeyesdad  \n",
              "0  Public_Transportation  Overweight_Level_II  "
            ]
          },
          "execution_count": 37,
          "metadata": {},
          "output_type": "execute_result"
        }
      ],
      "source": [
        "train_df.head(1)"
      ]
    },
    {
      "cell_type": "code",
      "execution_count": null,
      "id": "9382f06e-d5fd-4fc4-a0c7-5572a045c86e",
      "metadata": {
        "id": "9382f06e-d5fd-4fc4-a0c7-5572a045c86e",
        "outputId": "77904ac9-d731-4c73-fe97-949aaf0df13c"
      },
      "outputs": [
        {
          "name": "stdout",
          "output_type": "stream",
          "text": [
            "['Gender', 'family_history_with_overweight', 'FAVC', 'CAEC', 'SMOKE', 'SCC', 'CALC', 'MTRANS', 'NObeyesdad']\n",
            "['Age', 'Height', 'Weight', 'FCVC', 'NCP', 'CH2O', 'FAF', 'TUE']\n"
          ]
        }
      ],
      "source": [
        "import numpy as np\n",
        "\n",
        "cat_cols = list(train.select_dtypes(exclude = np.number).columns)\n",
        "num_cols = list(test.select_dtypes(include = np.number).columns)\n",
        "\n",
        "print(cat_cols)\n",
        "print(num_cols)"
      ]
    },
    {
      "cell_type": "code",
      "execution_count": null,
      "id": "c1040ad1-2a31-4df5-b2f2-d1d7e5649288",
      "metadata": {
        "id": "c1040ad1-2a31-4df5-b2f2-d1d7e5649288"
      },
      "outputs": [],
      "source": [
        "TARGET = \"NObeyesdad\""
      ]
    },
    {
      "cell_type": "code",
      "execution_count": null,
      "id": "72d17e19-3e8b-4840-973c-4c01cdde5770",
      "metadata": {
        "id": "72d17e19-3e8b-4840-973c-4c01cdde5770"
      },
      "outputs": [],
      "source": [
        "import pandas as pd\n",
        "from sklearn.preprocessing import MinMaxScaler, OneHotEncoder\n",
        "from sklearn.compose import ColumnTransformer\n",
        "from sklearn.pipeline import Pipeline\n",
        "\n",
        "\n",
        "# Identifying categorical and numerical columns\n",
        "cat_cols = ['Gender', 'family_history_with_overweight', 'FAVC', 'CAEC', 'SMOKE', 'SCC', 'CALC', 'MTRANS']\n",
        "num_cols = ['Age', 'Height', 'Weight', 'FCVC', 'NCP', 'CH2O', 'FAF', 'TUE']\n",
        "\n",
        "# Defining the transformer for numerical features\n",
        "numerical_transformer = MinMaxScaler()\n",
        "\n",
        "# Defining the transformer for categorical features\n",
        "categorical_transformer = OneHotEncoder(handle_unknown='ignore')\n",
        "\n",
        "# Combining transformers into a preprocessor\n",
        "preprocessor = ColumnTransformer(\n",
        "    transformers=[\n",
        "        ('num', numerical_transformer, num_cols),\n",
        "        ('cat', categorical_transformer, cat_cols)\n",
        "    ])\n",
        "\n",
        "# Applying preprocessing\n",
        "X_train = train_df  # Features\n",
        "y_train = train_df['NObeyesdad']  # Target variable\n",
        "X_test = test_df  # Test set doesn't include the target variable\n",
        "\n",
        "X_train_transformed = preprocessor.fit_transform(X_train)\n",
        "X_test_transformed = preprocessor.transform(X_test)"
      ]
    },
    {
      "cell_type": "code",
      "execution_count": null,
      "id": "2ae2bad0-9c69-4d92-b2a6-198adeb15548",
      "metadata": {
        "id": "2ae2bad0-9c69-4d92-b2a6-198adeb15548",
        "outputId": "662b6259-8b9d-42ce-8f6c-460f602be167"
      },
      "outputs": [
        {
          "name": "stderr",
          "output_type": "stream",
          "text": [
            "[I 2024-02-27 17:53:54,447] A new study created in memory with name: no-name-f8b5ee67-e3b0-4ded-bae8-171f42e9a6d4\n"
          ]
        }
      ],
      "source": [
        "import optuna\n",
        "\n",
        "# Optuna Function For Catboost Model\n",
        "def cat_objective(trial):\n",
        "\n",
        "    params = {\n",
        "\n",
        "        'iterations': 1000,  # High number of estimators\n",
        "        'learning_rate': trial.suggest_float('learning_rate', 0.01, 0.3),\n",
        "        'depth': trial.suggest_int('depth', 3, 10),\n",
        "        'l2_leaf_reg': trial.suggest_float('l2_leaf_reg', 0.01, 10.0),\n",
        "        'bagging_temperature': trial.suggest_float('bagging_temperature', 0.0, 1.0),\n",
        "        'random_seed': RANDOM_SEED,\n",
        "        'verbose': False,\n",
        "        'task_type':\"GPU\"\n",
        "    }\n",
        "\n",
        "    cat_features = ['Gender','family_history_with_overweight','FAVC','FCVC','NCP',\n",
        "                'CAEC','SMOKE','CH2O','SCC','FAF','TUE','CALC','MTRANS']\n",
        "    optuna_model = make_pipeline(\n",
        "                        ExtractFeatures,\n",
        "#                         AgeRounder,\n",
        "#                         HeightRounder,\n",
        "#                         MEstimateEncoder(cols = raw_cat_cols),\n",
        "                        CatBoostClassifier(**params,cat_features=cat_features)\n",
        "                        )\n",
        "    val_scores,_,_ = cross_val_model(optuna_model,verbose = False)\n",
        "    return np.array(val_scores).mean()\n",
        "\n",
        "cat_study = optuna.create_study(direction = 'maximize')"
      ]
    },
    {
      "cell_type": "code",
      "execution_count": null,
      "id": "4fb3dfb0-0e0a-4d93-985c-acebf6deb688",
      "metadata": {
        "id": "4fb3dfb0-0e0a-4d93-985c-acebf6deb688"
      },
      "outputs": [],
      "source": [
        "from sklearn.pipeline import make_pipeline, Pipeline\n",
        "from catboost import CatBoostClassifier\n",
        "\n",
        "RANDOM_SEED = 43\n",
        "\n",
        "params = {'learning_rate': 0.13762007048684638, 'depth': 5,\n",
        "          'l2_leaf_reg': 5.285199432056192, 'bagging_temperature': 0.6029582154263095,\n",
        "         'random_seed': RANDOM_SEED,\n",
        "        'verbose': False,\n",
        "        'task_type':\"GPU\",\n",
        "         'iterations':1000}\n",
        "\n",
        "\n",
        "CB = make_pipeline(\n",
        "#                         ExtractFeatures,\n",
        "#                         AgeRounder,\n",
        "#                         HeightRounder,\n",
        "#                         MEstimateEncoder(cols = raw_cat_cols),\n",
        "#                         CatBoostEncoder(cols = cat_features),\n",
        "                        CatBoostClassifier(**params, cat_features=cat_cols)\n",
        "                        )"
      ]
    },
    {
      "cell_type": "code",
      "execution_count": null,
      "id": "956c0dc6-6b16-4f68-930e-d33bd77348b5",
      "metadata": {
        "id": "956c0dc6-6b16-4f68-930e-d33bd77348b5"
      },
      "outputs": [],
      "source": [
        "from sklearn.model_selection import StratifiedKFold\n",
        "from sklearn.metrics import accuracy_score\n",
        "\n",
        "target_mapping = {\n",
        "                  'Insufficient_Weight':0,\n",
        "                  'Normal_Weight':1,\n",
        "                  'Overweight_Level_I':2,\n",
        "                  'Overweight_Level_II':3,\n",
        "                  'Obesity_Type_I':4,\n",
        "                  'Obesity_Type_II':5 ,\n",
        "                  'Obesity_Type_III':6\n",
        "                  }\n",
        "\n",
        "\n",
        "n_splits = 10\n",
        "skf = StratifiedKFold(n_splits=n_splits)\n",
        "\n",
        "def cross_val_model(estimators,cv = skf, verbose = True):\n",
        "    '''\n",
        "        estimators : pipeline consists preprocessing, encoder & model\n",
        "        cv : Method for cross validation (default: StratifiedKfold)\n",
        "        verbose : print train/valid score (yes/no)\n",
        "    '''\n",
        "\n",
        "    X = train.copy()\n",
        "    y = X.pop(TARGET)\n",
        "\n",
        "    y = y.map(target_mapping)\n",
        "    test_predictions = np.zeros((len(test),7))\n",
        "    valid_predictions = np.zeros((len(X),7))\n",
        "\n",
        "    val_scores, train_scores = [],[]\n",
        "    for fold, (train_ind, valid_ind) in enumerate(skf.split(X,y)):\n",
        "        model = clone(estimators)\n",
        "        #define train set\n",
        "        X_train = X.iloc[train_ind]\n",
        "        y_train = y.iloc[train_ind]\n",
        "        #define valid set\n",
        "        X_valid = X.iloc[valid_ind]\n",
        "        y_valid = y.iloc[valid_ind]\n",
        "\n",
        "        model.fit(X_train, y_train)\n",
        "        if verbose:\n",
        "            print(\"-\" * 100)\n",
        "            print(f\"Fold: {fold}\")\n",
        "            print(f\"Train Accuracy Score:-{accuracy_score(y_true=y_train,y_pred=model.predict(X_train))}\")\n",
        "            print(f\"Valid Accuracy Score:-{accuracy_score(y_true=y_valid,y_pred=model.predict(X_valid))}\")\n",
        "            print(\"-\" * 100)\n",
        "\n",
        "\n",
        "        test_predictions += model.predict_proba(test)/cv.get_n_splits()\n",
        "        valid_predictions[valid_ind] = model.predict_proba(X_valid)\n",
        "        val_scores.append(accuracy_score(y_true=y_valid,y_pred=model.predict(X_valid)))\n",
        "    if verbose:\n",
        "        print(f\"Average Mean Accuracy Score:- {np.array(val_scores).mean()}\")\n",
        "    return val_scores, valid_predictions, test_predictions"
      ]
    },
    {
      "cell_type": "code",
      "execution_count": null,
      "id": "907e0581-6f78-4f3f-ac1a-a3abb1519540",
      "metadata": {
        "id": "907e0581-6f78-4f3f-ac1a-a3abb1519540",
        "outputId": "dca62969-19b9-43bc-9697-7fa0168967e4"
      },
      "outputs": [
        {
          "ename": "CatBoostError",
          "evalue": "C:/Go_Agent/pipelines/BuildMaster/catboost.git/catboost/cuda/cuda_lib/cuda_manager.cpp:201: Condition violated: `State == nullptr'",
          "output_type": "error",
          "traceback": [
            "\u001b[1;31m---------------------------------------------------------------------------\u001b[0m",
            "\u001b[1;31mCatBoostError\u001b[0m                             Traceback (most recent call last)",
            "Cell \u001b[1;32mIn[62], line 4\u001b[0m\n\u001b[0;32m      1\u001b[0m \u001b[38;5;66;03m# Train Catboost Model\u001b[39;00m\n\u001b[0;32m      2\u001b[0m \u001b[38;5;28;01mfrom\u001b[39;00m \u001b[38;5;21;01msklearn\u001b[39;00m\u001b[38;5;21;01m.\u001b[39;00m\u001b[38;5;21;01mbase\u001b[39;00m \u001b[38;5;28;01mimport\u001b[39;00m clone\n\u001b[1;32m----> 4\u001b[0m val_scores,val_predictions,test_predictions \u001b[38;5;241m=\u001b[39m \u001b[43mcross_val_model\u001b[49m\u001b[43m(\u001b[49m\u001b[43mCB\u001b[49m\u001b[43m)\u001b[49m\n\u001b[0;32m      5\u001b[0m \u001b[38;5;28;01mfor\u001b[39;00m k,v \u001b[38;5;129;01min\u001b[39;00m target_mapping\u001b[38;5;241m.\u001b[39mitems():\n\u001b[0;32m      6\u001b[0m     oof_list[\u001b[38;5;124mf\u001b[39m\u001b[38;5;124m\"\u001b[39m\u001b[38;5;124mcat_\u001b[39m\u001b[38;5;132;01m{\u001b[39;00mk\u001b[38;5;132;01m}\u001b[39;00m\u001b[38;5;124m\"\u001b[39m] \u001b[38;5;241m=\u001b[39m val_predictions[:,v]\n",
            "Cell \u001b[1;32mIn[61], line 42\u001b[0m, in \u001b[0;36mcross_val_model\u001b[1;34m(estimators, cv, verbose)\u001b[0m\n\u001b[0;32m     39\u001b[0m X_valid \u001b[38;5;241m=\u001b[39m X\u001b[38;5;241m.\u001b[39miloc[valid_ind]\n\u001b[0;32m     40\u001b[0m y_valid \u001b[38;5;241m=\u001b[39m y\u001b[38;5;241m.\u001b[39miloc[valid_ind]\n\u001b[1;32m---> 42\u001b[0m \u001b[43mmodel\u001b[49m\u001b[38;5;241;43m.\u001b[39;49m\u001b[43mfit\u001b[49m\u001b[43m(\u001b[49m\u001b[43mX_train\u001b[49m\u001b[43m,\u001b[49m\u001b[43m \u001b[49m\u001b[43my_train\u001b[49m\u001b[43m)\u001b[49m\n\u001b[0;32m     43\u001b[0m \u001b[38;5;28;01mif\u001b[39;00m verbose:\n\u001b[0;32m     44\u001b[0m     \u001b[38;5;28mprint\u001b[39m(\u001b[38;5;124m\"\u001b[39m\u001b[38;5;124m-\u001b[39m\u001b[38;5;124m\"\u001b[39m \u001b[38;5;241m*\u001b[39m \u001b[38;5;241m100\u001b[39m)\n",
            "File \u001b[1;32mC:\\ProgramData\\anaconda3\\envs\\myenv\\lib\\site-packages\\sklearn\\base.py:1474\u001b[0m, in \u001b[0;36m_fit_context.<locals>.decorator.<locals>.wrapper\u001b[1;34m(estimator, *args, **kwargs)\u001b[0m\n\u001b[0;32m   1467\u001b[0m     estimator\u001b[38;5;241m.\u001b[39m_validate_params()\n\u001b[0;32m   1469\u001b[0m \u001b[38;5;28;01mwith\u001b[39;00m config_context(\n\u001b[0;32m   1470\u001b[0m     skip_parameter_validation\u001b[38;5;241m=\u001b[39m(\n\u001b[0;32m   1471\u001b[0m         prefer_skip_nested_validation \u001b[38;5;129;01mor\u001b[39;00m global_skip_validation\n\u001b[0;32m   1472\u001b[0m     )\n\u001b[0;32m   1473\u001b[0m ):\n\u001b[1;32m-> 1474\u001b[0m     \u001b[38;5;28;01mreturn\u001b[39;00m fit_method(estimator, \u001b[38;5;241m*\u001b[39margs, \u001b[38;5;241m*\u001b[39m\u001b[38;5;241m*\u001b[39mkwargs)\n",
            "File \u001b[1;32mC:\\ProgramData\\anaconda3\\envs\\myenv\\lib\\site-packages\\sklearn\\pipeline.py:475\u001b[0m, in \u001b[0;36mPipeline.fit\u001b[1;34m(self, X, y, **params)\u001b[0m\n\u001b[0;32m    473\u001b[0m     \u001b[38;5;28;01mif\u001b[39;00m \u001b[38;5;28mself\u001b[39m\u001b[38;5;241m.\u001b[39m_final_estimator \u001b[38;5;241m!=\u001b[39m \u001b[38;5;124m\"\u001b[39m\u001b[38;5;124mpassthrough\u001b[39m\u001b[38;5;124m\"\u001b[39m:\n\u001b[0;32m    474\u001b[0m         last_step_params \u001b[38;5;241m=\u001b[39m routed_params[\u001b[38;5;28mself\u001b[39m\u001b[38;5;241m.\u001b[39msteps[\u001b[38;5;241m-\u001b[39m\u001b[38;5;241m1\u001b[39m][\u001b[38;5;241m0\u001b[39m]]\n\u001b[1;32m--> 475\u001b[0m         \u001b[38;5;28mself\u001b[39m\u001b[38;5;241m.\u001b[39m_final_estimator\u001b[38;5;241m.\u001b[39mfit(Xt, y, \u001b[38;5;241m*\u001b[39m\u001b[38;5;241m*\u001b[39mlast_step_params[\u001b[38;5;124m\"\u001b[39m\u001b[38;5;124mfit\u001b[39m\u001b[38;5;124m\"\u001b[39m])\n\u001b[0;32m    477\u001b[0m \u001b[38;5;28;01mreturn\u001b[39;00m \u001b[38;5;28mself\u001b[39m\n",
            "File \u001b[1;32mC:\\ProgramData\\anaconda3\\envs\\myenv\\lib\\site-packages\\catboost\\core.py:5201\u001b[0m, in \u001b[0;36mCatBoostClassifier.fit\u001b[1;34m(self, X, y, cat_features, text_features, embedding_features, sample_weight, baseline, use_best_model, eval_set, verbose, logging_level, plot, plot_file, column_description, verbose_eval, metric_period, silent, early_stopping_rounds, save_snapshot, snapshot_file, snapshot_interval, init_model, callbacks, log_cout, log_cerr)\u001b[0m\n\u001b[0;32m   5198\u001b[0m \u001b[38;5;28;01mif\u001b[39;00m \u001b[38;5;124m'\u001b[39m\u001b[38;5;124mloss_function\u001b[39m\u001b[38;5;124m'\u001b[39m \u001b[38;5;129;01min\u001b[39;00m params:\n\u001b[0;32m   5199\u001b[0m     CatBoostClassifier\u001b[38;5;241m.\u001b[39m_check_is_compatible_loss(params[\u001b[38;5;124m'\u001b[39m\u001b[38;5;124mloss_function\u001b[39m\u001b[38;5;124m'\u001b[39m])\n\u001b[1;32m-> 5201\u001b[0m \u001b[38;5;28;43mself\u001b[39;49m\u001b[38;5;241;43m.\u001b[39;49m\u001b[43m_fit\u001b[49m\u001b[43m(\u001b[49m\u001b[43mX\u001b[49m\u001b[43m,\u001b[49m\u001b[43m \u001b[49m\u001b[43my\u001b[49m\u001b[43m,\u001b[49m\u001b[43m \u001b[49m\u001b[43mcat_features\u001b[49m\u001b[43m,\u001b[49m\u001b[43m \u001b[49m\u001b[43mtext_features\u001b[49m\u001b[43m,\u001b[49m\u001b[43m \u001b[49m\u001b[43membedding_features\u001b[49m\u001b[43m,\u001b[49m\u001b[43m \u001b[49m\u001b[38;5;28;43;01mNone\u001b[39;49;00m\u001b[43m,\u001b[49m\u001b[43m \u001b[49m\u001b[43msample_weight\u001b[49m\u001b[43m,\u001b[49m\u001b[43m \u001b[49m\u001b[38;5;28;43;01mNone\u001b[39;49;00m\u001b[43m,\u001b[49m\u001b[43m \u001b[49m\u001b[38;5;28;43;01mNone\u001b[39;49;00m\u001b[43m,\u001b[49m\u001b[43m \u001b[49m\u001b[38;5;28;43;01mNone\u001b[39;49;00m\u001b[43m,\u001b[49m\u001b[43m \u001b[49m\u001b[38;5;28;43;01mNone\u001b[39;49;00m\u001b[43m,\u001b[49m\u001b[43m \u001b[49m\u001b[43mbaseline\u001b[49m\u001b[43m,\u001b[49m\u001b[43m \u001b[49m\u001b[43muse_best_model\u001b[49m\u001b[43m,\u001b[49m\n\u001b[0;32m   5202\u001b[0m \u001b[43m          \u001b[49m\u001b[43meval_set\u001b[49m\u001b[43m,\u001b[49m\u001b[43m \u001b[49m\u001b[43mverbose\u001b[49m\u001b[43m,\u001b[49m\u001b[43m \u001b[49m\u001b[43mlogging_level\u001b[49m\u001b[43m,\u001b[49m\u001b[43m \u001b[49m\u001b[43mplot\u001b[49m\u001b[43m,\u001b[49m\u001b[43m \u001b[49m\u001b[43mplot_file\u001b[49m\u001b[43m,\u001b[49m\u001b[43m \u001b[49m\u001b[43mcolumn_description\u001b[49m\u001b[43m,\u001b[49m\u001b[43m \u001b[49m\u001b[43mverbose_eval\u001b[49m\u001b[43m,\u001b[49m\u001b[43m \u001b[49m\u001b[43mmetric_period\u001b[49m\u001b[43m,\u001b[49m\n\u001b[0;32m   5203\u001b[0m \u001b[43m          \u001b[49m\u001b[43msilent\u001b[49m\u001b[43m,\u001b[49m\u001b[43m \u001b[49m\u001b[43mearly_stopping_rounds\u001b[49m\u001b[43m,\u001b[49m\u001b[43m \u001b[49m\u001b[43msave_snapshot\u001b[49m\u001b[43m,\u001b[49m\u001b[43m \u001b[49m\u001b[43msnapshot_file\u001b[49m\u001b[43m,\u001b[49m\u001b[43m \u001b[49m\u001b[43msnapshot_interval\u001b[49m\u001b[43m,\u001b[49m\u001b[43m \u001b[49m\u001b[43minit_model\u001b[49m\u001b[43m,\u001b[49m\u001b[43m \u001b[49m\u001b[43mcallbacks\u001b[49m\u001b[43m,\u001b[49m\u001b[43m \u001b[49m\u001b[43mlog_cout\u001b[49m\u001b[43m,\u001b[49m\u001b[43m \u001b[49m\u001b[43mlog_cerr\u001b[49m\u001b[43m)\u001b[49m\n\u001b[0;32m   5204\u001b[0m \u001b[38;5;28;01mreturn\u001b[39;00m \u001b[38;5;28mself\u001b[39m\n",
            "File \u001b[1;32mC:\\ProgramData\\anaconda3\\envs\\myenv\\lib\\site-packages\\catboost\\core.py:2396\u001b[0m, in \u001b[0;36mCatBoost._fit\u001b[1;34m(self, X, y, cat_features, text_features, embedding_features, pairs, sample_weight, group_id, group_weight, subgroup_id, pairs_weight, baseline, use_best_model, eval_set, verbose, logging_level, plot, plot_file, column_description, verbose_eval, metric_period, silent, early_stopping_rounds, save_snapshot, snapshot_file, snapshot_interval, init_model, callbacks, log_cout, log_cerr)\u001b[0m\n\u001b[0;32m   2393\u001b[0m allow_clear_pool \u001b[38;5;241m=\u001b[39m train_params[\u001b[38;5;124m\"\u001b[39m\u001b[38;5;124mallow_clear_pool\u001b[39m\u001b[38;5;124m\"\u001b[39m]\n\u001b[0;32m   2395\u001b[0m \u001b[38;5;28;01mwith\u001b[39;00m plot_wrapper(plot, plot_file, \u001b[38;5;124m'\u001b[39m\u001b[38;5;124mTraining plots\u001b[39m\u001b[38;5;124m'\u001b[39m, [_get_train_dir(\u001b[38;5;28mself\u001b[39m\u001b[38;5;241m.\u001b[39mget_params())]):\n\u001b[1;32m-> 2396\u001b[0m     \u001b[38;5;28;43mself\u001b[39;49m\u001b[38;5;241;43m.\u001b[39;49m\u001b[43m_train\u001b[49m\u001b[43m(\u001b[49m\n\u001b[0;32m   2397\u001b[0m \u001b[43m        \u001b[49m\u001b[43mtrain_pool\u001b[49m\u001b[43m,\u001b[49m\n\u001b[0;32m   2398\u001b[0m \u001b[43m        \u001b[49m\u001b[43mtrain_params\u001b[49m\u001b[43m[\u001b[49m\u001b[38;5;124;43m\"\u001b[39;49m\u001b[38;5;124;43meval_sets\u001b[39;49m\u001b[38;5;124;43m\"\u001b[39;49m\u001b[43m]\u001b[49m\u001b[43m,\u001b[49m\n\u001b[0;32m   2399\u001b[0m \u001b[43m        \u001b[49m\u001b[43mparams\u001b[49m\u001b[43m,\u001b[49m\n\u001b[0;32m   2400\u001b[0m \u001b[43m        \u001b[49m\u001b[43mallow_clear_pool\u001b[49m\u001b[43m,\u001b[49m\n\u001b[0;32m   2401\u001b[0m \u001b[43m        \u001b[49m\u001b[43mtrain_params\u001b[49m\u001b[43m[\u001b[49m\u001b[38;5;124;43m\"\u001b[39;49m\u001b[38;5;124;43minit_model\u001b[39;49m\u001b[38;5;124;43m\"\u001b[39;49m\u001b[43m]\u001b[49m\n\u001b[0;32m   2402\u001b[0m \u001b[43m    \u001b[49m\u001b[43m)\u001b[49m\n\u001b[0;32m   2404\u001b[0m \u001b[38;5;66;03m# Have property feature_importance possibly set\u001b[39;00m\n\u001b[0;32m   2405\u001b[0m loss \u001b[38;5;241m=\u001b[39m \u001b[38;5;28mself\u001b[39m\u001b[38;5;241m.\u001b[39m_object\u001b[38;5;241m.\u001b[39m_get_loss_function_name()\n",
            "File \u001b[1;32mC:\\ProgramData\\anaconda3\\envs\\myenv\\lib\\site-packages\\catboost\\core.py:1776\u001b[0m, in \u001b[0;36m_CatBoostBase._train\u001b[1;34m(self, train_pool, test_pool, params, allow_clear_pool, init_model)\u001b[0m\n\u001b[0;32m   1775\u001b[0m \u001b[38;5;28;01mdef\u001b[39;00m \u001b[38;5;21m_train\u001b[39m(\u001b[38;5;28mself\u001b[39m, train_pool, test_pool, params, allow_clear_pool, init_model):\n\u001b[1;32m-> 1776\u001b[0m     \u001b[38;5;28;43mself\u001b[39;49m\u001b[38;5;241;43m.\u001b[39;49m\u001b[43m_object\u001b[49m\u001b[38;5;241;43m.\u001b[39;49m\u001b[43m_train\u001b[49m\u001b[43m(\u001b[49m\u001b[43mtrain_pool\u001b[49m\u001b[43m,\u001b[49m\u001b[43m \u001b[49m\u001b[43mtest_pool\u001b[49m\u001b[43m,\u001b[49m\u001b[43m \u001b[49m\u001b[43mparams\u001b[49m\u001b[43m,\u001b[49m\u001b[43m \u001b[49m\u001b[43mallow_clear_pool\u001b[49m\u001b[43m,\u001b[49m\u001b[43m \u001b[49m\u001b[43minit_model\u001b[49m\u001b[38;5;241;43m.\u001b[39;49m\u001b[43m_object\u001b[49m\u001b[43m \u001b[49m\u001b[38;5;28;43;01mif\u001b[39;49;00m\u001b[43m \u001b[49m\u001b[43minit_model\u001b[49m\u001b[43m \u001b[49m\u001b[38;5;28;43;01melse\u001b[39;49;00m\u001b[43m \u001b[49m\u001b[38;5;28;43;01mNone\u001b[39;49;00m\u001b[43m)\u001b[49m\n\u001b[0;32m   1777\u001b[0m     \u001b[38;5;28mself\u001b[39m\u001b[38;5;241m.\u001b[39m_set_trained_model_attributes()\n",
            "File \u001b[1;32m_catboost.pyx:4833\u001b[0m, in \u001b[0;36m_catboost._CatBoost._train\u001b[1;34m()\u001b[0m\n",
            "File \u001b[1;32m_catboost.pyx:4882\u001b[0m, in \u001b[0;36m_catboost._CatBoost._train\u001b[1;34m()\u001b[0m\n",
            "\u001b[1;31mCatBoostError\u001b[0m: C:/Go_Agent/pipelines/BuildMaster/catboost.git/catboost/cuda/cuda_lib/cuda_manager.cpp:201: Condition violated: `State == nullptr'"
          ]
        }
      ],
      "source": [
        "# Train Catboost Model\n",
        "from sklearn.base import clone\n",
        "\n",
        "val_scores,val_predictions,test_predictions = cross_val_model(CB)\n",
        "for k,v in target_mapping.items():\n",
        "    oof_list[f\"cat_{k}\"] = val_predictions[:,v]\n",
        "\n",
        "for k,v in target_mapping.items():\n",
        "    predict_list[f\"cat_{k}\"] = test_predictions[:,v]\n",
        "\n",
        "# best 0.91179835368868 with extract features, n_splits = 10\n",
        "# best 0.9121046227778054 without extract features, n_splits = 10"
      ]
    }
  ],
  "metadata": {
    "kernelspec": {
      "display_name": "Python 3 (ipykernel)",
      "language": "python",
      "name": "python3"
    },
    "language_info": {
      "codemirror_mode": {
        "name": "ipython",
        "version": 3
      },
      "file_extension": ".py",
      "mimetype": "text/x-python",
      "name": "python",
      "nbconvert_exporter": "python",
      "pygments_lexer": "ipython3",
      "version": "3.10.13"
    },
    "colab": {
      "provenance": [],
      "include_colab_link": true
    }
  },
  "nbformat": 4,
  "nbformat_minor": 5
}