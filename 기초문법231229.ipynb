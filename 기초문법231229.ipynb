{
  "nbformat": 4,
  "nbformat_minor": 0,
  "metadata": {
    "colab": {
      "provenance": [],
      "authorship_tag": "ABX9TyPJl2y2Xd/OC1MzBCc0H7ZH",
      "include_colab_link": true
    },
    "kernelspec": {
      "name": "python3",
      "display_name": "Python 3"
    },
    "language_info": {
      "name": "python"
    }
  },
  "cells": [
    {
      "cell_type": "markdown",
      "metadata": {
        "id": "view-in-github",
        "colab_type": "text"
      },
      "source": [
        "<a href=\"https://colab.research.google.com/github/Indongspace/mulcamp34/blob/main/%EA%B8%B0%EC%B4%88%EB%AC%B8%EB%B2%95231229.ipynb\" target=\"_parent\"><img src=\"https://colab.research.google.com/assets/colab-badge.svg\" alt=\"Open In Colab\"/></a>"
      ]
    },
    {
      "cell_type": "markdown",
      "source": [
        "# 딕셔너리\n",
        "- Dictionary\n",
        "- 구성 : key-value, keyword(=key), 결괏값(=value)\n",
        " + 문자열, 리스트, tuple : 데이터 조회 시, 인덱싱 또는 슬라이싱\n",
        " + 딕셔너리에서 값을 조회하는 방법은 key 값을 통해서 값을 조회\n"
      ],
      "metadata": {
        "id": "8HeQGqJ97kz7"
      }
    },
    {
      "cell_type": "code",
      "execution_count": null,
      "metadata": {
        "colab": {
          "base_uri": "https://localhost:8080/"
        },
        "id": "u2ns1u5960hW",
        "outputId": "2595fa39-7c65-4e2a-bce3-ffff752f79ea"
      },
      "outputs": [
        {
          "output_type": "execute_result",
          "data": {
            "text/plain": [
              "{'대한민국': '서울', '프랑스': '파리', '미국': '워싱턴', '영국': '런던'}"
            ]
          },
          "metadata": {},
          "execution_count": 3
        }
      ],
      "source": [
        "country_capital = {\n",
        "    \"대한민국\" : \"서울\",\n",
        "    \"프랑스\" : \"파리\",\n",
        "    \"미국\" : \"워싱턴\",\n",
        "    \"영국\" : \"런던\"\n",
        "}\n",
        "\n",
        "country_capital"
      ]
    },
    {
      "cell_type": "code",
      "source": [
        "country_capital[\"대한민국\"]"
      ],
      "metadata": {
        "colab": {
          "base_uri": "https://localhost:8080/",
          "height": 36
        },
        "id": "jDMKR9Kj9x9H",
        "outputId": "69a77346-b8f8-4304-ffb3-3f12b66d5d5c"
      },
      "execution_count": null,
      "outputs": [
        {
          "output_type": "execute_result",
          "data": {
            "text/plain": [
              "'서울'"
            ],
            "application/vnd.google.colaboratory.intrinsic+json": {
              "type": "string"
            }
          },
          "metadata": {},
          "execution_count": 4
        }
      ]
    },
    {
      "cell_type": "code",
      "source": [
        "data = {1:\"버스\", 3:\"비행기\"}\n",
        "data"
      ],
      "metadata": {
        "colab": {
          "base_uri": "https://localhost:8080/"
        },
        "id": "QooQ4u8X96zb",
        "outputId": "c909ae8a-89cf-4647-e25f-2efe969d5bda"
      },
      "execution_count": null,
      "outputs": [
        {
          "output_type": "execute_result",
          "data": {
            "text/plain": [
              "{1: '버스', 3: '비행기'}"
            ]
          },
          "metadata": {},
          "execution_count": 6
        }
      ]
    },
    {
      "cell_type": "code",
      "source": [
        "data[1]"
      ],
      "metadata": {
        "colab": {
          "base_uri": "https://localhost:8080/",
          "height": 36
        },
        "id": "I6jJSXPa-rpe",
        "outputId": "4e762ec0-9fda-4bee-a896-04778f79b4e0"
      },
      "execution_count": null,
      "outputs": [
        {
          "output_type": "execute_result",
          "data": {
            "text/plain": [
              "'버스'"
            ],
            "application/vnd.google.colaboratory.intrinsic+json": {
              "type": "string"
            }
          },
          "metadata": {},
          "execution_count": 10
        }
      ]
    },
    {
      "cell_type": "code",
      "source": [
        "data2 = {'list1' : [1,2,3],\n",
        "         'list2' : [4,5,6]}\n",
        "data2"
      ],
      "metadata": {
        "colab": {
          "base_uri": "https://localhost:8080/"
        },
        "id": "tZ0Em1A4_A92",
        "outputId": "9f658ade-8533-44c4-b5e0-62ba18aae730"
      },
      "execution_count": null,
      "outputs": [
        {
          "output_type": "execute_result",
          "data": {
            "text/plain": [
              "{'list1': [1, 2, 3], 'list2': [4, 5, 6]}"
            ]
          },
          "metadata": {},
          "execution_count": 11
        }
      ]
    },
    {
      "cell_type": "code",
      "source": [
        "data3 = {'list1' : [1,2,3],\n",
        "         'list2' : [4,5,6],\n",
        "         1 : '테스트',2 : 100}\n",
        "data3"
      ],
      "metadata": {
        "colab": {
          "base_uri": "https://localhost:8080/"
        },
        "id": "KVvNC5tP_M9q",
        "outputId": "5f754280-5235-4eb0-f33a-557e63bd2fcd"
      },
      "execution_count": null,
      "outputs": [
        {
          "output_type": "execute_result",
          "data": {
            "text/plain": [
              "{'list1': [1, 2, 3], 'list2': [4, 5, 6], 1: '테스트', 2: 100}"
            ]
          },
          "metadata": {},
          "execution_count": 12
        }
      ]
    },
    {
      "cell_type": "markdown",
      "source": [
        "## 딕셔너리 사용처\n",
        "- 데이터 분석 : 엑셀 테이블\n",
        " + 1억개, 데이터 가공 (최소 1-2시간 가공작업)\n",
        " + 임시테이블\n",
        "\n",
        "- HTML,CSS,인터넷 자료형 중 JSON 데이터 포맷\n",
        "- JSON 데이터 포맷 ==> 딕셔너리와 동일\n",
        " + API 데이터 크롤링, 기본 자료형(JSON) ==> 딕셔너리 변환, 변환 후 데이터 가공"
      ],
      "metadata": {
        "id": "iMnWa2BjAeii"
      }
    },
    {
      "cell_type": "code",
      "source": [
        "import pandas as pd\n",
        "\n",
        "#이 데이터가 있음\n",
        "data = {\n",
        "    'A' : [1,2,3],\n",
        "    'B' : [4,5,6]\n",
        "}\n",
        "df = pd.DataFrame(data)\n",
        "# 에디터 가공 연습 ==> 1억개 데이터 적용\n",
        "df"
      ],
      "metadata": {
        "colab": {
          "base_uri": "https://localhost:8080/",
          "height": 143
        },
        "id": "1lRNQqpy_xeI",
        "outputId": "5d46f721-7b77-4eea-a1fb-ca12d8d5ee0d"
      },
      "execution_count": null,
      "outputs": [
        {
          "output_type": "execute_result",
          "data": {
            "text/plain": [
              "   A  B\n",
              "0  1  4\n",
              "1  2  5\n",
              "2  3  6"
            ],
            "text/html": [
              "\n",
              "  <div id=\"df-17c8d093-42d4-4498-9976-f380e79336cc\" class=\"colab-df-container\">\n",
              "    <div>\n",
              "<style scoped>\n",
              "    .dataframe tbody tr th:only-of-type {\n",
              "        vertical-align: middle;\n",
              "    }\n",
              "\n",
              "    .dataframe tbody tr th {\n",
              "        vertical-align: top;\n",
              "    }\n",
              "\n",
              "    .dataframe thead th {\n",
              "        text-align: right;\n",
              "    }\n",
              "</style>\n",
              "<table border=\"1\" class=\"dataframe\">\n",
              "  <thead>\n",
              "    <tr style=\"text-align: right;\">\n",
              "      <th></th>\n",
              "      <th>A</th>\n",
              "      <th>B</th>\n",
              "    </tr>\n",
              "  </thead>\n",
              "  <tbody>\n",
              "    <tr>\n",
              "      <th>0</th>\n",
              "      <td>1</td>\n",
              "      <td>4</td>\n",
              "    </tr>\n",
              "    <tr>\n",
              "      <th>1</th>\n",
              "      <td>2</td>\n",
              "      <td>5</td>\n",
              "    </tr>\n",
              "    <tr>\n",
              "      <th>2</th>\n",
              "      <td>3</td>\n",
              "      <td>6</td>\n",
              "    </tr>\n",
              "  </tbody>\n",
              "</table>\n",
              "</div>\n",
              "    <div class=\"colab-df-buttons\">\n",
              "\n",
              "  <div class=\"colab-df-container\">\n",
              "    <button class=\"colab-df-convert\" onclick=\"convertToInteractive('df-17c8d093-42d4-4498-9976-f380e79336cc')\"\n",
              "            title=\"Convert this dataframe to an interactive table.\"\n",
              "            style=\"display:none;\">\n",
              "\n",
              "  <svg xmlns=\"http://www.w3.org/2000/svg\" height=\"24px\" viewBox=\"0 -960 960 960\">\n",
              "    <path d=\"M120-120v-720h720v720H120Zm60-500h600v-160H180v160Zm220 220h160v-160H400v160Zm0 220h160v-160H400v160ZM180-400h160v-160H180v160Zm440 0h160v-160H620v160ZM180-180h160v-160H180v160Zm440 0h160v-160H620v160Z\"/>\n",
              "  </svg>\n",
              "    </button>\n",
              "\n",
              "  <style>\n",
              "    .colab-df-container {\n",
              "      display:flex;\n",
              "      gap: 12px;\n",
              "    }\n",
              "\n",
              "    .colab-df-convert {\n",
              "      background-color: #E8F0FE;\n",
              "      border: none;\n",
              "      border-radius: 50%;\n",
              "      cursor: pointer;\n",
              "      display: none;\n",
              "      fill: #1967D2;\n",
              "      height: 32px;\n",
              "      padding: 0 0 0 0;\n",
              "      width: 32px;\n",
              "    }\n",
              "\n",
              "    .colab-df-convert:hover {\n",
              "      background-color: #E2EBFA;\n",
              "      box-shadow: 0px 1px 2px rgba(60, 64, 67, 0.3), 0px 1px 3px 1px rgba(60, 64, 67, 0.15);\n",
              "      fill: #174EA6;\n",
              "    }\n",
              "\n",
              "    .colab-df-buttons div {\n",
              "      margin-bottom: 4px;\n",
              "    }\n",
              "\n",
              "    [theme=dark] .colab-df-convert {\n",
              "      background-color: #3B4455;\n",
              "      fill: #D2E3FC;\n",
              "    }\n",
              "\n",
              "    [theme=dark] .colab-df-convert:hover {\n",
              "      background-color: #434B5C;\n",
              "      box-shadow: 0px 1px 3px 1px rgba(0, 0, 0, 0.15);\n",
              "      filter: drop-shadow(0px 1px 2px rgba(0, 0, 0, 0.3));\n",
              "      fill: #FFFFFF;\n",
              "    }\n",
              "  </style>\n",
              "\n",
              "    <script>\n",
              "      const buttonEl =\n",
              "        document.querySelector('#df-17c8d093-42d4-4498-9976-f380e79336cc button.colab-df-convert');\n",
              "      buttonEl.style.display =\n",
              "        google.colab.kernel.accessAllowed ? 'block' : 'none';\n",
              "\n",
              "      async function convertToInteractive(key) {\n",
              "        const element = document.querySelector('#df-17c8d093-42d4-4498-9976-f380e79336cc');\n",
              "        const dataTable =\n",
              "          await google.colab.kernel.invokeFunction('convertToInteractive',\n",
              "                                                    [key], {});\n",
              "        if (!dataTable) return;\n",
              "\n",
              "        const docLinkHtml = 'Like what you see? Visit the ' +\n",
              "          '<a target=\"_blank\" href=https://colab.research.google.com/notebooks/data_table.ipynb>data table notebook</a>'\n",
              "          + ' to learn more about interactive tables.';\n",
              "        element.innerHTML = '';\n",
              "        dataTable['output_type'] = 'display_data';\n",
              "        await google.colab.output.renderOutput(dataTable, element);\n",
              "        const docLink = document.createElement('div');\n",
              "        docLink.innerHTML = docLinkHtml;\n",
              "        element.appendChild(docLink);\n",
              "      }\n",
              "    </script>\n",
              "  </div>\n",
              "\n",
              "\n",
              "<div id=\"df-314e0ce2-3239-48f0-813d-ffbc6e29b280\">\n",
              "  <button class=\"colab-df-quickchart\" onclick=\"quickchart('df-314e0ce2-3239-48f0-813d-ffbc6e29b280')\"\n",
              "            title=\"Suggest charts\"\n",
              "            style=\"display:none;\">\n",
              "\n",
              "<svg xmlns=\"http://www.w3.org/2000/svg\" height=\"24px\"viewBox=\"0 0 24 24\"\n",
              "     width=\"24px\">\n",
              "    <g>\n",
              "        <path d=\"M19 3H5c-1.1 0-2 .9-2 2v14c0 1.1.9 2 2 2h14c1.1 0 2-.9 2-2V5c0-1.1-.9-2-2-2zM9 17H7v-7h2v7zm4 0h-2V7h2v10zm4 0h-2v-4h2v4z\"/>\n",
              "    </g>\n",
              "</svg>\n",
              "  </button>\n",
              "\n",
              "<style>\n",
              "  .colab-df-quickchart {\n",
              "      --bg-color: #E8F0FE;\n",
              "      --fill-color: #1967D2;\n",
              "      --hover-bg-color: #E2EBFA;\n",
              "      --hover-fill-color: #174EA6;\n",
              "      --disabled-fill-color: #AAA;\n",
              "      --disabled-bg-color: #DDD;\n",
              "  }\n",
              "\n",
              "  [theme=dark] .colab-df-quickchart {\n",
              "      --bg-color: #3B4455;\n",
              "      --fill-color: #D2E3FC;\n",
              "      --hover-bg-color: #434B5C;\n",
              "      --hover-fill-color: #FFFFFF;\n",
              "      --disabled-bg-color: #3B4455;\n",
              "      --disabled-fill-color: #666;\n",
              "  }\n",
              "\n",
              "  .colab-df-quickchart {\n",
              "    background-color: var(--bg-color);\n",
              "    border: none;\n",
              "    border-radius: 50%;\n",
              "    cursor: pointer;\n",
              "    display: none;\n",
              "    fill: var(--fill-color);\n",
              "    height: 32px;\n",
              "    padding: 0;\n",
              "    width: 32px;\n",
              "  }\n",
              "\n",
              "  .colab-df-quickchart:hover {\n",
              "    background-color: var(--hover-bg-color);\n",
              "    box-shadow: 0 1px 2px rgba(60, 64, 67, 0.3), 0 1px 3px 1px rgba(60, 64, 67, 0.15);\n",
              "    fill: var(--button-hover-fill-color);\n",
              "  }\n",
              "\n",
              "  .colab-df-quickchart-complete:disabled,\n",
              "  .colab-df-quickchart-complete:disabled:hover {\n",
              "    background-color: var(--disabled-bg-color);\n",
              "    fill: var(--disabled-fill-color);\n",
              "    box-shadow: none;\n",
              "  }\n",
              "\n",
              "  .colab-df-spinner {\n",
              "    border: 2px solid var(--fill-color);\n",
              "    border-color: transparent;\n",
              "    border-bottom-color: var(--fill-color);\n",
              "    animation:\n",
              "      spin 1s steps(1) infinite;\n",
              "  }\n",
              "\n",
              "  @keyframes spin {\n",
              "    0% {\n",
              "      border-color: transparent;\n",
              "      border-bottom-color: var(--fill-color);\n",
              "      border-left-color: var(--fill-color);\n",
              "    }\n",
              "    20% {\n",
              "      border-color: transparent;\n",
              "      border-left-color: var(--fill-color);\n",
              "      border-top-color: var(--fill-color);\n",
              "    }\n",
              "    30% {\n",
              "      border-color: transparent;\n",
              "      border-left-color: var(--fill-color);\n",
              "      border-top-color: var(--fill-color);\n",
              "      border-right-color: var(--fill-color);\n",
              "    }\n",
              "    40% {\n",
              "      border-color: transparent;\n",
              "      border-right-color: var(--fill-color);\n",
              "      border-top-color: var(--fill-color);\n",
              "    }\n",
              "    60% {\n",
              "      border-color: transparent;\n",
              "      border-right-color: var(--fill-color);\n",
              "    }\n",
              "    80% {\n",
              "      border-color: transparent;\n",
              "      border-right-color: var(--fill-color);\n",
              "      border-bottom-color: var(--fill-color);\n",
              "    }\n",
              "    90% {\n",
              "      border-color: transparent;\n",
              "      border-bottom-color: var(--fill-color);\n",
              "    }\n",
              "  }\n",
              "</style>\n",
              "\n",
              "  <script>\n",
              "    async function quickchart(key) {\n",
              "      const quickchartButtonEl =\n",
              "        document.querySelector('#' + key + ' button');\n",
              "      quickchartButtonEl.disabled = true;  // To prevent multiple clicks.\n",
              "      quickchartButtonEl.classList.add('colab-df-spinner');\n",
              "      try {\n",
              "        const charts = await google.colab.kernel.invokeFunction(\n",
              "            'suggestCharts', [key], {});\n",
              "      } catch (error) {\n",
              "        console.error('Error during call to suggestCharts:', error);\n",
              "      }\n",
              "      quickchartButtonEl.classList.remove('colab-df-spinner');\n",
              "      quickchartButtonEl.classList.add('colab-df-quickchart-complete');\n",
              "    }\n",
              "    (() => {\n",
              "      let quickchartButtonEl =\n",
              "        document.querySelector('#df-314e0ce2-3239-48f0-813d-ffbc6e29b280 button');\n",
              "      quickchartButtonEl.style.display =\n",
              "        google.colab.kernel.accessAllowed ? 'block' : 'none';\n",
              "    })();\n",
              "  </script>\n",
              "</div>\n",
              "    </div>\n",
              "  </div>\n"
            ]
          },
          "metadata": {},
          "execution_count": 14
        }
      ]
    },
    {
      "cell_type": "markdown",
      "source": [
        "### 딕셔너리 다루기\n",
        "- 딕셔너리의 value 값 수정하는 방법"
      ],
      "metadata": {
        "id": "tJev2u8CFlvG"
      }
    },
    {
      "cell_type": "code",
      "source": [
        "country_capital['대한민국']='부산'\n",
        "country_capital"
      ],
      "metadata": {
        "colab": {
          "base_uri": "https://localhost:8080/"
        },
        "id": "WMLMQ67UF1L0",
        "outputId": "60bfe5ae-3556-4f98-bd91-78051048b0ac"
      },
      "execution_count": null,
      "outputs": [
        {
          "output_type": "execute_result",
          "data": {
            "text/plain": [
              "{'대한민국': '부산', '프랑스': '파리', '미국': '워싱턴', '영국': '런던'}"
            ]
          },
          "metadata": {},
          "execution_count": 16
        }
      ]
    },
    {
      "cell_type": "code",
      "source": [
        "del country_capital['영국']\n",
        "country_capital['프랑스'] = None\n",
        "country_capital"
      ],
      "metadata": {
        "colab": {
          "base_uri": "https://localhost:8080/"
        },
        "id": "xxavjxqeGKLJ",
        "outputId": "9259fb4a-7f59-4750-e57f-0bf6cfe8c22b"
      },
      "execution_count": null,
      "outputs": [
        {
          "output_type": "execute_result",
          "data": {
            "text/plain": [
              "{'대한민국': '부산', '프랑스': None, '미국': '워싱턴', '일본': '도쿄'}"
            ]
          },
          "metadata": {},
          "execution_count": 22
        }
      ]
    },
    {
      "cell_type": "code",
      "source": [
        "country_capital['일본'] = '도쿄'\n",
        "country_capital"
      ],
      "metadata": {
        "colab": {
          "base_uri": "https://localhost:8080/"
        },
        "id": "xFpkDEtDG2iW",
        "outputId": "aa7ce143-347c-49c8-81c2-587558bebb57"
      },
      "execution_count": null,
      "outputs": [
        {
          "output_type": "execute_result",
          "data": {
            "text/plain": [
              "{'대한민국': '부산', '프랑스': None, '미국': '워싱턴', '일본': '도쿄'}"
            ]
          },
          "metadata": {},
          "execution_count": 23
        }
      ]
    },
    {
      "cell_type": "markdown",
      "source": [
        "### 딕셔너리 메서드"
      ],
      "metadata": {
        "id": "oynI-l_2HcAu"
      }
    },
    {
      "cell_type": "code",
      "source": [
        "country_capital = {'대한민국': '부산',\n",
        " '프랑스': None,\n",
        " '미국': '워싱턴',\n",
        " '일본': '도쿄',\n",
        " '중국': '베이징',\n",
        " '필리핀': '마닐라',\n",
        " '호주': '캔버라'}"
      ],
      "metadata": {
        "id": "Mcm1soWKKJG5"
      },
      "execution_count": null,
      "outputs": []
    },
    {
      "cell_type": "code",
      "source": [
        "result = list(country_capital.keys())\n",
        "result.append('독일')\n",
        "result"
      ],
      "metadata": {
        "colab": {
          "base_uri": "https://localhost:8080/"
        },
        "id": "ur7gB4d9KPzi",
        "outputId": "bd43fef7-dde2-4148-927c-6d434c967958"
      },
      "execution_count": null,
      "outputs": [
        {
          "output_type": "execute_result",
          "data": {
            "text/plain": [
              "['대한민국', '프랑스', '미국', '일본', '중국', '필리핀', '호주', '독일']"
            ]
          },
          "metadata": {},
          "execution_count": 42
        }
      ]
    },
    {
      "cell_type": "code",
      "source": [
        "print(type(country_capital)) # 딕셔너리 객체\n",
        "# 딕셔너리가 보유한 클래스 메서드를 사용할 수 있음\n",
        "print(type(country_capital.keys()))\n",
        "print(country_capital.keys())\n",
        "print(country_capital.values())\n",
        "print(country_capital.items())\n",
        "print(type(country_capital.items()))\n"
      ],
      "metadata": {
        "colab": {
          "base_uri": "https://localhost:8080/"
        },
        "id": "NvfBEtrEHeFw",
        "outputId": "89d5a256-46f2-43eb-fe83-4a5069abd8d0"
      },
      "execution_count": null,
      "outputs": [
        {
          "output_type": "stream",
          "name": "stdout",
          "text": [
            "<class 'dict'>\n",
            "<class 'dict_keys'>\n",
            "dict_keys(['대한민국', '프랑스', '미국', '일본'])\n",
            "dict_values(['부산', None, '워싱턴', '도쿄'])\n",
            "dict_items([('대한민국', '부산'), ('프랑스', None), ('미국', '워싱턴'), ('일본', '도쿄')])\n",
            "<class 'dict_items'>\n"
          ]
        }
      ]
    },
    {
      "cell_type": "code",
      "source": [
        "list(country_capital.keys())\n",
        "\n",
        "#print(type(country_capital.keys()))"
      ],
      "metadata": {
        "colab": {
          "base_uri": "https://localhost:8080/"
        },
        "id": "ZKygVzJsI3EE",
        "outputId": "252d4344-1f59-4b95-e137-adc4ff8a43b2"
      },
      "execution_count": null,
      "outputs": [
        {
          "output_type": "execute_result",
          "data": {
            "text/plain": [
              "['대한민국', '프랑스', '미국', '일본']"
            ]
          },
          "metadata": {},
          "execution_count": 35
        }
      ]
    },
    {
      "cell_type": "code",
      "source": [
        "new_df = {\n",
        "    '중국' : '베이징', '필리핀' : '마닐라', '호주' : '캔버라'\n",
        "}\n",
        "country_capital.update(new_df)\n",
        "country_capital"
      ],
      "metadata": {
        "colab": {
          "base_uri": "https://localhost:8080/"
        },
        "id": "5rrQktSqJJiS",
        "outputId": "6fd9dafd-aec2-44ac-8813-d26095a51346"
      },
      "execution_count": null,
      "outputs": [
        {
          "output_type": "execute_result",
          "data": {
            "text/plain": [
              "{'대한민국': '부산',\n",
              " '프랑스': None,\n",
              " '미국': '워싱턴',\n",
              " '일본': '도쿄',\n",
              " '중국': '베이징',\n",
              " '필리핀': '마닐라',\n",
              " '호주': '캔버라'}"
            ]
          },
          "metadata": {},
          "execution_count": 37
        }
      ]
    },
    {
      "cell_type": "code",
      "source": [
        "country_capital.clear()\n",
        "country_capital"
      ],
      "metadata": {
        "colab": {
          "base_uri": "https://localhost:8080/"
        },
        "id": "Pfsw-8QsJc6x",
        "outputId": "9290c1f1-b01f-4e24-8b90-2d16d7de36da"
      },
      "execution_count": null,
      "outputs": [
        {
          "output_type": "execute_result",
          "data": {
            "text/plain": [
              "{}"
            ]
          },
          "metadata": {},
          "execution_count": 38
        }
      ]
    },
    {
      "cell_type": "markdown",
      "source": [
        "# if 조건문\n",
        "- 만약 조건이 True라면 ~를 해라\n",
        "- 참과 거짓을 만드는 것이 포인트"
      ],
      "metadata": {
        "id": "uiEtCwfHL5Kt"
      }
    },
    {
      "cell_type": "code",
      "source": [
        "x = int(input(\"점수를 입력하세요 \"))\n",
        "if x >= 90:\n",
        "  print(\"합격\")\n",
        "elif x >= 80:\n",
        "  print(\"부분합격, 면접 필요\")\n",
        "else:\n",
        "  print(\"불합격\")"
      ],
      "metadata": {
        "colab": {
          "base_uri": "https://localhost:8080/"
        },
        "id": "Bb1uOkWVMxsl",
        "outputId": "7f04797e-a82c-482d-c1fa-3182906b8413"
      },
      "execution_count": null,
      "outputs": [
        {
          "output_type": "stream",
          "name": "stdout",
          "text": [
            "점수를 입력하세요 88\n",
            "부분합격, 면접 필요\n"
          ]
        }
      ]
    },
    {
      "cell_type": "markdown",
      "source": [
        "- 조건문을 문장으로 먼저 만드는 훈련을 하는 것이 중요함"
      ],
      "metadata": {
        "id": "jKCJ1GWmNrLt"
      }
    },
    {
      "cell_type": "markdown",
      "source": [
        "# 문제\n",
        "- 학생 성적에 따라서 등급을 정함. 점수는 0에서 100점\n",
        "- A,B,C,D,F"
      ],
      "metadata": {
        "id": "QUNG-JtNO3lF"
      }
    },
    {
      "cell_type": "code",
      "source": [
        "x = float(input(\"점수를 입력하세요 (0~100) \"))\n",
        "if x >= 101 or x < 0:\n",
        "  print(\"오타입니다. 다시 입력해 주세요\")\n",
        "\n",
        "if 90 <= x <= 100:\n",
        "  print(\"A\")\n",
        "elif 80 <= x < 90:\n",
        "  print(\"B\")\n",
        "elif 70 <= x < 80:\n",
        "  print(\"C\")\n",
        "elif 60 <= x < 70:\n",
        "  print(\"D\")\n",
        "elif 0 <= x <= 59:\n",
        "  print(\"F\")"
      ],
      "metadata": {
        "colab": {
          "base_uri": "https://localhost:8080/"
        },
        "id": "uNaJqDdFN_1Z",
        "outputId": "39de9e89-9e9a-40ff-f6d6-208999923114"
      },
      "execution_count": null,
      "outputs": [
        {
          "output_type": "stream",
          "name": "stdout",
          "text": [
            "점수를 입력하세요 (0~100) 100\n",
            "A\n"
          ]
        }
      ]
    },
    {
      "cell_type": "markdown",
      "source": [
        "### 중첩 조건문\n",
        "### if 조건문 내부에 또다른 조건문 생성"
      ],
      "metadata": {
        "id": "iBVhr9v0W2Jd"
      }
    },
    {
      "cell_type": "code",
      "source": [
        "x = int(input(\"점수를 입력하세요...\"))\n",
        "\n",
        "if x >= 90:\n",
        "  if x >= 100:\n",
        "     {print(\"장학금 대상자\")}\n",
        "  print(\"합격\")\n",
        "\n",
        "else:\n",
        "  print(\"불합격\")"
      ],
      "metadata": {
        "colab": {
          "base_uri": "https://localhost:8080/"
        },
        "id": "EoI83SP-W6pA",
        "outputId": "e4a97889-e2d5-450d-af86-115598efc551"
      },
      "execution_count": null,
      "outputs": [
        {
          "output_type": "stream",
          "name": "stdout",
          "text": [
            "점수를 입력하세요...600\n",
            "장학금 대상자\n",
            "합격\n"
          ]
        }
      ]
    },
    {
      "cell_type": "markdown",
      "source": [
        "# 반복문\n",
        "- for-loop, while"
      ],
      "metadata": {
        "id": "zP-IBDN2X7xb"
      }
    },
    {
      "cell_type": "markdown",
      "source": [
        "## for-loop 특징\n",
        "- 반복 범위가 주어짐"
      ],
      "metadata": {
        "id": "DESec__BapmA"
      }
    },
    {
      "cell_type": "code",
      "source": [
        "for i in range(3):\n",
        " print(f'{i+1}번째 Hello Python')"
      ],
      "metadata": {
        "colab": {
          "base_uri": "https://localhost:8080/"
        },
        "id": "UrlJn5ilYMB8",
        "outputId": "798fb2fb-793a-48a8-951f-04cb582e9e31"
      },
      "execution_count": null,
      "outputs": [
        {
          "output_type": "stream",
          "name": "stdout",
          "text": [
            "1번째 Hello Python\n",
            "2번째 Hello Python\n",
            "3번째 Hello Python\n"
          ]
        }
      ]
    },
    {
      "cell_type": "markdown",
      "source": [
        "- 반복 범위 지정 시, 시퀀스 자료형도 사용 가능\n",
        " + 오늘/내일 블로그 주제 : 시퀀스 자료형에 대해서 정리\n",
        " + 대표적인 것 : 리스트, 문자열"
      ],
      "metadata": {
        "id": "sSZAua0ObQOg"
      }
    },
    {
      "cell_type": "code",
      "source": [
        "nums = [1,2,3,4,5]\n",
        "for i in nums:\n",
        "  print(i)"
      ],
      "metadata": {
        "colab": {
          "base_uri": "https://localhost:8080/"
        },
        "id": "eIxEmT75byQ1",
        "outputId": "42a164a4-9c66-4bee-ae4c-be37dac36a6d"
      },
      "execution_count": null,
      "outputs": [
        {
          "output_type": "stream",
          "name": "stdout",
          "text": [
            "1\n",
            "2\n",
            "3\n",
            "4\n",
            "5\n"
          ]
        }
      ]
    },
    {
      "cell_type": "code",
      "source": [
        "#strings = \"Hello\"\n",
        "#for str in strings:\n",
        "#  print(str)\n",
        "tuples = (1,2,3,4,5)\n",
        "for i in tuples:\n",
        "  print(i)"
      ],
      "metadata": {
        "colab": {
          "base_uri": "https://localhost:8080/"
        },
        "id": "R4eXPqx8cSDY",
        "outputId": "9968ff05-26c5-4b34-9eea-59d88796b418"
      },
      "execution_count": null,
      "outputs": [
        {
          "output_type": "stream",
          "name": "stdout",
          "text": [
            "1\n",
            "2\n",
            "3\n",
            "4\n",
            "5\n"
          ]
        }
      ]
    },
    {
      "cell_type": "code",
      "source": [
        "country_capital.items()"
      ],
      "metadata": {
        "colab": {
          "base_uri": "https://localhost:8080/"
        },
        "id": "3Gi9Z90xd1kd",
        "outputId": "ef201910-7d23-468f-d09d-0032665f9edd"
      },
      "execution_count": null,
      "outputs": [
        {
          "output_type": "execute_result",
          "data": {
            "text/plain": [
              "dict_items([('대한민국', '부산'), ('프랑스', None), ('미국', '워싱턴'), ('일본', '도쿄'), ('중국', '베이징'), ('필리핀', '마닐라'), ('호주', '캔버라')])"
            ]
          },
          "metadata": {},
          "execution_count": 152
        }
      ]
    },
    {
      "cell_type": "code",
      "source": [
        "country_capital[\"대한민국\"]"
      ],
      "metadata": {
        "colab": {
          "base_uri": "https://localhost:8080/",
          "height": 36
        },
        "id": "JP3vBKcEgSx2",
        "outputId": "05ef4aac-cb8b-4e71-dd7c-41baf7de66b9"
      },
      "execution_count": null,
      "outputs": [
        {
          "output_type": "execute_result",
          "data": {
            "text/plain": [
              "'부산'"
            ],
            "application/vnd.google.colaboratory.intrinsic+json": {
              "type": "string"
            }
          },
          "metadata": {},
          "execution_count": 155
        }
      ]
    },
    {
      "cell_type": "code",
      "source": [
        "x = '대한민국'\n",
        "country_capital[x]"
      ],
      "metadata": {
        "colab": {
          "base_uri": "https://localhost:8080/",
          "height": 36
        },
        "id": "0qLszuI9ydGJ",
        "outputId": "58acf07a-4ef9-42be-9fb5-76a1fe8f29ee"
      },
      "execution_count": null,
      "outputs": [
        {
          "output_type": "execute_result",
          "data": {
            "text/plain": [
              "'부산'"
            ],
            "application/vnd.google.colaboratory.intrinsic+json": {
              "type": "string"
            }
          },
          "metadata": {},
          "execution_count": 156
        }
      ]
    },
    {
      "cell_type": "code",
      "source": [
        "for i in country_capital:\n",
        "  print(country_capital[i])\n",
        "  #print(f'{i}의 수도는 {country_capital[i]}이다.')"
      ],
      "metadata": {
        "colab": {
          "base_uri": "https://localhost:8080/"
        },
        "id": "zpanhHB7crQS",
        "outputId": "273834ee-aa36-4e29-f708-9ab97d02f82f"
      },
      "execution_count": null,
      "outputs": [
        {
          "output_type": "stream",
          "name": "stdout",
          "text": [
            "부산\n",
            "None\n",
            "워싱턴\n",
            "도쿄\n",
            "베이징\n",
            "마닐라\n",
            "캔버라\n"
          ]
        }
      ]
    },
    {
      "cell_type": "code",
      "source": [
        "# 중첩 for 문\n",
        "# 반복문 내 또 다른 반복문\n",
        "x_list = ['x1','x2']\n",
        "y_list = ['y1','y2']\n",
        "\n",
        "for x in x_list:\n",
        "  for y in y_list:\n",
        "    print(x,y)"
      ],
      "metadata": {
        "colab": {
          "base_uri": "https://localhost:8080/"
        },
        "id": "1qxoMOCFzn6N",
        "outputId": "20725f13-a515-431b-ffcf-43e244d5784a"
      },
      "execution_count": null,
      "outputs": [
        {
          "output_type": "stream",
          "name": "stdout",
          "text": [
            "x1 y1\n",
            "x1 y2\n",
            "x2 y1\n",
            "x2 y2\n"
          ]
        }
      ]
    },
    {
      "cell_type": "markdown",
      "source": [
        "## 구구단"
      ],
      "metadata": {
        "id": "59980YmL0vDc"
      }
    },
    {
      "cell_type": "code",
      "source": [
        "#x = 2\n",
        "#y = 1\n",
        "#f'{x} * {y} = {x*y}'\n",
        "x_list = [1,2,3,4,5,6,7,8,9]\n",
        "y_list = [1,2,3,4,5,6,7,8,9]\n",
        "#for x in x_list:\n",
        "  #for y in y_list:\n",
        "    #print(f'{x} * {y} = {x * y}')"
      ],
      "metadata": {
        "id": "gHBatIYB0x4Q"
      },
      "execution_count": 165,
      "outputs": []
    },
    {
      "cell_type": "code",
      "source": [
        "for x in range(1,10):\n",
        "  for y in range(1,10):\n",
        "    print(f'{x} * {y} = {x * y}')\n",
        "  print(\"-----\")"
      ],
      "metadata": {
        "colab": {
          "base_uri": "https://localhost:8080/"
        },
        "id": "6M6OH_DI4j-G",
        "outputId": "e858e5e6-5bc1-4b50-b278-2032d4c8f161"
      },
      "execution_count": 166,
      "outputs": [
        {
          "output_type": "stream",
          "name": "stdout",
          "text": [
            "1 * 1 = 1\n",
            "1 * 2 = 2\n",
            "1 * 3 = 3\n",
            "1 * 4 = 4\n",
            "1 * 5 = 5\n",
            "1 * 6 = 6\n",
            "1 * 7 = 7\n",
            "1 * 8 = 8\n",
            "1 * 9 = 9\n",
            "-----\n",
            "2 * 1 = 2\n",
            "2 * 2 = 4\n",
            "2 * 3 = 6\n",
            "2 * 4 = 8\n",
            "2 * 5 = 10\n",
            "2 * 6 = 12\n",
            "2 * 7 = 14\n",
            "2 * 8 = 16\n",
            "2 * 9 = 18\n",
            "-----\n",
            "3 * 1 = 3\n",
            "3 * 2 = 6\n",
            "3 * 3 = 9\n",
            "3 * 4 = 12\n",
            "3 * 5 = 15\n",
            "3 * 6 = 18\n",
            "3 * 7 = 21\n",
            "3 * 8 = 24\n",
            "3 * 9 = 27\n",
            "-----\n",
            "4 * 1 = 4\n",
            "4 * 2 = 8\n",
            "4 * 3 = 12\n",
            "4 * 4 = 16\n",
            "4 * 5 = 20\n",
            "4 * 6 = 24\n",
            "4 * 7 = 28\n",
            "4 * 8 = 32\n",
            "4 * 9 = 36\n",
            "-----\n",
            "5 * 1 = 5\n",
            "5 * 2 = 10\n",
            "5 * 3 = 15\n",
            "5 * 4 = 20\n",
            "5 * 5 = 25\n",
            "5 * 6 = 30\n",
            "5 * 7 = 35\n",
            "5 * 8 = 40\n",
            "5 * 9 = 45\n",
            "-----\n",
            "6 * 1 = 6\n",
            "6 * 2 = 12\n",
            "6 * 3 = 18\n",
            "6 * 4 = 24\n",
            "6 * 5 = 30\n",
            "6 * 6 = 36\n",
            "6 * 7 = 42\n",
            "6 * 8 = 48\n",
            "6 * 9 = 54\n",
            "-----\n",
            "7 * 1 = 7\n",
            "7 * 2 = 14\n",
            "7 * 3 = 21\n",
            "7 * 4 = 28\n",
            "7 * 5 = 35\n",
            "7 * 6 = 42\n",
            "7 * 7 = 49\n",
            "7 * 8 = 56\n",
            "7 * 9 = 63\n",
            "-----\n",
            "8 * 1 = 8\n",
            "8 * 2 = 16\n",
            "8 * 3 = 24\n",
            "8 * 4 = 32\n",
            "8 * 5 = 40\n",
            "8 * 6 = 48\n",
            "8 * 7 = 56\n",
            "8 * 8 = 64\n",
            "8 * 9 = 72\n",
            "-----\n",
            "9 * 1 = 9\n",
            "9 * 2 = 18\n",
            "9 * 3 = 27\n",
            "9 * 4 = 36\n",
            "9 * 5 = 45\n",
            "9 * 6 = 54\n",
            "9 * 7 = 63\n",
            "9 * 8 = 72\n",
            "9 * 9 = 81\n",
            "-----\n"
          ]
        }
      ]
    },
    {
      "cell_type": "code",
      "source": [
        "names = [\"A\",\"B\",\"C\"]\n",
        "ages = [10,20,30]\n",
        "\n",
        "for name, age in zip(names,ages):\n",
        "  print(name,age)"
      ],
      "metadata": {
        "colab": {
          "base_uri": "https://localhost:8080/"
        },
        "id": "7gyN1w3v5Ax2",
        "outputId": "a48a1eef-47d0-4e8a-80b5-4d20c95c4b79"
      },
      "execution_count": 171,
      "outputs": [
        {
          "output_type": "stream",
          "name": "stdout",
          "text": [
            "A 10\n",
            "B 20\n",
            "C 30\n"
          ]
        }
      ]
    },
    {
      "cell_type": "code",
      "source": [
        "names = [\"A\",\"B\",\"C\"]\n",
        "for idx, name in enumerate(names):\n",
        "  print(idx,name)"
      ],
      "metadata": {
        "colab": {
          "base_uri": "https://localhost:8080/"
        },
        "id": "90kIuDd05VH8",
        "outputId": "55f5a8fa-e2d8-49ce-996b-629c016f9ed9"
      },
      "execution_count": 173,
      "outputs": [
        {
          "output_type": "stream",
          "name": "stdout",
          "text": [
            "0 A\n",
            "1 B\n",
            "2 C\n"
          ]
        }
      ]
    },
    {
      "cell_type": "markdown",
      "source": [
        "## while 특징\n",
        "- for-loop 특징 : 항상 반복문의 범위를 지정한다.\n",
        " + 몇번 반복문을 수행할지 숫자로 컨트롤 가능\n",
        "- while 특징 : 조건문이 False가 될 때까지 반복문을 수행, 조건문이 True이면 반복문은 무한 수행"
      ],
      "metadata": {
        "id": "IBTlTO4a8nir"
      }
    },
    {
      "cell_type": "code",
      "source": [
        "i = 1\n",
        "n = 3\n",
        "while i <= n: # 특정 조건문을 False가 되도록 코드를 작성하는 것이 포인트\n",
        "  print(f'현재 {i}번')\n",
        "  i = i+1"
      ],
      "metadata": {
        "colab": {
          "base_uri": "https://localhost:8080/"
        },
        "id": "1CCF5Yq785kB",
        "outputId": "1f6ef989-c384-4bc0-d6a2-e3b97bf615d0"
      },
      "execution_count": 169,
      "outputs": [
        {
          "output_type": "stream",
          "name": "stdout",
          "text": [
            "현재 1번\n",
            "현재 2번\n",
            "현재 3번\n"
          ]
        }
      ]
    },
    {
      "cell_type": "markdown",
      "source": [
        "## for-loop, while 비교\n",
        "- only 데이터분석\n",
        " + (for-loop 집중 공부)\n",
        " + 행과 열은 거의 고정\n",
        " + 범위가 주어져 있음\n",
        "- 개발자\n",
        " + (for-loop,while 둘 다 익힐 것)"
      ],
      "metadata": {
        "id": "p_1jDKZSAWw9"
      }
    },
    {
      "cell_type": "markdown",
      "source": [
        "## break 문\n",
        "- 특정 시점에 반복문 강제 종료"
      ],
      "metadata": {
        "id": "_XmpVE_4CCZY"
      }
    },
    {
      "cell_type": "code",
      "source": [
        "i = 1\n",
        "\n",
        "while True:\n",
        "  print(f'현재 {i}번')\n",
        "  if i >= 5:\n",
        "    break\n",
        "  i = i + 1"
      ],
      "metadata": {
        "colab": {
          "base_uri": "https://localhost:8080/"
        },
        "id": "Awgx4SPr9tKZ",
        "outputId": "0fa01fad-060c-413f-9440-28df11c6a480"
      },
      "execution_count": 175,
      "outputs": [
        {
          "output_type": "stream",
          "name": "stdout",
          "text": [
            "현재 1번\n",
            "현재 2번\n",
            "현재 3번\n",
            "현재 4번\n",
            "현재 5번\n"
          ]
        }
      ]
    },
    {
      "cell_type": "code",
      "source": [
        "for i in range(10):\n",
        "  print(f'현재 {i}번')\n",
        "  if i > 5:\n",
        "    print(\"if 조건문 만족\")\n",
        "    break"
      ],
      "metadata": {
        "colab": {
          "base_uri": "https://localhost:8080/"
        },
        "id": "BKd-9htxC0NG",
        "outputId": "1c86f79f-2556-4ac3-fa3d-e70ef6d523e9"
      },
      "execution_count": 177,
      "outputs": [
        {
          "output_type": "stream",
          "name": "stdout",
          "text": [
            "현재 0번\n",
            "현재 1번\n",
            "현재 2번\n",
            "현재 3번\n",
            "현재 4번\n",
            "현재 5번\n",
            "현재 6번\n",
            "if 조건문 만족\n"
          ]
        }
      ]
    },
    {
      "cell_type": "markdown",
      "source": [
        "## 문자열과 for-loop"
      ],
      "metadata": {
        "id": "8tDnYBU0Du8P"
      }
    },
    {
      "cell_type": "code",
      "source": [
        "texts = 'Python'\n",
        "for text in texts:\n",
        "  print(text)\n",
        "  if text == \"t\":\n",
        "    break"
      ],
      "metadata": {
        "colab": {
          "base_uri": "https://localhost:8080/"
        },
        "id": "WUYGD0TNDz3_",
        "outputId": "f3c121d0-e808-40a8-b36b-ca80e5aa1721"
      },
      "execution_count": 179,
      "outputs": [
        {
          "output_type": "stream",
          "name": "stdout",
          "text": [
            "P\n",
            "y\n",
            "t\n"
          ]
        }
      ]
    },
    {
      "cell_type": "markdown",
      "source": [
        "## 리스트 컴프리헨션\n",
        "- for loop 및 for loop if 조건문 한줄로 처리"
      ],
      "metadata": {
        "id": "YpYo571wEohk"
      }
    },
    {
      "cell_type": "code",
      "source": [
        "# pythonic 코드\n",
        "numbers = [1,2,3,4,5]\n",
        "result = []\n",
        "\n",
        "for i in numbers:\n",
        "  result.append(i**2)\n",
        "\n",
        "result"
      ],
      "metadata": {
        "colab": {
          "base_uri": "https://localhost:8080/"
        },
        "id": "rdcAKdghE0AJ",
        "outputId": "1df0b3e0-95f8-4440-993a-89e9b995f26d"
      },
      "execution_count": 180,
      "outputs": [
        {
          "output_type": "execute_result",
          "data": {
            "text/plain": [
              "[1, 4, 9, 16, 25]"
            ]
          },
          "metadata": {},
          "execution_count": 180
        }
      ]
    },
    {
      "cell_type": "code",
      "source": [
        "numbers = [1,2,3,4,5]\n",
        "result2 = [i**2 for i in numbers]\n",
        "result2"
      ],
      "metadata": {
        "colab": {
          "base_uri": "https://localhost:8080/"
        },
        "id": "Z_0ZZmO1GM5A",
        "outputId": "5108f439-e401-4531-deb5-cd8c6b56368e"
      },
      "execution_count": 182,
      "outputs": [
        {
          "output_type": "execute_result",
          "data": {
            "text/plain": [
              "[1, 4, 9, 16, 25]"
            ]
          },
          "metadata": {},
          "execution_count": 182
        }
      ]
    },
    {
      "cell_type": "markdown",
      "source": [
        "### 조건문 추가"
      ],
      "metadata": {
        "id": "E7IztqfZKxPa"
      }
    },
    {
      "cell_type": "code",
      "source": [
        "numbers = [1,2,3,4,5]\n",
        "result = []\n",
        "\n",
        "for i in numbers:\n",
        "  if i >= 3:\n",
        "    result.append(i**2)\n",
        "\n",
        "result"
      ],
      "metadata": {
        "colab": {
          "base_uri": "https://localhost:8080/"
        },
        "id": "yluNFV6kK3N1",
        "outputId": "a24c2381-95dc-4b10-fbbe-bc6ae5433cf2"
      },
      "execution_count": 183,
      "outputs": [
        {
          "output_type": "execute_result",
          "data": {
            "text/plain": [
              "[9, 16, 25]"
            ]
          },
          "metadata": {},
          "execution_count": 183
        }
      ]
    },
    {
      "cell_type": "code",
      "source": [
        "numbers = [1,2,3,4,5]\n",
        "result2 = [i**2 for i in numbers if i >= 3]\n",
        "result2"
      ],
      "metadata": {
        "colab": {
          "base_uri": "https://localhost:8080/"
        },
        "id": "BDT9dxOjLZOW",
        "outputId": "2ae5a97e-df65-462a-c325-bd5a725cc033"
      },
      "execution_count": 184,
      "outputs": [
        {
          "output_type": "execute_result",
          "data": {
            "text/plain": [
              "[9, 16, 25]"
            ]
          },
          "metadata": {},
          "execution_count": 184
        }
      ]
    },
    {
      "cell_type": "markdown",
      "source": [
        "- 시각화 라이브러리\n",
        " + matplotlib, plotly 옵션 설정 할 때, 자주 사용됨\n",
        "\n",
        "# 파이썬 문서화 (Docstring)\n",
        "- 코딩을 한다. 프로그래밍을 한다.\n",
        "- 누군가에게 관련 지식을 전달하는 것과 동일\n",
        " + 혼자 코딩하고, 혼자만 알 수 있는 언어로 코딩을 했다. ==> 협업 불가능\n",
        " + 취업, 퇴사, 이직 ==> 업무 인수인계를 해야 함\n",
        " + 코딩한 것에 문서화를 하지 못하면, 업무 인수인계 자체가 불가능\n",
        "\n",
        "- 프로젝트 진행\n",
        " + 3주 / 4주 ==> 마지막주에는\n",
        "   - 2~3명, ppt 보고서 작성\n",
        "   - 남은 인원, Docstring을 사용해서, 문서화\n",
        " + help() 명령어를 사용해서 불러오기 할 수 있음 (예, read_csv()문서처럼 출력이 가능)\n",
        "  "
      ],
      "metadata": {
        "id": "2UojgGY2MFKT"
      }
    },
    {
      "cell_type": "code",
      "source": [
        "# help(print)\n",
        "# import math\n",
        "# help(math)"
      ],
      "metadata": {
        "id": "3Oh4lBaBQzFB"
      },
      "execution_count": 187,
      "outputs": []
    },
    {
      "cell_type": "code",
      "source": [
        "def myPower(n):\n",
        "  '''숫자 n을 입력하면 n의 거듭제곱으로 반환'''\n",
        "  result = n**2\n",
        "  return result\n",
        "\n",
        "#print(myPower(3))\n",
        "print(myPower.__doc__)\n",
        "print(print.__doc__)"
      ],
      "metadata": {
        "colab": {
          "base_uri": "https://localhost:8080/"
        },
        "id": "7JJWHhZBRN0W",
        "outputId": "8a2191cf-e110-4db6-d5c4-9cd7f474777c"
      },
      "execution_count": 190,
      "outputs": [
        {
          "output_type": "stream",
          "name": "stdout",
          "text": [
            "숫자 n을 입력하면 n의 거듭제곱으로 반환\n",
            "print(value, ..., sep=' ', end='\\n', file=sys.stdout, flush=False)\n",
            "\n",
            "Prints the values to a stream, or to sys.stdout by default.\n",
            "Optional keyword arguments:\n",
            "file:  a file-like object (stream); defaults to the current sys.stdout.\n",
            "sep:   string inserted between values, default a space.\n",
            "end:   string appended after the last value, default a newline.\n",
            "flush: whether to forcibly flush the stream.\n"
          ]
        }
      ]
    },
    {
      "cell_type": "code",
      "source": [
        "def read_csv(sep, header):\n",
        "  '''\n",
        "  Returns the sum of ~~~ .\n",
        "\n",
        "    Parameters:\n",
        "      sep (str) : Character or regex pattern to treat as the delimiter.\n",
        "      header (int) : Row number(s) containing column labels.\n",
        "\n",
        "    Returns:\n",
        "      c (int) : sum of ~~\n",
        "  '''\n",
        "\n",
        "  c = sep + header\n",
        "  return c\n",
        "\n",
        "print(read_csv.__doc__)"
      ],
      "metadata": {
        "colab": {
          "base_uri": "https://localhost:8080/"
        },
        "id": "YaNP_ImFSIxC",
        "outputId": "85ed21d7-8935-4787-b11c-8570fb6a6315"
      },
      "execution_count": 192,
      "outputs": [
        {
          "output_type": "stream",
          "name": "stdout",
          "text": [
            "\n",
            "  Returns the sum of ~~~ .\n",
            "\n",
            "    Parameters:\n",
            "      sep (str) : Character or regex pattern to treat as the delimiter.\n",
            "      header (int) : Row number(s) containing column labels.\n",
            "\n",
            "    Returns:\n",
            "      c (int) : sum of ~~\n",
            "  \n"
          ]
        }
      ]
    },
    {
      "cell_type": "markdown",
      "source": [
        "- 코드 문서화를 좋아한다 ==> 좋은 회사 갈 확률 높아짐\n",
        "= swagger 같은 API 명세서가 docstring일까요?\n",
        "  + 클라이언트용 명세서(공공기관, 한글 또는 워드 작업)"
      ],
      "metadata": {
        "id": "gu98RpNDTtio"
      }
    },
    {
      "cell_type": "markdown",
      "source": [
        "## 클래스 상속\n",
        "- 부모 > 자식"
      ],
      "metadata": {
        "id": "xls5_veBZRLE"
      }
    },
    {
      "cell_type": "code",
      "source": [
        "class Animal:\n",
        "  # Attribute 정의(=클래스 변수)\n",
        "  name = \"\"\n",
        "  # 공통함수\n",
        "  def eat(self):\n",
        "    print(\"나는 먹을 수 있음\")\n",
        "\n",
        "class Dog(Animal): # 클래스 상속을 했다. 동물 ==> 강아지로 기본 기능을 제공함\n",
        "  # 새로운 메서드\n",
        "  def dance(self):\n",
        "    print(f\"{self.name} 강아지가 춤을 춘다\")\n"
      ],
      "metadata": {
        "id": "lZS_riGAZXU9"
      },
      "execution_count": 208,
      "outputs": []
    },
    {
      "cell_type": "code",
      "source": [
        "# 객체 생성\n",
        "a = Dog()\n",
        "a.name = \"코코\"\n",
        "a.eat()\n",
        "a.dance()"
      ],
      "metadata": {
        "colab": {
          "base_uri": "https://localhost:8080/"
        },
        "id": "aPO9bWujaZ8B",
        "outputId": "5e957fd4-fe14-461d-ca3b-ea0822119476"
      },
      "execution_count": 209,
      "outputs": [
        {
          "output_type": "stream",
          "name": "stdout",
          "text": [
            "나는 먹을 수 있음\n",
            "코코 강아지가 춤을 춘다\n"
          ]
        }
      ]
    },
    {
      "cell_type": "code",
      "source": [
        "b = Animal()\n",
        "b.name = \"흰둥이\"\n",
        "b.eat()\n",
        "# b.dance()"
      ],
      "metadata": {
        "colab": {
          "base_uri": "https://localhost:8080/"
        },
        "id": "VHf4AP5FbrDl",
        "outputId": "1eb51257-4bcb-4549-d606-1a37d6a9141b"
      },
      "execution_count": 205,
      "outputs": [
        {
          "output_type": "stream",
          "name": "stdout",
          "text": [
            "나는 먹을 수 있음\n"
          ]
        }
      ]
    },
    {
      "cell_type": "markdown",
      "source": [
        "## 클래스 Docstring"
      ],
      "metadata": {
        "id": "GejQ4RP4cuE2"
      }
    },
    {
      "cell_type": "code",
      "source": [
        "class Person:\n",
        "  \"\"\"\n",
        "  자기 소개하는 Person 클래스.\n",
        "\n",
        "  '''\n",
        "  Attributes\n",
        "  -------------\n",
        "  name : str 사람의 이름을 의미\n",
        "  age : int 사람의 나이를 의미\n",
        "  grade : int 사람의 현재 학년을 의미\n",
        "\n",
        "  Methods\n",
        "  -------------\n",
        "  info(comment=\"\"): 사람의 개인정보를 출력\n",
        "\n",
        "  \"\"\"\n",
        "\n",
        "  def __init__(self,name,age,grade):\n",
        "\n",
        "    self.name = name\n",
        "    self.age = age\n",
        "    self.grade = grade\n",
        "\n",
        "  def info(self,comment = \"\"):\n",
        "    print(f'''내 이름은 {self.name}. 내 나이는 {self.age}.\n",
        "    현재 학년은 {self.grade}. {comment}''')\n",
        "\n"
      ],
      "metadata": {
        "id": "QeZdTSqMcypJ"
      },
      "execution_count": 211,
      "outputs": []
    },
    {
      "cell_type": "code",
      "source": [
        "print(Person.__doc__)\n",
        "help(Person)"
      ],
      "metadata": {
        "colab": {
          "base_uri": "https://localhost:8080/"
        },
        "id": "7_PlT3noeSpi",
        "outputId": "01236732-18bb-4eed-93b6-908d9a2b6274"
      },
      "execution_count": 213,
      "outputs": [
        {
          "output_type": "stream",
          "name": "stdout",
          "text": [
            "\n",
            "  자기 소개하는 Person 클래스.\n",
            "\n",
            "  '''\n",
            "  Attributes\n",
            "  -------------\n",
            "  name : str 사람의 이름을 의미\n",
            "  age : int 사람의 나이를 의미\n",
            "  grade : int 사람의 현재 학년을 의미\n",
            "  \n",
            "  Methods\n",
            "  -------------\n",
            "  info(comment=\"\"): 사람의 개인정보를 출력\n",
            "  \n",
            "  \n",
            "Help on class Person in module __main__:\n",
            "\n",
            "class Person(builtins.object)\n",
            " |  Person(name, age, grade)\n",
            " |  \n",
            " |  자기 소개하는 Person 클래스.\n",
            " |  \n",
            " |  '''\n",
            " |  Attributes\n",
            " |  -------------\n",
            " |  name : str 사람의 이름을 의미\n",
            " |  age : int 사람의 나이를 의미\n",
            " |  grade : int 사람의 현재 학년을 의미\n",
            " |  \n",
            " |  Methods\n",
            " |  -------------\n",
            " |  info(comment=\"\"): 사람의 개인정보를 출력\n",
            " |  \n",
            " |  Methods defined here:\n",
            " |  \n",
            " |  __init__(self, name, age, grade)\n",
            " |      Initialize self.  See help(type(self)) for accurate signature.\n",
            " |  \n",
            " |  info(self, comment='')\n",
            " |  \n",
            " |  ----------------------------------------------------------------------\n",
            " |  Data descriptors defined here:\n",
            " |  \n",
            " |  __dict__\n",
            " |      dictionary for instance variables (if defined)\n",
            " |  \n",
            " |  __weakref__\n",
            " |      list of weak references to the object (if defined)\n",
            " |  \n",
            " |  ----------------------------------------------------------------------\n",
            " |  Data and other attributes defined here:\n",
            " |  \n",
            " |  __annotations__ = {}\n",
            "\n"
          ]
        }
      ]
    }
  ]
}