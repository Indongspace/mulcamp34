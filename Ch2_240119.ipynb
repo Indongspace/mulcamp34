{
  "cells": [
    {
      "cell_type": "markdown",
      "metadata": {
        "id": "view-in-github",
        "colab_type": "text"
      },
      "source": [
        "<a href=\"https://colab.research.google.com/github/Indongspace/mulcamp34/blob/main/Ch2_240119.ipynb\" target=\"_parent\"><img src=\"https://colab.research.google.com/assets/colab-badge.svg\" alt=\"Open In Colab\"/></a>"
      ]
    },
    {
      "cell_type": "code",
      "execution_count": null,
      "id": "5ccc9e8b-b06c-4d20-ad75-f640608f1123",
      "metadata": {
        "id": "5ccc9e8b-b06c-4d20-ad75-f640608f1123",
        "outputId": "f7d4aacf-dc28-49e7-f93f-3109b87a205e"
      },
      "outputs": [
        {
          "name": "stdout",
          "output_type": "stream",
          "text": [
            "Requirement already satisfied: numpy in c:\\users\\songinseung\\desktop\\송인동 취업\\누구나파이썬통계분석\\venv\\lib\\site-packages (1.26.3)\n"
          ]
        }
      ],
      "source": [
        "!pip install numpy"
      ]
    },
    {
      "cell_type": "code",
      "execution_count": null,
      "id": "11d90b35-223d-4386-9099-8c502f910d9b",
      "metadata": {
        "id": "11d90b35-223d-4386-9099-8c502f910d9b",
        "outputId": "56953db1-bbdd-496a-bf61-f3d9b02efc70"
      },
      "outputs": [
        {
          "name": "stdout",
          "output_type": "stream",
          "text": [
            "Requirement already satisfied: pandas in c:\\users\\songinseung\\desktop\\송인동 취업\\누구나파이썬통계분석\\venv\\lib\\site-packages (2.1.4)\n",
            "Requirement already satisfied: numpy<2,>=1.26.0 in c:\\users\\songinseung\\desktop\\송인동 취업\\누구나파이썬통계분석\\venv\\lib\\site-packages (from pandas) (1.26.3)\n",
            "Requirement already satisfied: python-dateutil>=2.8.2 in c:\\users\\songinseung\\desktop\\송인동 취업\\누구나파이썬통계분석\\venv\\lib\\site-packages (from pandas) (2.8.2)\n",
            "Requirement already satisfied: pytz>=2020.1 in c:\\users\\songinseung\\desktop\\송인동 취업\\누구나파이썬통계분석\\venv\\lib\\site-packages (from pandas) (2023.3.post1)\n",
            "Requirement already satisfied: tzdata>=2022.1 in c:\\users\\songinseung\\desktop\\송인동 취업\\누구나파이썬통계분석\\venv\\lib\\site-packages (from pandas) (2023.4)\n",
            "Requirement already satisfied: six>=1.5 in c:\\users\\songinseung\\desktop\\송인동 취업\\누구나파이썬통계분석\\venv\\lib\\site-packages (from python-dateutil>=2.8.2->pandas) (1.16.0)\n"
          ]
        }
      ],
      "source": [
        "!pip install pandas"
      ]
    },
    {
      "cell_type": "code",
      "execution_count": null,
      "id": "930e6825-1162-4536-9644-78a518f42203",
      "metadata": {
        "id": "930e6825-1162-4536-9644-78a518f42203",
        "outputId": "d8647011-cb24-4c7d-cdb9-8241d68fac1d"
      },
      "outputs": [
        {
          "data": {
            "text/plain": [
              "'%.3f'"
            ]
          },
          "execution_count": 3,
          "metadata": {},
          "output_type": "execute_result"
        }
      ],
      "source": [
        "import numpy as np\n",
        "import pandas as pd\n",
        "\n",
        "# jupyter notebook 의 출력을 소수점 이하 3자리로 제한\n",
        "%precision 3\n",
        "# dataframe의 출력을 소수점 이하 3자리로 제한\n",
        "#pd.set_option('precision',3)"
      ]
    },
    {
      "cell_type": "code",
      "execution_count": null,
      "id": "428321e0-b5ff-4877-9af6-2debade51fcc",
      "metadata": {
        "id": "428321e0-b5ff-4877-9af6-2debade51fcc",
        "outputId": "11f07a7a-0dc0-4359-c400-a1a297258c23"
      },
      "outputs": [
        {
          "data": {
            "text/html": [
              "<div>\n",
              "<style scoped>\n",
              "    .dataframe tbody tr th:only-of-type {\n",
              "        vertical-align: middle;\n",
              "    }\n",
              "\n",
              "    .dataframe tbody tr th {\n",
              "        vertical-align: top;\n",
              "    }\n",
              "\n",
              "    .dataframe thead th {\n",
              "        text-align: right;\n",
              "    }\n",
              "</style>\n",
              "<table border=\"1\" class=\"dataframe\">\n",
              "  <thead>\n",
              "    <tr style=\"text-align: right;\">\n",
              "      <th></th>\n",
              "      <th>english</th>\n",
              "      <th>mathematics</th>\n",
              "    </tr>\n",
              "    <tr>\n",
              "      <th>student number</th>\n",
              "      <th></th>\n",
              "      <th></th>\n",
              "    </tr>\n",
              "  </thead>\n",
              "  <tbody>\n",
              "    <tr>\n",
              "      <th>1</th>\n",
              "      <td>42</td>\n",
              "      <td>65</td>\n",
              "    </tr>\n",
              "    <tr>\n",
              "      <th>2</th>\n",
              "      <td>69</td>\n",
              "      <td>80</td>\n",
              "    </tr>\n",
              "    <tr>\n",
              "      <th>3</th>\n",
              "      <td>56</td>\n",
              "      <td>63</td>\n",
              "    </tr>\n",
              "    <tr>\n",
              "      <th>4</th>\n",
              "      <td>41</td>\n",
              "      <td>63</td>\n",
              "    </tr>\n",
              "    <tr>\n",
              "      <th>5</th>\n",
              "      <td>57</td>\n",
              "      <td>76</td>\n",
              "    </tr>\n",
              "  </tbody>\n",
              "</table>\n",
              "</div>"
            ],
            "text/plain": [
              "                english  mathematics\n",
              "student number                      \n",
              "1                    42           65\n",
              "2                    69           80\n",
              "3                    56           63\n",
              "4                    41           63\n",
              "5                    57           76"
            ]
          },
          "execution_count": 4,
          "metadata": {},
          "output_type": "execute_result"
        }
      ],
      "source": [
        "df = pd.read_csv('venv/source/python_stat_sample-master/data/ch2_scores_em.csv',index_col='student number')\n",
        "df.head()"
      ]
    },
    {
      "cell_type": "code",
      "execution_count": null,
      "id": "e45b6b68-0409-45da-a441-1e8178e57cff",
      "metadata": {
        "id": "e45b6b68-0409-45da-a441-1e8178e57cff",
        "outputId": "c83b5c3b-4946-4ef6-ca51-faef77d5aabb"
      },
      "outputs": [
        {
          "data": {
            "text/plain": [
              "array([42, 69, 56, 41, 57, 48, 65, 49, 65, 58], dtype=int64)"
            ]
          },
          "execution_count": 5,
          "metadata": {},
          "output_type": "execute_result"
        }
      ],
      "source": [
        "scores = np.array(df['english'])[:10]\n",
        "scores"
      ]
    },
    {
      "cell_type": "code",
      "execution_count": null,
      "id": "c65f8cf0-bfa4-4217-a7b2-962b03a620eb",
      "metadata": {
        "id": "c65f8cf0-bfa4-4217-a7b2-962b03a620eb",
        "outputId": "db7b4f4e-7cac-41b0-ec3f-401460d5a6c3"
      },
      "outputs": [
        {
          "data": {
            "text/html": [
              "<div>\n",
              "<style scoped>\n",
              "    .dataframe tbody tr th:only-of-type {\n",
              "        vertical-align: middle;\n",
              "    }\n",
              "\n",
              "    .dataframe tbody tr th {\n",
              "        vertical-align: top;\n",
              "    }\n",
              "\n",
              "    .dataframe thead th {\n",
              "        text-align: right;\n",
              "    }\n",
              "</style>\n",
              "<table border=\"1\" class=\"dataframe\">\n",
              "  <thead>\n",
              "    <tr style=\"text-align: right;\">\n",
              "      <th></th>\n",
              "      <th>score</th>\n",
              "    </tr>\n",
              "    <tr>\n",
              "      <th>student</th>\n",
              "      <th></th>\n",
              "    </tr>\n",
              "  </thead>\n",
              "  <tbody>\n",
              "    <tr>\n",
              "      <th>A</th>\n",
              "      <td>42</td>\n",
              "    </tr>\n",
              "    <tr>\n",
              "      <th>B</th>\n",
              "      <td>69</td>\n",
              "    </tr>\n",
              "    <tr>\n",
              "      <th>C</th>\n",
              "      <td>56</td>\n",
              "    </tr>\n",
              "    <tr>\n",
              "      <th>D</th>\n",
              "      <td>41</td>\n",
              "    </tr>\n",
              "    <tr>\n",
              "      <th>E</th>\n",
              "      <td>57</td>\n",
              "    </tr>\n",
              "    <tr>\n",
              "      <th>F</th>\n",
              "      <td>48</td>\n",
              "    </tr>\n",
              "    <tr>\n",
              "      <th>G</th>\n",
              "      <td>65</td>\n",
              "    </tr>\n",
              "    <tr>\n",
              "      <th>H</th>\n",
              "      <td>49</td>\n",
              "    </tr>\n",
              "    <tr>\n",
              "      <th>I</th>\n",
              "      <td>65</td>\n",
              "    </tr>\n",
              "    <tr>\n",
              "      <th>J</th>\n",
              "      <td>58</td>\n",
              "    </tr>\n",
              "  </tbody>\n",
              "</table>\n",
              "</div>"
            ],
            "text/plain": [
              "         score\n",
              "student       \n",
              "A           42\n",
              "B           69\n",
              "C           56\n",
              "D           41\n",
              "E           57\n",
              "F           48\n",
              "G           65\n",
              "H           49\n",
              "I           65\n",
              "J           58"
            ]
          },
          "execution_count": 6,
          "metadata": {},
          "output_type": "execute_result"
        }
      ],
      "source": [
        "scores_df = pd.DataFrame({'score':scores},\n",
        "                        index=pd.Index(['A','B','C','D','E','F','G','H','I','J'],name='student'))\n",
        "\n",
        "scores_df"
      ]
    },
    {
      "cell_type": "code",
      "execution_count": null,
      "id": "8d93b600-58be-446d-95b5-6d8e979e3255",
      "metadata": {
        "id": "8d93b600-58be-446d-95b5-6d8e979e3255",
        "outputId": "8de3008e-cc06-4063-9ec4-e25604fc631a"
      },
      "outputs": [
        {
          "data": {
            "text/plain": [
              "55.000"
            ]
          },
          "execution_count": 7,
          "metadata": {},
          "output_type": "execute_result"
        }
      ],
      "source": [
        "sum(scores)/len(scores)"
      ]
    },
    {
      "cell_type": "code",
      "execution_count": null,
      "id": "17bc729f-50fd-43bd-a14a-fa95fa638d53",
      "metadata": {
        "id": "17bc729f-50fd-43bd-a14a-fa95fa638d53",
        "outputId": "eabb85fa-5471-4566-9aa4-61ff4cde4013"
      },
      "outputs": [
        {
          "data": {
            "text/plain": [
              "55.000"
            ]
          },
          "execution_count": 8,
          "metadata": {},
          "output_type": "execute_result"
        }
      ],
      "source": [
        "np.mean(scores)"
      ]
    },
    {
      "cell_type": "code",
      "execution_count": null,
      "id": "e4bcea7e-12bd-4109-802a-3c68b0d4c6a2",
      "metadata": {
        "id": "e4bcea7e-12bd-4109-802a-3c68b0d4c6a2",
        "outputId": "4957831f-53c2-4b66-c343-7fef514355bc"
      },
      "outputs": [
        {
          "data": {
            "text/plain": [
              "score    55.0\n",
              "dtype: float64"
            ]
          },
          "execution_count": 9,
          "metadata": {},
          "output_type": "execute_result"
        }
      ],
      "source": [
        "scores_df.mean()"
      ]
    },
    {
      "cell_type": "code",
      "execution_count": null,
      "id": "a2b4c55a-ceee-4d54-bdd0-7ac9f6faa6e3",
      "metadata": {
        "id": "a2b4c55a-ceee-4d54-bdd0-7ac9f6faa6e3",
        "outputId": "f387407c-415b-4af8-e91b-5efb750b8381"
      },
      "outputs": [
        {
          "data": {
            "text/plain": [
              "array([41, 42, 48, 49, 56, 57, 58, 65, 65, 69], dtype=int64)"
            ]
          },
          "execution_count": 10,
          "metadata": {},
          "output_type": "execute_result"
        }
      ],
      "source": [
        "sorted_scores = np.sort(scores)\n",
        "sorted_scores"
      ]
    },
    {
      "cell_type": "code",
      "execution_count": null,
      "id": "c6fc189c-01d8-46d5-b020-76fb11e5b1e2",
      "metadata": {
        "id": "c6fc189c-01d8-46d5-b020-76fb11e5b1e2",
        "outputId": "0e7001eb-fa46-47a4-fca3-001606228c5b"
      },
      "outputs": [
        {
          "data": {
            "text/plain": [
              "56.500"
            ]
          },
          "execution_count": 11,
          "metadata": {},
          "output_type": "execute_result"
        }
      ],
      "source": [
        "n = len(sorted_scores)\n",
        "if n%2==0:\n",
        "    m0 = sorted_scores[n//2-1]\n",
        "    m1 = sorted_scores[n//2]\n",
        "    median = (m0+m1)/2\n",
        "else:\n",
        "    median = sorted_scores[(n+1)//2-1]\n",
        "\n",
        "median"
      ]
    },
    {
      "cell_type": "code",
      "execution_count": null,
      "id": "d3f61547-0317-4df0-85a4-6aaff7333a6c",
      "metadata": {
        "id": "d3f61547-0317-4df0-85a4-6aaff7333a6c",
        "outputId": "368df0e3-c046-43fa-af5c-a55a0651d5c3"
      },
      "outputs": [
        {
          "data": {
            "text/plain": [
              "56.500"
            ]
          },
          "execution_count": 12,
          "metadata": {},
          "output_type": "execute_result"
        }
      ],
      "source": [
        "np.median(scores)"
      ]
    },
    {
      "cell_type": "code",
      "execution_count": null,
      "id": "1b04e199-4bfe-4d6a-884b-5b3be57c4afe",
      "metadata": {
        "id": "1b04e199-4bfe-4d6a-884b-5b3be57c4afe",
        "outputId": "3e62e1da-171c-40b7-ca81-bf7b7838e3ae"
      },
      "outputs": [
        {
          "data": {
            "text/plain": [
              "score    56.5\n",
              "dtype: float64"
            ]
          },
          "execution_count": 13,
          "metadata": {},
          "output_type": "execute_result"
        }
      ],
      "source": [
        "scores_df.median()"
      ]
    },
    {
      "cell_type": "code",
      "execution_count": null,
      "id": "46690110-3232-4dd9-96a1-503b61dfe98d",
      "metadata": {
        "id": "46690110-3232-4dd9-96a1-503b61dfe98d",
        "outputId": "d9c2702c-555f-46b7-93bd-3c9c585b2cc6"
      },
      "outputs": [
        {
          "data": {
            "text/plain": [
              "0    1\n",
              "dtype: int64"
            ]
          },
          "execution_count": 14,
          "metadata": {},
          "output_type": "execute_result"
        }
      ],
      "source": [
        "pd.Series([1,1,1,2,2,3]).mode()"
      ]
    },
    {
      "cell_type": "code",
      "execution_count": null,
      "id": "32412629-a61c-4148-ada2-449d6c6378e4",
      "metadata": {
        "id": "32412629-a61c-4148-ada2-449d6c6378e4",
        "outputId": "14cb505a-740a-406d-b6b1-e84411b1b845"
      },
      "outputs": [
        {
          "data": {
            "text/plain": [
              "0    1\n",
              "1    2\n",
              "2    3\n",
              "3    4\n",
              "4    5\n",
              "dtype: int64"
            ]
          },
          "execution_count": 15,
          "metadata": {},
          "output_type": "execute_result"
        }
      ],
      "source": [
        "pd.Series([1,2,3,4,5]).mode()"
      ]
    },
    {
      "cell_type": "code",
      "execution_count": null,
      "id": "f4694e38-bc9e-459b-bf4b-d19f8e75c32c",
      "metadata": {
        "id": "f4694e38-bc9e-459b-bf4b-d19f8e75c32c",
        "outputId": "2b3d9e66-5572-4b80-f83c-1ea768651924"
      },
      "outputs": [
        {
          "data": {
            "text/plain": [
              "array([-13.,  14.,   1., -14.,   2.,  -7.,  10.,  -6.,  10.,   3.])"
            ]
          },
          "execution_count": 16,
          "metadata": {},
          "output_type": "execute_result"
        }
      ],
      "source": [
        "mean = np.mean(scores)\n",
        "deviation = scores - mean\n",
        "deviation"
      ]
    },
    {
      "cell_type": "code",
      "execution_count": null,
      "id": "739a778c-6b15-4f26-b507-4f3af506da51",
      "metadata": {
        "id": "739a778c-6b15-4f26-b507-4f3af506da51",
        "outputId": "d7d76a7b-7120-4470-b604-f589bebe7402"
      },
      "outputs": [
        {
          "data": {
            "text/plain": [
              "array([-5.,  5.,  3., -1., -4.,  1.,  2., -2., -3.,  4.])"
            ]
          },
          "execution_count": 17,
          "metadata": {},
          "output_type": "execute_result"
        }
      ],
      "source": [
        "another_scores = [50,60,58,54,51,56,57,53,52,59]\n",
        "another_mean = np.mean(another_scores)\n",
        "another_deviation = another_scores - another_mean\n",
        "another_deviation"
      ]
    },
    {
      "cell_type": "code",
      "execution_count": null,
      "id": "967271de-1bf9-43fb-9b22-661869d0a006",
      "metadata": {
        "id": "967271de-1bf9-43fb-9b22-661869d0a006",
        "outputId": "ac55f5e8-d2b6-4622-919b-9bd662206099"
      },
      "outputs": [
        {
          "data": {
            "text/plain": [
              "0.000"
            ]
          },
          "execution_count": 18,
          "metadata": {},
          "output_type": "execute_result"
        }
      ],
      "source": [
        "np.mean(deviation)"
      ]
    },
    {
      "cell_type": "code",
      "execution_count": null,
      "id": "f36c0b32-f833-4932-baad-c8471836f19e",
      "metadata": {
        "id": "f36c0b32-f833-4932-baad-c8471836f19e",
        "outputId": "59fd6adb-9cc5-4060-d613-540084875df5"
      },
      "outputs": [
        {
          "data": {
            "text/plain": [
              "0.000"
            ]
          },
          "execution_count": 19,
          "metadata": {},
          "output_type": "execute_result"
        }
      ],
      "source": [
        "np.mean(another_deviation)"
      ]
    },
    {
      "cell_type": "code",
      "execution_count": null,
      "id": "3296674d-4c3f-491b-b729-ec8fd29df830",
      "metadata": {
        "id": "3296674d-4c3f-491b-b729-ec8fd29df830",
        "outputId": "343e37a1-be28-4e4f-b397-5eb51ea09482"
      },
      "outputs": [
        {
          "data": {
            "text/html": [
              "<div>\n",
              "<style scoped>\n",
              "    .dataframe tbody tr th:only-of-type {\n",
              "        vertical-align: middle;\n",
              "    }\n",
              "\n",
              "    .dataframe tbody tr th {\n",
              "        vertical-align: top;\n",
              "    }\n",
              "\n",
              "    .dataframe thead th {\n",
              "        text-align: right;\n",
              "    }\n",
              "</style>\n",
              "<table border=\"1\" class=\"dataframe\">\n",
              "  <thead>\n",
              "    <tr style=\"text-align: right;\">\n",
              "      <th></th>\n",
              "      <th>score</th>\n",
              "      <th>deviation</th>\n",
              "    </tr>\n",
              "    <tr>\n",
              "      <th>student</th>\n",
              "      <th></th>\n",
              "      <th></th>\n",
              "    </tr>\n",
              "  </thead>\n",
              "  <tbody>\n",
              "    <tr>\n",
              "      <th>A</th>\n",
              "      <td>42</td>\n",
              "      <td>-13.0</td>\n",
              "    </tr>\n",
              "    <tr>\n",
              "      <th>B</th>\n",
              "      <td>69</td>\n",
              "      <td>14.0</td>\n",
              "    </tr>\n",
              "    <tr>\n",
              "      <th>C</th>\n",
              "      <td>56</td>\n",
              "      <td>1.0</td>\n",
              "    </tr>\n",
              "    <tr>\n",
              "      <th>D</th>\n",
              "      <td>41</td>\n",
              "      <td>-14.0</td>\n",
              "    </tr>\n",
              "    <tr>\n",
              "      <th>E</th>\n",
              "      <td>57</td>\n",
              "      <td>2.0</td>\n",
              "    </tr>\n",
              "    <tr>\n",
              "      <th>F</th>\n",
              "      <td>48</td>\n",
              "      <td>-7.0</td>\n",
              "    </tr>\n",
              "    <tr>\n",
              "      <th>G</th>\n",
              "      <td>65</td>\n",
              "      <td>10.0</td>\n",
              "    </tr>\n",
              "    <tr>\n",
              "      <th>H</th>\n",
              "      <td>49</td>\n",
              "      <td>-6.0</td>\n",
              "    </tr>\n",
              "    <tr>\n",
              "      <th>I</th>\n",
              "      <td>65</td>\n",
              "      <td>10.0</td>\n",
              "    </tr>\n",
              "    <tr>\n",
              "      <th>J</th>\n",
              "      <td>58</td>\n",
              "      <td>3.0</td>\n",
              "    </tr>\n",
              "  </tbody>\n",
              "</table>\n",
              "</div>"
            ],
            "text/plain": [
              "         score  deviation\n",
              "student                  \n",
              "A           42      -13.0\n",
              "B           69       14.0\n",
              "C           56        1.0\n",
              "D           41      -14.0\n",
              "E           57        2.0\n",
              "F           48       -7.0\n",
              "G           65       10.0\n",
              "H           49       -6.0\n",
              "I           65       10.0\n",
              "J           58        3.0"
            ]
          },
          "execution_count": 20,
          "metadata": {},
          "output_type": "execute_result"
        }
      ],
      "source": [
        "summary_df = scores_df.copy()\n",
        "summary_df['deviation'] = deviation\n",
        "summary_df"
      ]
    },
    {
      "cell_type": "code",
      "execution_count": null,
      "id": "860db45b-1044-4b14-a651-9c8cc94facfb",
      "metadata": {
        "id": "860db45b-1044-4b14-a651-9c8cc94facfb",
        "outputId": "cbf03a74-e2b6-46c6-cb74-c3cbec11011e"
      },
      "outputs": [
        {
          "data": {
            "text/plain": [
              "score        55.0\n",
              "deviation     0.0\n",
              "dtype: float64"
            ]
          },
          "execution_count": 21,
          "metadata": {},
          "output_type": "execute_result"
        }
      ],
      "source": [
        "summary_df.mean()"
      ]
    },
    {
      "cell_type": "code",
      "execution_count": null,
      "id": "c4f21b41-a36b-4092-9e55-946ad0192697",
      "metadata": {
        "id": "c4f21b41-a36b-4092-9e55-946ad0192697",
        "outputId": "57a1586d-59f9-40f2-ee62-24f4de3ca63d"
      },
      "outputs": [
        {
          "data": {
            "text/plain": [
              "86.000"
            ]
          },
          "execution_count": 22,
          "metadata": {},
          "output_type": "execute_result"
        }
      ],
      "source": [
        "np.mean(deviation**2)"
      ]
    },
    {
      "cell_type": "code",
      "execution_count": null,
      "id": "15c3d7de-b676-4e23-b95f-a6c696ba1e88",
      "metadata": {
        "id": "15c3d7de-b676-4e23-b95f-a6c696ba1e88",
        "outputId": "8d70e1b8-7ac7-4b23-d9fb-18427180fd26"
      },
      "outputs": [
        {
          "data": {
            "text/plain": [
              "86.000"
            ]
          },
          "execution_count": 23,
          "metadata": {},
          "output_type": "execute_result"
        }
      ],
      "source": [
        "np.var(scores)"
      ]
    },
    {
      "cell_type": "code",
      "execution_count": null,
      "id": "4bdadb2a-5440-4c84-aed2-1edbed8b7c6c",
      "metadata": {
        "id": "4bdadb2a-5440-4c84-aed2-1edbed8b7c6c",
        "outputId": "feab04eb-eeb4-4b6d-e48c-aae303ca1b82"
      },
      "outputs": [
        {
          "data": {
            "text/plain": [
              "score    95.555556\n",
              "dtype: float64"
            ]
          },
          "execution_count": 24,
          "metadata": {},
          "output_type": "execute_result"
        }
      ],
      "source": [
        "scores_df.var()"
      ]
    },
    {
      "cell_type": "code",
      "execution_count": null,
      "id": "39f42659-da9f-4215-a26e-0c99adc64a77",
      "metadata": {
        "id": "39f42659-da9f-4215-a26e-0c99adc64a77",
        "outputId": "334eb9f8-4606-4717-8b95-a06f914d51d1"
      },
      "outputs": [
        {
          "data": {
            "text/plain": [
              "score    86.0\n",
              "dtype: float64"
            ]
          },
          "execution_count": 27,
          "metadata": {},
          "output_type": "execute_result"
        }
      ],
      "source": [
        "scores_df.var(ddof=0)"
      ]
    },
    {
      "cell_type": "code",
      "execution_count": null,
      "id": "13a146d3-cde7-4ad1-a041-d9da5f7803f9",
      "metadata": {
        "id": "13a146d3-cde7-4ad1-a041-d9da5f7803f9",
        "outputId": "4501bea1-f9fa-4728-fc1f-1094d82b12d3"
      },
      "outputs": [
        {
          "data": {
            "text/html": [
              "<div>\n",
              "<style scoped>\n",
              "    .dataframe tbody tr th:only-of-type {\n",
              "        vertical-align: middle;\n",
              "    }\n",
              "\n",
              "    .dataframe tbody tr th {\n",
              "        vertical-align: top;\n",
              "    }\n",
              "\n",
              "    .dataframe thead th {\n",
              "        text-align: right;\n",
              "    }\n",
              "</style>\n",
              "<table border=\"1\" class=\"dataframe\">\n",
              "  <thead>\n",
              "    <tr style=\"text-align: right;\">\n",
              "      <th></th>\n",
              "      <th>score</th>\n",
              "      <th>deviation</th>\n",
              "      <th>square of deviation</th>\n",
              "    </tr>\n",
              "    <tr>\n",
              "      <th>student</th>\n",
              "      <th></th>\n",
              "      <th></th>\n",
              "      <th></th>\n",
              "    </tr>\n",
              "  </thead>\n",
              "  <tbody>\n",
              "    <tr>\n",
              "      <th>A</th>\n",
              "      <td>42</td>\n",
              "      <td>-13.0</td>\n",
              "      <td>169.0</td>\n",
              "    </tr>\n",
              "    <tr>\n",
              "      <th>B</th>\n",
              "      <td>69</td>\n",
              "      <td>14.0</td>\n",
              "      <td>196.0</td>\n",
              "    </tr>\n",
              "    <tr>\n",
              "      <th>C</th>\n",
              "      <td>56</td>\n",
              "      <td>1.0</td>\n",
              "      <td>1.0</td>\n",
              "    </tr>\n",
              "    <tr>\n",
              "      <th>D</th>\n",
              "      <td>41</td>\n",
              "      <td>-14.0</td>\n",
              "      <td>196.0</td>\n",
              "    </tr>\n",
              "    <tr>\n",
              "      <th>E</th>\n",
              "      <td>57</td>\n",
              "      <td>2.0</td>\n",
              "      <td>4.0</td>\n",
              "    </tr>\n",
              "    <tr>\n",
              "      <th>F</th>\n",
              "      <td>48</td>\n",
              "      <td>-7.0</td>\n",
              "      <td>49.0</td>\n",
              "    </tr>\n",
              "    <tr>\n",
              "      <th>G</th>\n",
              "      <td>65</td>\n",
              "      <td>10.0</td>\n",
              "      <td>100.0</td>\n",
              "    </tr>\n",
              "    <tr>\n",
              "      <th>H</th>\n",
              "      <td>49</td>\n",
              "      <td>-6.0</td>\n",
              "      <td>36.0</td>\n",
              "    </tr>\n",
              "    <tr>\n",
              "      <th>I</th>\n",
              "      <td>65</td>\n",
              "      <td>10.0</td>\n",
              "      <td>100.0</td>\n",
              "    </tr>\n",
              "    <tr>\n",
              "      <th>J</th>\n",
              "      <td>58</td>\n",
              "      <td>3.0</td>\n",
              "      <td>9.0</td>\n",
              "    </tr>\n",
              "  </tbody>\n",
              "</table>\n",
              "</div>"
            ],
            "text/plain": [
              "         score  deviation  square of deviation\n",
              "student                                       \n",
              "A           42      -13.0                169.0\n",
              "B           69       14.0                196.0\n",
              "C           56        1.0                  1.0\n",
              "D           41      -14.0                196.0\n",
              "E           57        2.0                  4.0\n",
              "F           48       -7.0                 49.0\n",
              "G           65       10.0                100.0\n",
              "H           49       -6.0                 36.0\n",
              "I           65       10.0                100.0\n",
              "J           58        3.0                  9.0"
            ]
          },
          "execution_count": 29,
          "metadata": {},
          "output_type": "execute_result"
        }
      ],
      "source": [
        "summary_df['square of deviation'] = np.square(deviation)\n",
        "summary_df"
      ]
    },
    {
      "cell_type": "code",
      "execution_count": null,
      "id": "5efd3bcb-b492-4ac9-9f79-6ca0a60e4140",
      "metadata": {
        "id": "5efd3bcb-b492-4ac9-9f79-6ca0a60e4140",
        "outputId": "0d0432a9-1918-4af1-f312-7b4ed9dff7b1"
      },
      "outputs": [
        {
          "data": {
            "text/plain": [
              "score                  55.0\n",
              "deviation               0.0\n",
              "square of deviation    86.0\n",
              "dtype: float64"
            ]
          },
          "execution_count": 30,
          "metadata": {},
          "output_type": "execute_result"
        }
      ],
      "source": [
        "summary_df.mean()"
      ]
    },
    {
      "cell_type": "code",
      "execution_count": null,
      "id": "721cb90b-dc61-497f-a163-985225855c51",
      "metadata": {
        "id": "721cb90b-dc61-497f-a163-985225855c51",
        "outputId": "8fb72979-c6f8-4d4b-dd07-3122aff6c693"
      },
      "outputs": [
        {
          "data": {
            "text/plain": [
              "9.274"
            ]
          },
          "execution_count": 31,
          "metadata": {},
          "output_type": "execute_result"
        }
      ],
      "source": [
        "np.sqrt(np.var(scores,ddof=0))"
      ]
    },
    {
      "cell_type": "code",
      "execution_count": null,
      "id": "50848e8b-84fd-47c4-98eb-8426c75d434e",
      "metadata": {
        "id": "50848e8b-84fd-47c4-98eb-8426c75d434e",
        "outputId": "3d84b5a7-527e-4f7a-eaab-0d0575b1ca17"
      },
      "outputs": [
        {
          "data": {
            "text/plain": [
              "9.274"
            ]
          },
          "execution_count": 32,
          "metadata": {},
          "output_type": "execute_result"
        }
      ],
      "source": [
        "np.std(scores,ddof=0)"
      ]
    },
    {
      "cell_type": "code",
      "execution_count": null,
      "id": "34a245cb-2537-4042-844a-d7ae946b86c9",
      "metadata": {
        "id": "34a245cb-2537-4042-844a-d7ae946b86c9",
        "outputId": "0062bb97-f26c-4634-e350-8eb2cfe0f3ab"
      },
      "outputs": [
        {
          "data": {
            "text/plain": [
              "28"
            ]
          },
          "execution_count": 33,
          "metadata": {},
          "output_type": "execute_result"
        }
      ],
      "source": [
        "np.max(scores) - np.min(scores)"
      ]
    },
    {
      "cell_type": "code",
      "execution_count": null,
      "id": "6b149339-5111-441e-9563-9f27453c4ea1",
      "metadata": {
        "id": "6b149339-5111-441e-9563-9f27453c4ea1",
        "outputId": "aeb7e28f-b2e5-4fa8-c149-3172b9b350aa"
      },
      "outputs": [
        {
          "data": {
            "text/plain": [
              "15.000"
            ]
          },
          "execution_count": 44,
          "metadata": {},
          "output_type": "execute_result"
        }
      ],
      "source": [
        "scores_Q1 = np.percentile(scores,25) # 48.250\n",
        "scores_Q3 = np.percentile(scores,75) # 63.250\n",
        "scores_IQR = scores_Q3 - scores_Q1\n",
        "scores_IQR\n",
        "# scores_Q2 = np.percentile(scores,50) # 56.500"
      ]
    },
    {
      "cell_type": "code",
      "execution_count": null,
      "id": "8bca7a04-7af4-4ed3-aaa9-e960f6f925b0",
      "metadata": {
        "id": "8bca7a04-7af4-4ed3-aaa9-e960f6f925b0",
        "outputId": "f7a249ac-28b0-426a-e017-92c526f6abe4"
      },
      "outputs": [
        {
          "data": {
            "text/plain": [
              "count    10.000000\n",
              "mean     55.000000\n",
              "std       9.775252\n",
              "min      41.000000\n",
              "25%      48.250000\n",
              "50%      56.500000\n",
              "75%      63.250000\n",
              "max      69.000000\n",
              "dtype: float64"
            ]
          },
          "execution_count": 45,
          "metadata": {},
          "output_type": "execute_result"
        }
      ],
      "source": [
        "pd.Series(scores).describe()"
      ]
    },
    {
      "cell_type": "code",
      "execution_count": null,
      "id": "ee760844-b43b-466b-b574-c56e21cbc209",
      "metadata": {
        "id": "ee760844-b43b-466b-b574-c56e21cbc209",
        "outputId": "213462d8-e342-4f3b-c975-c96c6da4df45"
      },
      "outputs": [
        {
          "data": {
            "text/plain": [
              "array([-1.402,  1.51 ,  0.108, -1.51 ,  0.216, -0.755,  1.078, -0.647,\n",
              "        1.078,  0.323])"
            ]
          },
          "execution_count": 47,
          "metadata": {},
          "output_type": "execute_result"
        }
      ],
      "source": [
        "z = (scores - np.mean(scores))/np.std(scores)\n",
        "z"
      ]
    },
    {
      "cell_type": "code",
      "execution_count": null,
      "id": "abbb2776-5aba-4d62-8bf7-58e9576c261a",
      "metadata": {
        "id": "abbb2776-5aba-4d62-8bf7-58e9576c261a",
        "outputId": "5db2511a-3f7c-4f86-fe11-9731938f108a"
      },
      "outputs": [
        {
          "data": {
            "text/plain": [
              "(-0.000, 1.000)"
            ]
          },
          "execution_count": 48,
          "metadata": {},
          "output_type": "execute_result"
        }
      ],
      "source": [
        "np.mean(z),np.std(z,ddof=0)"
      ]
    },
    {
      "cell_type": "code",
      "execution_count": null,
      "id": "35e4f043-c5ed-4856-b2a0-0b84421cfa3c",
      "metadata": {
        "id": "35e4f043-c5ed-4856-b2a0-0b84421cfa3c",
        "outputId": "854465d4-d0d1-4a04-9e0f-5f621fb1ec59"
      },
      "outputs": [
        {
          "data": {
            "text/plain": [
              "array([35.982, 65.097, 51.078, 34.903, 52.157, 42.452, 60.783, 43.53 ,\n",
              "       60.783, 53.235])"
            ]
          },
          "execution_count": 49,
          "metadata": {},
          "output_type": "execute_result"
        }
      ],
      "source": [
        "z = 50 + ((10*(scores - np.mean(scores)))/np.std(scores))\n",
        "z"
      ]
    },
    {
      "cell_type": "code",
      "execution_count": null,
      "id": "8f7875f9-b908-45d6-8e21-aed9caf03813",
      "metadata": {
        "id": "8f7875f9-b908-45d6-8e21-aed9caf03813",
        "outputId": "f7db57fc-4e59-4c43-9557-ae7a0c27d85e"
      },
      "outputs": [
        {
          "data": {
            "text/html": [
              "<div>\n",
              "<style scoped>\n",
              "    .dataframe tbody tr th:only-of-type {\n",
              "        vertical-align: middle;\n",
              "    }\n",
              "\n",
              "    .dataframe tbody tr th {\n",
              "        vertical-align: top;\n",
              "    }\n",
              "\n",
              "    .dataframe thead th {\n",
              "        text-align: right;\n",
              "    }\n",
              "</style>\n",
              "<table border=\"1\" class=\"dataframe\">\n",
              "  <thead>\n",
              "    <tr style=\"text-align: right;\">\n",
              "      <th></th>\n",
              "      <th>score</th>\n",
              "      <th>deviation value</th>\n",
              "    </tr>\n",
              "    <tr>\n",
              "      <th>student</th>\n",
              "      <th></th>\n",
              "      <th></th>\n",
              "    </tr>\n",
              "  </thead>\n",
              "  <tbody>\n",
              "    <tr>\n",
              "      <th>A</th>\n",
              "      <td>42</td>\n",
              "      <td>35.981739</td>\n",
              "    </tr>\n",
              "    <tr>\n",
              "      <th>B</th>\n",
              "      <td>69</td>\n",
              "      <td>65.096588</td>\n",
              "    </tr>\n",
              "    <tr>\n",
              "      <th>C</th>\n",
              "      <td>56</td>\n",
              "      <td>51.078328</td>\n",
              "    </tr>\n",
              "    <tr>\n",
              "      <th>D</th>\n",
              "      <td>41</td>\n",
              "      <td>34.903412</td>\n",
              "    </tr>\n",
              "    <tr>\n",
              "      <th>E</th>\n",
              "      <td>57</td>\n",
              "      <td>52.156655</td>\n",
              "    </tr>\n",
              "    <tr>\n",
              "      <th>F</th>\n",
              "      <td>48</td>\n",
              "      <td>42.451706</td>\n",
              "    </tr>\n",
              "    <tr>\n",
              "      <th>G</th>\n",
              "      <td>65</td>\n",
              "      <td>60.783277</td>\n",
              "    </tr>\n",
              "    <tr>\n",
              "      <th>H</th>\n",
              "      <td>49</td>\n",
              "      <td>43.530034</td>\n",
              "    </tr>\n",
              "    <tr>\n",
              "      <th>I</th>\n",
              "      <td>65</td>\n",
              "      <td>60.783277</td>\n",
              "    </tr>\n",
              "    <tr>\n",
              "      <th>J</th>\n",
              "      <td>58</td>\n",
              "      <td>53.234983</td>\n",
              "    </tr>\n",
              "  </tbody>\n",
              "</table>\n",
              "</div>"
            ],
            "text/plain": [
              "         score  deviation value\n",
              "student                        \n",
              "A           42        35.981739\n",
              "B           69        65.096588\n",
              "C           56        51.078328\n",
              "D           41        34.903412\n",
              "E           57        52.156655\n",
              "F           48        42.451706\n",
              "G           65        60.783277\n",
              "H           49        43.530034\n",
              "I           65        60.783277\n",
              "J           58        53.234983"
            ]
          },
          "execution_count": 50,
          "metadata": {},
          "output_type": "execute_result"
        }
      ],
      "source": [
        "scores_df['deviation value'] = z\n",
        "scores_df"
      ]
    }
  ],
  "metadata": {
    "kernelspec": {
      "display_name": "Python 3 (ipykernel)",
      "language": "python",
      "name": "python3"
    },
    "language_info": {
      "codemirror_mode": {
        "name": "ipython",
        "version": 3
      },
      "file_extension": ".py",
      "mimetype": "text/x-python",
      "name": "python",
      "nbconvert_exporter": "python",
      "pygments_lexer": "ipython3",
      "version": "3.12.1"
    },
    "colab": {
      "provenance": [],
      "include_colab_link": true
    }
  },
  "nbformat": 4,
  "nbformat_minor": 5
}