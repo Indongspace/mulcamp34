{
  "cells": [
    {
      "cell_type": "markdown",
      "metadata": {
        "id": "view-in-github",
        "colab_type": "text"
      },
      "source": [
        "<a href=\"https://colab.research.google.com/github/Indongspace/mulcamp34/blob/main/numpy_240103.ipynb\" target=\"_parent\"><img src=\"https://colab.research.google.com/assets/colab-badge.svg\" alt=\"Open In Colab\"/></a>"
      ]
    },
    {
      "cell_type": "markdown",
      "id": "8bd847ce-b9a7-47d8-a8ae-061d60ccbe83",
      "metadata": {
        "id": "8bd847ce-b9a7-47d8-a8ae-061d60ccbe83"
      },
      "source": [
        "## NumPy\n",
        "- 선형대수, 행렬 수치연산과 관련된 라이브러리\n",
        "- 문과생, 고졸인데, 전문대졸인데... 선형대수는 모르는데요?\n",
        "    + 선형대수를 공부해야 합니까?\n",
        "\n",
        "\n",
        "- NumPy 기반으로 ==> 통계, 머신러닝, 등등"
      ]
    },
    {
      "cell_type": "code",
      "execution_count": null,
      "id": "5c76d431-8139-45f4-b612-6ab2d002a909",
      "metadata": {
        "id": "5c76d431-8139-45f4-b612-6ab2d002a909"
      },
      "outputs": [],
      "source": [
        "# !pip install numpy"
      ]
    },
    {
      "cell_type": "code",
      "execution_count": null,
      "id": "39b73306-9c66-44ee-967e-a27f27e17521",
      "metadata": {
        "id": "39b73306-9c66-44ee-967e-a27f27e17521",
        "outputId": "fd80db17-b4db-439e-a4a2-c6e7a1c34a44"
      },
      "outputs": [
        {
          "ename": "ModuleNotFoundError",
          "evalue": "No module named 'streamlit'",
          "output_type": "error",
          "traceback": [
            "\u001b[1;31m---------------------------------------------------------------------------\u001b[0m",
            "\u001b[1;31mModuleNotFoundError\u001b[0m                       Traceback (most recent call last)",
            "Cell \u001b[1;32mIn[2], line 1\u001b[0m\n\u001b[1;32m----> 1\u001b[0m \u001b[38;5;28;01mimport\u001b[39;00m \u001b[38;5;21;01mstreamlit\u001b[39;00m \u001b[38;5;28;01mas\u001b[39;00m \u001b[38;5;21;01mst\u001b[39;00m\n\u001b[0;32m      3\u001b[0m \u001b[38;5;28mprint\u001b[39m(st\u001b[38;5;241m.\u001b[39m__version__)\n",
            "\u001b[1;31mModuleNotFoundError\u001b[0m: No module named 'streamlit'"
          ]
        }
      ],
      "source": [
        "import streamlit as st\n",
        "\n",
        "print(st.__version__)"
      ]
    },
    {
      "cell_type": "code",
      "execution_count": null,
      "id": "08127896-ef4a-41b1-bb2d-233c458c4507",
      "metadata": {
        "id": "08127896-ef4a-41b1-bb2d-233c458c4507",
        "outputId": "7340c623-f3bf-4429-87ee-31750b43411e"
      },
      "outputs": [
        {
          "name": "stdout",
          "output_type": "stream",
          "text": [
            "1.26.2\n"
          ]
        }
      ],
      "source": [
        "import numpy as np # NumPy 라이브러리를 불러오기\n",
        "\n",
        "print(np.__version__)"
      ]
    },
    {
      "cell_type": "code",
      "execution_count": null,
      "id": "4fdce4da-cc0b-4fb4-98a8-9d668ca06b44",
      "metadata": {
        "id": "4fdce4da-cc0b-4fb4-98a8-9d668ca06b44",
        "outputId": "812c0b87-077c-4de7-fc32-b29d4a634dd7"
      },
      "outputs": [
        {
          "data": {
            "text/plain": [
              "[1, 2, 3, 4, 3, 4, 5, 6]"
            ]
          },
          "execution_count": 6,
          "metadata": {},
          "output_type": "execute_result"
        }
      ],
      "source": [
        "num1 = [1, 2, 3, 4]\n",
        "num2 = [3, 4, 5, 6]\n",
        "\n",
        "num1 + num2"
      ]
    },
    {
      "cell_type": "code",
      "execution_count": null,
      "id": "b54d1522-4697-446d-8496-c44139af4e08",
      "metadata": {
        "id": "b54d1522-4697-446d-8496-c44139af4e08",
        "outputId": "6c01e1f6-f6ec-4484-f420-adff2eebc5e9"
      },
      "outputs": [
        {
          "data": {
            "text/plain": [
              "array([1, 2, 3, 4])"
            ]
          },
          "execution_count": 8,
          "metadata": {},
          "output_type": "execute_result"
        }
      ],
      "source": [
        "arr1 = np.array(num1)\n",
        "arr2 = np.array(num2)\n",
        "arr1"
      ]
    },
    {
      "cell_type": "code",
      "execution_count": null,
      "id": "ac280e84-56c0-48ab-88cd-0356a2d6f171",
      "metadata": {
        "id": "ac280e84-56c0-48ab-88cd-0356a2d6f171",
        "outputId": "ace19254-daec-4c12-a366-2ad7a4986742"
      },
      "outputs": [
        {
          "data": {
            "text/plain": [
              "array([3, 4, 5, 6])"
            ]
          },
          "execution_count": 9,
          "metadata": {},
          "output_type": "execute_result"
        }
      ],
      "source": [
        "arr2"
      ]
    },
    {
      "cell_type": "code",
      "execution_count": null,
      "id": "5a53678a-0156-4e88-abef-5d0fc47ab010",
      "metadata": {
        "id": "5a53678a-0156-4e88-abef-5d0fc47ab010",
        "outputId": "b88fcc5a-19e2-4666-a2c3-a56bb480f1c8"
      },
      "outputs": [
        {
          "data": {
            "text/plain": [
              "array([ 4,  6,  8, 10])"
            ]
          },
          "execution_count": 10,
          "metadata": {},
          "output_type": "execute_result"
        }
      ],
      "source": [
        "arr1 + arr2"
      ]
    },
    {
      "cell_type": "code",
      "execution_count": null,
      "id": "a3672f07-e528-446a-b201-78d56b202f46",
      "metadata": {
        "id": "a3672f07-e528-446a-b201-78d56b202f46",
        "outputId": "bdf95adf-5688-464d-e3f9-275ede50a156"
      },
      "outputs": [
        {
          "name": "stdout",
          "output_type": "stream",
          "text": [
            "원래 배열: [ 1.          2.71828183  7.3890561  10.        ]\n",
            "자연로그 계산된 배열: [0.         1.         2.         2.30258509]\n"
          ]
        }
      ],
      "source": [
        "import numpy as np\n",
        "\n",
        "# 배열 생성\n",
        "arr = np.array([1, np.e, np.e**2, 10])\n",
        "\n",
        "# 자연로그 계산\n",
        "log_arr = np.log(arr)\n",
        "\n",
        "print(\"원래 배열:\", arr)\n",
        "print(\"자연로그 계산된 배열:\", log_arr)"
      ]
    },
    {
      "cell_type": "code",
      "execution_count": null,
      "id": "1b2c6d1b-cc0e-47ce-a981-0441cd15cd90",
      "metadata": {
        "id": "1b2c6d1b-cc0e-47ce-a981-0441cd15cd90",
        "outputId": "1ec44452-d3cb-41a9-e110-96c39bce2688"
      },
      "outputs": [
        {
          "data": {
            "text/plain": [
              "array([0, 1, 2, 3, 4, 5])"
            ]
          },
          "execution_count": 14,
          "metadata": {},
          "output_type": "execute_result"
        }
      ],
      "source": [
        "data1 = [0, 1, 2, 3, 4, 5]\n",
        "a1 = np.array(data1)\n",
        "a1"
      ]
    },
    {
      "cell_type": "code",
      "execution_count": null,
      "id": "6cd050e3-36a2-4711-8054-5e1c9fd07c04",
      "metadata": {
        "id": "6cd050e3-36a2-4711-8054-5e1c9fd07c04",
        "outputId": "ff4e7b24-9d3d-4d93-fded-a22f8dbd0130"
      },
      "outputs": [
        {
          "data": {
            "text/plain": [
              "dtype('int32')"
            ]
          },
          "execution_count": 16,
          "metadata": {},
          "output_type": "execute_result"
        }
      ],
      "source": [
        "a1.dtype # Python int  # Numpy int8, int16, int32, int64"
      ]
    },
    {
      "cell_type": "code",
      "execution_count": null,
      "id": "a5ac0160-a67b-4430-9124-6c5f3a49cf83",
      "metadata": {
        "id": "a5ac0160-a67b-4430-9124-6c5f3a49cf83",
        "outputId": "1d92be07-0961-478a-a32a-62da95d7c66c"
      },
      "outputs": [
        {
          "data": {
            "text/plain": [
              "dtype('float64')"
            ]
          },
          "execution_count": 18,
          "metadata": {},
          "output_type": "execute_result"
        }
      ],
      "source": [
        "np.array([0.5, 2, 0.01, 8]).dtype"
      ]
    },
    {
      "cell_type": "markdown",
      "id": "cda53650-2499-40aa-b0b7-c91fa52cdfb3",
      "metadata": {
        "id": "cda53650-2499-40aa-b0b7-c91fa52cdfb3"
      },
      "source": [
        "## NumPy 배열 생성\n",
        "- 1차원, 2차원, 3차원.. 배열 생성"
      ]
    },
    {
      "cell_type": "code",
      "execution_count": null,
      "id": "a10fac00-60eb-4a69-84bd-e90cc3dd6f8a",
      "metadata": {
        "id": "a10fac00-60eb-4a69-84bd-e90cc3dd6f8a",
        "outputId": "26ae6cfe-ada3-405b-e061-9456408eefa3"
      },
      "outputs": [
        {
          "data": {
            "text/plain": [
              "array([0, 2, 4, 6, 8])"
            ]
          },
          "execution_count": 20,
          "metadata": {},
          "output_type": "execute_result"
        }
      ],
      "source": [
        "np.arange(0, 10, 2)"
      ]
    },
    {
      "cell_type": "code",
      "execution_count": null,
      "id": "75bb5567-971c-4816-92c7-9a8d30e6fcc6",
      "metadata": {
        "id": "75bb5567-971c-4816-92c7-9a8d30e6fcc6",
        "outputId": "d643a0ef-c749-4130-d236-e94c54f277f1"
      },
      "outputs": [
        {
          "data": {
            "text/plain": [
              "array([1, 2, 3, 4, 5, 6, 7, 8, 9])"
            ]
          },
          "execution_count": 22,
          "metadata": {},
          "output_type": "execute_result"
        }
      ],
      "source": [
        "np.arange(1, 10)"
      ]
    },
    {
      "cell_type": "code",
      "execution_count": null,
      "id": "11295e77-820e-4822-95da-e5e0b903b7a7",
      "metadata": {
        "id": "11295e77-820e-4822-95da-e5e0b903b7a7",
        "outputId": "07f622db-f38a-4b61-a137-f80d9abb504d"
      },
      "outputs": [
        {
          "data": {
            "text/plain": [
              "array([0, 1, 2, 3, 4, 5, 6, 7, 8, 9])"
            ]
          },
          "execution_count": 24,
          "metadata": {},
          "output_type": "execute_result"
        }
      ],
      "source": [
        "np.arange(10) # 1차원 배열, 2차원 또는 3차원으로 변경"
      ]
    },
    {
      "cell_type": "code",
      "execution_count": null,
      "id": "d58779a9-6915-435d-9b83-228272903249",
      "metadata": {
        "id": "d58779a9-6915-435d-9b83-228272903249",
        "outputId": "ab52555a-7cf4-4c29-d1b6-6110f52d9570"
      },
      "outputs": [
        {
          "data": {
            "text/plain": [
              "array([[ 0,  1,  2],\n",
              "       [ 3,  4,  5],\n",
              "       [ 6,  7,  8],\n",
              "       [ 9, 10, 11]])"
            ]
          },
          "execution_count": 27,
          "metadata": {},
          "output_type": "execute_result"
        }
      ],
      "source": [
        "np.arange(12).reshape(4, 3)"
      ]
    },
    {
      "cell_type": "code",
      "execution_count": null,
      "id": "3860911e-9c41-46aa-b651-8cc82636bc80",
      "metadata": {
        "id": "3860911e-9c41-46aa-b651-8cc82636bc80",
        "outputId": "e662209f-3a58-4a3d-f419-a2e83e9a5471"
      },
      "outputs": [
        {
          "data": {
            "text/plain": [
              "array([[[ 0,  1,  2],\n",
              "        [ 3,  4,  5]],\n",
              "\n",
              "       [[ 6,  7,  8],\n",
              "        [ 9, 10, 11]]])"
            ]
          },
          "execution_count": 30,
          "metadata": {},
          "output_type": "execute_result"
        }
      ],
      "source": [
        "np.arange(12).reshape(2, 2, 3)"
      ]
    },
    {
      "cell_type": "code",
      "execution_count": null,
      "id": "4e69509c-212e-43a6-835c-5e289c9e67cc",
      "metadata": {
        "id": "4e69509c-212e-43a6-835c-5e289c9e67cc",
        "outputId": "920dbac7-8642-4975-bc75-320400943d9a"
      },
      "outputs": [
        {
          "data": {
            "text/plain": [
              "(4, 3)"
            ]
          },
          "execution_count": 33,
          "metadata": {},
          "output_type": "execute_result"
        }
      ],
      "source": [
        "b1 = np.arange(12).reshape(4, 3)\n",
        "b1.shape"
      ]
    },
    {
      "cell_type": "code",
      "execution_count": null,
      "id": "5ec9b5fb-c56d-4460-aae3-8e8f51b70b32",
      "metadata": {
        "id": "5ec9b5fb-c56d-4460-aae3-8e8f51b70b32",
        "outputId": "8b7bca5d-539d-4c1b-c7b3-27fc662e2aa0"
      },
      "outputs": [
        {
          "data": {
            "text/plain": [
              "(5,)"
            ]
          },
          "execution_count": 35,
          "metadata": {},
          "output_type": "execute_result"
        }
      ],
      "source": [
        "b2 = np.arange(5)\n",
        "b2.shape"
      ]
    },
    {
      "cell_type": "code",
      "execution_count": null,
      "id": "3a778f07-477a-405e-a998-b3d342652ff4",
      "metadata": {
        "id": "3a778f07-477a-405e-a998-b3d342652ff4",
        "outputId": "04cf7a33-8dad-43d3-8ddb-99b93360a87e"
      },
      "outputs": [
        {
          "data": {
            "text/plain": [
              "array([ 1.        ,  3.11111111,  5.22222222,  7.33333333,  9.44444444,\n",
              "       11.55555556, 13.66666667, 15.77777778, 17.88888889, 20.        ])"
            ]
          },
          "execution_count": 40,
          "metadata": {},
          "output_type": "execute_result"
        }
      ],
      "source": [
        "# 범위의 시작과 끝 정하기 배열 생성\n",
        "np.linspace(1, 20, 10)"
      ]
    },
    {
      "cell_type": "code",
      "execution_count": null,
      "id": "c3aeafec-d0ef-4167-9f34-08094bee366a",
      "metadata": {
        "id": "c3aeafec-d0ef-4167-9f34-08094bee366a",
        "outputId": "68acd53c-54c0-42cb-8a93-c4e0c410d73c"
      },
      "outputs": [
        {
          "data": {
            "text/plain": [
              "array([0.        , 0.16534698, 0.33069396, 0.49604095, 0.66138793,\n",
              "       0.82673491, 0.99208189, 1.15742887, 1.32277585, 1.48812284,\n",
              "       1.65346982, 1.8188168 , 1.98416378, 2.14951076, 2.31485774,\n",
              "       2.48020473, 2.64555171, 2.81089869, 2.97624567, 3.14159265])"
            ]
          },
          "execution_count": 42,
          "metadata": {},
          "output_type": "execute_result"
        }
      ],
      "source": [
        "np.linspace(0, np.pi, 20)"
      ]
    },
    {
      "cell_type": "code",
      "execution_count": null,
      "id": "ebca049f-0687-4662-b911-9c9a43b5fe04",
      "metadata": {
        "id": "ebca049f-0687-4662-b911-9c9a43b5fe04",
        "outputId": "5dc8ea5a-b864-4980-bbda-df6070acca3e"
      },
      "outputs": [
        {
          "data": {
            "text/plain": [
              "array([0., 0., 0., 0., 0., 0., 0., 0., 0., 0.])"
            ]
          },
          "execution_count": 44,
          "metadata": {},
          "output_type": "execute_result"
        }
      ],
      "source": [
        "np.zeros(10)"
      ]
    },
    {
      "cell_type": "code",
      "execution_count": null,
      "id": "41882ade-30a4-43d5-aec2-fb618927d30d",
      "metadata": {
        "id": "41882ade-30a4-43d5-aec2-fb618927d30d",
        "outputId": "2e3062a8-f7e2-4825-b731-b7fcf8d28a02"
      },
      "outputs": [
        {
          "data": {
            "text/plain": [
              "array([[0., 0.],\n",
              "       [0., 0.]])"
            ]
          },
          "execution_count": 46,
          "metadata": {},
          "output_type": "execute_result"
        }
      ],
      "source": [
        "np.zeros((2, 2))"
      ]
    },
    {
      "cell_type": "code",
      "execution_count": null,
      "id": "aa78e5ea-b733-4aa5-9084-9ffd17d4a37f",
      "metadata": {
        "id": "aa78e5ea-b733-4aa5-9084-9ffd17d4a37f",
        "outputId": "854bb67a-5def-4772-a334-c50f91945361"
      },
      "outputs": [
        {
          "data": {
            "text/plain": [
              "array([1., 1., 1., 1., 1., 1., 1., 1., 1., 1.])"
            ]
          },
          "execution_count": 47,
          "metadata": {},
          "output_type": "execute_result"
        }
      ],
      "source": [
        "np.ones(10)"
      ]
    },
    {
      "cell_type": "code",
      "execution_count": null,
      "id": "b09cd1f7-fa6b-4728-b36e-819073a79d8d",
      "metadata": {
        "id": "b09cd1f7-fa6b-4728-b36e-819073a79d8d",
        "outputId": "6acedba6-05ea-4362-bf69-63845b3c25f1"
      },
      "outputs": [
        {
          "data": {
            "text/plain": [
              "array([[1., 1.],\n",
              "       [1., 1.]])"
            ]
          },
          "execution_count": 49,
          "metadata": {},
          "output_type": "execute_result"
        }
      ],
      "source": [
        "np.ones((2, 2))"
      ]
    },
    {
      "cell_type": "markdown",
      "id": "198312d1-b2ad-4dba-8688-dd5d4fe59c0d",
      "metadata": {
        "id": "198312d1-b2ad-4dba-8688-dd5d4fe59c0d"
      },
      "source": [
        "## NumPy 기초 문법 배우는 이유\n",
        "- 문과생 : 데이터 분석가, 기초문법 있구나! 넘어가면 끝.\n",
        "- 이공계 : 수치연산, 배열, 수식을 활용해서 문제 풀이\n",
        "    + 클래스, 딥러닝 클래스, NumPy를 활용해서 딥러닝 알고리즘을 적용해서 클래스 & 라이브러리\n",
        "    + 밑바닥부터 시작하는 딥러닝3,"
      ]
    },
    {
      "cell_type": "code",
      "execution_count": null,
      "id": "8471027d-a24b-4ee1-b463-9d8fe7f10530",
      "metadata": {
        "id": "8471027d-a24b-4ee1-b463-9d8fe7f10530",
        "outputId": "0cfd0aa2-4d48-4770-b214-6c4494b108be"
      },
      "outputs": [
        {
          "data": {
            "text/plain": [
              "array([[1., 0., 0.],\n",
              "       [0., 1., 0.],\n",
              "       [0., 0., 1.]])"
            ]
          },
          "execution_count": 50,
          "metadata": {},
          "output_type": "execute_result"
        }
      ],
      "source": [
        "# 단위행렬\n",
        "arr_I = np.eye(3)\n",
        "arr_I"
      ]
    },
    {
      "cell_type": "code",
      "execution_count": null,
      "id": "67c1b131-ada0-48cc-9301-baa581e84dcd",
      "metadata": {
        "id": "67c1b131-ada0-48cc-9301-baa581e84dcd",
        "outputId": "dfa7dc53-8648-45dc-8027-68a431de4bf5"
      },
      "outputs": [
        {
          "data": {
            "text/plain": [
              "(3, 3)"
            ]
          },
          "execution_count": 52,
          "metadata": {},
          "output_type": "execute_result"
        }
      ],
      "source": [
        "arr_I.shape"
      ]
    },
    {
      "cell_type": "code",
      "execution_count": null,
      "id": "ef7febde-a9de-4369-b3fc-81188621746e",
      "metadata": {
        "id": "ef7febde-a9de-4369-b3fc-81188621746e",
        "outputId": "fe44d4a1-ef2f-4846-dd2f-2f179ed83988"
      },
      "outputs": [
        {
          "data": {
            "text/plain": [
              "array(['1.5', '0.62'], dtype='<U4')"
            ]
          },
          "execution_count": 54,
          "metadata": {},
          "output_type": "execute_result"
        }
      ],
      "source": [
        "np.array(['1.5', '0.62']) # 데이터 형변환"
      ]
    },
    {
      "cell_type": "code",
      "execution_count": null,
      "id": "6fc602fa-a50d-435d-9eb8-a44063d5af40",
      "metadata": {
        "id": "6fc602fa-a50d-435d-9eb8-a44063d5af40",
        "outputId": "b8112266-d430-4651-ea7b-40988af38882"
      },
      "outputs": [
        {
          "data": {
            "text/plain": [
              "dtype('float64')"
            ]
          },
          "execution_count": 57,
          "metadata": {},
          "output_type": "execute_result"
        }
      ],
      "source": [
        "# astype() # pandas에서 사용가능\n",
        "arr = np.array(['1.5', '0.62'])\n",
        "num_arr = arr.astype(float)\n",
        "num_arr.dtype"
      ]
    },
    {
      "cell_type": "code",
      "execution_count": null,
      "id": "c2e0e8b3-1763-4b05-8e1c-f260dbb51822",
      "metadata": {
        "id": "c2e0e8b3-1763-4b05-8e1c-f260dbb51822",
        "outputId": "74f77cde-5f5e-47a7-d6b8-43615929c241"
      },
      "outputs": [
        {
          "data": {
            "text/plain": [
              "array([1.5 , 0.62])"
            ]
          },
          "execution_count": 59,
          "metadata": {},
          "output_type": "execute_result"
        }
      ],
      "source": [
        "np.array(['1.5', '0.62'], dtype = float)"
      ]
    },
    {
      "cell_type": "code",
      "execution_count": null,
      "id": "b1457ede-ead3-4a30-ac05-39609adc45f5",
      "metadata": {
        "id": "b1457ede-ead3-4a30-ac05-39609adc45f5",
        "outputId": "b11339c0-6f6f-43d9-a21e-b28df34769da"
      },
      "outputs": [
        {
          "data": {
            "text/plain": [
              "array([10, 21,  0,  4,  5])"
            ]
          },
          "execution_count": 63,
          "metadata": {},
          "output_type": "execute_result"
        }
      ],
      "source": [
        "num_f1 = np.array([10, 21, 0.549, 4.75, 5.98])\n",
        "num_f1 = num_f1.astype(int)\n",
        "num_f1"
      ]
    },
    {
      "cell_type": "code",
      "execution_count": null,
      "id": "13125391-f555-4824-9307-025f477818d2",
      "metadata": {
        "id": "13125391-f555-4824-9307-025f477818d2",
        "outputId": "b1bf048b-b4da-4bb6-97ac-d91e4d0a4f4d"
      },
      "outputs": [
        {
          "data": {
            "text/plain": [
              "array([10.   , 21.   ,  0.549,  4.75 ,  5.98 ])"
            ]
          },
          "execution_count": 65,
          "metadata": {},
          "output_type": "execute_result"
        }
      ],
      "source": [
        "num_f1 = np.array([10, 21, 0.549, 4.75, 5.98])\n",
        "num_f1 = num_f1.astype(float)\n",
        "num_f1"
      ]
    },
    {
      "cell_type": "code",
      "execution_count": null,
      "id": "1fa48d97-d23e-4a73-9a1a-55cec31191cc",
      "metadata": {
        "id": "1fa48d97-d23e-4a73-9a1a-55cec31191cc",
        "outputId": "a6fe7227-2b5d-465e-fac8-4db10812c68f"
      },
      "outputs": [
        {
          "data": {
            "text/plain": [
              "array([[[0.48010198, 0.16029575, 0.73040368, 0.59519409],\n",
              "        [0.55167095, 0.90776462, 0.46342539, 0.00123712]],\n",
              "\n",
              "       [[0.84668455, 0.91301339, 0.00746764, 0.37612191],\n",
              "        [0.17570518, 0.61870348, 0.8149266 , 0.79773169]]])"
            ]
          },
          "execution_count": 70,
          "metadata": {},
          "output_type": "execute_result"
        }
      ],
      "source": [
        "# p.224\n",
        "# 난수 무작위로 숫자를 추출한다\n",
        "\n",
        "np.random.rand(2, 2, 4) # 0 ~ 1 사이의 실수 난수를 갖음"
      ]
    },
    {
      "cell_type": "code",
      "execution_count": null,
      "id": "f954a958-ed78-4481-acb4-105fee2bf90d",
      "metadata": {
        "id": "f954a958-ed78-4481-acb4-105fee2bf90d",
        "outputId": "66bee2b0-d350-429b-ffc5-0be483e31d4c"
      },
      "outputs": [
        {
          "data": {
            "text/plain": [
              "array([44,  3, 98, 91,  8, 17, 59, 36, 24, 48])"
            ]
          },
          "execution_count": 89,
          "metadata": {},
          "output_type": "execute_result"
        }
      ],
      "source": [
        "np.random.randint(1, 100, 10)"
      ]
    },
    {
      "cell_type": "code",
      "execution_count": null,
      "id": "711e5820-367c-4a51-9c08-d8e297081a05",
      "metadata": {
        "id": "711e5820-367c-4a51-9c08-d8e297081a05",
        "outputId": "0f7f4ee4-bd9e-4a3d-bea6-16eb9920353a"
      },
      "outputs": [
        {
          "name": "stdout",
          "output_type": "stream",
          "text": [
            "중복 제거된 set: {1, 2, 3}\n"
          ]
        }
      ],
      "source": [
        "# 리스트 생성\n",
        "my_list = [1, 2, 2, 3, 3, 3]\n",
        "\n",
        "# 리스트를 set으로 변환\n",
        "my_set = set(my_list)\n",
        "\n",
        "print(\"중복 제거된 set:\", my_set)"
      ]
    },
    {
      "cell_type": "markdown",
      "id": "c72b1669-0b72-48a4-ad98-8d42eee4e57b",
      "metadata": {
        "id": "c72b1669-0b72-48a4-ad98-8d42eee4e57b"
      },
      "source": [
        "##"
      ]
    },
    {
      "cell_type": "code",
      "execution_count": null,
      "id": "59b78c87-5868-4193-a907-4daff101a3cb",
      "metadata": {
        "id": "59b78c87-5868-4193-a907-4daff101a3cb"
      },
      "outputs": [],
      "source": []
    },
    {
      "cell_type": "code",
      "execution_count": null,
      "id": "dfcf6cf4-e009-471f-b34c-24b828f9656c",
      "metadata": {
        "id": "dfcf6cf4-e009-471f-b34c-24b828f9656c",
        "outputId": "301605ef-8369-43bc-cd0a-db5f872d7b90"
      },
      "outputs": [
        {
          "name": "stdout",
          "output_type": "stream",
          "text": [
            "1.26.2\n"
          ]
        }
      ],
      "source": [
        "import numpy as np\n",
        "print(np.__version__)"
      ]
    },
    {
      "cell_type": "code",
      "execution_count": null,
      "id": "941ba693-885c-4761-8a32-3e7233788e47",
      "metadata": {
        "id": "941ba693-885c-4761-8a32-3e7233788e47",
        "outputId": "3e8fdb75-3d0d-4415-8520-86b6f6896570"
      },
      "outputs": [
        {
          "name": "stdout",
          "output_type": "stream",
          "text": [
            "1.26.2\n"
          ]
        }
      ],
      "source": [
        "import numpy\n",
        "\n",
        "print(numpy.__version__)"
      ]
    },
    {
      "cell_type": "code",
      "execution_count": null,
      "id": "f8fc6396-07df-4d3e-bffb-01fe797c5f4d",
      "metadata": {
        "id": "f8fc6396-07df-4d3e-bffb-01fe797c5f4d",
        "outputId": "ba27762b-fd54-4942-ee62-e7f53320ecc9"
      },
      "outputs": [
        {
          "data": {
            "text/plain": [
              "dtype('float64')"
            ]
          },
          "execution_count": 3,
          "metadata": {},
          "output_type": "execute_result"
        }
      ],
      "source": [
        "arr = np.array(['1.5', '0.62'])\n",
        "num_arr = arr.astype(float)\n",
        "num_arr.dtype"
      ]
    },
    {
      "cell_type": "markdown",
      "id": "ed4c4b82-76c7-420a-bb5e-efc9d4351acd",
      "metadata": {
        "id": "ed4c4b82-76c7-420a-bb5e-efc9d4351acd"
      },
      "source": [
        "## 분석 프로젝트 진행 시\n",
        "- 간단하고, 빠르게 하고 싶다! Google Colab 유용\n",
        "- 2-3주 내내, 로컬 환경에서 분석을 하는 것이 훨씬 효율적"
      ]
    },
    {
      "cell_type": "markdown",
      "id": "10f29cc9-5ca1-47ac-abb5-3ddfec66b06f",
      "metadata": {
        "id": "10f29cc9-5ca1-47ac-abb5-3ddfec66b06f"
      },
      "source": [
        "## 배열의 연산\n",
        "- p.225"
      ]
    },
    {
      "cell_type": "code",
      "execution_count": null,
      "id": "d13c6c06-15ee-42eb-9bd4-a2011bf9e1cd",
      "metadata": {
        "id": "d13c6c06-15ee-42eb-9bd4-a2011bf9e1cd",
        "outputId": "9d2c74fe-eb6c-433f-9bf6-98d6135b5d60"
      },
      "outputs": [
        {
          "name": "stdout",
          "output_type": "stream",
          "text": [
            "[11 22 33 44]\n",
            "[ 9 18 27 36]\n",
            "[ 10  40  90 160]\n",
            "[10. 10. 10. 10.]\n"
          ]
        }
      ],
      "source": [
        "arr1 = np.array([10, 20, 30, 40])\n",
        "arr2 = np.array([1, 2, 3, 4])\n",
        "\n",
        "print(arr1 + arr2) # 덧셈\n",
        "print(arr1 - arr2) # 뺄셈\n",
        "print(arr1 * arr2) # 곱셈\n",
        "print(arr1 / arr2) # 나눗셈"
      ]
    },
    {
      "cell_type": "markdown",
      "id": "5e4df6cf-b66b-4691-a72f-9b9b479db99c",
      "metadata": {
        "id": "5e4df6cf-b66b-4691-a72f-9b9b479db99c"
      },
      "source": [
        "## 비교연산"
      ]
    },
    {
      "cell_type": "code",
      "execution_count": null,
      "id": "0ec194dd-e063-4551-99de-8b27a29d2183",
      "metadata": {
        "id": "0ec194dd-e063-4551-99de-8b27a29d2183",
        "outputId": "931ec673-3334-46cf-ca8d-a3aa67f1dae8"
      },
      "outputs": [
        {
          "data": {
            "text/plain": [
              "array([False, False,  True,  True])"
            ]
          },
          "execution_count": 6,
          "metadata": {},
          "output_type": "execute_result"
        }
      ],
      "source": [
        "arr1 > 20"
      ]
    },
    {
      "cell_type": "markdown",
      "id": "8c9bb050-4ea0-4e46-86f0-ec0908c3e0f7",
      "metadata": {
        "id": "8c9bb050-4ea0-4e46-86f0-ec0908c3e0f7"
      },
      "source": [
        "## 통계 연산\n",
        "- NumPy, 합, 평균, 표준 편차, 분산, 최솟값, 최댓값, 누적합, 누적 곱 메서드가 존재한다.\n",
        "    + 기술통계량 (Descriptive Statistics) : 현재 데이터 상태를 표현(=묘사, Describe)한다.\n",
        "- 통계 : 평균이 전부다! (Mean is Everything)"
      ]
    },
    {
      "cell_type": "code",
      "execution_count": null,
      "id": "456d62a6-3903-4465-a887-8c48ed427ec4",
      "metadata": {
        "id": "456d62a6-3903-4465-a887-8c48ed427ec4",
        "outputId": "18cedddd-ffd7-4bb8-f094-81f54c9377e9"
      },
      "outputs": [
        {
          "data": {
            "text/plain": [
              "array([0, 1, 2, 3, 4])"
            ]
          },
          "execution_count": 8,
          "metadata": {},
          "output_type": "execute_result"
        }
      ],
      "source": [
        "arr3 = np.arange(5)\n",
        "arr3"
      ]
    },
    {
      "cell_type": "code",
      "execution_count": null,
      "id": "56b24681-2672-4ca6-88ad-76c965af9228",
      "metadata": {
        "id": "56b24681-2672-4ca6-88ad-76c965af9228",
        "outputId": "2429fd05-01db-483b-9223-2f949d93963e"
      },
      "outputs": [
        {
          "data": {
            "text/plain": [
              "10"
            ]
          },
          "execution_count": 9,
          "metadata": {},
          "output_type": "execute_result"
        }
      ],
      "source": [
        "arr3.sum()"
      ]
    },
    {
      "cell_type": "code",
      "execution_count": null,
      "id": "5d5b1ff3-a8c1-4b87-82e7-acf698228f12",
      "metadata": {
        "id": "5d5b1ff3-a8c1-4b87-82e7-acf698228f12",
        "outputId": "8b30de2f-d597-468e-9fb7-3c83f5efa566"
      },
      "outputs": [
        {
          "data": {
            "text/plain": [
              "2.0"
            ]
          },
          "execution_count": 11,
          "metadata": {},
          "output_type": "execute_result"
        }
      ],
      "source": [
        "arr3.mean()"
      ]
    },
    {
      "cell_type": "code",
      "execution_count": null,
      "id": "3472df84-a8ba-4959-8f02-a802fd48145e",
      "metadata": {
        "id": "3472df84-a8ba-4959-8f02-a802fd48145e",
        "outputId": "4b504add-3afe-4425-e104-3125fd132d46"
      },
      "outputs": [
        {
          "data": {
            "text/plain": [
              "1.4142135623730951"
            ]
          },
          "execution_count": 13,
          "metadata": {},
          "output_type": "execute_result"
        }
      ],
      "source": [
        "arr3.std() # 표준편차"
      ]
    },
    {
      "cell_type": "code",
      "execution_count": null,
      "id": "0f810f56-591b-4c00-b025-46761faa7d8e",
      "metadata": {
        "id": "0f810f56-591b-4c00-b025-46761faa7d8e",
        "outputId": "efd49ad7-abf5-4f9d-b557-cfea4cf3b17d"
      },
      "outputs": [
        {
          "data": {
            "text/plain": [
              "2.0"
            ]
          },
          "execution_count": 14,
          "metadata": {},
          "output_type": "execute_result"
        }
      ],
      "source": [
        "arr3.var() # 분산"
      ]
    },
    {
      "cell_type": "markdown",
      "id": "677a291e-3cb4-49c7-bdd9-a05304728e84",
      "metadata": {
        "id": "677a291e-3cb4-49c7-bdd9-a05304728e84"
      },
      "source": [
        "## 누적합과 누적곱\n",
        "- cumsum() : 누적합\n",
        "- cumprod() : 누적곱"
      ]
    },
    {
      "cell_type": "code",
      "execution_count": null,
      "id": "d5898b40-8e4b-4fdb-8622-ab9ebade772f",
      "metadata": {
        "id": "d5898b40-8e4b-4fdb-8622-ab9ebade772f",
        "outputId": "c1e07944-0a6e-4768-d923-aceca9c51969"
      },
      "outputs": [
        {
          "data": {
            "text/plain": [
              "array([1, 2, 3, 4])"
            ]
          },
          "execution_count": 16,
          "metadata": {},
          "output_type": "execute_result"
        }
      ],
      "source": [
        "arr4 = np.arange(1, 5)\n",
        "arr4"
      ]
    },
    {
      "cell_type": "code",
      "execution_count": null,
      "id": "7fb4f14c-9d3c-4c76-825a-82610f1d16c6",
      "metadata": {
        "id": "7fb4f14c-9d3c-4c76-825a-82610f1d16c6",
        "outputId": "133be27e-ffa7-44a4-d4f3-3f5aae068792"
      },
      "outputs": [
        {
          "data": {
            "text/plain": [
              "array([ 1,  3,  6, 10])"
            ]
          },
          "execution_count": 18,
          "metadata": {},
          "output_type": "execute_result"
        }
      ],
      "source": [
        "arr4.cumsum()"
      ]
    },
    {
      "cell_type": "code",
      "execution_count": null,
      "id": "725d15e0-74bd-40c3-a025-0164da165c0a",
      "metadata": {
        "id": "725d15e0-74bd-40c3-a025-0164da165c0a",
        "outputId": "d583fc3a-6401-4084-8109-0541af690079"
      },
      "outputs": [
        {
          "data": {
            "text/plain": [
              "array([ 1,  2,  6, 24])"
            ]
          },
          "execution_count": 19,
          "metadata": {},
          "output_type": "execute_result"
        }
      ],
      "source": [
        "arr4.cumprod()"
      ]
    },
    {
      "cell_type": "markdown",
      "id": "731996fb-6de5-4013-acbc-dbdb138b1b61",
      "metadata": {
        "id": "731996fb-6de5-4013-acbc-dbdb138b1b61"
      },
      "source": [
        "## 행렬연산\n",
        "- 선형 대수(Linear Algebra)를 위한 2차원 배열 연산도 지원\n",
        "- p229, 행렬곱, 전치행렬, 역행렬, 행렬식 사용 예시"
      ]
    },
    {
      "cell_type": "code",
      "execution_count": null,
      "id": "1d69a5f6-ad48-4797-9cca-5837c408a530",
      "metadata": {
        "id": "1d69a5f6-ad48-4797-9cca-5837c408a530",
        "outputId": "7ffcd5ba-dfdd-4dbc-fe10-858d33d6c439"
      },
      "outputs": [
        {
          "data": {
            "text/plain": [
              "array([[0, 1],\n",
              "       [2, 3]])"
            ]
          },
          "execution_count": 21,
          "metadata": {},
          "output_type": "execute_result"
        }
      ],
      "source": [
        "A = np.array([0, 1, 2, 3]).reshape(2, 2)\n",
        "A"
      ]
    },
    {
      "cell_type": "code",
      "execution_count": null,
      "id": "cca548c1-f543-4bff-8a13-aed8db4902f6",
      "metadata": {
        "id": "cca548c1-f543-4bff-8a13-aed8db4902f6",
        "outputId": "8544790d-3898-406b-86ff-5ea3bdcbd348"
      },
      "outputs": [
        {
          "data": {
            "text/plain": [
              "array([[3, 2],\n",
              "       [0, 1]])"
            ]
          },
          "execution_count": 23,
          "metadata": {},
          "output_type": "execute_result"
        }
      ],
      "source": [
        "B = np.array([3, 2, 0, 1]).reshape(2, 2)\n",
        "B"
      ]
    },
    {
      "cell_type": "code",
      "execution_count": null,
      "id": "3d30d33a-2338-4468-915f-152e60993fb3",
      "metadata": {
        "id": "3d30d33a-2338-4468-915f-152e60993fb3",
        "outputId": "42a33092-f5ce-4c61-ca71-2af58bffa4ad"
      },
      "outputs": [
        {
          "data": {
            "text/plain": [
              "array([[0, 1],\n",
              "       [6, 7]])"
            ]
          },
          "execution_count": 25,
          "metadata": {},
          "output_type": "execute_result"
        }
      ],
      "source": [
        "A.dot(B)"
      ]
    },
    {
      "cell_type": "code",
      "execution_count": null,
      "id": "6b32b547-9337-4cff-8a98-2293867857fb",
      "metadata": {
        "id": "6b32b547-9337-4cff-8a98-2293867857fb",
        "outputId": "278a8b56-cb1a-482c-f18d-1a1c5324283e"
      },
      "outputs": [
        {
          "data": {
            "text/plain": [
              "array([[0, 2],\n",
              "       [1, 3]])"
            ]
          },
          "execution_count": 27,
          "metadata": {},
          "output_type": "execute_result"
        }
      ],
      "source": [
        "A.transpose()"
      ]
    },
    {
      "cell_type": "code",
      "execution_count": null,
      "id": "e21ab816-f524-4806-ade8-d2ca9f267efc",
      "metadata": {
        "id": "e21ab816-f524-4806-ade8-d2ca9f267efc",
        "outputId": "e4a0548d-b77a-4150-f896-5186ba9d69ba"
      },
      "outputs": [
        {
          "data": {
            "text/plain": [
              "array([[-1.5,  0.5],\n",
              "       [ 1. ,  0. ]])"
            ]
          },
          "execution_count": 28,
          "metadata": {},
          "output_type": "execute_result"
        }
      ],
      "source": [
        "np.linalg.inv(A)"
      ]
    },
    {
      "cell_type": "markdown",
      "id": "fe106997-17ea-4c54-9158-d28b328a855d",
      "metadata": {
        "id": "fe106997-17ea-4c54-9158-d28b328a855d"
      },
      "source": [
        "## 배열의 인덱싱과 슬라이싱 (p.230)\n",
        "- string, list, tuple과 동일한 방법으로 접근"
      ]
    },
    {
      "cell_type": "code",
      "execution_count": null,
      "id": "e1a0fda9-ac37-4003-a359-283d15f86dd9",
      "metadata": {
        "id": "e1a0fda9-ac37-4003-a359-283d15f86dd9",
        "outputId": "20c80cd2-404b-4fab-9a19-940e48e3689f"
      },
      "outputs": [
        {
          "data": {
            "text/plain": [
              "array([ 0, 10, 20, 30, 40, 50])"
            ]
          },
          "execution_count": 30,
          "metadata": {},
          "output_type": "execute_result"
        }
      ],
      "source": [
        "a1 = np.array([0, 10, 20, 30, 40, 50])\n",
        "a1"
      ]
    },
    {
      "cell_type": "code",
      "execution_count": null,
      "id": "c4a560c6-eb24-42e2-b84d-51fe55d0c76a",
      "metadata": {
        "id": "c4a560c6-eb24-42e2-b84d-51fe55d0c76a",
        "outputId": "b038b422-4049-4046-f3a7-7f272e7ade13"
      },
      "outputs": [
        {
          "data": {
            "text/plain": [
              "40"
            ]
          },
          "execution_count": 33,
          "metadata": {},
          "output_type": "execute_result"
        }
      ],
      "source": [
        "a1[4]"
      ]
    },
    {
      "cell_type": "code",
      "execution_count": null,
      "id": "19be34c1-7991-4dc3-a964-d381ce95f1c5",
      "metadata": {
        "id": "19be34c1-7991-4dc3-a964-d381ce95f1c5",
        "outputId": "0984b773-82fc-4dd3-99f5-1f53a8253c21"
      },
      "outputs": [
        {
          "data": {
            "text/plain": [
              "array([ 0, 10, 20, 30, 40, 70])"
            ]
          },
          "execution_count": 35,
          "metadata": {},
          "output_type": "execute_result"
        }
      ],
      "source": [
        "# 50을 70으로 변경하고 싶음\n",
        "a1[5] = 70\n",
        "a1"
      ]
    },
    {
      "cell_type": "code",
      "execution_count": null,
      "id": "b82aa3db-f007-4ae8-a4b5-6c4078b7a030",
      "metadata": {
        "id": "b82aa3db-f007-4ae8-a4b5-6c4078b7a030",
        "outputId": "b60d0a08-ae82-4ee9-cc8d-5be76e7f2d8f"
      },
      "outputs": [
        {
          "data": {
            "text/plain": [
              "array([ 0, 20, 40])"
            ]
          },
          "execution_count": 39,
          "metadata": {},
          "output_type": "execute_result"
        }
      ],
      "source": [
        "# 리스트 통해서 추출\n",
        "a1[[0, 2, 4]]"
      ]
    },
    {
      "cell_type": "code",
      "execution_count": null,
      "id": "4806fcd0-fa23-4678-bb71-53b40abbb2c7",
      "metadata": {
        "id": "4806fcd0-fa23-4678-bb71-53b40abbb2c7",
        "outputId": "24378060-3717-4935-e71d-9bc9b1a69a2f"
      },
      "outputs": [
        {
          "data": {
            "text/plain": [
              "array([ 0, 20, 40])"
            ]
          },
          "execution_count": 40,
          "metadata": {},
          "output_type": "execute_result"
        }
      ],
      "source": [
        "idx_list = [0, 2, 4]\n",
        "a1[idx_list]"
      ]
    },
    {
      "cell_type": "code",
      "execution_count": null,
      "id": "01376114-0bf6-432b-ab7f-5b6947f35b1d",
      "metadata": {
        "id": "01376114-0bf6-432b-ab7f-5b6947f35b1d",
        "outputId": "b43299ef-94e9-4664-cf67-fbeb9d9bb1ab"
      },
      "outputs": [
        {
          "data": {
            "text/plain": [
              "array([[10, 20, 30],\n",
              "       [40, 50, 60],\n",
              "       [70, 80, 90]])"
            ]
          },
          "execution_count": 41,
          "metadata": {},
          "output_type": "execute_result"
        }
      ],
      "source": [
        "a2 = np.arange(10, 100, 10).reshape(3, 3)\n",
        "a2"
      ]
    },
    {
      "cell_type": "code",
      "execution_count": null,
      "id": "6ad6282d-5d8e-408c-8dfc-ef19c2eb8d33",
      "metadata": {
        "id": "6ad6282d-5d8e-408c-8dfc-ef19c2eb8d33",
        "outputId": "c121964b-b059-4b5f-e806-2c1be8363e59"
      },
      "outputs": [
        {
          "data": {
            "text/plain": [
              "50"
            ]
          },
          "execution_count": 47,
          "metadata": {},
          "output_type": "execute_result"
        }
      ],
      "source": [
        "a2[1, 1]"
      ]
    },
    {
      "cell_type": "code",
      "execution_count": null,
      "id": "7dd4fca0-c898-45c7-a1fa-335f2f36d99a",
      "metadata": {
        "id": "7dd4fca0-c898-45c7-a1fa-335f2f36d99a",
        "outputId": "a91feded-053b-41cd-9e81-8db8e0047c2e"
      },
      "outputs": [
        {
          "data": {
            "text/plain": [
              "array([[10, 20, 30],\n",
              "       [40, 50, 60],\n",
              "       [70, 80, 95]])"
            ]
          },
          "execution_count": 49,
          "metadata": {},
          "output_type": "execute_result"
        }
      ],
      "source": [
        "# 90을 95로 변경\n",
        "a2[2, 2] = 95\n",
        "a2"
      ]
    },
    {
      "cell_type": "code",
      "execution_count": null,
      "id": "139e2a2a-c16a-4ca7-8e53-78ad66a18dcc",
      "metadata": {
        "id": "139e2a2a-c16a-4ca7-8e53-78ad66a18dcc",
        "outputId": "994cd9e3-273d-4243-b594-5180945c40b6"
      },
      "outputs": [
        {
          "data": {
            "text/plain": [
              "array([[ 1,  2,  3],\n",
              "       [40, 50, 60],\n",
              "       [70, 80, 95]])"
            ]
          },
          "execution_count": 58,
          "metadata": {},
          "output_type": "execute_result"
        }
      ],
      "source": [
        "a2[0] = [1, 2, 3] # 좋은 코드는 아니다!\n",
        "a2"
      ]
    },
    {
      "cell_type": "code",
      "execution_count": null,
      "id": "522cf11f-5204-4b04-be90-92d36c461e59",
      "metadata": {
        "id": "522cf11f-5204-4b04-be90-92d36c461e59",
        "outputId": "f415be18-bd4e-4cf2-a957-7ba02ac82daf"
      },
      "outputs": [
        {
          "data": {
            "text/plain": [
              "array([[ 4,  5,  6],\n",
              "       [40, 50, 60],\n",
              "       [70, 80, 95]])"
            ]
          },
          "execution_count": 60,
          "metadata": {},
          "output_type": "execute_result"
        }
      ],
      "source": [
        "a2[0] = np.array([4, 5, 6]) # 정석\n",
        "a2"
      ]
    },
    {
      "cell_type": "code",
      "execution_count": null,
      "id": "aba15b76-7810-407d-bf01-0aff326a9da4",
      "metadata": {
        "id": "aba15b76-7810-407d-bf01-0aff326a9da4",
        "outputId": "876dc0e0-3d2a-4a9e-849e-32ea7c388f44"
      },
      "outputs": [
        {
          "ename": "ValueError",
          "evalue": "could not broadcast input array from shape (4,) into shape (3,)",
          "output_type": "error",
          "traceback": [
            "\u001b[1;31m---------------------------------------------------------------------------\u001b[0m",
            "\u001b[1;31mValueError\u001b[0m                                Traceback (most recent call last)",
            "Cell \u001b[1;32mIn[61], line 1\u001b[0m\n\u001b[1;32m----> 1\u001b[0m \u001b[43ma2\u001b[49m\u001b[43m[\u001b[49m\u001b[38;5;241;43m0\u001b[39;49m\u001b[43m]\u001b[49m \u001b[38;5;241m=\u001b[39m np\u001b[38;5;241m.\u001b[39marray([\u001b[38;5;241m4\u001b[39m, \u001b[38;5;241m5\u001b[39m, \u001b[38;5;241m6\u001b[39m, \u001b[38;5;241m7\u001b[39m]) \u001b[38;5;66;03m# 정석\u001b[39;00m\n\u001b[0;32m      2\u001b[0m a2\n",
            "\u001b[1;31mValueError\u001b[0m: could not broadcast input array from shape (4,) into shape (3,)"
          ]
        }
      ],
      "source": [
        "a2[0] = np.array([4, 5, 6, 7]) # 에러 확인, 이유 생각\n",
        "a2"
      ]
    },
    {
      "cell_type": "markdown",
      "id": "45685a11-9f42-4365-8e04-64aa80bb3339",
      "metadata": {
        "id": "45685a11-9f42-4365-8e04-64aa80bb3339"
      },
      "source": [
        "- 2차원 배열의 행과 열 위치 지정해서 원소 추출\n",
        "  + (행의 위치1, 열의 위치1) / 행의 위치 2, 열의 위치2)"
      ]
    },
    {
      "cell_type": "code",
      "execution_count": null,
      "id": "6fec40c8-697c-477c-9530-feb253f88133",
      "metadata": {
        "id": "6fec40c8-697c-477c-9530-feb253f88133",
        "outputId": "761b50fc-73e2-48ed-9b48-eb790c981a0d"
      },
      "outputs": [
        {
          "data": {
            "text/plain": [
              "array([[ 4,  5,  6],\n",
              "       [40, 50, 60],\n",
              "       [70, 80, 95]])"
            ]
          },
          "execution_count": 65,
          "metadata": {},
          "output_type": "execute_result"
        }
      ],
      "source": [
        "a2"
      ]
    },
    {
      "cell_type": "code",
      "execution_count": null,
      "id": "66019717-092e-424f-9bfd-797b158fb17a",
      "metadata": {
        "id": "66019717-092e-424f-9bfd-797b158fb17a",
        "outputId": "ba42763b-3032-44b4-ffe8-f7635f431837"
      },
      "outputs": [
        {
          "data": {
            "text/plain": [
              "array([ 5, 80])"
            ]
          },
          "execution_count": 75,
          "metadata": {},
          "output_type": "execute_result"
        }
      ],
      "source": [
        "a2[[0, 2], [1, 1]]"
      ]
    },
    {
      "cell_type": "code",
      "execution_count": null,
      "id": "fc5f610c-1dae-4fc1-8163-ae07362535b9",
      "metadata": {
        "id": "fc5f610c-1dae-4fc1-8163-ae07362535b9",
        "outputId": "2d9a316d-081c-4a93-aea6-dada7251fa89"
      },
      "outputs": [
        {
          "data": {
            "text/plain": [
              "(4, 80)"
            ]
          },
          "execution_count": 74,
          "metadata": {},
          "output_type": "execute_result"
        }
      ],
      "source": [
        "a2[0, 0], a2[2, 1]"
      ]
    },
    {
      "cell_type": "markdown",
      "id": "9ea329ba-0dda-40f5-850f-b6fea2ed94fc",
      "metadata": {
        "id": "9ea329ba-0dda-40f5-850f-b6fea2ed94fc"
      },
      "source": [
        "## 배열 조건문\n",
        "- pandas 문법과 유사하다"
      ]
    },
    {
      "cell_type": "code",
      "execution_count": null,
      "id": "ccc81057-ed4f-47cc-833b-30941620da99",
      "metadata": {
        "id": "ccc81057-ed4f-47cc-833b-30941620da99",
        "outputId": "85c52f5d-c126-4b7a-accd-52cafbf2532a"
      },
      "outputs": [
        {
          "data": {
            "text/plain": [
              "array([1, 2, 3, 4, 5, 6])"
            ]
          },
          "execution_count": 80,
          "metadata": {},
          "output_type": "execute_result"
        }
      ],
      "source": [
        "a = np.array([1, 2, 3, 4, 5, 6])\n",
        "a"
      ]
    },
    {
      "cell_type": "code",
      "execution_count": null,
      "id": "79df0539-70c1-4ec9-868e-9803f509aa29",
      "metadata": {
        "id": "79df0539-70c1-4ec9-868e-9803f509aa29",
        "outputId": "70d068bb-f8b9-44e7-fce3-54291f4d881f"
      },
      "outputs": [
        {
          "data": {
            "text/plain": [
              "[array([False, False, False,  True,  True,  True])]"
            ]
          },
          "execution_count": 82,
          "metadata": {},
          "output_type": "execute_result"
        }
      ],
      "source": [
        "[a>3]"
      ]
    },
    {
      "cell_type": "code",
      "execution_count": null,
      "id": "35fd9d21-dad8-45a9-a792-9f3258ac87ef",
      "metadata": {
        "id": "35fd9d21-dad8-45a9-a792-9f3258ac87ef",
        "outputId": "004798a8-4447-4786-acec-9b39e231c512"
      },
      "outputs": [
        {
          "data": {
            "text/plain": [
              "array([4, 5, 6])"
            ]
          },
          "execution_count": 83,
          "metadata": {},
          "output_type": "execute_result"
        }
      ],
      "source": [
        "a[a>3]"
      ]
    },
    {
      "cell_type": "code",
      "execution_count": null,
      "id": "d0b8cc00-9902-48bc-9c9d-99f1b038eb83",
      "metadata": {
        "id": "d0b8cc00-9902-48bc-9c9d-99f1b038eb83",
        "outputId": "72415294-1489-48ce-82c8-a74719f7fd93"
      },
      "outputs": [
        {
          "data": {
            "text/plain": [
              "array([False,  True, False,  True, False,  True])"
            ]
          },
          "execution_count": 85,
          "metadata": {},
          "output_type": "execute_result"
        }
      ],
      "source": [
        "a % 2 == 0 # 실무에서는 이런 코드를 작성하는 것이 핵심!!!"
      ]
    },
    {
      "cell_type": "markdown",
      "id": "470b8575-b9eb-4711-b9ef-98ad97e0580f",
      "metadata": {
        "id": "470b8575-b9eb-4711-b9ef-98ad97e0580f"
      },
      "source": [
        "## 배열의 슬라이싱"
      ]
    },
    {
      "cell_type": "code",
      "execution_count": null,
      "id": "bb67ed99-5fbd-47f5-a075-b9983d110a4e",
      "metadata": {
        "id": "bb67ed99-5fbd-47f5-a075-b9983d110a4e",
        "outputId": "8fda1150-8a76-42a6-bf55-6652f279d616"
      },
      "outputs": [
        {
          "data": {
            "text/plain": [
              "array([1, 2, 3])"
            ]
          },
          "execution_count": 87,
          "metadata": {},
          "output_type": "execute_result"
        }
      ],
      "source": [
        "# p234\n",
        "b1 = np.array([0, 1, 2, 3, 4, 5])\n",
        "b1[1:4]"
      ]
    },
    {
      "cell_type": "code",
      "execution_count": null,
      "id": "361f6574-2c4c-4b50-a793-d51f4eb94b59",
      "metadata": {
        "id": "361f6574-2c4c-4b50-a793-d51f4eb94b59",
        "outputId": "ac43088b-5b9c-4bdc-ce92-94d807bce3dd"
      },
      "outputs": [
        {
          "data": {
            "text/plain": [
              "array([0, 1, 2])"
            ]
          },
          "execution_count": 88,
          "metadata": {},
          "output_type": "execute_result"
        }
      ],
      "source": [
        "b1[:3]"
      ]
    },
    {
      "cell_type": "code",
      "execution_count": null,
      "id": "b2ca320e-805a-47ae-b5f1-55d1b2e7d901",
      "metadata": {
        "id": "b2ca320e-805a-47ae-b5f1-55d1b2e7d901",
        "outputId": "fbe6465b-7a6e-465c-9c7e-d7d8aabe0c30"
      },
      "outputs": [
        {
          "data": {
            "text/plain": [
              "array([2, 3, 4, 5])"
            ]
          },
          "execution_count": 90,
          "metadata": {},
          "output_type": "execute_result"
        }
      ],
      "source": [
        "b1[2:]"
      ]
    },
    {
      "cell_type": "code",
      "execution_count": null,
      "id": "ce38b07d-c2c4-44ee-b89d-b570d423e9fe",
      "metadata": {
        "id": "ce38b07d-c2c4-44ee-b89d-b570d423e9fe",
        "outputId": "1fa86edf-00ba-49bf-8811-b3c7a92bd7b0"
      },
      "outputs": [
        {
          "data": {
            "text/plain": [
              "array([0, 2])"
            ]
          },
          "execution_count": 92,
          "metadata": {},
          "output_type": "execute_result"
        }
      ],
      "source": [
        "b1[0:4:2]"
      ]
    },
    {
      "cell_type": "code",
      "execution_count": null,
      "id": "b2ebef3f-6c0d-4dc2-b5bb-6b287f53a946",
      "metadata": {
        "id": "b2ebef3f-6c0d-4dc2-b5bb-6b287f53a946",
        "outputId": "16b6ac94-4b18-45b2-f1f2-34c4b29aace5"
      },
      "outputs": [
        {
          "data": {
            "text/plain": [
              "array([ 0,  1, 25, 35, 45,  5])"
            ]
          },
          "execution_count": 96,
          "metadata": {},
          "output_type": "execute_result"
        }
      ],
      "source": [
        "b1[2:5] = np.array([25, 35, 45])\n",
        "b1"
      ]
    },
    {
      "cell_type": "code",
      "execution_count": null,
      "id": "59c285e0-9e02-470b-80bb-68e797a9022d",
      "metadata": {
        "id": "59c285e0-9e02-470b-80bb-68e797a9022d",
        "outputId": "d51a7272-1959-471b-94bb-7d4bf8ddae5b"
      },
      "outputs": [
        {
          "data": {
            "text/plain": [
              "array([ 0,  1, 25, 60, 60, 60])"
            ]
          },
          "execution_count": 98,
          "metadata": {},
          "output_type": "execute_result"
        }
      ],
      "source": [
        "b1[3:6] = 60\n",
        "b1"
      ]
    },
    {
      "cell_type": "code",
      "execution_count": null,
      "id": "99fb703f-1153-4495-b11a-cecb51865f2f",
      "metadata": {
        "id": "99fb703f-1153-4495-b11a-cecb51865f2f",
        "outputId": "fb6f6f02-d03c-4217-ef7f-b64d5552d34a"
      },
      "outputs": [
        {
          "data": {
            "text/plain": [
              "array([[10, 20, 30],\n",
              "       [40, 50, 60],\n",
              "       [70, 80, 90]])"
            ]
          },
          "execution_count": 99,
          "metadata": {},
          "output_type": "execute_result"
        }
      ],
      "source": [
        "b2 = np.arange(10, 100, 10).reshape(3, 3)\n",
        "b2"
      ]
    },
    {
      "cell_type": "code",
      "execution_count": null,
      "id": "a9edcc28-a6ed-4fdc-bf6f-7e38307223a1",
      "metadata": {
        "id": "a9edcc28-a6ed-4fdc-bf6f-7e38307223a1",
        "outputId": "17696b15-9156-4f9d-fd5d-9a2a8a25e431"
      },
      "outputs": [
        {
          "data": {
            "text/plain": [
              "array([[50, 60],\n",
              "       [80, 90]])"
            ]
          },
          "execution_count": 101,
          "metadata": {},
          "output_type": "execute_result"
        }
      ],
      "source": [
        "b2[1:3, 1:3]"
      ]
    },
    {
      "cell_type": "code",
      "execution_count": null,
      "id": "1f388c8e-011a-42fa-b963-b1ec4017723c",
      "metadata": {
        "id": "1f388c8e-011a-42fa-b963-b1ec4017723c",
        "outputId": "dbf7c848-363b-4492-8198-8787067468f8"
      },
      "outputs": [
        {
          "data": {
            "text/plain": [
              "array([[50, 60],\n",
              "       [80, 90]])"
            ]
          },
          "execution_count": 105,
          "metadata": {},
          "output_type": "execute_result"
        }
      ],
      "source": [
        "b2[1:, 1:]"
      ]
    },
    {
      "cell_type": "code",
      "execution_count": null,
      "id": "ddd83119-737a-4e32-8ea6-dc710c8e0e50",
      "metadata": {
        "id": "ddd83119-737a-4e32-8ea6-dc710c8e0e50",
        "outputId": "e81cdf3b-1461-46c9-8894-c81e5326e96e"
      },
      "outputs": [
        {
          "data": {
            "text/plain": [
              "'a'"
            ]
          },
          "execution_count": 107,
          "metadata": {},
          "output_type": "execute_result"
        }
      ],
      "source": [
        "nums = [1, 2, 3, ['a', 'b']]\n",
        "nums[3][0]"
      ]
    },
    {
      "cell_type": "code",
      "execution_count": null,
      "id": "dfd58c01-8aa7-492a-ae47-69c4aef5a310",
      "metadata": {
        "id": "dfd58c01-8aa7-492a-ae47-69c4aef5a310",
        "outputId": "46d14a67-4475-4d0d-f22a-e9ab6531580f"
      },
      "outputs": [
        {
          "data": {
            "text/plain": [
              "array([50, 60])"
            ]
          },
          "execution_count": 112,
          "metadata": {},
          "output_type": "execute_result"
        }
      ],
      "source": [
        "b2[1][1:3]"
      ]
    },
    {
      "cell_type": "markdown",
      "id": "4d375a4f-3d15-4fe7-b2a0-03584288b015",
      "metadata": {
        "id": "4d375a4f-3d15-4fe7-b2a0-03584288b015"
      },
      "source": [
        "## NumPy 조건문\n",
        "- np.where : 단일 조건문\n",
        "- np.select : 다중 조건문"
      ]
    },
    {
      "cell_type": "code",
      "execution_count": null,
      "id": "d35edebf-a1fb-4a00-a5ed-74c3d3c2cc6e",
      "metadata": {
        "id": "d35edebf-a1fb-4a00-a5ed-74c3d3c2cc6e",
        "outputId": "fe5975b9-9898-4bb0-dc43-33da35465304"
      },
      "outputs": [
        {
          "data": {
            "text/plain": [
              "array([0, 1, 2, 3, 4, 5, 6, 7, 8, 9])"
            ]
          },
          "execution_count": 114,
          "metadata": {},
          "output_type": "execute_result"
        }
      ],
      "source": [
        "arr = np.arange(10)\n",
        "arr"
      ]
    },
    {
      "cell_type": "code",
      "execution_count": null,
      "id": "8e5323c9-fce2-4bff-a65b-3e513168d5c9",
      "metadata": {
        "id": "8e5323c9-fce2-4bff-a65b-3e513168d5c9",
        "outputId": "26a00db9-9d68-4ca6-838c-5c94ba56bc03"
      },
      "outputs": [
        {
          "data": {
            "text/plain": [
              "array([ 0,  1,  2,  3,  4, 50, 60, 70, 80, 90])"
            ]
          },
          "execution_count": 116,
          "metadata": {},
          "output_type": "execute_result"
        }
      ],
      "source": [
        "# 0, 1, 2, 3, 4, 50, 60, 70, 80, 90\n",
        "np.where(arr < 5, arr, arr * 10)"
      ]
    },
    {
      "cell_type": "code",
      "execution_count": null,
      "id": "3f4e340d-aa8d-4867-8d9d-63927e747f2b",
      "metadata": {
        "id": "3f4e340d-aa8d-4867-8d9d-63927e747f2b",
        "outputId": "3df0c671-430a-43af-868e-323f889ebcda"
      },
      "outputs": [
        {
          "data": {
            "text/plain": [
              "array([0, 1, 2, 3, 4, 5, 6, 7, 8, 9])"
            ]
          },
          "execution_count": 117,
          "metadata": {},
          "output_type": "execute_result"
        }
      ],
      "source": [
        "arr = np.arange(10)\n",
        "arr"
      ]
    },
    {
      "cell_type": "code",
      "execution_count": null,
      "id": "317928d7-6b28-4a2c-a32c-4ea892a7fa40",
      "metadata": {
        "id": "317928d7-6b28-4a2c-a32c-4ea892a7fa40",
        "outputId": "e9fe1c48-620b-41fe-dc7b-bdb8f066537a"
      },
      "outputs": [
        {
          "data": {
            "text/plain": [
              "array([100, 101,   2,   3,   4,   5,  12,  14,  16,  18])"
            ]
          },
          "execution_count": 118,
          "metadata": {},
          "output_type": "execute_result"
        }
      ],
      "source": [
        "# 100, 101, 2, 3, 4, 5, 12, 14, 16, 18\n",
        "# 2 미만 일 때는 100을 더해라\n",
        "# 5 초과 일 때는 곱하기 2를 해줘라\n",
        "\n",
        "# 조건식과 대응되는 결과를 리스트로 만들기\n",
        "cond_list =   [arr > 5, arr < 2]\n",
        "choice_list = [arr * 2, arr + 100]\n",
        "\n",
        "np.select(cond_list, choice_list, default = arr)"
      ]
    },
    {
      "cell_type": "markdown",
      "id": "9b71d7b3-6fb1-4c5c-aed4-3230b48c498f",
      "metadata": {
        "id": "9b71d7b3-6fb1-4c5c-aed4-3230b48c498f"
      },
      "source": [
        "## NumPy 수치연산 (가장 기초적인) 라이브러리\n",
        "- 문과생, 비전공자 : NumPy의 수치연산 개념이 pandas, scipy, scikit-learn, tensorflow, pytorch 영향을 주었다.\n",
        "- 이공계 : 수치연산 알고리즘 구현하는 것을 기대, 각 연산의 종류 선형대수, 주요 메서드들에 좀 더 깊은 공부해야 함"
      ]
    }
  ],
  "metadata": {
    "kernelspec": {
      "display_name": "Python 3 (ipykernel)",
      "language": "python",
      "name": "python3"
    },
    "language_info": {
      "codemirror_mode": {
        "name": "ipython",
        "version": 3
      },
      "file_extension": ".py",
      "mimetype": "text/x-python",
      "name": "python",
      "nbconvert_exporter": "python",
      "pygments_lexer": "ipython3",
      "version": "3.10.11"
    },
    "colab": {
      "provenance": [],
      "include_colab_link": true
    }
  },
  "nbformat": 4,
  "nbformat_minor": 5
}