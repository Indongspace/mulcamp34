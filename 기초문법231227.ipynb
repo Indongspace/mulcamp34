{
  "nbformat": 4,
  "nbformat_minor": 0,
  "metadata": {
    "colab": {
      "provenance": [],
      "authorship_tag": "ABX9TyMyXMzAkYYNgjiUfqub1jvd",
      "include_colab_link": true
    },
    "kernelspec": {
      "name": "python3",
      "display_name": "Python 3"
    },
    "language_info": {
      "name": "python"
    }
  },
  "cells": [
    {
      "cell_type": "markdown",
      "metadata": {
        "id": "view-in-github",
        "colab_type": "text"
      },
      "source": [
        "<a href=\"https://colab.research.google.com/github/Indongspace/mulcamp34/blob/main/%EA%B8%B0%EC%B4%88%EB%AC%B8%EB%B2%95231227.ipynb\" target=\"_parent\"><img src=\"https://colab.research.google.com/assets/colab-badge.svg\" alt=\"Open In Colab\"/></a>"
      ]
    },
    {
      "cell_type": "markdown",
      "source": [
        "# Chapter 3. 파이썬을 계산기처럼\n"
      ],
      "metadata": {
        "id": "FicRVl5xomWn"
      }
    },
    {
      "cell_type": "markdown",
      "source": [
        "사칙연산"
      ],
      "metadata": {
        "id": "uJp2_5_1rSEJ"
      }
    },
    {
      "cell_type": "code",
      "source": [
        "print(1.3 - 1.1)\n",
        "print(1.5 * 3.2)\n",
        "print(5.2 / 2.5)"
      ],
      "metadata": {
        "colab": {
          "base_uri": "https://localhost:8080/"
        },
        "id": "hr_wL3XHrgvl",
        "outputId": "c5e5414f-d7dd-448a-9514-0755632dae20"
      },
      "execution_count": 8,
      "outputs": [
        {
          "output_type": "stream",
          "name": "stdout",
          "text": [
            "0.19999999999999996\n",
            "4.800000000000001\n",
            "2.08\n"
          ]
        }
      ]
    },
    {
      "cell_type": "markdown",
      "source": [
        "### 연산규칙\n",
        "- (1) 괄호 안 계산\n",
        "- (2) 지수 계산\n",
        "- (3) 곱셈과 나눗셈 계산\n",
        "- (4) 덧셈과 뺄셈 계산\n",
        "- (5) 같은 순위 연산이면, 왼쪽에서 오른쪽으로\n",
        "- (6) 중복된 괄호가 있을 경우, 안쪽에서부터 처리"
      ],
      "metadata": {
        "id": "A-ao0rIbtf0f"
      }
    },
    {
      "cell_type": "markdown",
      "source": [
        "## type()\n",
        "- 함수 : 특정 기능을 수행하도록 만든 매직박스\n",
        " + 특정함수를 조건만 맞춰주면 동\n"
      ],
      "metadata": {
        "id": "ed4whsBauzRP"
      }
    },
    {
      "cell_type": "markdown",
      "source": [
        "함수의 종류\n",
        "- 내장(built-in)함수 : 파이썬 설치와 함께 제공하는 기본적인 함수\n",
        "+ print(), type()\n",
        "+ documentation : 함수를 설명해주는 문서 보는 법 익힐 것 (영어)\n",
        "\n",
        "- 라이브러리에서 제공하는 함수\n",
        "+ R : 패키지, Python : 라이브러리\n",
        "+ 웹사이트 개발 : 웹사이트와 관련된 라이브러리를 별도 설치 필요\n",
        " - 통계분석 : 통계분석과 관련된 라이브러리를 별도 설치 필요\n",
        " - 시각화 : 시작화와 관련된 라이브러리 설치\n",
        " - 게임개발 : 게임개발과 관련된 라이브러리 설치\n",
        " - 수치연산 주요라이브러리 : numpy, scipy\n"
      ],
      "metadata": {
        "id": "iKaODFtLzuvM"
      }
    },
    {
      "cell_type": "code",
      "source": [
        "print(type(3.5))"
      ],
      "metadata": {
        "colab": {
          "base_uri": "https://localhost:8080/"
        },
        "id": "bRt8bR7zu1I4",
        "outputId": "2d5be41f-1065-4f88-f841-2afdc5f3f09b"
      },
      "execution_count": 10,
      "outputs": [
        {
          "output_type": "stream",
          "name": "stdout",
          "text": [
            "<class 'float'>\n"
          ]
        }
      ]
    },
    {
      "cell_type": "markdown",
      "source": [
        "- 파이썬 객체지향 언어입니다."
      ],
      "metadata": {
        "id": "BQ-FHHbn1xRz"
      }
    },
    {
      "cell_type": "markdown",
      "source": [
        "## 거듭제곱과 나머지\n",
        "- (power)\n",
        " + A는 밑, n은 지수"
      ],
      "metadata": {
        "id": "tfGvJVDl2EWl"
      }
    },
    {
      "cell_type": "code",
      "source": [
        "2**5"
      ],
      "metadata": {
        "colab": {
          "base_uri": "https://localhost:8080/"
        },
        "id": "bxYRe2Wd2DJY",
        "outputId": "af49797c-1630-4719-b809-8386d34da003"
      },
      "execution_count": 14,
      "outputs": [
        {
          "output_type": "execute_result",
          "data": {
            "text/plain": [
              "32"
            ]
          },
          "metadata": {},
          "execution_count": 14
        }
      ]
    },
    {
      "cell_type": "markdown",
      "source": [
        "- 나머지 구하는 방법"
      ],
      "metadata": {
        "id": "L8CnYCRy2oRJ"
      }
    },
    {
      "cell_type": "code",
      "source": [
        "print(13%5)\n",
        "print(13//5)"
      ],
      "metadata": {
        "colab": {
          "base_uri": "https://localhost:8080/"
        },
        "id": "1XdWkbBs2raN",
        "outputId": "bb779698-0b47-4e3a-fb0c-3b2153eb3e16"
      },
      "execution_count": 16,
      "outputs": [
        {
          "output_type": "stream",
          "name": "stdout",
          "text": [
            "3\n",
            "2\n"
          ]
        }
      ]
    },
    {
      "cell_type": "markdown",
      "source": [
        "- 교재 표 3-1(p.34), 산술연산자 표 정리\n"
      ],
      "metadata": {
        "id": "OU0yoomT2-_b"
      }
    },
    {
      "cell_type": "markdown",
      "source": [
        "## 과학적 표기법\n",
        "- 아주 큰 수, 작은 수를 다뤄야하는 케이스\n",
        " - 빛의 속도 m/s 3x10^8\n",
        ""
      ],
      "metadata": {
        "id": "flcjoXLd3fWc"
      }
    },
    {
      "cell_type": "code",
      "source": [
        "print(3e8)"
      ],
      "metadata": {
        "colab": {
          "base_uri": "https://localhost:8080/"
        },
        "id": "RporhfM14MCg",
        "outputId": "ce94aec9-c9dc-4c91-b79d-2d8cff4f619f"
      },
      "execution_count": 17,
      "outputs": [
        {
          "output_type": "stream",
          "name": "stdout",
          "text": [
            "300000000.0\n"
          ]
        }
      ]
    },
    {
      "cell_type": "code",
      "source": [
        "print(3e-4)"
      ],
      "metadata": {
        "colab": {
          "base_uri": "https://localhost:8080/"
        },
        "id": "UQrLEjKa4jZn",
        "outputId": "b05b3b9f-9d0f-4975-b92b-eb16b1763b59"
      },
      "execution_count": 19,
      "outputs": [
        {
          "output_type": "stream",
          "name": "stdout",
          "text": [
            "0.0003\n"
          ]
        }
      ]
    },
    {
      "cell_type": "markdown",
      "source": [
        "## 진수 표현과 변환\n",
        "- 컴퓨터 프로그래밍 2진법\n",
        "- 8진법 0~7까지의 숫자\n",
        "- 16진법 0~9, a,b,c,d,e\n",
        "- 메서드\n",
        " + bin() 10-> 2진수, oct() 10->8진수, hex() 10->16진수"
      ],
      "metadata": {
        "id": "Sri-Ey5Q5WT1"
      }
    },
    {
      "cell_type": "markdown",
      "source": [
        "## 논리연산 및 비교연산 (매우 중요)\n",
        "- 참/거짓\n",
        "- 논리 연산을 잘 활용하는 것이 프로그래밍의 핵심\n",
        "\n"
      ],
      "metadata": {
        "id": "OCsiLVA-7Hcc"
      }
    },
    {
      "cell_type": "markdown",
      "source": [
        "### 논리 연산자\n",
        "-and or not\n",
        "# True or Flase가 나오도록 조건식을 만들어야 함"
      ],
      "metadata": {
        "id": "1YmYqi_W8Ui7"
      }
    },
    {
      "cell_type": "markdown",
      "source": [
        "### 비교연산자 + 논리연산자\n"
      ],
      "metadata": {
        "id": "VbPdrq03CeQp"
      }
    },
    {
      "cell_type": "code",
      "source": [
        "print(1>0 and -2<0) #비교연산자 1순위 논리연산자 2순위\n",
        "print(((3<0) and (-5>0)) and (1>5))"
      ],
      "metadata": {
        "colab": {
          "base_uri": "https://localhost:8080/"
        },
        "id": "eZ-m96h273Cp",
        "outputId": "9c7c2b49-9843-48f3-b262-92ea7f6ca7ff"
      },
      "execution_count": 25,
      "outputs": [
        {
          "output_type": "stream",
          "name": "stdout",
          "text": [
            "True\n",
            "False\n"
          ]
        }
      ]
    }
  ]
}