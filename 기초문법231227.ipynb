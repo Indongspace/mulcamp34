{
  "nbformat": 4,
  "nbformat_minor": 0,
  "metadata": {
    "colab": {
      "provenance": [],
      "authorship_tag": "ABX9TyOzjse6o2ydTETQBWT72V/z",
      "include_colab_link": true
    },
    "kernelspec": {
      "name": "python3",
      "display_name": "Python 3"
    },
    "language_info": {
      "name": "python"
    }
  },
  "cells": [
    {
      "cell_type": "markdown",
      "metadata": {
        "id": "view-in-github",
        "colab_type": "text"
      },
      "source": [
        "<a href=\"https://colab.research.google.com/github/Indongspace/mulcamp34/blob/main/%EA%B8%B0%EC%B4%88%EB%AC%B8%EB%B2%95231227.ipynb\" target=\"_parent\"><img src=\"https://colab.research.google.com/assets/colab-badge.svg\" alt=\"Open In Colab\"/></a>"
      ]
    },
    {
      "cell_type": "markdown",
      "source": [
        "# Chapter 3. 파이썬을 계산기처럼\n"
      ],
      "metadata": {
        "id": "FicRVl5xomWn"
      }
    },
    {
      "cell_type": "markdown",
      "source": [
        "사칙연산"
      ],
      "metadata": {
        "id": "uJp2_5_1rSEJ"
      }
    },
    {
      "cell_type": "code",
      "source": [
        "print(1.3 - 1.1)\n",
        "print(1.5 * 3.2)\n",
        "print(5.2 / 2.5)"
      ],
      "metadata": {
        "colab": {
          "base_uri": "https://localhost:8080/"
        },
        "id": "hr_wL3XHrgvl",
        "outputId": "c5e5414f-d7dd-448a-9514-0755632dae20"
      },
      "execution_count": 8,
      "outputs": [
        {
          "output_type": "stream",
          "name": "stdout",
          "text": [
            "0.19999999999999996\n",
            "4.800000000000001\n",
            "2.08\n"
          ]
        }
      ]
    },
    {
      "cell_type": "markdown",
      "source": [
        "### 연산규칙\n",
        "- (1) 괄호 안 계산\n",
        "- (2) 지수 계산\n",
        "- (3) 곱셈과 나눗셈 계산\n",
        "- (4) 덧셈과 뺄셈 계산\n",
        "- (5) 같은 순위 연산이면, 왼쪽에서 오른쪽으로\n",
        "- (6) 중복된 괄호가 있을 경우, 안쪽에서부터 처리"
      ],
      "metadata": {
        "id": "A-ao0rIbtf0f"
      }
    },
    {
      "cell_type": "markdown",
      "source": [
        "## type()\n",
        "- 함수 : 특정 기능을 수행하도록 만든 매직박스\n",
        " + 특정함수를 조건만 맞춰주면 동\n"
      ],
      "metadata": {
        "id": "ed4whsBauzRP"
      }
    },
    {
      "cell_type": "markdown",
      "source": [
        "함수의 종류\n",
        "- 내장(built-in)함수 : 파이썬 설치와 함께 제공하는 기본적인 함수\n",
        "+ print(), type()\n",
        "+ documentation : 함수를 설명해주는 문서 보는 법 익힐 것 (영어)\n",
        "\n",
        "- 라이브러리에서 제공하는 함수\n",
        "+ R : 패키지, Python : 라이브러리\n",
        "+ 웹사이트 개발 : 웹사이트와 관련된 라이브러리를 별도 설치 필요\n",
        " - 통계분석 : 통계분석과 관련된 라이브러리를 별도 설치 필요\n",
        " - 시각화 : 시작화와 관련된 라이브러리 설치\n",
        " - 게임개발 : 게임개발과 관련된 라이브러리 설치\n",
        " - 수치연산 주요라이브러리 : numpy, scipy\n"
      ],
      "metadata": {
        "id": "iKaODFtLzuvM"
      }
    },
    {
      "cell_type": "code",
      "source": [
        "print(type(3.5))"
      ],
      "metadata": {
        "colab": {
          "base_uri": "https://localhost:8080/"
        },
        "id": "bRt8bR7zu1I4",
        "outputId": "2d5be41f-1065-4f88-f841-2afdc5f3f09b"
      },
      "execution_count": 10,
      "outputs": [
        {
          "output_type": "stream",
          "name": "stdout",
          "text": [
            "<class 'float'>\n"
          ]
        }
      ]
    },
    {
      "cell_type": "markdown",
      "source": [
        "- 파이썬 객체지향 언어입니다."
      ],
      "metadata": {
        "id": "BQ-FHHbn1xRz"
      }
    },
    {
      "cell_type": "markdown",
      "source": [
        "## 거듭제곱과 나머지\n",
        "- (power)\n",
        " + A는 밑, n은 지수"
      ],
      "metadata": {
        "id": "tfGvJVDl2EWl"
      }
    },
    {
      "cell_type": "code",
      "source": [
        "2**5"
      ],
      "metadata": {
        "colab": {
          "base_uri": "https://localhost:8080/"
        },
        "id": "bxYRe2Wd2DJY",
        "outputId": "af49797c-1630-4719-b809-8386d34da003"
      },
      "execution_count": 14,
      "outputs": [
        {
          "output_type": "execute_result",
          "data": {
            "text/plain": [
              "32"
            ]
          },
          "metadata": {},
          "execution_count": 14
        }
      ]
    },
    {
      "cell_type": "markdown",
      "source": [
        "- 나머지 구하는 방법"
      ],
      "metadata": {
        "id": "L8CnYCRy2oRJ"
      }
    },
    {
      "cell_type": "code",
      "source": [
        "print(13%5)\n",
        "print(13//5)"
      ],
      "metadata": {
        "colab": {
          "base_uri": "https://localhost:8080/"
        },
        "id": "1XdWkbBs2raN",
        "outputId": "bb779698-0b47-4e3a-fb0c-3b2153eb3e16"
      },
      "execution_count": 16,
      "outputs": [
        {
          "output_type": "stream",
          "name": "stdout",
          "text": [
            "3\n",
            "2\n"
          ]
        }
      ]
    },
    {
      "cell_type": "markdown",
      "source": [
        "- 교재 표 3-1(p.34), 산술연산자 표 정리\n"
      ],
      "metadata": {
        "id": "OU0yoomT2-_b"
      }
    },
    {
      "cell_type": "markdown",
      "source": [
        "## 과학적 표기법\n",
        "- 아주 큰 수, 작은 수를 다뤄야하는 케이스\n",
        " - 빛의 속도 m/s 3x10^8\n",
        ""
      ],
      "metadata": {
        "id": "flcjoXLd3fWc"
      }
    },
    {
      "cell_type": "code",
      "source": [
        "print(3e8)"
      ],
      "metadata": {
        "colab": {
          "base_uri": "https://localhost:8080/"
        },
        "id": "RporhfM14MCg",
        "outputId": "ce94aec9-c9dc-4c91-b79d-2d8cff4f619f"
      },
      "execution_count": 17,
      "outputs": [
        {
          "output_type": "stream",
          "name": "stdout",
          "text": [
            "300000000.0\n"
          ]
        }
      ]
    },
    {
      "cell_type": "code",
      "source": [
        "print(3e-4)"
      ],
      "metadata": {
        "colab": {
          "base_uri": "https://localhost:8080/"
        },
        "id": "UQrLEjKa4jZn",
        "outputId": "b05b3b9f-9d0f-4975-b92b-eb16b1763b59"
      },
      "execution_count": 19,
      "outputs": [
        {
          "output_type": "stream",
          "name": "stdout",
          "text": [
            "0.0003\n"
          ]
        }
      ]
    },
    {
      "cell_type": "markdown",
      "source": [
        "## 진수 표현과 변환\n",
        "- 컴퓨터 프로그래밍 2진법\n",
        "- 8진법 0~7까지의 숫자\n",
        "- 16진법 0~9, a,b,c,d,e\n",
        "- 메서드\n",
        " + bin() 10-> 2진수, oct() 10->8진수, hex() 10->16진수"
      ],
      "metadata": {
        "id": "Sri-Ey5Q5WT1"
      }
    },
    {
      "cell_type": "markdown",
      "source": [
        "## 논리연산 및 비교연산 (매우 중요)\n",
        "- 참/거짓\n",
        "- 논리 연산을 잘 활용하는 것이 프로그래밍의 핵심\n",
        "\n"
      ],
      "metadata": {
        "id": "OCsiLVA-7Hcc"
      }
    },
    {
      "cell_type": "markdown",
      "source": [
        "### 논리 연산자\n",
        "-and or not\n",
        "# True or Flase가 나오도록 조건식을 만들어야 함"
      ],
      "metadata": {
        "id": "1YmYqi_W8Ui7"
      }
    },
    {
      "cell_type": "markdown",
      "source": [
        "### 비교연산자 + 논리연산자\n"
      ],
      "metadata": {
        "id": "VbPdrq03CeQp"
      }
    },
    {
      "cell_type": "code",
      "source": [
        "print(1>0 and -2<0) #비교연산자 1순위 논리연산자 2순위\n",
        "print(((3<0) and (-5>0)) and (1>5))"
      ],
      "metadata": {
        "colab": {
          "base_uri": "https://localhost:8080/"
        },
        "id": "eZ-m96h273Cp",
        "outputId": "9c7c2b49-9843-48f3-b262-92ea7f6ca7ff"
      },
      "execution_count": 25,
      "outputs": [
        {
          "output_type": "stream",
          "name": "stdout",
          "text": [
            "True\n",
            "False\n"
          ]
        }
      ]
    },
    {
      "cell_type": "markdown",
      "source": [
        "## 변수 (p.42) : Variable, 데이터\n"
      ],
      "metadata": {
        "id": "xcPpJDlxeruE"
      }
    },
    {
      "cell_type": "markdown",
      "source": [
        "### 변수명 짓기 규칙\n",
        "- snake, camel\n"
      ],
      "metadata": {
        "id": "9apFqN58gy4d"
      }
    },
    {
      "cell_type": "code",
      "source": [
        "# snake\n",
        "num_a=100\n",
        "num_b=110\n",
        "\n",
        "# camel\n",
        "myStudent=\"evan\"\n",
        "mySchool=\"gachon\""
      ],
      "metadata": {
        "id": "EfeC0DwlfKG5"
      },
      "execution_count": 26,
      "outputs": []
    },
    {
      "cell_type": "markdown",
      "source": [
        "### 예약어는 변수명으로 이용할 수 없음\n",
        "### 변수의 반대어 : 상수\n",
        "- 한번 지정 후, 변하지 않는 고정 값\n"
      ],
      "metadata": {
        "id": "ajUNYj-ulHFE"
      }
    },
    {
      "cell_type": "code",
      "source": [
        "num1=\"100\"\n",
        "num2=\"200\"\n",
        "Num1=int(num1)\n",
        "Num2=int(num2)\n",
        "print(Num1+Num2)"
      ],
      "metadata": {
        "id": "gyvhSQcftTxk",
        "outputId": "b30387d1-e109-4544-ffb8-ce89fa0e96f6",
        "colab": {
          "base_uri": "https://localhost:8080/"
        }
      },
      "execution_count": 28,
      "outputs": [
        {
          "output_type": "stream",
          "name": "stdout",
          "text": [
            "300\n"
          ]
        }
      ]
    },
    {
      "cell_type": "markdown",
      "source": [
        "## 문자열\n",
        "##리스트(List)\n",
        "- 가장 중요한 자료형\n",
        "- 다른 프로그래밍 언어에서는 배열(Array)\n",
        "- 다중의 데이터를 묶는다\n"
      ],
      "metadata": {
        "id": "XKUjy-rFxX5j"
      }
    },
    {
      "cell_type": "markdown",
      "source": [
        "### 인덱싱(Indexing)\n",
        "- 리스트에서 특정한 데이터를 추출\n"
      ],
      "metadata": {
        "id": "lsLVdWif5t_7"
      }
    },
    {
      "cell_type": "code",
      "source": [
        "greeting = 'Hello, Python'\n",
        "print(greeting[-6])"
      ],
      "metadata": {
        "id": "T7EoKdqq6udw",
        "outputId": "678ce8d4-8310-4fd9-e527-01d2d50d89f5",
        "colab": {
          "base_uri": "https://localhost:8080/"
        }
      },
      "execution_count": 32,
      "outputs": [
        {
          "output_type": "stream",
          "name": "stdout",
          "text": [
            "P\n"
          ]
        }
      ]
    },
    {
      "cell_type": "markdown",
      "source": [
        "### 리스트 수정, 삭제\n"
      ],
      "metadata": {
        "id": "JgFL5NVS8QeH"
      }
    },
    {
      "cell_type": "code",
      "source": [
        "myNum=[1]\n",
        "myNum*3"
      ],
      "metadata": {
        "id": "39gJ1yCk-gr7",
        "outputId": "ff470728-7ece-48d0-f021-aa23b1e73085",
        "colab": {
          "base_uri": "https://localhost:8080/"
        }
      },
      "execution_count": 34,
      "outputs": [
        {
          "output_type": "stream",
          "name": "stdout",
          "text": [
            "[1]\n"
          ]
        }
      ]
    },
    {
      "cell_type": "code",
      "source": [
        "myFriend=['kin','lisa','fim','lee']\n",
        "myFriend[2][0]"
      ],
      "metadata": {
        "id": "ouEqe8RY_dSr",
        "outputId": "938de36d-f501-4d12-a865-dc88823859d6",
        "colab": {
          "base_uri": "https://localhost:8080/",
          "height": 35
        }
      },
      "execution_count": 39,
      "outputs": [
        {
          "output_type": "execute_result",
          "data": {
            "text/plain": [
              "'f'"
            ],
            "application/vnd.google.colaboratory.intrinsic+json": {
              "type": "string"
            }
          },
          "metadata": {},
          "execution_count": 39
        }
      ]
    },
    {
      "cell_type": "markdown",
      "source": [
        "### 슬라이싱\n",
        "- 문자열, 리스트 그 외 파이썬 거의 대부분 자료형 원리 동일 적용"
      ],
      "metadata": {
        "id": "1xXILp22F7Bx"
      }
    },
    {
      "cell_type": "code",
      "source": [
        "list_data = [0,1,2,3,4,5,6,7,8,9]\n",
        "print(list_data[:-5])\n",
        "greeting = 'Hello, Python'\n",
        "greeting[:5]\n",
        "print(list_data[::3])"
      ],
      "metadata": {
        "id": "fA49eYHQGBOd",
        "outputId": "e2048a89-bf87-4134-c22b-ff10e8ed76cd",
        "colab": {
          "base_uri": "https://localhost:8080/"
        }
      },
      "execution_count": 47,
      "outputs": [
        {
          "output_type": "stream",
          "name": "stdout",
          "text": [
            "[0, 1, 2, 3, 4]\n",
            "[0, 3, 6, 9]\n"
          ]
        }
      ]
    },
    {
      "cell_type": "markdown",
      "source": [
        "## 튜플(Tuple)\n",
        "- 튜플은 리스트와 유사하다"
      ],
      "metadata": {
        "id": "9pFbrMudKdHN"
      }
    },
    {
      "cell_type": "code",
      "source": [
        "tuple1 = (1,2,3,4)\n",
        "print(tuple1)"
      ],
      "metadata": {
        "id": "FeufYP-kMGqB",
        "outputId": "5a57d3e6-6f7e-43c9-acbf-9862e312ee6d",
        "colab": {
          "base_uri": "https://localhost:8080/"
        }
      },
      "execution_count": 50,
      "outputs": [
        {
          "output_type": "stream",
          "name": "stdout",
          "text": [
            "(1, 2, 3, 4)\n"
          ]
        }
      ]
    },
    {
      "cell_type": "markdown",
      "source": [
        "### 유사한 것\n",
        "- 인덱싱과 슬라이싱이 동일"
      ],
      "metadata": {
        "id": "vImV7RgMMYjo"
      }
    },
    {
      "cell_type": "code",
      "source": [
        "tuple_data = (0,1,2,3,4,5,6,7,8,9)\n",
        "tuple_data[:4]\n",
        "tuple_data[4:-3]\n",
        "tuple_data[::2]"
      ],
      "metadata": {
        "id": "bN_bHFJGMV2r",
        "outputId": "faca9ecd-a215-4cab-b2c7-2016adb9d4b8",
        "colab": {
          "base_uri": "https://localhost:8080/"
        }
      },
      "execution_count": 54,
      "outputs": [
        {
          "output_type": "execute_result",
          "data": {
            "text/plain": [
              "(0, 2, 4, 6, 8)"
            ]
          },
          "metadata": {},
          "execution_count": 54
        }
      ]
    },
    {
      "cell_type": "markdown",
      "source": [
        "### 차이점\n",
        "- 튜플은 수정, 삭제가 안됨"
      ],
      "metadata": {
        "id": "Ry1pvCGqNI8G"
      }
    },
    {
      "cell_type": "code",
      "source": [
        "l_data = [0,1,2,3]\n",
        "t_data = (0,1,2,3)\n",
        "\n",
        "l_data[3] = 30\n",
        "del l_data[3]\n",
        "del t_data[3]\n",
        "t_data"
      ],
      "metadata": {
        "id": "yZyElln8NOE0",
        "outputId": "39958cbf-35f7-4d2e-8a1c-3dde5a63b61e",
        "colab": {
          "base_uri": "https://localhost:8080/",
          "height": 237
        }
      },
      "execution_count": 58,
      "outputs": [
        {
          "output_type": "error",
          "ename": "TypeError",
          "evalue": "ignored",
          "traceback": [
            "\u001b[0;31m---------------------------------------------------------------------------\u001b[0m",
            "\u001b[0;31mTypeError\u001b[0m                                 Traceback (most recent call last)",
            "\u001b[0;32m<ipython-input-58-61b54baa3e7e>\u001b[0m in \u001b[0;36m<cell line: 6>\u001b[0;34m()\u001b[0m\n\u001b[1;32m      4\u001b[0m \u001b[0ml_data\u001b[0m\u001b[0;34m[\u001b[0m\u001b[0;36m3\u001b[0m\u001b[0;34m]\u001b[0m \u001b[0;34m=\u001b[0m \u001b[0;36m30\u001b[0m\u001b[0;34m\u001b[0m\u001b[0;34m\u001b[0m\u001b[0m\n\u001b[1;32m      5\u001b[0m \u001b[0;32mdel\u001b[0m \u001b[0ml_data\u001b[0m\u001b[0;34m[\u001b[0m\u001b[0;36m3\u001b[0m\u001b[0;34m]\u001b[0m\u001b[0;34m\u001b[0m\u001b[0;34m\u001b[0m\u001b[0m\n\u001b[0;32m----> 6\u001b[0;31m \u001b[0;32mdel\u001b[0m \u001b[0mt_data\u001b[0m\u001b[0;34m[\u001b[0m\u001b[0;36m3\u001b[0m\u001b[0;34m]\u001b[0m\u001b[0;34m\u001b[0m\u001b[0;34m\u001b[0m\u001b[0m\n\u001b[0m\u001b[1;32m      7\u001b[0m \u001b[0mt_data\u001b[0m\u001b[0;34m\u001b[0m\u001b[0;34m\u001b[0m\u001b[0m\n",
            "\u001b[0;31mTypeError\u001b[0m: 'tuple' object doesn't support item deletion"
          ]
        }
      ]
    }
  ]
}