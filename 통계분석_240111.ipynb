{
  "cells": [
    {
      "cell_type": "markdown",
      "metadata": {
        "id": "view-in-github",
        "colab_type": "text"
      },
      "source": [
        "<a href=\"https://colab.research.google.com/github/Indongspace/mulcamp34/blob/main/%ED%86%B5%EA%B3%84%EB%B6%84%EC%84%9D_240111.ipynb\" target=\"_parent\"><img src=\"https://colab.research.google.com/assets/colab-badge.svg\" alt=\"Open In Colab\"/></a>"
      ]
    },
    {
      "cell_type": "markdown",
      "id": "1014b53c-6034-4113-bc07-4ee6e9593311",
      "metadata": {
        "id": "1014b53c-6034-4113-bc07-4ee6e9593311"
      },
      "source": [
        "# 통계검정\n",
        "- p.294"
      ]
    },
    {
      "cell_type": "markdown",
      "id": "c364b8e1-ab00-4165-81ca-fdb4ef02e38a",
      "metadata": {
        "id": "c364b8e1-ab00-4165-81ca-fdb4ef02e38a"
      },
      "source": [
        "## 문제 상황\n",
        "- 편의점 감자튀김(무게 130g)\n",
        "- 무게 하나 잼. 122.02g\n",
        "- 2주간 매일 감자튀김 무게 잼\n",
        "  + 14개 표본의 평균 = 128.451g"
      ]
    },
    {
      "cell_type": "markdown",
      "id": "79257652-0b4d-408e-be60-f0fe6980e9b1",
      "metadata": {
        "id": "79257652-0b4d-408e-be60-f0fe6980e9b1"
      },
      "source": [
        "## 질문\n",
        "- 어떤 통계 검정 방법을 사용해야 할까?\n",
        "  + t-test, one sample t-test\n",
        "  + 표본 14개 ==> 정규성 검정 진행 후, 통과할때 one sample t-test\n",
        "- 귀무가설과 대립가설을 설정해보세요\n",
        "  + 귀무가설 : 모평균(130g)과 표본평균(128.451g)과 같다\n",
        "  + 대립가설 : 모평균과 표본평균은 같지 않다. (양측검정)\n",
        "  + 대립가설 : 모평균 > 포본평균 (단측검정)"
      ]
    },
    {
      "cell_type": "code",
      "execution_count": null,
      "id": "0d63d4e8-6a01-4633-ad3d-9aac423c8445",
      "metadata": {
        "id": "0d63d4e8-6a01-4633-ad3d-9aac423c8445",
        "outputId": "54f126bb-05e1-4b94-fcc8-8d148002a4c2"
      },
      "outputs": [
        {
          "name": "stdout",
          "output_type": "stream",
          "text": [
            "Collecting scipy\n",
            "  Using cached scipy-1.11.4-cp312-cp312-win_amd64.whl.metadata (60 kB)\n",
            "Requirement already satisfied: numpy<1.28.0,>=1.21.6 in c:\\users\\songinseung\\desktop\\dsproject\\venv\\lib\\site-packages (from scipy) (1.26.2)\n",
            "Using cached scipy-1.11.4-cp312-cp312-win_amd64.whl (43.7 MB)\n",
            "Installing collected packages: scipy\n",
            "Successfully installed scipy-1.11.4\n"
          ]
        }
      ],
      "source": [
        "!pip install scipy"
      ]
    },
    {
      "cell_type": "code",
      "execution_count": null,
      "id": "578d2ee1-22cd-4ab8-8fba-b5ee49df7b90",
      "metadata": {
        "id": "578d2ee1-22cd-4ab8-8fba-b5ee49df7b90",
        "outputId": "33e784c7-6b53-4bb4-ac6a-f777a29665de"
      },
      "outputs": [
        {
          "data": {
            "text/plain": [
              "'1.11.4'"
            ]
          },
          "execution_count": 2,
          "metadata": {},
          "output_type": "execute_result"
        }
      ],
      "source": [
        "import scipy\n",
        "scipy.__version__"
      ]
    },
    {
      "cell_type": "code",
      "execution_count": null,
      "id": "8868a988-0930-4981-9c59-bcf14384b1f8",
      "metadata": {
        "id": "8868a988-0930-4981-9c59-bcf14384b1f8"
      },
      "outputs": [],
      "source": [
        "import numpy as np\n",
        "import pandas as pd\n",
        "from scipy import stats"
      ]
    },
    {
      "cell_type": "code",
      "execution_count": null,
      "id": "d18add86-fc37-4ad5-8330-20fa6bdd9e6a",
      "metadata": {
        "id": "d18add86-fc37-4ad5-8330-20fa6bdd9e6a"
      },
      "outputs": [],
      "source": [
        "%precision 3\n",
        "np.random.seed(1111)"
      ]
    },
    {
      "cell_type": "code",
      "execution_count": null,
      "id": "12e60020-98ed-46aa-afb4-84b5550ebff4",
      "metadata": {
        "id": "12e60020-98ed-46aa-afb4-84b5550ebff4",
        "outputId": "6ea8e1a7-0362-4e34-bb63-582fc314c826"
      },
      "outputs": [
        {
          "data": {
            "text/plain": [
              "array([122.02, 131.73, 130.6 , 131.82, 132.05, 126.12, 124.43, 132.89,\n",
              "       122.79, 129.95, 126.14, 134.45, 127.64, 125.68])"
            ]
          },
          "execution_count": 23,
          "metadata": {},
          "output_type": "execute_result"
        }
      ],
      "source": [
        "df = pd.read_csv('data/data/ch11_potato.csv')\n",
        "sample = np.array(df['무게'])\n",
        "sample"
      ]
    },
    {
      "cell_type": "code",
      "execution_count": null,
      "id": "d3e6de35-c789-42c1-8d91-4224307b4170",
      "metadata": {
        "id": "d3e6de35-c789-42c1-8d91-4224307b4170",
        "outputId": "e59dc100-178c-441e-bca2-3c1a9fef40b8"
      },
      "outputs": [
        {
          "data": {
            "text/plain": [
              "128.451"
            ]
          },
          "execution_count": 24,
          "metadata": {},
          "output_type": "execute_result"
        }
      ],
      "source": [
        "# 표본평균\n",
        "s_mean = np.mean(sample)\n",
        "s_mean"
      ]
    },
    {
      "cell_type": "markdown",
      "id": "9f31106e-bc62-427c-a990-ac006e6af1fc",
      "metadata": {
        "id": "9f31106e-bc62-427c-a990-ac006e6af1fc"
      },
      "source": [
        "## 학생의 관심\n",
        "- 14개 표본평균이 모평균(130g) 보다 작은지 여부\n",
        "- 감자튀김의 표본집단이 정규분포를 따르고 있고(정규성 검정 할 필요 없음)\n",
        "  + 비모수 검정을 쓸 필요가 없다\n",
        "  + 모수 검정 실시\n",
        "- 모분산이 9임을 알고 있다고 전제"
      ]
    },
    {
      "cell_type": "code",
      "execution_count": null,
      "id": "49498333-3096-49f2-851d-f2bd70ad96d8",
      "metadata": {
        "id": "49498333-3096-49f2-851d-f2bd70ad96d8",
        "outputId": "c0758ba9-323b-4ca0-a6b9-b48c7b65e73b"
      },
      "outputs": [
        {
          "data": {
            "text/plain": [
              "128.681"
            ]
          },
          "execution_count": 62,
          "metadata": {},
          "output_type": "execute_result"
        }
      ],
      "source": [
        "rv = stats.norm(130, # 모평균, rv(임계값)\n",
        "               np.sqrt(9/14)) # 9 모분산, 14 표본의 개수\n",
        "rv.isf(0.95) # 0.95 신뢰구간 95%"
      ]
    },
    {
      "cell_type": "code",
      "execution_count": null,
      "id": "1646be3b-bced-44ec-98b3-56442c88b2cb",
      "metadata": {
        "id": "1646be3b-bced-44ec-98b3-56442c88b2cb"
      },
      "outputs": [],
      "source": [
        "#rv = stats.norm(130, # 모평균\n",
        "               #np.sqrt(9/30)) # 9 모분산, 14 표본의 개수\n",
        "#rv.isf(0.95) # 0.95 신뢰구간 95%"
      ]
    },
    {
      "cell_type": "markdown",
      "id": "1d4cf492-c02b-44ab-ac76-003f68f6448f",
      "metadata": {
        "id": "1d4cf492-c02b-44ab-ac76-003f68f6448f"
      },
      "source": [
        "### 검정통계량"
      ]
    },
    {
      "cell_type": "code",
      "execution_count": null,
      "id": "e68ce04b-82db-4c4c-8d28-cb769ffc9430",
      "metadata": {
        "id": "e68ce04b-82db-4c4c-8d28-cb769ffc9430",
        "outputId": "0280c914-9e04-4b2d-a6d3-786b9b0be186"
      },
      "outputs": [
        {
          "data": {
            "text/plain": [
              "-1.932"
            ]
          },
          "execution_count": 64,
          "metadata": {},
          "output_type": "execute_result"
        }
      ],
      "source": [
        "z = (s_mean-130) / np.sqrt(9/14)\n",
        "z # 검정통계량 / t-통계량"
      ]
    },
    {
      "cell_type": "code",
      "execution_count": null,
      "id": "9f990385-8c65-4657-953f-5be0734fb678",
      "metadata": {
        "id": "9f990385-8c65-4657-953f-5be0734fb678",
        "outputId": "47bf916c-1cb7-44c8-fbaa-b6aeb81ff7c9"
      },
      "outputs": [
        {
          "data": {
            "text/plain": [
              "-1.645"
            ]
          },
          "execution_count": 65,
          "metadata": {},
          "output_type": "execute_result"
        }
      ],
      "source": [
        "# 검정 통계량에 관한 임계값을 구하기\n",
        "rv = stats.norm()\n",
        "rv.isf(0.95)"
      ]
    },
    {
      "cell_type": "code",
      "execution_count": null,
      "id": "720af8c3-458a-4ed6-a219-ba9514c41835",
      "metadata": {
        "id": "720af8c3-458a-4ed6-a219-ba9514c41835",
        "outputId": "0332d86c-d6e9-4b80-ee41-a8e873dd9fad"
      },
      "outputs": [
        {
          "data": {
            "text/plain": [
              "0.027"
            ]
          },
          "execution_count": 66,
          "metadata": {},
          "output_type": "execute_result"
        }
      ],
      "source": [
        "rv.cdf(z) # 유의수준 0.05보다 작음\n",
        "\n",
        "# 귀무가설 : 모평균 130g == 표본평균 128.451g\n",
        "# 대립가설 : 모평균 != 표본평균\n",
        "\n",
        "# 대립가설 채택을 한다는 말은 통계에서는 존재하지 않음 / 귀무가설 채택 or 기각(=대립가설채택)"
      ]
    },
    {
      "cell_type": "code",
      "execution_count": null,
      "id": "0cbff77c-3e1a-42bc-95d8-b37deacdd05e",
      "metadata": {
        "id": "0cbff77c-3e1a-42bc-95d8-b37deacdd05e",
        "outputId": "03e4c956-f11b-405b-a56f-2845bf17b45e"
      },
      "outputs": [
        {
          "data": {
            "text/plain": [
              "(-1.960, 1.960)"
            ]
          },
          "execution_count": 67,
          "metadata": {},
          "output_type": "execute_result"
        }
      ],
      "source": [
        "# 양측검정\n",
        "z = (s_mean-130)/np.sqrt(9/14)\n",
        "rv = stats.norm()\n",
        "rv.interval(0.95) # 신뢰구간 95%"
      ]
    },
    {
      "cell_type": "code",
      "execution_count": null,
      "id": "f11f7fff-9eaf-40ef-a467-da934344d59b",
      "metadata": {
        "id": "f11f7fff-9eaf-40ef-a467-da934344d59b",
        "outputId": "ac68bbaa-9a2a-4214-fed1-d126a166d339"
      },
      "outputs": [
        {
          "data": {
            "text/plain": [
              "0.053"
            ]
          },
          "execution_count": 68,
          "metadata": {},
          "output_type": "execute_result"
        }
      ],
      "source": [
        "rv.cdf(z)*2 # p value"
      ]
    },
    {
      "cell_type": "markdown",
      "id": "3818b26f-5059-47e2-b838-5b17851c4db6",
      "metadata": {
        "id": "3818b26f-5059-47e2-b838-5b17851c4db6"
      },
      "source": [
        "## 질문\n",
        "- 단측검정, 양측검정을 어떤 상황에서 구분해서 사용하나요\n",
        "  + 양측검정 A와 B가 Not Same\n",
        "  + 단측검정 A>B , B>A"
      ]
    },
    {
      "cell_type": "markdown",
      "id": "1b22996f-9550-403a-bd07-53bab5cef8aa",
      "metadata": {
        "id": "1b22996f-9550-403a-bd07-53bab5cef8aa"
      },
      "source": [
        "## 가설검정의 두 가지 오류\n",
        "- 제 1종 오류 : 귀무가설이 옳을 때 귀무가설을 기각하는 오류\n",
        "- 제 2종 오류 : 대립가설이 옳을 때 귀무가설을 채택하는 오류"
      ]
    },
    {
      "cell_type": "markdown",
      "id": "1bf7f9c7-af3f-4830-8d27-c7a8f0da0c54",
      "metadata": {
        "id": "1bf7f9c7-af3f-4830-8d27-c7a8f0da0c54"
      },
      "source": [
        "### 제 1종 오류\n",
        "- 실제로 평균이 130g인데도 평균은 130g보다 작다고 결론을 내리는 상황\n",
        "  + False Positive (오탐)"
      ]
    },
    {
      "cell_type": "code",
      "execution_count": null,
      "id": "9bf86114-1e0c-4851-b6e1-ee0c3ec271b6",
      "metadata": {
        "id": "9bf86114-1e0c-4851-b6e1-ee0c3ec271b6",
        "outputId": "3d08f0e3-dedb-41f0-a749-db2115a84fea"
      },
      "outputs": [
        {
          "data": {
            "text/plain": [
              "0.053"
            ]
          },
          "execution_count": 77,
          "metadata": {},
          "output_type": "execute_result"
        }
      ],
      "source": [
        "rv = stats.norm(130,3)\n",
        "c = stats.norm().isf(0.95)\n",
        "n_samples = 10000\n",
        "cnt = 0\n",
        "for _ in range(n_samples):\n",
        "    sample_ = np.round(rv.rvs(14), 2)\n",
        "    s_mean_ = np.mean(sample_)\n",
        "    z = (s_mean_ - 130) / np.sqrt(9/14)\n",
        "    if z < c:\n",
        "        cnt += 1\n",
        "cnt / n_samples"
      ]
    },
    {
      "cell_type": "markdown",
      "id": "9a1f09d6-4303-4511-8c49-156a0b9f6c4b",
      "metadata": {
        "id": "9a1f09d6-4303-4511-8c49-156a0b9f6c4b"
      },
      "source": [
        "- 1종 오류를 범할 비율은 0.053 / 약 5%의 비율로 130g보다 작다고 잘못 탐지하는 것\n",
        "- 1종 오류를 범할 확률을 위험률\n",
        "- 엄격하게 적용하고 싶으면 유의수준 1%에서 가설검정을 수행"
      ]
    },
    {
      "cell_type": "markdown",
      "id": "2d41a5a3-1a2e-40b4-bb45-406190e88566",
      "metadata": {
        "id": "2d41a5a3-1a2e-40b4-bb45-406190e88566"
      },
      "source": [
        "### 제 2종 오류\n",
        "- 실제로 표본평균이 130g 보다 작음에도 불구하고 표본평균은 130g보다 작다라는 결론을 얻을 수 없는 상황\n",
        "  + 본래 검출해야 하는 것을 검출하지 못했으므로 미탐 false negative"
      ]
    },
    {
      "cell_type": "code",
      "execution_count": null,
      "id": "e6fbcda6-77a7-47f6-9e3d-64c3916450c1",
      "metadata": {
        "id": "e6fbcda6-77a7-47f6-9e3d-64c3916450c1",
        "outputId": "1437f268-f9a8-4234-d2e2-55896a474d5e"
      },
      "outputs": [
        {
          "data": {
            "text/plain": [
              "0.197"
            ]
          },
          "execution_count": 78,
          "metadata": {},
          "output_type": "execute_result"
        }
      ],
      "source": [
        "rv = stats.norm(128, 3) # 학생이 얻은 들은 정보 : 실제로는 평균이 128g이라더라\n",
        "c = stats.norm().isf(0.95)\n",
        "n_samples = 10000\n",
        "cnt = 0\n",
        "for _ in range(n_samples):\n",
        "    sample_ = np.round(rv.rvs(14), 2)\n",
        "    s_mean_ = np.mean(sample_)\n",
        "    z = (s_mean_ - 130) / np.sqrt(9/14)\n",
        "    if z >= c:\n",
        "        cnt += 1\n",
        "\n",
        "cnt / n_samples"
      ]
    },
    {
      "cell_type": "markdown",
      "id": "96e241a0-b7ef-43b8-a874-3519137991e5",
      "metadata": {
        "id": "96e241a0-b7ef-43b8-a874-3519137991e5"
      },
      "source": [
        "- 0.198의 의미는 검정력/ 제대로 탐지하지 못할 확률이 20% 정\n",
        "- 제 2종 오류는 언제나 모집단의 정보에 의존한다.\n",
        "  + 분석가는 모집단의 구체적인 정보를 알 방법이 없다"
      ]
    },
    {
      "cell_type": "code",
      "execution_count": null,
      "id": "1d2736e4-b952-43ce-b95c-6db3710c5856",
      "metadata": {
        "id": "1d2736e4-b952-43ce-b95c-6db3710c5856",
        "outputId": "c93c49c7-3543-4c95-ede7-a7d1022c1f5d"
      },
      "outputs": [
        {
          "data": {
            "text/plain": [
              "0.000"
            ]
          },
          "execution_count": 79,
          "metadata": {},
          "output_type": "execute_result"
        }
      ],
      "source": [
        "rv = stats.norm(120, 3) # 120g으로 바꾸면\n",
        "c = stats.norm().isf(0.95)\n",
        "n_samples = 10000\n",
        "cnt = 0\n",
        "for _ in range(n_samples):\n",
        "    sample_ = np.round(rv.rvs(14), 2)\n",
        "    s_mean_ = np.mean(sample_)\n",
        "    z = (s_mean_ - 130) / np.sqrt(9/14)\n",
        "    if z >= c:\n",
        "        cnt += 1\n",
        "\n",
        "cnt / n_samples"
      ]
    },
    {
      "cell_type": "markdown",
      "id": "71a7afda-1dc9-45ef-8c75-a058329ba8e6",
      "metadata": {
        "id": "71a7afda-1dc9-45ef-8c75-a058329ba8e6"
      },
      "source": [
        "## 모분산을 안다\n",
        "- 현실적으로 모집단을 아는 것은 불가능\n",
        "- 모분산을 알고 있다는 뜻은 모집단을 알고 있다 => 모평균도 구할 수 있음 => 모평균에 대한 검정을 우리가 굳이 할 필요가 있나?"
      ]
    },
    {
      "cell_type": "code",
      "execution_count": null,
      "id": "027da272-7d2f-4fea-a97a-2e8d76c91743",
      "metadata": {
        "id": "027da272-7d2f-4fea-a97a-2e8d76c91743"
      },
      "outputs": [],
      "source": [
        "%precision 3\n",
        "np.random.seed(1111)\n",
        "\n",
        "def pmean_test(sample, mean0, alpha=0.05):\n",
        "    '''\n",
        "    sample : 표본 샘플 데이터\n",
        "    mean0 : 모평균을 제안 (감자칩의 무게와 같이 이미 기 제안이 된 것)\n",
        "    alpha : 신뢰구간 95% 수준의 신뢰구간\n",
        "    '''\n",
        "    s_mean = np.mean(sample)\n",
        "    u_var = np.var(sample, ddof=1)\n",
        "    n = len(sample)\n",
        "    rv = stats.t(df=n-1)\n",
        "    interval = rv.interval(1-alpha)\n",
        "\n",
        "    t = (s_mean - mean0) / np.sqrt(u_var/n)\n",
        "    print(f't통계량 값: {t:3f}')\n",
        "    if interval[0] <= t <= interval[1]:\n",
        "        print('귀무가설을 채택')\n",
        "    else:\n",
        "        print('귀무가설을 기각')\n",
        "\n",
        "    if t < 0:\n",
        "        p = rv.cdf(t) * 2\n",
        "    else:\n",
        "        p = (1 - rv.cdf(t)) * 2\n",
        "    print(f'p값은 {p:.3f}')"
      ]
    },
    {
      "cell_type": "code",
      "execution_count": null,
      "id": "d46a576e-aa96-4399-8be5-2fb7c267f18a",
      "metadata": {
        "id": "d46a576e-aa96-4399-8be5-2fb7c267f18a",
        "outputId": "551de661-540e-434f-c23f-826d040eee17"
      },
      "outputs": [
        {
          "name": "stdout",
          "output_type": "stream",
          "text": [
            "t통계량 값: -1.455196\n",
            "귀무가설을 채택\n",
            "p값은 0.169\n"
          ]
        }
      ],
      "source": [
        "pmean_test(sample,130)"
      ]
    },
    {
      "cell_type": "code",
      "execution_count": null,
      "id": "13ba38f3-de02-4f8a-bd3f-070957e07deb",
      "metadata": {
        "id": "13ba38f3-de02-4f8a-bd3f-070957e07deb",
        "outputId": "4b6724d3-fdb7-4a16-c90c-785ece0f9cca"
      },
      "outputs": [
        {
          "data": {
            "text/plain": [
              "(-1.455, 0.169)"
            ]
          },
          "execution_count": 74,
          "metadata": {},
          "output_type": "execute_result"
        }
      ],
      "source": [
        "t,p = stats.ttest_1samp(sample,130)\n",
        "t,p"
      ]
    },
    {
      "cell_type": "markdown",
      "id": "b0482a2c-71bf-4860-8d30-702db794a689",
      "metadata": {
        "id": "b0482a2c-71bf-4860-8d30-702db794a689"
      },
      "source": [
        "## 비전공자 / 이공계\n",
        "- 비전공자 : 해당되는 수식을 일반인들에게 어떻게 풀어서 쉽게 설명을 해줄 것인가가 포인트, 보고서 작성 시\n",
        "- 이공계 : 수식을 잘 정리해서 블로그 등 정리하는 것이 도움"
      ]
    },
    {
      "cell_type": "markdown",
      "id": "ab0459b1-0218-4aa0-80f9-b3ec34144de7",
      "metadata": {
        "id": "ab0459b1-0218-4aa0-80f9-b3ec34144de7"
      },
      "source": [
        "### z 통계량 / t 통계량\n",
        "- 모집단을 알고, 모평균을 알고, 모분산을 다 알고 있다.\n",
        "  + z-검정 : z-통계량\n",
        "\n",
        "- 표본을 추출한다. 표본평균을 알고, 표본분산을 알고있다.\n",
        "  + t-검정 : t-통계량"
      ]
    },
    {
      "cell_type": "markdown",
      "id": "d0193761-9385-4c1a-a1d9-02ca6e8a4ee6",
      "metadata": {
        "id": "d0193761-9385-4c1a-a1d9-02ca6e8a4ee6"
      },
      "source": [
        "# 2표본 문제에 관한 가설검정 (p.314)\n",
        "- 대응표본 : 정규분포를 가정할 수 있음\n",
        "  + 정규성 검정 통과 : 대응표본 t-검정\n",
        "  + 정규성 검정 통과 실패 : 비모수 검정, 윌콕슨의 부호순위 검정\n",
        "- 독립표본 : 정규분포를 가정할 수 있음\n",
        "  + 정규성 검정 통과 : 독립비교 t-검정\n",
        "  + 정규성 검정 통과 실패 : 맨-위트니의 U 검정"
      ]
    },
    {
      "cell_type": "markdown",
      "id": "e80263a7-f45e-4f44-8515-f0acf5e8e572",
      "metadata": {
        "id": "e80263a7-f45e-4f44-8515-f0acf5e8e572"
      },
      "source": [
        "### 대응표본 t-검정\n",
        "- 학생은 친구 20명에게 1주일간 근력 운동을 하게 함 (intervention, 개입)\n",
        "- 운동 전후에 집중력을 측정하는 테스트 받게 됨\n",
        "- t-test 가설설정을 한다면 평균이라는 것을 중요시해야 함.\n",
        "\n",
        "- 가설검정\n",
        "  + 귀무가설 : 운동 전 후 집중력 평균의 차이가 없을 것이다. (전=후, 차이=0)\n",
        "  + 대립가설 : 운동 전 후 집중력 평균의 차이가 있을 것이다. (전!=후, 차이!=0)"
      ]
    },
    {
      "cell_type": "code",
      "execution_count": null,
      "id": "ea89c670-84c1-4a2e-a0ee-13e7bc8cf686",
      "metadata": {
        "id": "ea89c670-84c1-4a2e-a0ee-13e7bc8cf686",
        "outputId": "d929f6da-6dd7-4dd4-c861-8411517dba65"
      },
      "outputs": [
        {
          "data": {
            "text/html": [
              "<div>\n",
              "<style scoped>\n",
              "    .dataframe tbody tr th:only-of-type {\n",
              "        vertical-align: middle;\n",
              "    }\n",
              "\n",
              "    .dataframe tbody tr th {\n",
              "        vertical-align: top;\n",
              "    }\n",
              "\n",
              "    .dataframe thead th {\n",
              "        text-align: right;\n",
              "    }\n",
              "</style>\n",
              "<table border=\"1\" class=\"dataframe\">\n",
              "  <thead>\n",
              "    <tr style=\"text-align: right;\">\n",
              "      <th></th>\n",
              "      <th>전</th>\n",
              "      <th>후</th>\n",
              "      <th>차</th>\n",
              "    </tr>\n",
              "  </thead>\n",
              "  <tbody>\n",
              "    <tr>\n",
              "      <th>0</th>\n",
              "      <td>59</td>\n",
              "      <td>41</td>\n",
              "      <td>-18</td>\n",
              "    </tr>\n",
              "    <tr>\n",
              "      <th>1</th>\n",
              "      <td>52</td>\n",
              "      <td>63</td>\n",
              "      <td>11</td>\n",
              "    </tr>\n",
              "    <tr>\n",
              "      <th>2</th>\n",
              "      <td>55</td>\n",
              "      <td>68</td>\n",
              "      <td>13</td>\n",
              "    </tr>\n",
              "    <tr>\n",
              "      <th>3</th>\n",
              "      <td>61</td>\n",
              "      <td>59</td>\n",
              "      <td>-2</td>\n",
              "    </tr>\n",
              "    <tr>\n",
              "      <th>4</th>\n",
              "      <td>59</td>\n",
              "      <td>84</td>\n",
              "      <td>25</td>\n",
              "    </tr>\n",
              "  </tbody>\n",
              "</table>\n",
              "</div>"
            ],
            "text/plain": [
              "    전   후   차\n",
              "0  59  41 -18\n",
              "1  52  63  11\n",
              "2  55  68  13\n",
              "3  61  59  -2\n",
              "4  59  84  25"
            ]
          },
          "execution_count": 86,
          "metadata": {},
          "output_type": "execute_result"
        }
      ],
      "source": [
        "import pandas as pd\n",
        "\n",
        "training_rel = pd.read_csv('data/data/ch11_training_rel.csv')\n",
        "training_rel['차']=training_rel['후']-training_rel['전']\n",
        "training_rel.head()"
      ]
    },
    {
      "cell_type": "code",
      "execution_count": null,
      "id": "77fe0ba9-baae-43a6-8a69-55ed3a07dde2",
      "metadata": {
        "id": "77fe0ba9-baae-43a6-8a69-55ed3a07dde2",
        "outputId": "d4ab4839-7d6e-4dcb-bef0-82315f136615"
      },
      "outputs": [
        {
          "data": {
            "text/plain": [
              "(2.204, 0.040)"
            ]
          },
          "execution_count": 88,
          "metadata": {},
          "output_type": "execute_result"
        }
      ],
      "source": [
        "from scipy import stats\n",
        "t,p = stats.ttest_1samp(training_rel['차'],0)\n",
        "t,p"
      ]
    },
    {
      "cell_type": "code",
      "execution_count": null,
      "id": "de14b02b-707f-4899-9812-4329d920e3c2",
      "metadata": {
        "id": "de14b02b-707f-4899-9812-4329d920e3c2",
        "outputId": "f22699a3-3d7a-4719-9de1-f79238c1a6ac"
      },
      "outputs": [
        {
          "data": {
            "text/plain": [
              "(2.204, 0.040)"
            ]
          },
          "execution_count": 89,
          "metadata": {},
          "output_type": "execute_result"
        }
      ],
      "source": [
        "t,p = stats.ttest_rel(training_rel['후'],training_rel['전'])\n",
        "t,p"
      ]
    },
    {
      "cell_type": "markdown",
      "id": "209f0b26-50e5-4a0d-beb4-2e745ebc344f",
      "metadata": {
        "id": "209f0b26-50e5-4a0d-beb4-2e745ebc344f"
      },
      "source": [
        "## 보고서 작성\n",
        "- t-통계량/p-value 값"
      ]
    },
    {
      "cell_type": "markdown",
      "id": "e77d3c0a-1a80-4f15-a943-d2b68ebc67b7",
      "metadata": {
        "id": "e77d3c0a-1a80-4f15-a943-d2b68ebc67b7"
      },
      "source": [
        "전 / 후 시각화코드 / 전 평균값, 후 평균값\n",
        "\n",
        "두 그래프의 평균의 차이가 유의미하게 나타났고, 후 평균값이 더 높게 나타난 것 확인"
      ]
    },
    {
      "cell_type": "markdown",
      "id": "8f6be1d3-0ef0-4cbb-976e-bd8426a2a959",
      "metadata": {
        "id": "8f6be1d3-0ef0-4cbb-976e-bd8426a2a959"
      },
      "source": [
        "## 독립비교 t-검정 (p.318)\n",
        "- A 학생 그룹 인문계열 , B 학생 그룹 체육계열\n",
        "- A 그룹, B 그룹 사이에 집중력 테스트 평균이 차이가 나지 않을까\n",
        "- 이 데이터로부터 어떤 검정을 수행해야 A 학생과 B 학생 학급의 집중력에 유의한 차이가 있는지 확인\n",
        "\n",
        "- 가설설정\n",
        "  + 귀무가설 : A그룹의 평균과 B그룹의 평균 차이는 없다.\n",
        "  + 대립가설 : A그룹의 평균과 B그룹의 평균 차이는 있다.\n",
        "\n",
        "- 독립비교 t-검정 두가지 가정\n",
        "  + 1) 각 그룹 데이터의 정규성을 검정\n",
        "    2) 두 그룹의 분산이 같다(=등분산성 검정),levene 검정 시행하더라"
      ]
    },
    {
      "cell_type": "code",
      "execution_count": null,
      "id": "8bab17b8-d43a-4429-bddc-0e9ecb0f4813",
      "metadata": {
        "id": "8bab17b8-d43a-4429-bddc-0e9ecb0f4813",
        "outputId": "daad5bbe-f589-4357-c87e-20049c28ec13"
      },
      "outputs": [
        {
          "data": {
            "text/html": [
              "<div>\n",
              "<style scoped>\n",
              "    .dataframe tbody tr th:only-of-type {\n",
              "        vertical-align: middle;\n",
              "    }\n",
              "\n",
              "    .dataframe tbody tr th {\n",
              "        vertical-align: top;\n",
              "    }\n",
              "\n",
              "    .dataframe thead th {\n",
              "        text-align: right;\n",
              "    }\n",
              "</style>\n",
              "<table border=\"1\" class=\"dataframe\">\n",
              "  <thead>\n",
              "    <tr style=\"text-align: right;\">\n",
              "      <th></th>\n",
              "      <th>A</th>\n",
              "      <th>B</th>\n",
              "    </tr>\n",
              "  </thead>\n",
              "  <tbody>\n",
              "    <tr>\n",
              "      <th>0</th>\n",
              "      <td>47</td>\n",
              "      <td>49</td>\n",
              "    </tr>\n",
              "    <tr>\n",
              "      <th>1</th>\n",
              "      <td>50</td>\n",
              "      <td>52</td>\n",
              "    </tr>\n",
              "    <tr>\n",
              "      <th>2</th>\n",
              "      <td>37</td>\n",
              "      <td>54</td>\n",
              "    </tr>\n",
              "    <tr>\n",
              "      <th>3</th>\n",
              "      <td>60</td>\n",
              "      <td>48</td>\n",
              "    </tr>\n",
              "    <tr>\n",
              "      <th>4</th>\n",
              "      <td>39</td>\n",
              "      <td>51</td>\n",
              "    </tr>\n",
              "  </tbody>\n",
              "</table>\n",
              "</div>"
            ],
            "text/plain": [
              "    A   B\n",
              "0  47  49\n",
              "1  50  52\n",
              "2  37  54\n",
              "3  60  48\n",
              "4  39  51"
            ]
          },
          "execution_count": 91,
          "metadata": {},
          "output_type": "execute_result"
        }
      ],
      "source": [
        "training_ind = pd.read_csv('data/data/ch11_training_ind.csv')\n",
        "training_ind.head() # training_ind.shape"
      ]
    },
    {
      "cell_type": "code",
      "execution_count": null,
      "id": "78455c22-0eaf-4560-a382-29a75c7c966e",
      "metadata": {
        "id": "78455c22-0eaf-4560-a382-29a75c7c966e",
        "outputId": "b276e524-78ab-4a8d-949f-bc057fa661b9"
      },
      "outputs": [
        {
          "data": {
            "text/plain": [
              "(-1.761, 0.086)"
            ]
          },
          "execution_count": 94,
          "metadata": {},
          "output_type": "execute_result"
        }
      ],
      "source": [
        "# p.320\n",
        "t,p = stats.ttest_ind(training_ind['A'],training_ind['B'],equal_var=True) # 등분산성이 같다\n",
        "t,p"
      ]
    },
    {
      "cell_type": "markdown",
      "id": "eff089c0-763a-4b39-9ab0-8db207ecc91d",
      "metadata": {
        "id": "eff089c0-763a-4b39-9ab0-8db207ecc91d"
      },
      "source": [
        "- 결론은 두 그룹의 평균차이는 없음, 귀무가설 채택"
      ]
    },
    {
      "cell_type": "code",
      "execution_count": null,
      "id": "b2ceadad-83ae-48f3-b8e9-0ab09dd944e1",
      "metadata": {
        "id": "b2ceadad-83ae-48f3-b8e9-0ab09dd944e1",
        "outputId": "d164d309-5920-44e7-8c5f-0fdc7c3001e5"
      },
      "outputs": [
        {
          "data": {
            "text/plain": [
              "(-1.761, 0.087)"
            ]
          },
          "execution_count": 98,
          "metadata": {},
          "output_type": "execute_result"
        }
      ],
      "source": [
        "# levene 검정 이후, 살펴봤더니 등분산성이 다르더라\n",
        "t,p = stats.ttest_ind(training_ind['A'],training_ind['B'],equal_var=False)\n",
        "t,p"
      ]
    },
    {
      "cell_type": "markdown",
      "id": "264ad113-70a8-490c-a099-795c7ae2e53b",
      "metadata": {
        "id": "264ad113-70a8-490c-a099-795c7ae2e53b"
      },
      "source": [
        "### 비모수 검정\n",
        "- 모수 검정에서 각 가정을 만족시키지 못할 때, 비모수검정을 씀"
      ]
    },
    {
      "cell_type": "markdown",
      "id": "a7c3b535-266a-4c5c-ab38-ee5af600ba12",
      "metadata": {
        "id": "a7c3b535-266a-4c5c-ab38-ee5af600ba12"
      },
      "source": [
        "### 윌콕슨의 부호순위검정\n",
        "- 대응표본에서 차이에 정규분포를 만족시키지 못할 때\n",
        "  + 평균 차이 아님(x)\n",
        "  + 중앙값 차이에 대한 검정(o)\n",
        "  + 중앙값, 50%에 해당하는 값을"
      ]
    },
    {
      "cell_type": "code",
      "execution_count": null,
      "id": "21cc6da3-4475-4670-8ec4-d040d6c83757",
      "metadata": {
        "id": "21cc6da3-4475-4670-8ec4-d040d6c83757",
        "outputId": "3e63baae-e53b-422c-ba4a-d82cd90d5876"
      },
      "outputs": [
        {
          "data": {
            "text/html": [
              "<div>\n",
              "<style scoped>\n",
              "    .dataframe tbody tr th:only-of-type {\n",
              "        vertical-align: middle;\n",
              "    }\n",
              "\n",
              "    .dataframe tbody tr th {\n",
              "        vertical-align: top;\n",
              "    }\n",
              "\n",
              "    .dataframe thead th {\n",
              "        text-align: right;\n",
              "    }\n",
              "</style>\n",
              "<table border=\"1\" class=\"dataframe\">\n",
              "  <thead>\n",
              "    <tr style=\"text-align: right;\">\n",
              "      <th></th>\n",
              "      <th>전</th>\n",
              "      <th>후</th>\n",
              "      <th>차</th>\n",
              "    </tr>\n",
              "  </thead>\n",
              "  <tbody>\n",
              "    <tr>\n",
              "      <th>0</th>\n",
              "      <td>59</td>\n",
              "      <td>41</td>\n",
              "      <td>-18</td>\n",
              "    </tr>\n",
              "    <tr>\n",
              "      <th>1</th>\n",
              "      <td>52</td>\n",
              "      <td>63</td>\n",
              "      <td>11</td>\n",
              "    </tr>\n",
              "    <tr>\n",
              "      <th>2</th>\n",
              "      <td>55</td>\n",
              "      <td>68</td>\n",
              "      <td>13</td>\n",
              "    </tr>\n",
              "    <tr>\n",
              "      <th>3</th>\n",
              "      <td>61</td>\n",
              "      <td>59</td>\n",
              "      <td>-2</td>\n",
              "    </tr>\n",
              "    <tr>\n",
              "      <th>4</th>\n",
              "      <td>59</td>\n",
              "      <td>84</td>\n",
              "      <td>25</td>\n",
              "    </tr>\n",
              "    <tr>\n",
              "      <th>5</th>\n",
              "      <td>45</td>\n",
              "      <td>37</td>\n",
              "      <td>-8</td>\n",
              "    </tr>\n",
              "  </tbody>\n",
              "</table>\n",
              "</div>"
            ],
            "text/plain": [
              "    전   후   차\n",
              "0  59  41 -18\n",
              "1  52  63  11\n",
              "2  55  68  13\n",
              "3  61  59  -2\n",
              "4  59  84  25\n",
              "5  45  37  -8"
            ]
          },
          "execution_count": 102,
          "metadata": {},
          "output_type": "execute_result"
        }
      ],
      "source": [
        "training_rel = pd.read_csv('data/data/ch11_training_rel.csv')\n",
        "toy_df = training_rel[:6].copy()\n",
        "toy_df['차'] = toy_df['후'] - toy_df['전']\n",
        "toy_df"
      ]
    },
    {
      "cell_type": "code",
      "execution_count": null,
      "id": "50085c09-f81f-4e66-bba9-4c552f33006f",
      "metadata": {
        "id": "50085c09-f81f-4e66-bba9-4c552f33006f",
        "outputId": "1bd906e6-c7e0-4317-a635-02b5a24c79af"
      },
      "outputs": [
        {
          "data": {
            "text/html": [
              "<div>\n",
              "<style scoped>\n",
              "    .dataframe tbody tr th:only-of-type {\n",
              "        vertical-align: middle;\n",
              "    }\n",
              "\n",
              "    .dataframe tbody tr th {\n",
              "        vertical-align: top;\n",
              "    }\n",
              "\n",
              "    .dataframe thead th {\n",
              "        text-align: right;\n",
              "    }\n",
              "</style>\n",
              "<table border=\"1\" class=\"dataframe\">\n",
              "  <thead>\n",
              "    <tr style=\"text-align: right;\">\n",
              "      <th></th>\n",
              "      <th>전</th>\n",
              "      <th>후</th>\n",
              "      <th>차</th>\n",
              "      <th>순위</th>\n",
              "    </tr>\n",
              "  </thead>\n",
              "  <tbody>\n",
              "    <tr>\n",
              "      <th>0</th>\n",
              "      <td>59</td>\n",
              "      <td>41</td>\n",
              "      <td>-18</td>\n",
              "      <td>5</td>\n",
              "    </tr>\n",
              "    <tr>\n",
              "      <th>1</th>\n",
              "      <td>52</td>\n",
              "      <td>63</td>\n",
              "      <td>11</td>\n",
              "      <td>3</td>\n",
              "    </tr>\n",
              "    <tr>\n",
              "      <th>2</th>\n",
              "      <td>55</td>\n",
              "      <td>68</td>\n",
              "      <td>13</td>\n",
              "      <td>4</td>\n",
              "    </tr>\n",
              "    <tr>\n",
              "      <th>3</th>\n",
              "      <td>61</td>\n",
              "      <td>59</td>\n",
              "      <td>-2</td>\n",
              "      <td>1</td>\n",
              "    </tr>\n",
              "    <tr>\n",
              "      <th>4</th>\n",
              "      <td>59</td>\n",
              "      <td>84</td>\n",
              "      <td>25</td>\n",
              "      <td>6</td>\n",
              "    </tr>\n",
              "    <tr>\n",
              "      <th>5</th>\n",
              "      <td>45</td>\n",
              "      <td>37</td>\n",
              "      <td>-8</td>\n",
              "      <td>2</td>\n",
              "    </tr>\n",
              "  </tbody>\n",
              "</table>\n",
              "</div>"
            ],
            "text/plain": [
              "    전   후   차  순위\n",
              "0  59  41 -18   5\n",
              "1  52  63  11   3\n",
              "2  55  68  13   4\n",
              "3  61  59  -2   1\n",
              "4  59  84  25   6\n",
              "5  45  37  -8   2"
            ]
          },
          "execution_count": 103,
          "metadata": {},
          "output_type": "execute_result"
        }
      ],
      "source": [
        "# 순위 적용\n",
        "diff = toy_df['후'] - toy_df['전']\n",
        "rank = stats.rankdata(abs(diff)).astype(int)\n",
        "toy_df['순위'] = rank\n",
        "toy_df"
      ]
    },
    {
      "cell_type": "code",
      "execution_count": null,
      "id": "54bd32f1-9669-4de4-81f9-9482dd6477f4",
      "metadata": {
        "id": "54bd32f1-9669-4de4-81f9-9482dd6477f4",
        "outputId": "6206ac07-88c8-479c-e39a-b4873e61fcdf"
      },
      "outputs": [
        {
          "data": {
            "text/plain": [
              "(8, 13)"
            ]
          },
          "execution_count": 105,
          "metadata": {},
          "output_type": "execute_result"
        }
      ],
      "source": [
        "import numpy as np\n",
        "\n",
        "r_minus = np.sum((diff<0)*rank)\n",
        "r_plus = np.sum((diff>0)*rank)\n",
        "\n",
        "r_minus,r_plus # 검정통계량 8"
      ]
    },
    {
      "cell_type": "code",
      "execution_count": null,
      "id": "343097df-9e69-429f-9835-4a557ad77215",
      "metadata": {
        "id": "343097df-9e69-429f-9835-4a557ad77215",
        "outputId": "542726f2-9456-4074-e951-d2328a30bce1"
      },
      "outputs": [
        {
          "data": {
            "text/plain": [
              "(0, 21)"
            ]
          },
          "execution_count": 106,
          "metadata": {},
          "output_type": "execute_result"
        }
      ],
      "source": [
        "toy_df['후'] = toy_df['전'] + np.arange(1, 7)\n",
        "diff = toy_df['후'] - toy_df['전']\n",
        "rank = stats.rankdata(abs(diff)).astype(int)\n",
        "toy_df['차'] = diff\n",
        "toy_df['순위'] = rank\n",
        "\n",
        "r_minus = np.sum((diff<0)*rank)\n",
        "r_plus = np.sum((diff>0)*rank)\n",
        "r_minus,r_plus"
      ]
    },
    {
      "cell_type": "code",
      "execution_count": null,
      "id": "8de296a0-29ec-45a5-b350-61191fd17b0a",
      "metadata": {
        "id": "8de296a0-29ec-45a5-b350-61191fd17b0a",
        "outputId": "ef48b84c-7873-4b5b-b48b-224a319f670d"
      },
      "outputs": [
        {
          "data": {
            "text/html": [
              "<div>\n",
              "<style scoped>\n",
              "    .dataframe tbody tr th:only-of-type {\n",
              "        vertical-align: middle;\n",
              "    }\n",
              "\n",
              "    .dataframe tbody tr th {\n",
              "        vertical-align: top;\n",
              "    }\n",
              "\n",
              "    .dataframe thead th {\n",
              "        text-align: right;\n",
              "    }\n",
              "</style>\n",
              "<table border=\"1\" class=\"dataframe\">\n",
              "  <thead>\n",
              "    <tr style=\"text-align: right;\">\n",
              "      <th></th>\n",
              "      <th>전</th>\n",
              "      <th>후</th>\n",
              "      <th>차</th>\n",
              "      <th>순위</th>\n",
              "    </tr>\n",
              "  </thead>\n",
              "  <tbody>\n",
              "    <tr>\n",
              "      <th>0</th>\n",
              "      <td>59</td>\n",
              "      <td>60</td>\n",
              "      <td>1</td>\n",
              "      <td>1</td>\n",
              "    </tr>\n",
              "    <tr>\n",
              "      <th>1</th>\n",
              "      <td>52</td>\n",
              "      <td>50</td>\n",
              "      <td>-2</td>\n",
              "      <td>2</td>\n",
              "    </tr>\n",
              "    <tr>\n",
              "      <th>2</th>\n",
              "      <td>55</td>\n",
              "      <td>52</td>\n",
              "      <td>-3</td>\n",
              "      <td>3</td>\n",
              "    </tr>\n",
              "    <tr>\n",
              "      <th>3</th>\n",
              "      <td>61</td>\n",
              "      <td>65</td>\n",
              "      <td>4</td>\n",
              "      <td>4</td>\n",
              "    </tr>\n",
              "    <tr>\n",
              "      <th>4</th>\n",
              "      <td>59</td>\n",
              "      <td>64</td>\n",
              "      <td>5</td>\n",
              "      <td>5</td>\n",
              "    </tr>\n",
              "    <tr>\n",
              "      <th>5</th>\n",
              "      <td>45</td>\n",
              "      <td>39</td>\n",
              "      <td>-6</td>\n",
              "      <td>6</td>\n",
              "    </tr>\n",
              "  </tbody>\n",
              "</table>\n",
              "</div>"
            ],
            "text/plain": [
              "    전   후  차  순위\n",
              "0  59  60  1   1\n",
              "1  52  50 -2   2\n",
              "2  55  52 -3   3\n",
              "3  61  65  4   4\n",
              "4  59  64  5   5\n",
              "5  45  39 -6   6"
            ]
          },
          "execution_count": 107,
          "metadata": {},
          "output_type": "execute_result"
        }
      ],
      "source": [
        "toy_df['후'] = toy_df['전'] + [1, -2, -3, 4, 5, -6]\n",
        "diff = toy_df['후'] - toy_df['전']\n",
        "rank = stats.rankdata(abs(diff)).astype(int)\n",
        "toy_df['차'] = diff\n",
        "toy_df['순위'] = rank\n",
        "toy_df"
      ]
    },
    {
      "cell_type": "code",
      "execution_count": null,
      "id": "88b012b5-a60d-434c-8787-10195cbb9641",
      "metadata": {
        "id": "88b012b5-a60d-434c-8787-10195cbb9641",
        "outputId": "ba97bfe3-04b0-4981-9dfe-2f1f683162c8"
      },
      "outputs": [
        {
          "data": {
            "text/plain": [
              "(11, 10)"
            ]
          },
          "execution_count": 109,
          "metadata": {},
          "output_type": "execute_result"
        }
      ],
      "source": [
        "r_minus = np.sum((diff<0)*rank)\n",
        "r_plus = np.sum((diff>0)*rank)\n",
        "r_minus,r_plus # 검정통계량 10"
      ]
    }
  ],
  "metadata": {
    "kernelspec": {
      "display_name": "Python 3 (ipykernel)",
      "language": "python",
      "name": "python3"
    },
    "language_info": {
      "codemirror_mode": {
        "name": "ipython",
        "version": 3
      },
      "file_extension": ".py",
      "mimetype": "text/x-python",
      "name": "python",
      "nbconvert_exporter": "python",
      "pygments_lexer": "ipython3",
      "version": "3.12.1"
    },
    "colab": {
      "provenance": [],
      "include_colab_link": true
    }
  },
  "nbformat": 4,
  "nbformat_minor": 5
}