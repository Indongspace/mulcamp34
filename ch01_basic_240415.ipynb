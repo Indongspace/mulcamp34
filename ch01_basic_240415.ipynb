{
  "nbformat": 4,
  "nbformat_minor": 0,
  "metadata": {
    "colab": {
      "provenance": [],
      "include_colab_link": true
    },
    "kernelspec": {
      "name": "python3",
      "display_name": "Python 3"
    },
    "language_info": {
      "name": "python"
    }
  },
  "cells": [
    {
      "cell_type": "markdown",
      "metadata": {
        "id": "view-in-github",
        "colab_type": "text"
      },
      "source": [
        "<a href=\"https://colab.research.google.com/github/Indongspace/mulcamp34/blob/main/ch01_basic_240415.ipynb\" target=\"_parent\"><img src=\"https://colab.research.google.com/assets/colab-badge.svg\" alt=\"Open In Colab\"/></a>"
      ]
    },
    {
      "cell_type": "markdown",
      "source": [
        "## Google Drive 연동"
      ],
      "metadata": {
        "id": "_SQdsOoEpHuw"
      }
    },
    {
      "cell_type": "code",
      "execution_count": 1,
      "metadata": {
        "colab": {
          "base_uri": "https://localhost:8080/"
        },
        "id": "rGjr66RepFgV",
        "outputId": "b2041ae8-1352-4c58-8cea-85e446e25d52"
      },
      "outputs": [
        {
          "output_type": "stream",
          "name": "stdout",
          "text": [
            "Mounted at /content/drive\n"
          ]
        }
      ],
      "source": [
        "from google.colab import drive\n",
        "drive.mount(\"/content/drive\")"
      ]
    },
    {
      "cell_type": "markdown",
      "source": [
        "## Spark 설치"
      ],
      "metadata": {
        "id": "NWmov29tpc_5"
      }
    },
    {
      "cell_type": "code",
      "source": [
        "!apt-get install openjdk-8-jdk-headless\n",
        "!wget -q https://dlcdn.apache.org/spark/spark-3.5.1/spark-3.5.1-bin-hadoop3.tgz\n",
        "!tar -zxf spark-3.5.1-bin-hadoop3.tgz"
      ],
      "metadata": {
        "colab": {
          "base_uri": "https://localhost:8080/"
        },
        "id": "Rxwwd78npeX7",
        "outputId": "9ba56325-fc74-48d8-b5a6-ce6220df92fd"
      },
      "execution_count": 2,
      "outputs": [
        {
          "output_type": "stream",
          "name": "stdout",
          "text": [
            "Reading package lists... Done\n",
            "Building dependency tree... Done\n",
            "Reading state information... Done\n",
            "The following additional packages will be installed:\n",
            "  libxtst6 openjdk-8-jre-headless\n",
            "Suggested packages:\n",
            "  openjdk-8-demo openjdk-8-source libnss-mdns fonts-dejavu-extra fonts-nanum fonts-ipafont-gothic\n",
            "  fonts-ipafont-mincho fonts-wqy-microhei fonts-wqy-zenhei fonts-indic\n",
            "The following NEW packages will be installed:\n",
            "  libxtst6 openjdk-8-jdk-headless openjdk-8-jre-headless\n",
            "0 upgraded, 3 newly installed, 0 to remove and 45 not upgraded.\n",
            "Need to get 39.7 MB of archives.\n",
            "After this operation, 144 MB of additional disk space will be used.\n",
            "Get:1 http://archive.ubuntu.com/ubuntu jammy/main amd64 libxtst6 amd64 2:1.2.3-1build4 [13.4 kB]\n",
            "Get:2 http://archive.ubuntu.com/ubuntu jammy-updates/universe amd64 openjdk-8-jre-headless amd64 8u402-ga-2ubuntu1~22.04 [30.8 MB]\n",
            "Get:3 http://archive.ubuntu.com/ubuntu jammy-updates/universe amd64 openjdk-8-jdk-headless amd64 8u402-ga-2ubuntu1~22.04 [8,873 kB]\n",
            "Fetched 39.7 MB in 2s (21.1 MB/s)\n",
            "Selecting previously unselected package libxtst6:amd64.\n",
            "(Reading database ... 121752 files and directories currently installed.)\n",
            "Preparing to unpack .../libxtst6_2%3a1.2.3-1build4_amd64.deb ...\n",
            "Unpacking libxtst6:amd64 (2:1.2.3-1build4) ...\n",
            "Selecting previously unselected package openjdk-8-jre-headless:amd64.\n",
            "Preparing to unpack .../openjdk-8-jre-headless_8u402-ga-2ubuntu1~22.04_amd64.deb ...\n",
            "Unpacking openjdk-8-jre-headless:amd64 (8u402-ga-2ubuntu1~22.04) ...\n",
            "Selecting previously unselected package openjdk-8-jdk-headless:amd64.\n",
            "Preparing to unpack .../openjdk-8-jdk-headless_8u402-ga-2ubuntu1~22.04_amd64.deb ...\n",
            "Unpacking openjdk-8-jdk-headless:amd64 (8u402-ga-2ubuntu1~22.04) ...\n",
            "Setting up libxtst6:amd64 (2:1.2.3-1build4) ...\n",
            "Setting up openjdk-8-jre-headless:amd64 (8u402-ga-2ubuntu1~22.04) ...\n",
            "update-alternatives: using /usr/lib/jvm/java-8-openjdk-amd64/jre/bin/orbd to provide /usr/bin/orbd (orbd) in auto mode\n",
            "update-alternatives: using /usr/lib/jvm/java-8-openjdk-amd64/jre/bin/servertool to provide /usr/bin/servertool (servertool) in auto mode\n",
            "update-alternatives: using /usr/lib/jvm/java-8-openjdk-amd64/jre/bin/tnameserv to provide /usr/bin/tnameserv (tnameserv) in auto mode\n",
            "Setting up openjdk-8-jdk-headless:amd64 (8u402-ga-2ubuntu1~22.04) ...\n",
            "update-alternatives: using /usr/lib/jvm/java-8-openjdk-amd64/bin/clhsdb to provide /usr/bin/clhsdb (clhsdb) in auto mode\n",
            "update-alternatives: using /usr/lib/jvm/java-8-openjdk-amd64/bin/extcheck to provide /usr/bin/extcheck (extcheck) in auto mode\n",
            "update-alternatives: using /usr/lib/jvm/java-8-openjdk-amd64/bin/hsdb to provide /usr/bin/hsdb (hsdb) in auto mode\n",
            "update-alternatives: using /usr/lib/jvm/java-8-openjdk-amd64/bin/idlj to provide /usr/bin/idlj (idlj) in auto mode\n",
            "update-alternatives: using /usr/lib/jvm/java-8-openjdk-amd64/bin/javah to provide /usr/bin/javah (javah) in auto mode\n",
            "update-alternatives: using /usr/lib/jvm/java-8-openjdk-amd64/bin/jhat to provide /usr/bin/jhat (jhat) in auto mode\n",
            "update-alternatives: using /usr/lib/jvm/java-8-openjdk-amd64/bin/jsadebugd to provide /usr/bin/jsadebugd (jsadebugd) in auto mode\n",
            "update-alternatives: using /usr/lib/jvm/java-8-openjdk-amd64/bin/native2ascii to provide /usr/bin/native2ascii (native2ascii) in auto mode\n",
            "update-alternatives: using /usr/lib/jvm/java-8-openjdk-amd64/bin/schemagen to provide /usr/bin/schemagen (schemagen) in auto mode\n",
            "update-alternatives: using /usr/lib/jvm/java-8-openjdk-amd64/bin/wsgen to provide /usr/bin/wsgen (wsgen) in auto mode\n",
            "update-alternatives: using /usr/lib/jvm/java-8-openjdk-amd64/bin/wsimport to provide /usr/bin/wsimport (wsimport) in auto mode\n",
            "update-alternatives: using /usr/lib/jvm/java-8-openjdk-amd64/bin/xjc to provide /usr/bin/xjc (xjc) in auto mode\n",
            "Processing triggers for libc-bin (2.35-0ubuntu3.4) ...\n",
            "/sbin/ldconfig.real: /usr/local/lib/libtbb.so.12 is not a symbolic link\n",
            "\n",
            "/sbin/ldconfig.real: /usr/local/lib/libtbbbind_2_5.so.3 is not a symbolic link\n",
            "\n",
            "/sbin/ldconfig.real: /usr/local/lib/libtbbbind.so.3 is not a symbolic link\n",
            "\n",
            "/sbin/ldconfig.real: /usr/local/lib/libtbbmalloc_proxy.so.2 is not a symbolic link\n",
            "\n",
            "/sbin/ldconfig.real: /usr/local/lib/libtbbmalloc.so.2 is not a symbolic link\n",
            "\n",
            "/sbin/ldconfig.real: /usr/local/lib/libtbbbind_2_0.so.3 is not a symbolic link\n",
            "\n"
          ]
        }
      ]
    },
    {
      "cell_type": "code",
      "source": [
        "import os\n",
        "os.environ[\"JAVA_HOME\"] = \"/usr/lib/jvm/java-8-openjdk-amd64\"\n",
        "os.environ[\"SPARK_HOME\"] = \"/content/spark-3.5.1-bin-hadoop3\""
      ],
      "metadata": {
        "id": "0IxJQm3ApiaJ"
      },
      "execution_count": 3,
      "outputs": []
    },
    {
      "cell_type": "code",
      "source": [
        "!pip install findspark -q"
      ],
      "metadata": {
        "id": "4rJQpcxwpizN"
      },
      "execution_count": 4,
      "outputs": []
    },
    {
      "cell_type": "code",
      "source": [
        "import findspark\n",
        "findspark.init()"
      ],
      "metadata": {
        "id": "UtHEsyzkplCR"
      },
      "execution_count": 5,
      "outputs": []
    },
    {
      "cell_type": "code",
      "source": [
        "import pyspark\n",
        "spark_version = pyspark.__version__\n",
        "print(\"Apache Spark 버전 확인: \" + spark_version)"
      ],
      "metadata": {
        "colab": {
          "base_uri": "https://localhost:8080/"
        },
        "id": "DjhveG5wpmYB",
        "outputId": "1a828576-ac4d-4a4f-e823-8bc3a384da05"
      },
      "execution_count": 6,
      "outputs": [
        {
          "output_type": "stream",
          "name": "stdout",
          "text": [
            "Apache Spark 버전 확인: 3.5.1\n"
          ]
        }
      ]
    },
    {
      "cell_type": "markdown",
      "source": [
        "## Spark\n",
        "- RDD : 다수의 서버에 분산 방식으로 저장함"
      ],
      "metadata": {
        "id": "Mi9EDDMssvin"
      }
    },
    {
      "cell_type": "code",
      "source": [
        "from pyspark.sql import SparkSession\n",
        "\n",
        "# Spark 세션 활성화\n",
        "my_spark = SparkSession.builder.getOrCreate()\n",
        "my_spark"
      ],
      "metadata": {
        "colab": {
          "base_uri": "https://localhost:8080/",
          "height": 222
        },
        "id": "DdMVLeS6s4zY",
        "outputId": "c055c2fc-c64f-4eea-91ac-6e8ee972159d"
      },
      "execution_count": 7,
      "outputs": [
        {
          "output_type": "execute_result",
          "data": {
            "text/plain": [
              "<pyspark.sql.session.SparkSession at 0x795730136b90>"
            ],
            "text/html": [
              "\n",
              "            <div>\n",
              "                <p><b>SparkSession - in-memory</b></p>\n",
              "                \n",
              "        <div>\n",
              "            <p><b>SparkContext</b></p>\n",
              "\n",
              "            <p><a href=\"http://ce694f91c352:4040\">Spark UI</a></p>\n",
              "\n",
              "            <dl>\n",
              "              <dt>Version</dt>\n",
              "                <dd><code>v3.5.1</code></dd>\n",
              "              <dt>Master</dt>\n",
              "                <dd><code>local[*]</code></dd>\n",
              "              <dt>AppName</dt>\n",
              "                <dd><code>pyspark-shell</code></dd>\n",
              "            </dl>\n",
              "        </div>\n",
              "        \n",
              "            </div>\n",
              "        "
            ]
          },
          "metadata": {},
          "execution_count": 7
        }
      ]
    },
    {
      "cell_type": "markdown",
      "source": [
        "- 데이터베이스 확인"
      ],
      "metadata": {
        "id": "03sHwPLttzIe"
      }
    },
    {
      "cell_type": "code",
      "source": [
        "my_spark.catalog.listDatabases()"
      ],
      "metadata": {
        "colab": {
          "base_uri": "https://localhost:8080/"
        },
        "id": "GTfIz9t6t_Wm",
        "outputId": "05cc1935-7421-4706-b7af-444726e9ffdf"
      },
      "execution_count": 8,
      "outputs": [
        {
          "output_type": "execute_result",
          "data": {
            "text/plain": [
              "[Database(name='default', catalog='spark_catalog', description='default database', locationUri='file:/content/spark-warehouse')]"
            ]
          },
          "metadata": {},
          "execution_count": 8
        }
      ]
    },
    {
      "cell_type": "markdown",
      "source": [
        "- Spark SQL 쿼리 실행 (Database 보여주기)"
      ],
      "metadata": {
        "id": "qdOmIG1auan9"
      }
    },
    {
      "cell_type": "code",
      "source": [
        "my_spark.sql('show databases').show()"
      ],
      "metadata": {
        "colab": {
          "base_uri": "https://localhost:8080/"
        },
        "id": "TYGXifeMuf5q",
        "outputId": "e9ed91e6-85b0-486a-a337-1f2eabceeca7"
      },
      "execution_count": 9,
      "outputs": [
        {
          "output_type": "stream",
          "name": "stdout",
          "text": [
            "+---------+\n",
            "|namespace|\n",
            "+---------+\n",
            "|  default|\n",
            "+---------+\n",
            "\n"
          ]
        }
      ]
    },
    {
      "cell_type": "code",
      "source": [
        "my_spark.catalog.currentDatabase()"
      ],
      "metadata": {
        "colab": {
          "base_uri": "https://localhost:8080/",
          "height": 35
        },
        "id": "w1LFKL21u7V5",
        "outputId": "d23bf0b8-1134-460e-ea5d-44da28a148a9"
      },
      "execution_count": 10,
      "outputs": [
        {
          "output_type": "execute_result",
          "data": {
            "text/plain": [
              "'default'"
            ],
            "application/vnd.google.colaboratory.intrinsic+json": {
              "type": "string"
            }
          },
          "metadata": {},
          "execution_count": 10
        }
      ]
    },
    {
      "cell_type": "code",
      "source": [
        "# 기존 Spark 세션 종료\n",
        "my_spark.stop()"
      ],
      "metadata": {
        "id": "KqN4IoSOvegk"
      },
      "execution_count": 11,
      "outputs": []
    },
    {
      "cell_type": "code",
      "source": [
        "# 새로운 Spark 세션 시작\n",
        "my_spark = SparkSession.builder.master(\"local[1]\").appName(\"SampleTutorial\").getOrCreate()\n",
        "rdd_sample = my_spark.sparkContext.parallelize([1, 2, 3, 4, 5])\n",
        "print(type(rdd_sample))"
      ],
      "metadata": {
        "colab": {
          "base_uri": "https://localhost:8080/"
        },
        "id": "6_6ejEn6vQWY",
        "outputId": "427fadbf-8b9c-4888-8a2c-aad77ec28788"
      },
      "execution_count": 12,
      "outputs": [
        {
          "output_type": "stream",
          "name": "stdout",
          "text": [
            "<class 'pyspark.rdd.RDD'>\n"
          ]
        }
      ]
    },
    {
      "cell_type": "code",
      "source": [
        "rdd_sample.take(num=2)"
      ],
      "metadata": {
        "colab": {
          "base_uri": "https://localhost:8080/"
        },
        "id": "nYwtLEBawq71",
        "outputId": "1ba8c32b-1208-4a14-8be2-add45403d77a"
      },
      "execution_count": 13,
      "outputs": [
        {
          "output_type": "execute_result",
          "data": {
            "text/plain": [
              "[1, 2]"
            ]
          },
          "metadata": {},
          "execution_count": 13
        }
      ]
    },
    {
      "cell_type": "markdown",
      "source": [
        "## CSV 파일 불러오기"
      ],
      "metadata": {
        "id": "NcIhGLyF04Aq"
      }
    },
    {
      "cell_type": "code",
      "source": [
        "DATA_PATH = '/content/drive/MyDrive/멀티캠퍼스34/Spark/data/flight_small.csv'\n",
        "flights = my_spark.read.option('header', 'true').csv(DATA_PATH)\n",
        "flights.show(2)"
      ],
      "metadata": {
        "colab": {
          "base_uri": "https://localhost:8080/"
        },
        "id": "FerWUNnn05e-",
        "outputId": "5242e3aa-0628-4a75-ff71-740625322901"
      },
      "execution_count": 16,
      "outputs": [
        {
          "output_type": "stream",
          "name": "stdout",
          "text": [
            "+----+-----+---+--------+---------+--------+---------+-------+-------+------+------+----+--------+--------+----+------+\n",
            "|year|month|day|dep_time|dep_delay|arr_time|arr_delay|carrier|tailnum|flight|origin|dest|air_time|distance|hour|minute|\n",
            "+----+-----+---+--------+---------+--------+---------+-------+-------+------+------+----+--------+--------+----+------+\n",
            "|2014|   12|  8|     658|       -7|     935|       -5|     VX| N846VA|  1780|   SEA| LAX|     132|     954|   6|    58|\n",
            "|2014|    1| 22|    1040|        5|    1505|        5|     AS| N559AS|   851|   SEA| HNL|     360|    2677|  10|    40|\n",
            "+----+-----+---+--------+---------+--------+---------+-------+-------+------+------+----+--------+--------+----+------+\n",
            "only showing top 2 rows\n",
            "\n"
          ]
        }
      ]
    },
    {
      "cell_type": "markdown",
      "source": [
        "- flights 데이터프레임을 default 데이터베이스에 추가"
      ],
      "metadata": {
        "id": "qlWTSpDa2bLB"
      }
    },
    {
      "cell_type": "code",
      "source": [
        "flights.createOrReplaceTempView('flights')"
      ],
      "metadata": {
        "id": "Jbte7zE-2qFP"
      },
      "execution_count": 17,
      "outputs": []
    },
    {
      "cell_type": "markdown",
      "source": [
        "- default 데이터베이스에 데이터가 추가가 되었는지 확인"
      ],
      "metadata": {
        "id": "LhMtYhdU2wIf"
      }
    },
    {
      "cell_type": "code",
      "source": [
        "my_spark.catalog.listTables('default')"
      ],
      "metadata": {
        "colab": {
          "base_uri": "https://localhost:8080/"
        },
        "id": "K-FQ3_rc2vJg",
        "outputId": "aacd7db3-25af-4e5e-b842-c4334b788a44"
      },
      "execution_count": 18,
      "outputs": [
        {
          "output_type": "execute_result",
          "data": {
            "text/plain": [
              "[Table(name='flights', catalog=None, namespace=[], description=None, tableType='TEMPORARY', isTemporary=True)]"
            ]
          },
          "metadata": {},
          "execution_count": 18
        }
      ]
    },
    {
      "cell_type": "markdown",
      "source": [
        "- 데이터 조회할 때, SQL을 통해서 조회가 가능하다.\n"
      ],
      "metadata": {
        "id": "1xowqR-K299H"
      }
    },
    {
      "cell_type": "code",
      "source": [
        "my_spark.sql('SHOW TABLES FROM default').show()"
      ],
      "metadata": {
        "colab": {
          "base_uri": "https://localhost:8080/"
        },
        "id": "jmWHR9PD3U5i",
        "outputId": "61b835f9-867c-438f-9726-ab305c025bfa"
      },
      "execution_count": 19,
      "outputs": [
        {
          "output_type": "stream",
          "name": "stdout",
          "text": [
            "+---------+---------+-----------+\n",
            "|namespace|tableName|isTemporary|\n",
            "+---------+---------+-----------+\n",
            "|         |  flights|       true|\n",
            "+---------+---------+-----------+\n",
            "\n"
          ]
        }
      ]
    },
    {
      "cell_type": "code",
      "source": [
        "query = 'SELECT * FROM flights LIMIT 10'\n",
        "# my_spark.sql(query).show()\n",
        "\n",
        "flights10 = my_spark.sql(query)\n",
        "flights10.show()"
      ],
      "metadata": {
        "colab": {
          "base_uri": "https://localhost:8080/"
        },
        "id": "T26YbvNU3eiM",
        "outputId": "da0e9d97-f95b-4fb9-eb8b-9d130598a401"
      },
      "execution_count": 20,
      "outputs": [
        {
          "output_type": "stream",
          "name": "stdout",
          "text": [
            "+----+-----+---+--------+---------+--------+---------+-------+-------+------+------+----+--------+--------+----+------+\n",
            "|year|month|day|dep_time|dep_delay|arr_time|arr_delay|carrier|tailnum|flight|origin|dest|air_time|distance|hour|minute|\n",
            "+----+-----+---+--------+---------+--------+---------+-------+-------+------+------+----+--------+--------+----+------+\n",
            "|2014|   12|  8|     658|       -7|     935|       -5|     VX| N846VA|  1780|   SEA| LAX|     132|     954|   6|    58|\n",
            "|2014|    1| 22|    1040|        5|    1505|        5|     AS| N559AS|   851|   SEA| HNL|     360|    2677|  10|    40|\n",
            "|2014|    3|  9|    1443|       -2|    1652|        2|     VX| N847VA|   755|   SEA| SFO|     111|     679|  14|    43|\n",
            "|2014|    4|  9|    1705|       45|    1839|       34|     WN| N360SW|   344|   PDX| SJC|      83|     569|  17|     5|\n",
            "|2014|    3|  9|     754|       -1|    1015|        1|     AS| N612AS|   522|   SEA| BUR|     127|     937|   7|    54|\n",
            "|2014|    1| 15|    1037|        7|    1352|        2|     WN| N646SW|    48|   PDX| DEN|     121|     991|  10|    37|\n",
            "|2014|    7|  2|     847|       42|    1041|       51|     WN| N422WN|  1520|   PDX| OAK|      90|     543|   8|    47|\n",
            "|2014|    5| 12|    1655|       -5|    1842|      -18|     VX| N361VA|   755|   SEA| SFO|      98|     679|  16|    55|\n",
            "|2014|    4| 19|    1236|       -4|    1508|       -7|     AS| N309AS|   490|   SEA| SAN|     135|    1050|  12|    36|\n",
            "|2014|   11| 19|    1812|       -3|    2352|       -4|     AS| N564AS|    26|   SEA| ORD|     198|    1721|  18|    12|\n",
            "+----+-----+---+--------+---------+--------+---------+-------+-------+------+------+----+--------+--------+----+------+\n",
            "\n"
          ]
        }
      ]
    },
    {
      "cell_type": "markdown",
      "source": [
        "- origin, dest GroupBy 연산 데이터갯수 확인\n",
        "- pandas 데이터프레임으로 변환 (메서드 찾아보기)\n",
        "- (~10:25)"
      ],
      "metadata": {
        "id": "QfP-fpfY4cz2"
      }
    },
    {
      "cell_type": "code",
      "source": [
        "query = \"\"\"\n",
        "  SELECT origin, dest, COUNT(*) AS CNT\n",
        "  FROM flights\n",
        "  GROUP BY origin, dest\n",
        "\"\"\"\n",
        "\n",
        "result_spark = my_spark.sql(query)\n",
        "# result.show()\n",
        "\n",
        "# pandas 데이터프레임으로 변환\n",
        "result_pd = result_spark.toPandas()\n",
        "result_pd.head()"
      ],
      "metadata": {
        "colab": {
          "base_uri": "https://localhost:8080/",
          "height": 206
        },
        "id": "svM-61oy4xjf",
        "outputId": "3ef9fb76-fe43-4d7e-e335-70a37b4a84dd"
      },
      "execution_count": 21,
      "outputs": [
        {
          "output_type": "execute_result",
          "data": {
            "text/plain": [
              "  origin dest  CNT\n",
              "0    SEA  RNO    8\n",
              "1    SEA  DTW   98\n",
              "2    SEA  CLE    2\n",
              "3    SEA  LAX  450\n",
              "4    PDX  SEA  144"
            ],
            "text/html": [
              "\n",
              "  <div id=\"df-d901a85f-99a0-4c62-87dc-9432fbceb744\" class=\"colab-df-container\">\n",
              "    <div>\n",
              "<style scoped>\n",
              "    .dataframe tbody tr th:only-of-type {\n",
              "        vertical-align: middle;\n",
              "    }\n",
              "\n",
              "    .dataframe tbody tr th {\n",
              "        vertical-align: top;\n",
              "    }\n",
              "\n",
              "    .dataframe thead th {\n",
              "        text-align: right;\n",
              "    }\n",
              "</style>\n",
              "<table border=\"1\" class=\"dataframe\">\n",
              "  <thead>\n",
              "    <tr style=\"text-align: right;\">\n",
              "      <th></th>\n",
              "      <th>origin</th>\n",
              "      <th>dest</th>\n",
              "      <th>CNT</th>\n",
              "    </tr>\n",
              "  </thead>\n",
              "  <tbody>\n",
              "    <tr>\n",
              "      <th>0</th>\n",
              "      <td>SEA</td>\n",
              "      <td>RNO</td>\n",
              "      <td>8</td>\n",
              "    </tr>\n",
              "    <tr>\n",
              "      <th>1</th>\n",
              "      <td>SEA</td>\n",
              "      <td>DTW</td>\n",
              "      <td>98</td>\n",
              "    </tr>\n",
              "    <tr>\n",
              "      <th>2</th>\n",
              "      <td>SEA</td>\n",
              "      <td>CLE</td>\n",
              "      <td>2</td>\n",
              "    </tr>\n",
              "    <tr>\n",
              "      <th>3</th>\n",
              "      <td>SEA</td>\n",
              "      <td>LAX</td>\n",
              "      <td>450</td>\n",
              "    </tr>\n",
              "    <tr>\n",
              "      <th>4</th>\n",
              "      <td>PDX</td>\n",
              "      <td>SEA</td>\n",
              "      <td>144</td>\n",
              "    </tr>\n",
              "  </tbody>\n",
              "</table>\n",
              "</div>\n",
              "    <div class=\"colab-df-buttons\">\n",
              "\n",
              "  <div class=\"colab-df-container\">\n",
              "    <button class=\"colab-df-convert\" onclick=\"convertToInteractive('df-d901a85f-99a0-4c62-87dc-9432fbceb744')\"\n",
              "            title=\"Convert this dataframe to an interactive table.\"\n",
              "            style=\"display:none;\">\n",
              "\n",
              "  <svg xmlns=\"http://www.w3.org/2000/svg\" height=\"24px\" viewBox=\"0 -960 960 960\">\n",
              "    <path d=\"M120-120v-720h720v720H120Zm60-500h600v-160H180v160Zm220 220h160v-160H400v160Zm0 220h160v-160H400v160ZM180-400h160v-160H180v160Zm440 0h160v-160H620v160ZM180-180h160v-160H180v160Zm440 0h160v-160H620v160Z\"/>\n",
              "  </svg>\n",
              "    </button>\n",
              "\n",
              "  <style>\n",
              "    .colab-df-container {\n",
              "      display:flex;\n",
              "      gap: 12px;\n",
              "    }\n",
              "\n",
              "    .colab-df-convert {\n",
              "      background-color: #E8F0FE;\n",
              "      border: none;\n",
              "      border-radius: 50%;\n",
              "      cursor: pointer;\n",
              "      display: none;\n",
              "      fill: #1967D2;\n",
              "      height: 32px;\n",
              "      padding: 0 0 0 0;\n",
              "      width: 32px;\n",
              "    }\n",
              "\n",
              "    .colab-df-convert:hover {\n",
              "      background-color: #E2EBFA;\n",
              "      box-shadow: 0px 1px 2px rgba(60, 64, 67, 0.3), 0px 1px 3px 1px rgba(60, 64, 67, 0.15);\n",
              "      fill: #174EA6;\n",
              "    }\n",
              "\n",
              "    .colab-df-buttons div {\n",
              "      margin-bottom: 4px;\n",
              "    }\n",
              "\n",
              "    [theme=dark] .colab-df-convert {\n",
              "      background-color: #3B4455;\n",
              "      fill: #D2E3FC;\n",
              "    }\n",
              "\n",
              "    [theme=dark] .colab-df-convert:hover {\n",
              "      background-color: #434B5C;\n",
              "      box-shadow: 0px 1px 3px 1px rgba(0, 0, 0, 0.15);\n",
              "      filter: drop-shadow(0px 1px 2px rgba(0, 0, 0, 0.3));\n",
              "      fill: #FFFFFF;\n",
              "    }\n",
              "  </style>\n",
              "\n",
              "    <script>\n",
              "      const buttonEl =\n",
              "        document.querySelector('#df-d901a85f-99a0-4c62-87dc-9432fbceb744 button.colab-df-convert');\n",
              "      buttonEl.style.display =\n",
              "        google.colab.kernel.accessAllowed ? 'block' : 'none';\n",
              "\n",
              "      async function convertToInteractive(key) {\n",
              "        const element = document.querySelector('#df-d901a85f-99a0-4c62-87dc-9432fbceb744');\n",
              "        const dataTable =\n",
              "          await google.colab.kernel.invokeFunction('convertToInteractive',\n",
              "                                                    [key], {});\n",
              "        if (!dataTable) return;\n",
              "\n",
              "        const docLinkHtml = 'Like what you see? Visit the ' +\n",
              "          '<a target=\"_blank\" href=https://colab.research.google.com/notebooks/data_table.ipynb>data table notebook</a>'\n",
              "          + ' to learn more about interactive tables.';\n",
              "        element.innerHTML = '';\n",
              "        dataTable['output_type'] = 'display_data';\n",
              "        await google.colab.output.renderOutput(dataTable, element);\n",
              "        const docLink = document.createElement('div');\n",
              "        docLink.innerHTML = docLinkHtml;\n",
              "        element.appendChild(docLink);\n",
              "      }\n",
              "    </script>\n",
              "  </div>\n",
              "\n",
              "\n",
              "<div id=\"df-1baf1e92-3065-488e-8eed-5d02f222f986\">\n",
              "  <button class=\"colab-df-quickchart\" onclick=\"quickchart('df-1baf1e92-3065-488e-8eed-5d02f222f986')\"\n",
              "            title=\"Suggest charts\"\n",
              "            style=\"display:none;\">\n",
              "\n",
              "<svg xmlns=\"http://www.w3.org/2000/svg\" height=\"24px\"viewBox=\"0 0 24 24\"\n",
              "     width=\"24px\">\n",
              "    <g>\n",
              "        <path d=\"M19 3H5c-1.1 0-2 .9-2 2v14c0 1.1.9 2 2 2h14c1.1 0 2-.9 2-2V5c0-1.1-.9-2-2-2zM9 17H7v-7h2v7zm4 0h-2V7h2v10zm4 0h-2v-4h2v4z\"/>\n",
              "    </g>\n",
              "</svg>\n",
              "  </button>\n",
              "\n",
              "<style>\n",
              "  .colab-df-quickchart {\n",
              "      --bg-color: #E8F0FE;\n",
              "      --fill-color: #1967D2;\n",
              "      --hover-bg-color: #E2EBFA;\n",
              "      --hover-fill-color: #174EA6;\n",
              "      --disabled-fill-color: #AAA;\n",
              "      --disabled-bg-color: #DDD;\n",
              "  }\n",
              "\n",
              "  [theme=dark] .colab-df-quickchart {\n",
              "      --bg-color: #3B4455;\n",
              "      --fill-color: #D2E3FC;\n",
              "      --hover-bg-color: #434B5C;\n",
              "      --hover-fill-color: #FFFFFF;\n",
              "      --disabled-bg-color: #3B4455;\n",
              "      --disabled-fill-color: #666;\n",
              "  }\n",
              "\n",
              "  .colab-df-quickchart {\n",
              "    background-color: var(--bg-color);\n",
              "    border: none;\n",
              "    border-radius: 50%;\n",
              "    cursor: pointer;\n",
              "    display: none;\n",
              "    fill: var(--fill-color);\n",
              "    height: 32px;\n",
              "    padding: 0;\n",
              "    width: 32px;\n",
              "  }\n",
              "\n",
              "  .colab-df-quickchart:hover {\n",
              "    background-color: var(--hover-bg-color);\n",
              "    box-shadow: 0 1px 2px rgba(60, 64, 67, 0.3), 0 1px 3px 1px rgba(60, 64, 67, 0.15);\n",
              "    fill: var(--button-hover-fill-color);\n",
              "  }\n",
              "\n",
              "  .colab-df-quickchart-complete:disabled,\n",
              "  .colab-df-quickchart-complete:disabled:hover {\n",
              "    background-color: var(--disabled-bg-color);\n",
              "    fill: var(--disabled-fill-color);\n",
              "    box-shadow: none;\n",
              "  }\n",
              "\n",
              "  .colab-df-spinner {\n",
              "    border: 2px solid var(--fill-color);\n",
              "    border-color: transparent;\n",
              "    border-bottom-color: var(--fill-color);\n",
              "    animation:\n",
              "      spin 1s steps(1) infinite;\n",
              "  }\n",
              "\n",
              "  @keyframes spin {\n",
              "    0% {\n",
              "      border-color: transparent;\n",
              "      border-bottom-color: var(--fill-color);\n",
              "      border-left-color: var(--fill-color);\n",
              "    }\n",
              "    20% {\n",
              "      border-color: transparent;\n",
              "      border-left-color: var(--fill-color);\n",
              "      border-top-color: var(--fill-color);\n",
              "    }\n",
              "    30% {\n",
              "      border-color: transparent;\n",
              "      border-left-color: var(--fill-color);\n",
              "      border-top-color: var(--fill-color);\n",
              "      border-right-color: var(--fill-color);\n",
              "    }\n",
              "    40% {\n",
              "      border-color: transparent;\n",
              "      border-right-color: var(--fill-color);\n",
              "      border-top-color: var(--fill-color);\n",
              "    }\n",
              "    60% {\n",
              "      border-color: transparent;\n",
              "      border-right-color: var(--fill-color);\n",
              "    }\n",
              "    80% {\n",
              "      border-color: transparent;\n",
              "      border-right-color: var(--fill-color);\n",
              "      border-bottom-color: var(--fill-color);\n",
              "    }\n",
              "    90% {\n",
              "      border-color: transparent;\n",
              "      border-bottom-color: var(--fill-color);\n",
              "    }\n",
              "  }\n",
              "</style>\n",
              "\n",
              "  <script>\n",
              "    async function quickchart(key) {\n",
              "      const quickchartButtonEl =\n",
              "        document.querySelector('#' + key + ' button');\n",
              "      quickchartButtonEl.disabled = true;  // To prevent multiple clicks.\n",
              "      quickchartButtonEl.classList.add('colab-df-spinner');\n",
              "      try {\n",
              "        const charts = await google.colab.kernel.invokeFunction(\n",
              "            'suggestCharts', [key], {});\n",
              "      } catch (error) {\n",
              "        console.error('Error during call to suggestCharts:', error);\n",
              "      }\n",
              "      quickchartButtonEl.classList.remove('colab-df-spinner');\n",
              "      quickchartButtonEl.classList.add('colab-df-quickchart-complete');\n",
              "    }\n",
              "    (() => {\n",
              "      let quickchartButtonEl =\n",
              "        document.querySelector('#df-1baf1e92-3065-488e-8eed-5d02f222f986 button');\n",
              "      quickchartButtonEl.style.display =\n",
              "        google.colab.kernel.accessAllowed ? 'block' : 'none';\n",
              "    })();\n",
              "  </script>\n",
              "</div>\n",
              "\n",
              "    </div>\n",
              "  </div>\n"
            ],
            "application/vnd.google.colaboratory.intrinsic+json": {
              "type": "dataframe",
              "variable_name": "result_pd",
              "summary": "{\n  \"name\": \"result_pd\",\n  \"rows\": 113,\n  \"fields\": [\n    {\n      \"column\": \"origin\",\n      \"properties\": {\n        \"dtype\": \"category\",\n        \"num_unique_values\": 2,\n        \"samples\": [\n          \"PDX\",\n          \"SEA\"\n        ],\n        \"semantic_type\": \"\",\n        \"description\": \"\"\n      }\n    },\n    {\n      \"column\": \"dest\",\n      \"properties\": {\n        \"dtype\": \"string\",\n        \"num_unique_values\": 69,\n        \"samples\": [\n          \"DEN\",\n          \"RNO\"\n        ],\n        \"semantic_type\": \"\",\n        \"description\": \"\"\n      }\n    },\n    {\n      \"column\": \"CNT\",\n      \"properties\": {\n        \"dtype\": \"number\",\n        \"std\": 100,\n        \"min\": 2,\n        \"max\": 482,\n        \"num_unique_values\": 81,\n        \"samples\": [\n          166,\n          8\n        ],\n        \"semantic_type\": \"\",\n        \"description\": \"\"\n      }\n    }\n  ]\n}"
            }
          },
          "metadata": {},
          "execution_count": 21
        }
      ]
    },
    {
      "cell_type": "code",
      "source": [
        "# Pandas 데이터프레임에서 Spark로 변환\n",
        "import pandas as pd\n",
        "import numpy as np\n",
        "\n",
        "# Generate a pandas DataFrame\n",
        "pdf = pd.DataFrame(np.random.rand(100, 3))\n",
        "\n",
        "# Create a Spark DataFrame from a pandas DataFrame using Arrow\n",
        "df = my_spark.createDataFrame(pdf)\n",
        "df.show()"
      ],
      "metadata": {
        "colab": {
          "base_uri": "https://localhost:8080/"
        },
        "id": "crnDUkC869LF",
        "outputId": "b9c89bf7-4954-46a1-f9db-0954ea2ec3fd"
      },
      "execution_count": 22,
      "outputs": [
        {
          "output_type": "stream",
          "name": "stdout",
          "text": [
            "+-------------------+--------------------+--------------------+\n",
            "|                  0|                   1|                   2|\n",
            "+-------------------+--------------------+--------------------+\n",
            "| 0.7699466129227253| 0.45378664591237317|  0.1656461871495607|\n",
            "| 0.9852720150727177|  0.8451599561850905|  0.6804704210263616|\n",
            "| 0.7563296654754759|  0.5534977231737475|  0.8042263589370456|\n",
            "| 0.3788634964314268|  0.3007850531034202|    0.78288470867717|\n",
            "| 0.1496665028230174|  0.9162565970755469|  0.8066164686585211|\n",
            "| 0.5592554088759834|  0.1064594144356098|  0.1555091616016232|\n",
            "| 0.4853461686490371|  0.0508865174508083|0.036331584816260754|\n",
            "|  0.817765046244986|  0.4408120652553813| 0.07707525703322105|\n",
            "| 0.1952325947636524| 0.13178488074797146| 0.07498389867737532|\n",
            "| 0.1069621822103708| 0.15002855671810578|  0.7914425353277262|\n",
            "|0.05630828760277651|  0.7683865838047338|  0.5955243596803127|\n",
            "|0.12056593853327824| 0.36305725301516767|  0.0908390951920115|\n",
            "| 0.5654921835393071|  0.9742436603254433| 0.48082192349686836|\n",
            "|0.42922538469036164|   0.776249448922278|  0.5681572422656682|\n",
            "| 0.9032652772479276|  0.5232431980073328|  0.9959691905370669|\n",
            "| 0.6124395505822301| 0.07220870756094822|  0.6567113183059741|\n",
            "| 0.4635150055941216|  0.4205564972651147| 0.11960140256820728|\n",
            "| 0.9648328671077884|  0.4315656535412601|  0.3483305845090249|\n",
            "|0.15634074761763173|0.036806815314147534|  0.5984534451373726|\n",
            "| 0.7655166503888781|  0.2741916453750307|  0.5166217798797457|\n",
            "+-------------------+--------------------+--------------------+\n",
            "only showing top 20 rows\n",
            "\n"
          ]
        }
      ]
    },
    {
      "cell_type": "code",
      "source": [
        "# my_spark.stop()"
      ],
      "metadata": {
        "id": "Me0k1o1X7qh_"
      },
      "execution_count": null,
      "outputs": []
    },
    {
      "cell_type": "markdown",
      "source": [
        "## 정리할 시간\n",
        "- 첫번째 : Spark 세션 생성\n",
        "- 두번째 : 임의의 pandas 데이터프레임 생성\n",
        "- 세번째 : Spark 데이터프레임으로 변환\n",
        "- 네번째 : 변환된 데이터프레임을 데이터베이스에 추가\n",
        "- 마지막 : listTables() 확인"
      ],
      "metadata": {
        "id": "kmJjeF8n7l8F"
      }
    },
    {
      "cell_type": "markdown",
      "source": [
        "## Chapter 3장"
      ],
      "metadata": {
        "id": "qXAftyP79QsJ"
      }
    },
    {
      "cell_type": "code",
      "source": [
        "# Databricks notebook source\n",
        "# MAGIC\n",
        "# MAGIC %md\n",
        "# MAGIC # Example 3.7\n",
        "\n",
        "# from pyspark.sql.types import *\n",
        "from pyspark.sql.types import *\n",
        "from pyspark.sql.functions import col, expr, when, concat, lit\n",
        "from pyspark.sql import SparkSession\n",
        "\n",
        "# define schema for our data\n",
        "schema = (StructType([\n",
        "   StructField(\"Id\", IntegerType(), False),\n",
        "   StructField(\"First\", StringType(), False),\n",
        "   StructField(\"Last\", StringType(), False),\n",
        "   StructField(\"Url\", StringType(), False),\n",
        "   StructField(\"Published\", StringType(), False),\n",
        "   StructField(\"Hits\", IntegerType(), False),\n",
        "   StructField(\"Campaigns\", ArrayType(StringType()), False)]))\n",
        "\n",
        "ddl_schema = \"`Id` INT,`First` STRING,`Last` STRING,`Url` STRING,`Published` STRING,`Hits` INT,`Campaigns` ARRAY<STRING>\"\n",
        "\n",
        "# create our data\n",
        "data = [[1, \"Jules\", \"Damji\", \"https://tinyurl.1\", \"1/4/2016\", 4535, [\"twitter\", \"LinkedIn\"]],\n",
        "       [2, \"Brooke\",\"Wenig\",\"https://tinyurl.2\", \"5/5/2018\", 8908, [\"twitter\", \"LinkedIn\"]],\n",
        "       [3, \"Denny\", \"Lee\", \"https://tinyurl.3\",\"6/7/2019\",7659, [\"web\", \"twitter\", \"FB\", \"LinkedIn\"]],\n",
        "       [4, \"Tathagata\", \"Das\",\"https://tinyurl.4\", \"5/12/2018\", 10568, [\"twitter\", \"FB\"]],\n",
        "       [5, \"Matei\",\"Zaharia\", \"https://tinyurl.5\", \"5/14/2014\", 40578, [\"web\", \"twitter\", \"FB\", \"LinkedIn\"]],\n",
        "       [6, \"Reynold\", \"Xin\", \"https://tinyurl.6\", \"3/2/2015\", 25568, [\"twitter\", \"LinkedIn\"]]\n",
        "      ]\n",
        "\n",
        "# create a DataFrame using the schema defined above\n",
        "spark = SparkSession.builder.master(\"local[1]\").appName(\"SampleTutorial\").getOrCreate()\n",
        "\n",
        "blogs_df = spark.createDataFrame(data, ddl_schema)\n",
        "blogs_df.show()"
      ],
      "metadata": {
        "colab": {
          "base_uri": "https://localhost:8080/"
        },
        "id": "6iPGTw7g9So3",
        "outputId": "71454d13-c22d-4514-bd38-b6f516a89bad"
      },
      "execution_count": 23,
      "outputs": [
        {
          "output_type": "stream",
          "name": "stdout",
          "text": [
            "+---+---------+-------+-----------------+---------+-----+--------------------+\n",
            "| Id|    First|   Last|              Url|Published| Hits|           Campaigns|\n",
            "+---+---------+-------+-----------------+---------+-----+--------------------+\n",
            "|  1|    Jules|  Damji|https://tinyurl.1| 1/4/2016| 4535| [twitter, LinkedIn]|\n",
            "|  2|   Brooke|  Wenig|https://tinyurl.2| 5/5/2018| 8908| [twitter, LinkedIn]|\n",
            "|  3|    Denny|    Lee|https://tinyurl.3| 6/7/2019| 7659|[web, twitter, FB...|\n",
            "|  4|Tathagata|    Das|https://tinyurl.4|5/12/2018|10568|       [twitter, FB]|\n",
            "|  5|    Matei|Zaharia|https://tinyurl.5|5/14/2014|40578|[web, twitter, FB...|\n",
            "|  6|  Reynold|    Xin|https://tinyurl.6| 3/2/2015|25568| [twitter, LinkedIn]|\n",
            "+---+---------+-------+-----------------+---------+-----+--------------------+\n",
            "\n"
          ]
        }
      ]
    },
    {
      "cell_type": "code",
      "source": [
        "blogs_df2 = spark.createDataFrame(data, schema)\n",
        "blogs_df2.show()"
      ],
      "metadata": {
        "colab": {
          "base_uri": "https://localhost:8080/"
        },
        "id": "4Ft4MJHf95mJ",
        "outputId": "819a6dbb-284b-4cc9-f240-a8bfcbca3d3c"
      },
      "execution_count": 24,
      "outputs": [
        {
          "output_type": "stream",
          "name": "stdout",
          "text": [
            "+---+---------+-------+-----------------+---------+-----+--------------------+\n",
            "| Id|    First|   Last|              Url|Published| Hits|           Campaigns|\n",
            "+---+---------+-------+-----------------+---------+-----+--------------------+\n",
            "|  1|    Jules|  Damji|https://tinyurl.1| 1/4/2016| 4535| [twitter, LinkedIn]|\n",
            "|  2|   Brooke|  Wenig|https://tinyurl.2| 5/5/2018| 8908| [twitter, LinkedIn]|\n",
            "|  3|    Denny|    Lee|https://tinyurl.3| 6/7/2019| 7659|[web, twitter, FB...|\n",
            "|  4|Tathagata|    Das|https://tinyurl.4|5/12/2018|10568|       [twitter, FB]|\n",
            "|  5|    Matei|Zaharia|https://tinyurl.5|5/14/2014|40578|[web, twitter, FB...|\n",
            "|  6|  Reynold|    Xin|https://tinyurl.6| 3/2/2015|25568| [twitter, LinkedIn]|\n",
            "+---+---------+-------+-----------------+---------+-----+--------------------+\n",
            "\n"
          ]
        }
      ]
    },
    {
      "cell_type": "code",
      "source": [
        "blogs_df2.printSchema()"
      ],
      "metadata": {
        "colab": {
          "base_uri": "https://localhost:8080/"
        },
        "id": "dnHTGbAVGpdo",
        "outputId": "d47080ec-0b97-4952-9315-3c0482f78031"
      },
      "execution_count": 25,
      "outputs": [
        {
          "output_type": "stream",
          "name": "stdout",
          "text": [
            "root\n",
            " |-- Id: integer (nullable = false)\n",
            " |-- First: string (nullable = false)\n",
            " |-- Last: string (nullable = false)\n",
            " |-- Url: string (nullable = false)\n",
            " |-- Published: string (nullable = false)\n",
            " |-- Hits: integer (nullable = false)\n",
            " |-- Campaigns: array (nullable = false)\n",
            " |    |-- element: string (containsNull = true)\n",
            "\n"
          ]
        }
      ]
    },
    {
      "cell_type": "code",
      "source": [
        "# Create pd_temp\n",
        "pd_temp = pd.DataFrame(np.random.random(10))\n",
        "\n",
        "# Create spark_temp from pd_temp\n",
        "spark_temp = my_spark.createDataFrame(pd_temp)\n",
        "\n",
        "# Examine the tables in the catalog\n",
        "print(my_spark.catalog.listTables())\n",
        "\n",
        "# Add spark_temp to the catalog\n",
        "spark_temp.createOrReplaceTempView(\"temp\")\n",
        "\n",
        "# Examine the tables in the catalog again\n",
        "print(my_spark.catalog.listTables())"
      ],
      "metadata": {
        "colab": {
          "base_uri": "https://localhost:8080/"
        },
        "id": "NfzAsvXUG8xq",
        "outputId": "2e5aa5f4-6bd5-4e3f-8377-00b922beeac6"
      },
      "execution_count": 26,
      "outputs": [
        {
          "output_type": "stream",
          "name": "stdout",
          "text": [
            "[Table(name='flights', catalog=None, namespace=[], description=None, tableType='TEMPORARY', isTemporary=True)]\n",
            "[Table(name='flights', catalog=None, namespace=[], description=None, tableType='TEMPORARY', isTemporary=True), Table(name='temp', catalog=None, namespace=[], description=None, tableType='TEMPORARY', isTemporary=True)]\n"
          ]
        }
      ]
    },
    {
      "cell_type": "code",
      "source": [
        "# default DB에 테이블이 2개 존재\n",
        "# 그 중에서 내가 원하는 테이블 취사 선택하는 예제\n",
        "flights_2 = my_spark.table('flights')\n",
        "flights_2.show()"
      ],
      "metadata": {
        "colab": {
          "base_uri": "https://localhost:8080/"
        },
        "id": "bB44lQMyHcwb",
        "outputId": "ae4c31ad-2e15-485b-a503-c6789c798b78"
      },
      "execution_count": 27,
      "outputs": [
        {
          "output_type": "stream",
          "name": "stdout",
          "text": [
            "+----+-----+---+--------+---------+--------+---------+-------+-------+------+------+----+--------+--------+----+------+\n",
            "|year|month|day|dep_time|dep_delay|arr_time|arr_delay|carrier|tailnum|flight|origin|dest|air_time|distance|hour|minute|\n",
            "+----+-----+---+--------+---------+--------+---------+-------+-------+------+------+----+--------+--------+----+------+\n",
            "|2014|   12|  8|     658|       -7|     935|       -5|     VX| N846VA|  1780|   SEA| LAX|     132|     954|   6|    58|\n",
            "|2014|    1| 22|    1040|        5|    1505|        5|     AS| N559AS|   851|   SEA| HNL|     360|    2677|  10|    40|\n",
            "|2014|    3|  9|    1443|       -2|    1652|        2|     VX| N847VA|   755|   SEA| SFO|     111|     679|  14|    43|\n",
            "|2014|    4|  9|    1705|       45|    1839|       34|     WN| N360SW|   344|   PDX| SJC|      83|     569|  17|     5|\n",
            "|2014|    3|  9|     754|       -1|    1015|        1|     AS| N612AS|   522|   SEA| BUR|     127|     937|   7|    54|\n",
            "|2014|    1| 15|    1037|        7|    1352|        2|     WN| N646SW|    48|   PDX| DEN|     121|     991|  10|    37|\n",
            "|2014|    7|  2|     847|       42|    1041|       51|     WN| N422WN|  1520|   PDX| OAK|      90|     543|   8|    47|\n",
            "|2014|    5| 12|    1655|       -5|    1842|      -18|     VX| N361VA|   755|   SEA| SFO|      98|     679|  16|    55|\n",
            "|2014|    4| 19|    1236|       -4|    1508|       -7|     AS| N309AS|   490|   SEA| SAN|     135|    1050|  12|    36|\n",
            "|2014|   11| 19|    1812|       -3|    2352|       -4|     AS| N564AS|    26|   SEA| ORD|     198|    1721|  18|    12|\n",
            "|2014|   11|  8|    1653|       -2|    1924|       -1|     AS| N323AS|   448|   SEA| LAX|     130|     954|  16|    53|\n",
            "|2014|    8|  3|    1120|        0|    1415|        2|     AS| N305AS|   656|   SEA| PHX|     154|    1107|  11|    20|\n",
            "|2014|   10| 30|     811|       21|    1038|       29|     AS| N433AS|   608|   SEA| LAS|     127|     867|   8|    11|\n",
            "|2014|   11| 12|    2346|       -4|     217|      -28|     AS| N765AS|   121|   SEA| ANC|     183|    1448|  23|    46|\n",
            "|2014|   10| 31|    1314|       89|    1544|      111|     AS| N713AS|   306|   SEA| SFO|     129|     679|  13|    14|\n",
            "|2014|    1| 29|    2009|        3|    2159|        9|     UA| N27205|  1458|   PDX| SFO|      90|     550|  20|     9|\n",
            "|2014|   12| 17|    2015|       50|    2150|       41|     AS| N626AS|   368|   SEA| SMF|      76|     605|  20|    15|\n",
            "|2014|    8| 11|    1017|       -3|    1613|       -7|     WN| N8634A|   827|   SEA| MDW|     216|    1733|  10|    17|\n",
            "|2014|    1| 13|    2156|       -9|     607|      -15|     AS| N597AS|    24|   SEA| BOS|     290|    2496|  21|    56|\n",
            "|2014|    6|  5|    1733|      -12|    1945|      -10|     OO| N215AG|  3488|   PDX| BUR|     111|     817|  17|    33|\n",
            "+----+-----+---+--------+---------+--------+---------+-------+-------+------+------+----+--------+--------+----+------+\n",
            "only showing top 20 rows\n",
            "\n"
          ]
        }
      ]
    },
    {
      "cell_type": "markdown",
      "source": [
        "## Spark 문법 활용 데이터 가공"
      ],
      "metadata": {
        "id": "5_ZDEWMkH-Go"
      }
    },
    {
      "cell_type": "code",
      "source": [
        "# 데이터 컬럼 추가\n",
        "# result = flights_2.\n",
        "# flights_2['새로운'] = flights_2['air_time'] / 60\n",
        "flights_2 = flights_2.withColumn(\"duration_hrs\", flights_2.air_time/60)\n",
        "flights_2.show(1)"
      ],
      "metadata": {
        "colab": {
          "base_uri": "https://localhost:8080/"
        },
        "id": "KVM_EVaIID_p",
        "outputId": "c36cfa31-c94d-4190-f5a8-076416d40783"
      },
      "execution_count": 28,
      "outputs": [
        {
          "output_type": "stream",
          "name": "stdout",
          "text": [
            "+----+-----+---+--------+---------+--------+---------+-------+-------+------+------+----+--------+--------+----+------+------------+\n",
            "|year|month|day|dep_time|dep_delay|arr_time|arr_delay|carrier|tailnum|flight|origin|dest|air_time|distance|hour|minute|duration_hrs|\n",
            "+----+-----+---+--------+---------+--------+---------+-------+-------+------+------+----+--------+--------+----+------+------------+\n",
            "|2014|   12|  8|     658|       -7|     935|       -5|     VX| N846VA|  1780|   SEA| LAX|     132|     954|   6|    58|         2.2|\n",
            "+----+-----+---+--------+---------+--------+---------+-------+-------+------+------+----+--------+--------+----+------+------------+\n",
            "only showing top 1 row\n",
            "\n"
          ]
        }
      ]
    },
    {
      "cell_type": "markdown",
      "source": [
        "- 데이터를 필터링하는 코드 작성"
      ],
      "metadata": {
        "id": "6vitW-3HJM6o"
      }
    },
    {
      "cell_type": "code",
      "source": [
        "result = flights_2.filter(\"distance >= 1000\")\n",
        "result.show(1)"
      ],
      "metadata": {
        "colab": {
          "base_uri": "https://localhost:8080/"
        },
        "id": "EJyqCn72JO5K",
        "outputId": "530a9ecb-02d8-401d-ca4b-23fa3e199679"
      },
      "execution_count": 29,
      "outputs": [
        {
          "output_type": "stream",
          "name": "stdout",
          "text": [
            "+----+-----+---+--------+---------+--------+---------+-------+-------+------+------+----+--------+--------+----+------+------------+\n",
            "|year|month|day|dep_time|dep_delay|arr_time|arr_delay|carrier|tailnum|flight|origin|dest|air_time|distance|hour|minute|duration_hrs|\n",
            "+----+-----+---+--------+---------+--------+---------+-------+-------+------+------+----+--------+--------+----+------+------------+\n",
            "|2014|    1| 22|    1040|        5|    1505|        5|     AS| N559AS|   851|   SEA| HNL|     360|    2677|  10|    40|         6.0|\n",
            "+----+-----+---+--------+---------+--------+---------+-------+-------+------+------+----+--------+--------+----+------+------------+\n",
            "only showing top 1 row\n",
            "\n"
          ]
        }
      ]
    },
    {
      "cell_type": "code",
      "source": [
        "result2 = flights_2.filter(flights_2.distance > 1000)\n",
        "result2.show(1)"
      ],
      "metadata": {
        "colab": {
          "base_uri": "https://localhost:8080/"
        },
        "id": "Fp46hefcJpUJ",
        "outputId": "ab33fe0a-b591-400b-dac6-d434ce99bf2b"
      },
      "execution_count": 30,
      "outputs": [
        {
          "output_type": "stream",
          "name": "stdout",
          "text": [
            "+----+-----+---+--------+---------+--------+---------+-------+-------+------+------+----+--------+--------+----+------+------------+\n",
            "|year|month|day|dep_time|dep_delay|arr_time|arr_delay|carrier|tailnum|flight|origin|dest|air_time|distance|hour|minute|duration_hrs|\n",
            "+----+-----+---+--------+---------+--------+---------+-------+-------+------+------+----+--------+--------+----+------+------------+\n",
            "|2014|    1| 22|    1040|        5|    1505|        5|     AS| N559AS|   851|   SEA| HNL|     360|    2677|  10|    40|         6.0|\n",
            "+----+-----+---+--------+---------+--------+---------+-------+-------+------+------+----+--------+--------+----+------+------------+\n",
            "only showing top 1 row\n",
            "\n"
          ]
        }
      ]
    },
    {
      "cell_type": "code",
      "source": [
        "# 변수 선택, tailnum, origin, dest\n",
        "result3 = flights_2.select(\"tailnum\", \"origin\", \"dest\")\n",
        "result3.show(1)"
      ],
      "metadata": {
        "colab": {
          "base_uri": "https://localhost:8080/"
        },
        "id": "1nWCx9oPJ_Fy",
        "outputId": "08a24a99-176a-4cf6-b6c0-31e90e04ceab"
      },
      "execution_count": 31,
      "outputs": [
        {
          "output_type": "stream",
          "name": "stdout",
          "text": [
            "+-------+------+----+\n",
            "|tailnum|origin|dest|\n",
            "+-------+------+----+\n",
            "| N846VA|   SEA| LAX|\n",
            "+-------+------+----+\n",
            "only showing top 1 row\n",
            "\n"
          ]
        }
      ]
    },
    {
      "cell_type": "code",
      "source": [
        "result4 = flights_2.select(flights_2.tailnum, flights_2.origin, flights_2.dest)\n",
        "result4.show(1)"
      ],
      "metadata": {
        "colab": {
          "base_uri": "https://localhost:8080/"
        },
        "id": "1GuFY2r4K3-m",
        "outputId": "528f7365-fa20-4d58-b81a-5b662c5faf4d"
      },
      "execution_count": 32,
      "outputs": [
        {
          "output_type": "stream",
          "name": "stdout",
          "text": [
            "+-------+------+----+\n",
            "|tailnum|origin|dest|\n",
            "+-------+------+----+\n",
            "| N846VA|   SEA| LAX|\n",
            "+-------+------+----+\n",
            "only showing top 1 row\n",
            "\n"
          ]
        }
      ]
    },
    {
      "cell_type": "code",
      "source": [
        "# 다중 필터 조건 걸어보기\n",
        "filterA = flights_2.origin == \"SEA\"\n",
        "filterB = flights_2.dest == \"PDX\"\n",
        "\n",
        "tempA = result4.origin == \"SEA\"\n",
        "\n",
        "print(type(filterA))\n",
        "print(type(tempA))\n",
        "\n",
        "selected = result4.filter(filterA).filter(filterB)\n",
        "selected.show()"
      ],
      "metadata": {
        "colab": {
          "base_uri": "https://localhost:8080/"
        },
        "id": "SL8was5kLDi8",
        "outputId": "e123135c-43d7-4f41-8850-97289782a434"
      },
      "execution_count": 33,
      "outputs": [
        {
          "output_type": "stream",
          "name": "stdout",
          "text": [
            "<class 'pyspark.sql.column.Column'>\n",
            "<class 'pyspark.sql.column.Column'>\n",
            "+-------+------+----+\n",
            "|tailnum|origin|dest|\n",
            "+-------+------+----+\n",
            "| N810SK|   SEA| PDX|\n",
            "| N822SK|   SEA| PDX|\n",
            "| N586SW|   SEA| PDX|\n",
            "| N223SW|   SEA| PDX|\n",
            "| N580SW|   SEA| PDX|\n",
            "| N520AS|   SEA| PDX|\n",
            "| N809SK|   SEA| PDX|\n",
            "| N295SW|   SEA| PDX|\n",
            "| N221SW|   SEA| PDX|\n",
            "| N294SW|   SEA| PDX|\n",
            "| N581SW|   SEA| PDX|\n",
            "| N563SW|   SEA| PDX|\n",
            "| N297SW|   SEA| PDX|\n",
            "| N564SW|   SEA| PDX|\n",
            "| N468AS|   SEA| PDX|\n",
            "| N229SW|   SEA| PDX|\n",
            "| N565SW|   SEA| PDX|\n",
            "| N580SW|   SEA| PDX|\n",
            "| N817SK|   SEA| PDX|\n",
            "| N564SW|   SEA| PDX|\n",
            "+-------+------+----+\n",
            "only showing top 20 rows\n",
            "\n"
          ]
        }
      ]
    },
    {
      "cell_type": "code",
      "source": [
        "# avg_speed\n",
        "avg_speed = (flights_2.distance/(flights_2.air_time/60)).alias(\"avg_speed\")\n",
        "speed_df = flights.select(\"origin\", \"dest\", \"tailnum\", avg_speed)\n",
        "speed_df.show()"
      ],
      "metadata": {
        "colab": {
          "base_uri": "https://localhost:8080/"
        },
        "id": "S-RqOSirL2at",
        "outputId": "2c9a466b-b095-463b-b446-301a398761ad"
      },
      "execution_count": 34,
      "outputs": [
        {
          "output_type": "stream",
          "name": "stdout",
          "text": [
            "+------+----+-------+------------------+\n",
            "|origin|dest|tailnum|         avg_speed|\n",
            "+------+----+-------+------------------+\n",
            "|   SEA| LAX| N846VA| 433.6363636363636|\n",
            "|   SEA| HNL| N559AS| 446.1666666666667|\n",
            "|   SEA| SFO| N847VA|367.02702702702703|\n",
            "|   PDX| SJC| N360SW| 411.3253012048193|\n",
            "|   SEA| BUR| N612AS| 442.6771653543307|\n",
            "|   PDX| DEN| N646SW|491.40495867768595|\n",
            "|   PDX| OAK| N422WN|             362.0|\n",
            "|   SEA| SFO| N361VA| 415.7142857142857|\n",
            "|   SEA| SAN| N309AS| 466.6666666666667|\n",
            "|   SEA| ORD| N564AS| 521.5151515151515|\n",
            "|   SEA| LAX| N323AS| 440.3076923076923|\n",
            "|   SEA| PHX| N305AS|431.29870129870125|\n",
            "|   SEA| LAS| N433AS| 409.6062992125984|\n",
            "|   SEA| ANC| N765AS|474.75409836065575|\n",
            "|   SEA| SFO| N713AS| 315.8139534883721|\n",
            "|   PDX| SFO| N27205| 366.6666666666667|\n",
            "|   SEA| SMF| N626AS|477.63157894736844|\n",
            "|   SEA| MDW| N8634A|481.38888888888886|\n",
            "|   SEA| BOS| N597AS| 516.4137931034483|\n",
            "|   PDX| BUR| N215AG| 441.6216216216216|\n",
            "+------+----+-------+------------------+\n",
            "only showing top 20 rows\n",
            "\n"
          ]
        }
      ]
    },
    {
      "cell_type": "code",
      "source": [
        "speed_df2 = flights.selectExpr(\"origin\", \"dest\", \"tailnum\", \"distance/(air_time/60) AS avg_speed\")\n",
        "speed_df2.show()"
      ],
      "metadata": {
        "colab": {
          "base_uri": "https://localhost:8080/"
        },
        "id": "JAL9TfhNtVwq",
        "outputId": "748b9041-08fd-47cb-aa2b-3415cf66f6ad"
      },
      "execution_count": 35,
      "outputs": [
        {
          "output_type": "stream",
          "name": "stdout",
          "text": [
            "+------+----+-------+------------------+\n",
            "|origin|dest|tailnum|         avg_speed|\n",
            "+------+----+-------+------------------+\n",
            "|   SEA| LAX| N846VA| 433.6363636363636|\n",
            "|   SEA| HNL| N559AS| 446.1666666666667|\n",
            "|   SEA| SFO| N847VA|367.02702702702703|\n",
            "|   PDX| SJC| N360SW| 411.3253012048193|\n",
            "|   SEA| BUR| N612AS| 442.6771653543307|\n",
            "|   PDX| DEN| N646SW|491.40495867768595|\n",
            "|   PDX| OAK| N422WN|             362.0|\n",
            "|   SEA| SFO| N361VA| 415.7142857142857|\n",
            "|   SEA| SAN| N309AS| 466.6666666666667|\n",
            "|   SEA| ORD| N564AS| 521.5151515151515|\n",
            "|   SEA| LAX| N323AS| 440.3076923076923|\n",
            "|   SEA| PHX| N305AS|431.29870129870125|\n",
            "|   SEA| LAS| N433AS| 409.6062992125984|\n",
            "|   SEA| ANC| N765AS|474.75409836065575|\n",
            "|   SEA| SFO| N713AS| 315.8139534883721|\n",
            "|   PDX| SFO| N27205| 366.6666666666667|\n",
            "|   SEA| SMF| N626AS|477.63157894736844|\n",
            "|   SEA| MDW| N8634A|481.38888888888886|\n",
            "|   SEA| BOS| N597AS| 516.4137931034483|\n",
            "|   PDX| BUR| N215AG| 441.6216216216216|\n",
            "+------+----+-------+------------------+\n",
            "only showing top 20 rows\n",
            "\n"
          ]
        }
      ]
    },
    {
      "cell_type": "markdown",
      "source": [
        "## 집계함수\n",
        "- groupby() + 집계함수"
      ],
      "metadata": {
        "id": "u-TmHbntJ9lr"
      }
    },
    {
      "cell_type": "code",
      "source": [
        "flights_2.printSchema()"
      ],
      "metadata": {
        "colab": {
          "base_uri": "https://localhost:8080/"
        },
        "id": "K_yZzOxbuFTN",
        "outputId": "26ed1d76-5dc8-4e9e-b414-6492014aa9b2"
      },
      "execution_count": 36,
      "outputs": [
        {
          "output_type": "stream",
          "name": "stdout",
          "text": [
            "root\n",
            " |-- year: string (nullable = true)\n",
            " |-- month: string (nullable = true)\n",
            " |-- day: string (nullable = true)\n",
            " |-- dep_time: string (nullable = true)\n",
            " |-- dep_delay: string (nullable = true)\n",
            " |-- arr_time: string (nullable = true)\n",
            " |-- arr_delay: string (nullable = true)\n",
            " |-- carrier: string (nullable = true)\n",
            " |-- tailnum: string (nullable = true)\n",
            " |-- flight: string (nullable = true)\n",
            " |-- origin: string (nullable = true)\n",
            " |-- dest: string (nullable = true)\n",
            " |-- air_time: string (nullable = true)\n",
            " |-- distance: string (nullable = true)\n",
            " |-- hour: string (nullable = true)\n",
            " |-- minute: string (nullable = true)\n",
            " |-- duration_hrs: double (nullable = true)\n",
            "\n"
          ]
        }
      ]
    },
    {
      "cell_type": "code",
      "source": [
        "# distance String --> int\n",
        "flights_2 = flights_2.withColumn('distance', flights_2.distance.cast('int'))\n",
        "flights_2.printSchema()"
      ],
      "metadata": {
        "colab": {
          "base_uri": "https://localhost:8080/"
        },
        "id": "szFXImQFuUwW",
        "outputId": "3d98863d-0a35-41df-8a92-6500b8d1f39f"
      },
      "execution_count": 37,
      "outputs": [
        {
          "output_type": "stream",
          "name": "stdout",
          "text": [
            "root\n",
            " |-- year: string (nullable = true)\n",
            " |-- month: string (nullable = true)\n",
            " |-- day: string (nullable = true)\n",
            " |-- dep_time: string (nullable = true)\n",
            " |-- dep_delay: string (nullable = true)\n",
            " |-- arr_time: string (nullable = true)\n",
            " |-- arr_delay: string (nullable = true)\n",
            " |-- carrier: string (nullable = true)\n",
            " |-- tailnum: string (nullable = true)\n",
            " |-- flight: string (nullable = true)\n",
            " |-- origin: string (nullable = true)\n",
            " |-- dest: string (nullable = true)\n",
            " |-- air_time: string (nullable = true)\n",
            " |-- distance: integer (nullable = true)\n",
            " |-- hour: string (nullable = true)\n",
            " |-- minute: string (nullable = true)\n",
            " |-- duration_hrs: double (nullable = true)\n",
            "\n"
          ]
        }
      ]
    },
    {
      "cell_type": "code",
      "source": [
        "# origin, PDX 추출, groupby, distance 최소\n",
        "flights_2.filter(flights_2.origin == \"PDX\").groupby(\"tailnum\").sum(\"distance\").show()"
      ],
      "metadata": {
        "colab": {
          "base_uri": "https://localhost:8080/"
        },
        "id": "1aG4vh9Lu4qg",
        "outputId": "44e8155c-c46e-495c-9b02-b09c31e6a01c"
      },
      "execution_count": 38,
      "outputs": [
        {
          "output_type": "stream",
          "name": "stdout",
          "text": [
            "+-------+-------------+\n",
            "|tailnum|sum(distance)|\n",
            "+-------+-------------+\n",
            "| N442AS|         8167|\n",
            "| N36472|         5311|\n",
            "| N567AA|         1616|\n",
            "| N38451|         1739|\n",
            "| N516UA|          991|\n",
            "| N927DN|         1426|\n",
            "| N954WN|         2103|\n",
            "| N73283|          550|\n",
            "| N102UW|         2282|\n",
            "| N607AS|        11183|\n",
            "| N622SW|         1199|\n",
            "| N584AS|        13063|\n",
            "| N914WN|          991|\n",
            "| N445WN|          543|\n",
            "| N3LDAA|         1739|\n",
            "| N389HA|         5206|\n",
            "| N578SW|          351|\n",
            "| N430WN|         2518|\n",
            "| N651SW|         1009|\n",
            "| N611SW|         1772|\n",
            "+-------+-------------+\n",
            "only showing top 20 rows\n",
            "\n"
          ]
        }
      ]
    },
    {
      "cell_type": "code",
      "source": [
        "# carrier\n",
        "result = (flights_2\n",
        "          .filter(flights_2.origin == \"PDX\")\n",
        "          .filter(flights_2.carrier == \"DL\")\n",
        "          .groupby(\"dest\")\n",
        "          .avg(\"distance\"))\n",
        "result.show()"
      ],
      "metadata": {
        "colab": {
          "base_uri": "https://localhost:8080/"
        },
        "id": "mcexo9HgvJR8",
        "outputId": "d59c5321-6dd5-4be3-9eff-29a8d035f7fe"
      },
      "execution_count": 39,
      "outputs": [
        {
          "output_type": "stream",
          "name": "stdout",
          "text": [
            "+----+-------------+\n",
            "|dest|avg(distance)|\n",
            "+----+-------------+\n",
            "| ATL|       2172.0|\n",
            "| DTW|       1953.0|\n",
            "| MSP|       1426.0|\n",
            "| JFK|       2454.0|\n",
            "| SLC|        630.0|\n",
            "+----+-------------+\n",
            "\n"
          ]
        }
      ]
    },
    {
      "cell_type": "code",
      "source": [
        "# carrier\n",
        "result = (flights_2\n",
        "          .filter(flights_2.origin == \"PDX\")\n",
        "          .where(col(\"carrier\") == \"DL\") # filter(flights_2.carrier == \"DL\")\n",
        "          .groupby(\"dest\")\n",
        "          .avg(\"distance\"))\n",
        "result.show()"
      ],
      "metadata": {
        "colab": {
          "base_uri": "https://localhost:8080/"
        },
        "id": "Srl3KwrHxCKp",
        "outputId": "7ad3bafd-a57e-4ac2-9aac-3ffd1ef1ca5b"
      },
      "execution_count": 40,
      "outputs": [
        {
          "output_type": "stream",
          "name": "stdout",
          "text": [
            "+----+-------------+\n",
            "|dest|avg(distance)|\n",
            "+----+-------------+\n",
            "| ATL|       2172.0|\n",
            "| DTW|       1953.0|\n",
            "| MSP|       1426.0|\n",
            "| JFK|       2454.0|\n",
            "| SLC|        630.0|\n",
            "+----+-------------+\n",
            "\n"
          ]
        }
      ]
    },
    {
      "cell_type": "code",
      "source": [
        "import pyspark.sql.functions as F\n",
        "\n",
        "flights_2= flights_2.withColumn('dep_delay', flights_2.distance.cast('int'))\n",
        "by_month_dest = flights_2.groupBy(\"month\", \"dest\")\n",
        "by_month_dest.avg(\"dep_delay\").show()"
      ],
      "metadata": {
        "colab": {
          "base_uri": "https://localhost:8080/"
        },
        "id": "MRJWkcNHxrd6",
        "outputId": "0ee1d277-b810-4939-ac55-b12b13da5a80"
      },
      "execution_count": 41,
      "outputs": [
        {
          "output_type": "stream",
          "name": "stdout",
          "text": [
            "+-----+----+------------------+\n",
            "|month|dest|    avg(dep_delay)|\n",
            "+-----+----+------------------+\n",
            "|   11| TUS|1183.6666666666667|\n",
            "|   11| ANC|1453.5294117647059|\n",
            "|    1| BUR|             877.0|\n",
            "|    1| PDX|             129.0|\n",
            "|    6| SBA|             877.0|\n",
            "|    5| LAX| 919.7142857142857|\n",
            "|   10| DTW|            1927.0|\n",
            "|    6| SIT|             861.0|\n",
            "|   10| DFW|1647.0588235294117|\n",
            "|    3| FAI|            1533.0|\n",
            "|   10| SEA|             129.0|\n",
            "|    2| TUS|            1119.0|\n",
            "|   12| OGG| 2625.818181818182|\n",
            "|    9| DFW|1645.3333333333333|\n",
            "|    5| EWR|2404.6666666666665|\n",
            "|    3| RDM|             116.0|\n",
            "|    8| DCA|            2335.3|\n",
            "|    7| ATL|2178.2162162162163|\n",
            "|    4| JFK|2431.1428571428573|\n",
            "|   10| SNA| 962.1333333333333|\n",
            "+-----+----+------------------+\n",
            "only showing top 20 rows\n",
            "\n"
          ]
        }
      ]
    },
    {
      "cell_type": "code",
      "source": [
        "by_month_dest.agg(F.stddev(\"dep_delay\")).show()"
      ],
      "metadata": {
        "colab": {
          "base_uri": "https://localhost:8080/"
        },
        "id": "SXh8plTOyJyE",
        "outputId": "aabfbd94-206e-413b-d6fd-891d33f5984e"
      },
      "execution_count": 42,
      "outputs": [
        {
          "output_type": "stream",
          "name": "stdout",
          "text": [
            "+-----+----+------------------+\n",
            "|month|dest| stddev(dep_delay)|\n",
            "+-----+----+------------------+\n",
            "|   11| TUS|  56.0029761113937|\n",
            "|   11| ANC|22.450261919397587|\n",
            "|    1| BUR| 61.55870112510924|\n",
            "|    1| PDX|               0.0|\n",
            "|    6| SBA| 62.00000000000001|\n",
            "|    5| LAX| 54.56595650240686|\n",
            "|   10| DTW|               0.0|\n",
            "|    6| SIT|              NULL|\n",
            "|   10| DFW|20.349880762766734|\n",
            "|    3| FAI|               0.0|\n",
            "|   10| SEA|               0.0|\n",
            "|    2| TUS|               0.0|\n",
            "|   12| OGG|31.552553563279734|\n",
            "|    9| DFW|21.096385265356872|\n",
            "|    5| EWR| 9.237604307033997|\n",
            "|    3| RDM|               0.0|\n",
            "|    8| DCA|10.143963722332614|\n",
            "|    7| ATL| 4.916723926983699|\n",
            "|    4| JFK|15.001831390031716|\n",
            "|   10| SNA| 41.87202725766531|\n",
            "+-----+----+------------------+\n",
            "only showing top 20 rows\n",
            "\n"
          ]
        }
      ]
    },
    {
      "cell_type": "markdown",
      "source": [
        "## 테이블 조인"
      ],
      "metadata": {
        "id": "4OWbVL8Xzdvh"
      }
    },
    {
      "cell_type": "code",
      "source": [
        "my_spark.stop()"
      ],
      "metadata": {
        "id": "3CZ-eclJzyYZ"
      },
      "execution_count": 43,
      "outputs": []
    },
    {
      "cell_type": "code",
      "source": [
        "from pyspark.sql import SparkSession\n",
        "my_spark = SparkSession.builder.master(\"local[1]\").appName(\"SampleTutorial\").getOrCreate()\n",
        "\n",
        "DATA_PATH = '/content/drive/MyDrive/멀티캠퍼스34/Spark/data/'\n",
        "\n",
        "airports = my_spark.read.csv(DATA_PATH + \"airports.csv\", header=True)\n",
        "airports.show(1)\n",
        "\n",
        "flights = my_spark.read.csv(DATA_PATH + \"flight_small.csv\", header=True)\n",
        "flights.show(1)\n",
        "\n",
        "planes = my_spark.read.csv(DATA_PATH + \"planes.csv\", header=True)\n",
        "planes.show(1)"
      ],
      "metadata": {
        "colab": {
          "base_uri": "https://localhost:8080/"
        },
        "id": "svSEXGJUzfkY",
        "outputId": "c26b269c-547b-42c2-cd8d-209d54ee3c92"
      },
      "execution_count": 46,
      "outputs": [
        {
          "output_type": "stream",
          "name": "stdout",
          "text": [
            "+---+-----------------+----------+-----------+----+---+---+\n",
            "|faa|             name|       lat|        lon| alt| tz|dst|\n",
            "+---+-----------------+----------+-----------+----+---+---+\n",
            "|04G|Lansdowne Airport|41.1304722|-80.6195833|1044| -5|  A|\n",
            "+---+-----------------+----------+-----------+----+---+---+\n",
            "only showing top 1 row\n",
            "\n",
            "+----+-----+---+--------+---------+--------+---------+-------+-------+------+------+----+--------+--------+----+------+\n",
            "|year|month|day|dep_time|dep_delay|arr_time|arr_delay|carrier|tailnum|flight|origin|dest|air_time|distance|hour|minute|\n",
            "+----+-----+---+--------+---------+--------+---------+-------+-------+------+------+----+--------+--------+----+------+\n",
            "|2014|   12|  8|     658|       -7|     935|       -5|     VX| N846VA|  1780|   SEA| LAX|     132|     954|   6|    58|\n",
            "+----+-----+---+--------+---------+--------+---------+-------+-------+------+------+----+--------+--------+----+------+\n",
            "only showing top 1 row\n",
            "\n",
            "+-------+----+--------------------+----------------+--------+-------+-----+-----+---------+\n",
            "|tailnum|year|                type|    manufacturer|   model|engines|seats|speed|   engine|\n",
            "+-------+----+--------------------+----------------+--------+-------+-----+-----+---------+\n",
            "| N102UW|1998|Fixed wing multi ...|AIRBUS INDUSTRIE|A320-214|      2|  182|   NA|Turbo-fan|\n",
            "+-------+----+--------------------+----------------+--------+-------+-----+-----+---------+\n",
            "only showing top 1 row\n",
            "\n"
          ]
        }
      ]
    },
    {
      "cell_type": "code",
      "source": [
        "airports.show(10)"
      ],
      "metadata": {
        "colab": {
          "base_uri": "https://localhost:8080/"
        },
        "id": "eckuHsSz0kk8",
        "outputId": "c5d81881-0f15-4f69-8eba-66753f30e137"
      },
      "execution_count": 47,
      "outputs": [
        {
          "output_type": "stream",
          "name": "stdout",
          "text": [
            "+---+--------------------+----------+------------+----+---+---+\n",
            "|faa|                name|       lat|         lon| alt| tz|dst|\n",
            "+---+--------------------+----------+------------+----+---+---+\n",
            "|04G|   Lansdowne Airport|41.1304722| -80.6195833|1044| -5|  A|\n",
            "|06A|Moton Field Munic...|32.4605722| -85.6800278| 264| -5|  A|\n",
            "|06C| Schaumburg Regional|41.9893408| -88.1012428| 801| -6|  A|\n",
            "|06N|     Randall Airport| 41.431912| -74.3915611| 523| -5|  A|\n",
            "|09J|Jekyll Island Air...|31.0744722| -81.4277778|  11| -4|  A|\n",
            "|0A9|Elizabethton Muni...|36.3712222| -82.1734167|1593| -4|  A|\n",
            "|0G6|Williams County A...|41.4673056| -84.5067778| 730| -5|  A|\n",
            "|0G7|Finger Lakes Regi...|42.8835647| -76.7812318| 492| -5|  A|\n",
            "|0P2|Shoestring Aviati...|39.7948244| -76.6471914|1000| -5|  U|\n",
            "|0S9|Jefferson County ...|48.0538086|-122.8106436| 108| -8|  A|\n",
            "+---+--------------------+----------+------------+----+---+---+\n",
            "only showing top 10 rows\n",
            "\n"
          ]
        }
      ]
    },
    {
      "cell_type": "code",
      "source": [
        "flights.show(10)"
      ],
      "metadata": {
        "colab": {
          "base_uri": "https://localhost:8080/"
        },
        "id": "ctpOvYA70nm4",
        "outputId": "5a0e2f16-1a49-4fb1-d874-d4b55350e053"
      },
      "execution_count": 48,
      "outputs": [
        {
          "output_type": "stream",
          "name": "stdout",
          "text": [
            "+----+-----+---+--------+---------+--------+---------+-------+-------+------+------+----+--------+--------+----+------+\n",
            "|year|month|day|dep_time|dep_delay|arr_time|arr_delay|carrier|tailnum|flight|origin|dest|air_time|distance|hour|minute|\n",
            "+----+-----+---+--------+---------+--------+---------+-------+-------+------+------+----+--------+--------+----+------+\n",
            "|2014|   12|  8|     658|       -7|     935|       -5|     VX| N846VA|  1780|   SEA| LAX|     132|     954|   6|    58|\n",
            "|2014|    1| 22|    1040|        5|    1505|        5|     AS| N559AS|   851|   SEA| HNL|     360|    2677|  10|    40|\n",
            "|2014|    3|  9|    1443|       -2|    1652|        2|     VX| N847VA|   755|   SEA| SFO|     111|     679|  14|    43|\n",
            "|2014|    4|  9|    1705|       45|    1839|       34|     WN| N360SW|   344|   PDX| SJC|      83|     569|  17|     5|\n",
            "|2014|    3|  9|     754|       -1|    1015|        1|     AS| N612AS|   522|   SEA| BUR|     127|     937|   7|    54|\n",
            "|2014|    1| 15|    1037|        7|    1352|        2|     WN| N646SW|    48|   PDX| DEN|     121|     991|  10|    37|\n",
            "|2014|    7|  2|     847|       42|    1041|       51|     WN| N422WN|  1520|   PDX| OAK|      90|     543|   8|    47|\n",
            "|2014|    5| 12|    1655|       -5|    1842|      -18|     VX| N361VA|   755|   SEA| SFO|      98|     679|  16|    55|\n",
            "|2014|    4| 19|    1236|       -4|    1508|       -7|     AS| N309AS|   490|   SEA| SAN|     135|    1050|  12|    36|\n",
            "|2014|   11| 19|    1812|       -3|    2352|       -4|     AS| N564AS|    26|   SEA| ORD|     198|    1721|  18|    12|\n",
            "+----+-----+---+--------+---------+--------+---------+-------+-------+------+------+----+--------+--------+----+------+\n",
            "only showing top 10 rows\n",
            "\n"
          ]
        }
      ]
    },
    {
      "cell_type": "code",
      "source": [
        "# 컬럼명 변경\n",
        "airports = airports.withColumnRenamed(\"faa\", \"dest\")\n",
        "airports.show(1)"
      ],
      "metadata": {
        "colab": {
          "base_uri": "https://localhost:8080/"
        },
        "id": "d_OjzT931Ew0",
        "outputId": "dd9ebd51-2dfa-4952-eeac-b3cd5e76f261"
      },
      "execution_count": 49,
      "outputs": [
        {
          "output_type": "stream",
          "name": "stdout",
          "text": [
            "+----+-----------------+----------+-----------+----+---+---+\n",
            "|dest|             name|       lat|        lon| alt| tz|dst|\n",
            "+----+-----------------+----------+-----------+----+---+---+\n",
            "| 04G|Lansdowne Airport|41.1304722|-80.6195833|1044| -5|  A|\n",
            "+----+-----------------+----------+-----------+----+---+---+\n",
            "only showing top 1 row\n",
            "\n"
          ]
        }
      ]
    },
    {
      "cell_type": "code",
      "source": [
        "result = flights.join(airports, on = 'dest', how=\"leftouter\")\n",
        "result.show()"
      ],
      "metadata": {
        "colab": {
          "base_uri": "https://localhost:8080/"
        },
        "id": "c_n5D-b-1eqp",
        "outputId": "711bf423-c6b7-4b9b-ab80-1dd28752badf"
      },
      "execution_count": 50,
      "outputs": [
        {
          "output_type": "stream",
          "name": "stdout",
          "text": [
            "+----+----+-----+---+--------+---------+--------+---------+-------+-------+------+------+--------+--------+----+------+--------------------+---------+-----------+----+---+---+\n",
            "|dest|year|month|day|dep_time|dep_delay|arr_time|arr_delay|carrier|tailnum|flight|origin|air_time|distance|hour|minute|                name|      lat|        lon| alt| tz|dst|\n",
            "+----+----+-----+---+--------+---------+--------+---------+-------+-------+------+------+--------+--------+----+------+--------------------+---------+-----------+----+---+---+\n",
            "| LAX|2014|   12|  8|     658|       -7|     935|       -5|     VX| N846VA|  1780|   SEA|     132|     954|   6|    58|    Los Angeles Intl|33.942536|-118.408075| 126| -8|  A|\n",
            "| HNL|2014|    1| 22|    1040|        5|    1505|        5|     AS| N559AS|   851|   SEA|     360|    2677|  10|    40|       Honolulu Intl|21.318681|-157.922428|  13|-10|  N|\n",
            "| SFO|2014|    3|  9|    1443|       -2|    1652|        2|     VX| N847VA|   755|   SEA|     111|     679|  14|    43|  San Francisco Intl|37.618972|-122.374889|  13| -8|  A|\n",
            "| SJC|2014|    4|  9|    1705|       45|    1839|       34|     WN| N360SW|   344|   PDX|      83|     569|  17|     5|Norman Y Mineta S...|  37.3626|-121.929022|  62| -8|  A|\n",
            "| BUR|2014|    3|  9|     754|       -1|    1015|        1|     AS| N612AS|   522|   SEA|     127|     937|   7|    54|            Bob Hope|34.200667|-118.358667| 778| -8|  A|\n",
            "| DEN|2014|    1| 15|    1037|        7|    1352|        2|     WN| N646SW|    48|   PDX|     121|     991|  10|    37|         Denver Intl|39.861656|-104.673178|5431| -7|  A|\n",
            "| OAK|2014|    7|  2|     847|       42|    1041|       51|     WN| N422WN|  1520|   PDX|      90|     543|   8|    47|Metropolitan Oakl...|37.721278|-122.220722|   9| -8|  A|\n",
            "| SFO|2014|    5| 12|    1655|       -5|    1842|      -18|     VX| N361VA|   755|   SEA|      98|     679|  16|    55|  San Francisco Intl|37.618972|-122.374889|  13| -8|  A|\n",
            "| SAN|2014|    4| 19|    1236|       -4|    1508|       -7|     AS| N309AS|   490|   SEA|     135|    1050|  12|    36|      San Diego Intl|32.733556|-117.189667|  17| -8|  A|\n",
            "| ORD|2014|   11| 19|    1812|       -3|    2352|       -4|     AS| N564AS|    26|   SEA|     198|    1721|  18|    12|  Chicago Ohare Intl|41.978603| -87.904842| 668| -6|  A|\n",
            "| LAX|2014|   11|  8|    1653|       -2|    1924|       -1|     AS| N323AS|   448|   SEA|     130|     954|  16|    53|    Los Angeles Intl|33.942536|-118.408075| 126| -8|  A|\n",
            "| PHX|2014|    8|  3|    1120|        0|    1415|        2|     AS| N305AS|   656|   SEA|     154|    1107|  11|    20|Phoenix Sky Harbo...|33.434278|-112.011583|1135| -7|  N|\n",
            "| LAS|2014|   10| 30|     811|       21|    1038|       29|     AS| N433AS|   608|   SEA|     127|     867|   8|    11|      Mc Carran Intl|36.080056| -115.15225|2141| -8|  A|\n",
            "| ANC|2014|   11| 12|    2346|       -4|     217|      -28|     AS| N765AS|   121|   SEA|     183|    1448|  23|    46|Ted Stevens Ancho...|61.174361|-149.996361| 152| -9|  A|\n",
            "| SFO|2014|   10| 31|    1314|       89|    1544|      111|     AS| N713AS|   306|   SEA|     129|     679|  13|    14|  San Francisco Intl|37.618972|-122.374889|  13| -8|  A|\n",
            "| SFO|2014|    1| 29|    2009|        3|    2159|        9|     UA| N27205|  1458|   PDX|      90|     550|  20|     9|  San Francisco Intl|37.618972|-122.374889|  13| -8|  A|\n",
            "| SMF|2014|   12| 17|    2015|       50|    2150|       41|     AS| N626AS|   368|   SEA|      76|     605|  20|    15|     Sacramento Intl|38.695417|-121.590778|  27| -8|  A|\n",
            "| MDW|2014|    8| 11|    1017|       -3|    1613|       -7|     WN| N8634A|   827|   SEA|     216|    1733|  10|    17| Chicago Midway Intl|41.785972| -87.752417| 620| -6|  A|\n",
            "| BOS|2014|    1| 13|    2156|       -9|     607|      -15|     AS| N597AS|    24|   SEA|     290|    2496|  21|    56|General Edward La...|42.364347| -71.005181|  19| -5|  A|\n",
            "| BUR|2014|    6|  5|    1733|      -12|    1945|      -10|     OO| N215AG|  3488|   PDX|     111|     817|  17|    33|            Bob Hope|34.200667|-118.358667| 778| -8|  A|\n",
            "+----+----+-----+---+--------+---------+--------+---------+-------+-------+------+------+--------+--------+----+------+--------------------+---------+-----------+----+---+---+\n",
            "only showing top 20 rows\n",
            "\n"
          ]
        }
      ]
    },
    {
      "cell_type": "code",
      "source": [
        "my_spark.stop()"
      ],
      "metadata": {
        "id": "xUTYDJZY6jHC"
      },
      "execution_count": 51,
      "outputs": []
    },
    {
      "cell_type": "markdown",
      "source": [
        "## zip 파일 데이터 불러오기"
      ],
      "metadata": {
        "id": "ZBcwCM8P6dD1"
      }
    },
    {
      "cell_type": "code",
      "source": [
        "from pyspark.sql import SparkSession\n",
        "spark = SparkSession.builder.master(\"local[1]\").appName(\"Sample\").getOrCreate()\n",
        "print(spark)"
      ],
      "metadata": {
        "colab": {
          "base_uri": "https://localhost:8080/"
        },
        "id": "xs_gHjiW6rCJ",
        "outputId": "32ed9843-72bc-486c-f13c-a88cb075d381"
      },
      "execution_count": 52,
      "outputs": [
        {
          "output_type": "stream",
          "name": "stdout",
          "text": [
            "<pyspark.sql.session.SparkSession object at 0x7956fffe2d70>\n"
          ]
        }
      ]
    },
    {
      "cell_type": "code",
      "source": [
        "import pyspark.sql.functions as F\n",
        "\n",
        "# CSV 파일 불러오기\n",
        "DATA_PATH = '/content/drive/MyDrive/멀티캠퍼스34/Spark/data/'\n",
        "aa_dfw_2014 = spark.read.format(\"csv\").options(Header=True).load(DATA_PATH + \"AA_DFW_2014_Departures_Short.csv.gz\")\n",
        "aa_dfw_2014.show(1)"
      ],
      "metadata": {
        "colab": {
          "base_uri": "https://localhost:8080/"
        },
        "id": "w2Oe9-5S7ecD",
        "outputId": "00921934-6d5e-446d-c5ee-12cd146b918f"
      },
      "execution_count": 54,
      "outputs": [
        {
          "output_type": "stream",
          "name": "stdout",
          "text": [
            "+-----------------+-------------+-------------------+-----------------------------+\n",
            "|Date (MM/DD/YYYY)|Flight Number|Destination Airport|Actual elapsed time (Minutes)|\n",
            "+-----------------+-------------+-------------------+-----------------------------+\n",
            "|       01/01/2014|         0005|                HNL|                          519|\n",
            "+-----------------+-------------+-------------------+-----------------------------+\n",
            "only showing top 1 row\n",
            "\n"
          ]
        }
      ]
    },
    {
      "cell_type": "code",
      "source": [
        "aa_dfw_2014 = aa_dfw_2014.withColumn('airport', F.lower(aa_dfw_2014['Destination Airport']))\n",
        "aa_dfw_2014.show(1)"
      ],
      "metadata": {
        "colab": {
          "base_uri": "https://localhost:8080/"
        },
        "id": "dYgJNXwS81iC",
        "outputId": "3a1220ee-e4bb-4196-bcff-b4a6d84ba990"
      },
      "execution_count": 55,
      "outputs": [
        {
          "output_type": "stream",
          "name": "stdout",
          "text": [
            "+-----------------+-------------+-------------------+-----------------------------+-------+\n",
            "|Date (MM/DD/YYYY)|Flight Number|Destination Airport|Actual elapsed time (Minutes)|airport|\n",
            "+-----------------+-------------+-------------------+-----------------------------+-------+\n",
            "|       01/01/2014|         0005|                HNL|                          519|    hnl|\n",
            "+-----------------+-------------+-------------------+-----------------------------+-------+\n",
            "only showing top 1 row\n",
            "\n"
          ]
        }
      ]
    },
    {
      "cell_type": "code",
      "source": [
        "# 특정 컬럼 삭제\n",
        "aa_dfw_2014 = aa_dfw_2014.drop(aa_dfw_2014['Destination Airport'])\n",
        "aa_dfw_2014.show()"
      ],
      "metadata": {
        "colab": {
          "base_uri": "https://localhost:8080/"
        },
        "id": "m99DvRu39LVD",
        "outputId": "ad7e7de1-4ef5-42b3-ca64-6a6253a8e707"
      },
      "execution_count": 56,
      "outputs": [
        {
          "output_type": "stream",
          "name": "stdout",
          "text": [
            "+-----------------+-------------+-----------------------------+-------+\n",
            "|Date (MM/DD/YYYY)|Flight Number|Actual elapsed time (Minutes)|airport|\n",
            "+-----------------+-------------+-----------------------------+-------+\n",
            "|       01/01/2014|         0005|                          519|    hnl|\n",
            "|       01/01/2014|         0007|                          505|    ogg|\n",
            "|       01/01/2014|         0035|                          174|    slc|\n",
            "|       01/01/2014|         0043|                          153|    dtw|\n",
            "|       01/01/2014|         0052|                          137|    pit|\n",
            "|       01/01/2014|         0058|                          174|    san|\n",
            "|       01/01/2014|         0060|                          155|    mia|\n",
            "|       01/01/2014|         0064|                          185|    jfk|\n",
            "|       01/01/2014|         0090|                          126|    ord|\n",
            "|       01/01/2014|         0096|                           91|    stl|\n",
            "|       01/01/2014|         0099|                          182|    sna|\n",
            "|       01/01/2014|         0103|                          181|    ont|\n",
            "|       01/01/2014|         0109|                          127|    den|\n",
            "|       01/01/2014|         0122|                          222|    sfo|\n",
            "|       01/01/2014|         0123|                          510|    hnl|\n",
            "|       01/01/2014|         0129|                          114|    cos|\n",
            "|       01/01/2014|         0130|                          141|    dca|\n",
            "|       01/01/2014|         0131|                          167|    slc|\n",
            "|       01/01/2014|         0132|                           82|    stl|\n",
            "|       01/01/2014|         0140|                          146|    bwi|\n",
            "+-----------------+-------------+-----------------------------+-------+\n",
            "only showing top 20 rows\n",
            "\n"
          ]
        }
      ]
    },
    {
      "cell_type": "code",
      "source": [
        "import pyarrow.parquet as pq\n",
        "import pandas as pd\n",
        "import numpy as np\n",
        "import pyarrow as pa\n",
        "\n",
        "df = pd.DataFrame({'one': [-1, 100, 2.5],\n",
        "                   'two': ['foo', 'bar', 'baz'],\n",
        "                   'three': [True, False, True]}, index=list('abc'))\n",
        "\n",
        "table = pa.Table.from_pandas(df)\n",
        "pq.write_table(table, DATA_PATH + 'example.parquet')"
      ],
      "metadata": {
        "id": "S1QvFd9A9wuI"
      },
      "execution_count": 57,
      "outputs": []
    },
    {
      "cell_type": "markdown",
      "source": [
        "- 데이터 불러오기"
      ],
      "metadata": {
        "id": "2GFigZBM-cNh"
      }
    },
    {
      "cell_type": "code",
      "source": [
        "example_df = spark.read.parquet(DATA_PATH + 'example.parquet')\n",
        "example_df.show(1)"
      ],
      "metadata": {
        "colab": {
          "base_uri": "https://localhost:8080/"
        },
        "id": "QjIV5rHb-e8c",
        "outputId": "a5579155-9481-441c-eca7-a44ec0b3a1d4"
      },
      "execution_count": 58,
      "outputs": [
        {
          "output_type": "stream",
          "name": "stdout",
          "text": [
            "+----+---+-----+-----------------+\n",
            "| one|two|three|__index_level_0__|\n",
            "+----+---+-----+-----------------+\n",
            "|-1.0|foo| true|                a|\n",
            "+----+---+-----+-----------------+\n",
            "only showing top 1 row\n",
            "\n"
          ]
        }
      ]
    },
    {
      "cell_type": "code",
      "source": [
        "voter_df = spark.read.format('csv').options(Header=True).load(DATA_PATH + 'DallasCouncilVoters.csv.gz')\n",
        "voter_df.show()"
      ],
      "metadata": {
        "colab": {
          "base_uri": "https://localhost:8080/"
        },
        "id": "btXqxUUw-8jc",
        "outputId": "db322dec-7048-4802-e037-993f6b714764"
      },
      "execution_count": 59,
      "outputs": [
        {
          "output_type": "stream",
          "name": "stdout",
          "text": [
            "+----------+-------------+-------------------+\n",
            "|      DATE|        TITLE|         VOTER_NAME|\n",
            "+----------+-------------+-------------------+\n",
            "|02/08/2017|Councilmember|  Jennifer S. Gates|\n",
            "|02/08/2017|Councilmember| Philip T. Kingston|\n",
            "|02/08/2017|        Mayor|Michael S. Rawlings|\n",
            "|02/08/2017|Councilmember|       Adam Medrano|\n",
            "|02/08/2017|Councilmember|       Casey Thomas|\n",
            "|02/08/2017|Councilmember|Carolyn King Arnold|\n",
            "|02/08/2017|Councilmember|       Scott Griggs|\n",
            "|02/08/2017|Councilmember|   B. Adam  McGough|\n",
            "|02/08/2017|Councilmember|       Lee Kleinman|\n",
            "|02/08/2017|Councilmember|      Sandy Greyson|\n",
            "|02/08/2017|Councilmember|  Jennifer S. Gates|\n",
            "|02/08/2017|Councilmember| Philip T. Kingston|\n",
            "|02/08/2017|        Mayor|Michael S. Rawlings|\n",
            "|02/08/2017|Councilmember|       Adam Medrano|\n",
            "|02/08/2017|Councilmember|       Casey Thomas|\n",
            "|02/08/2017|Councilmember|Carolyn King Arnold|\n",
            "|02/08/2017|Councilmember| Rickey D. Callahan|\n",
            "|01/11/2017|Councilmember|  Jennifer S. Gates|\n",
            "|04/25/2018|Councilmember|     Sandy  Greyson|\n",
            "|04/25/2018|Councilmember| Jennifer S.  Gates|\n",
            "+----------+-------------+-------------------+\n",
            "only showing top 20 rows\n",
            "\n"
          ]
        }
      ]
    },
    {
      "cell_type": "code",
      "source": [
        "# 중복값 제거\n",
        "voter_df.select(voter_df['VOTER_NAME']).distinct().show(10)"
      ],
      "metadata": {
        "colab": {
          "base_uri": "https://localhost:8080/"
        },
        "id": "YqfeI8-4_cT3",
        "outputId": "a56a0bc9-ad00-48e0-9cde-eeeca340366f"
      },
      "execution_count": 60,
      "outputs": [
        {
          "output_type": "stream",
          "name": "stdout",
          "text": [
            "+--------------------+\n",
            "|          VOTER_NAME|\n",
            "+--------------------+\n",
            "|      Tennell Atkins|\n",
            "|  the  final   20...|\n",
            "|        Scott Griggs|\n",
            "|       Scott  Griggs|\n",
            "|       Sandy Greyson|\n",
            "| Michael S. Rawlings|\n",
            "| the final 2018 A...|\n",
            "|        Kevin Felder|\n",
            "|        Adam Medrano|\n",
            "|       Casey  Thomas|\n",
            "+--------------------+\n",
            "only showing top 10 rows\n",
            "\n"
          ]
        }
      ]
    },
    {
      "cell_type": "markdown",
      "source": [
        "### 문제\n",
        "- 객체명 : result\n",
        "- 메서드 filter() 사용\n",
        "- length() 활용해서  0보다 크고, 20보다 작은 VOTER_NAME을 가져온다.\n",
        "- 결과"
      ],
      "metadata": {
        "id": "Xuozny-V_rKO"
      }
    },
    {
      "cell_type": "code",
      "source": [
        "voter_df = voter_df.filter('length(VOTER_NAME) > 0 and length(VOTER_NAME) < 20')\n",
        "voter_df.select('VOTER_NAME').distinct().show(10, truncate=False)"
      ],
      "metadata": {
        "colab": {
          "base_uri": "https://localhost:8080/"
        },
        "id": "siq4Vu57AEfU",
        "outputId": "9945f404-4a9c-4d03-ed60-366cb4addedc"
      },
      "execution_count": 61,
      "outputs": [
        {
          "output_type": "stream",
          "name": "stdout",
          "text": [
            "+-------------------+\n",
            "|VOTER_NAME         |\n",
            "+-------------------+\n",
            "|Tennell Atkins     |\n",
            "|Scott Griggs       |\n",
            "|Scott  Griggs      |\n",
            "|Sandy Greyson      |\n",
            "|Michael S. Rawlings|\n",
            "|Kevin Felder       |\n",
            "|Adam Medrano       |\n",
            "|Casey  Thomas      |\n",
            "|011018__42         |\n",
            "|Mark  Clayton      |\n",
            "+-------------------+\n",
            "only showing top 10 rows\n",
            "\n"
          ]
        }
      ]
    },
    {
      "cell_type": "markdown",
      "source": [
        "- 밑줄이 그어진 행 `011018__42`은 제거를 하자."
      ],
      "metadata": {
        "id": "OomTqkTEB4QY"
      }
    },
    {
      "cell_type": "code",
      "source": [
        "voter_df = voter_df.filter(~F.col('VOTER_NAME').contains('_'))\n",
        "voter_df.select('VOTER_NAME').distinct().show(10, truncate=False)"
      ],
      "metadata": {
        "colab": {
          "base_uri": "https://localhost:8080/"
        },
        "id": "Ww9RKEC8B9S8",
        "outputId": "c87cf6d2-4e8c-4586-ef09-03d4e9dfb856"
      },
      "execution_count": 62,
      "outputs": [
        {
          "output_type": "stream",
          "name": "stdout",
          "text": [
            "+-------------------+\n",
            "|VOTER_NAME         |\n",
            "+-------------------+\n",
            "|Tennell Atkins     |\n",
            "|Scott Griggs       |\n",
            "|Scott  Griggs      |\n",
            "|Sandy Greyson      |\n",
            "|Michael S. Rawlings|\n",
            "|Kevin Felder       |\n",
            "|Adam Medrano       |\n",
            "|Casey  Thomas      |\n",
            "|Mark  Clayton      |\n",
            "|Casey Thomas       |\n",
            "+-------------------+\n",
            "only showing top 10 rows\n",
            "\n"
          ]
        }
      ]
    },
    {
      "cell_type": "markdown",
      "source": [
        "## Spark 데이터프레임 수정\n",
        "- 문자열 다루는 코드"
      ],
      "metadata": {
        "id": "KWTGQkpiKhhr"
      }
    },
    {
      "cell_type": "code",
      "source": [
        "# 정규표현식('\\s+') : 공백을 기준으로 문자열을 분리 하겠다.\n",
        "voter_df = voter_df.withColumn('splits', F.split(voter_df.VOTER_NAME, '\\s+'))\n",
        "voter_df = voter_df.withColumn('first_name', voter_df.splits.getItem(0))\n",
        "voter_df = voter_df.withColumn('last_name', voter_df.splits.getItem(F.size('splits') - 1))\n",
        "voter_df = voter_df.drop('splits')\n",
        "voter_df.show(1)"
      ],
      "metadata": {
        "colab": {
          "base_uri": "https://localhost:8080/"
        },
        "id": "uE9uXZddMCCX",
        "outputId": "d5f3b35b-073b-40ab-9d18-ad0e9e84a3dc"
      },
      "execution_count": 64,
      "outputs": [
        {
          "output_type": "stream",
          "name": "stderr",
          "text": [
            "/content/spark-3.5.1-bin-hadoop3/python/pyspark/sql/column.py:460: FutureWarning: A column as 'key' in getItem is deprecated as of Spark 3.0, and will not be supported in the future release. Use `column[key]` or `column.key` syntax instead.\n",
            "  warnings.warn(\n"
          ]
        },
        {
          "output_type": "stream",
          "name": "stdout",
          "text": [
            "+----------+-------------+-----------------+----------+---------+\n",
            "|      DATE|        TITLE|       VOTER_NAME|first_name|last_name|\n",
            "+----------+-------------+-----------------+----------+---------+\n",
            "|02/08/2017|Councilmember|Jennifer S. Gates|  Jennifer|    Gates|\n",
            "+----------+-------------+-----------------+----------+---------+\n",
            "only showing top 1 row\n",
            "\n"
          ]
        }
      ]
    },
    {
      "cell_type": "markdown",
      "source": [
        "## when() 조건문 활용법"
      ],
      "metadata": {
        "id": "_L5nedMgRckK"
      }
    },
    {
      "cell_type": "code",
      "source": [
        "import pyspark.sql.functions as F\n",
        "\n",
        "# Councilmember 일 경우에는 무작위 숫자를 입력\n",
        "voter_df = voter_df.withColumn('random_val', F.when(voter_df.TITLE == 'Councilmember', F.rand()))\n",
        "voter_df.show(10)"
      ],
      "metadata": {
        "colab": {
          "base_uri": "https://localhost:8080/"
        },
        "id": "6yK576bSMbXG",
        "outputId": "f733d4cc-8aac-4088-8bc6-a15929aa0344"
      },
      "execution_count": 69,
      "outputs": [
        {
          "output_type": "stream",
          "name": "stdout",
          "text": [
            "+----------+-------------+-------------------+----------+---------+-------------------+\n",
            "|      DATE|        TITLE|         VOTER_NAME|first_name|last_name|         random_val|\n",
            "+----------+-------------+-------------------+----------+---------+-------------------+\n",
            "|02/08/2017|Councilmember|  Jennifer S. Gates|  Jennifer|    Gates| 0.6890153932838178|\n",
            "|02/08/2017|Councilmember| Philip T. Kingston|    Philip| Kingston| 0.7660026674274555|\n",
            "|02/08/2017|        Mayor|Michael S. Rawlings|   Michael| Rawlings|               NULL|\n",
            "|02/08/2017|Councilmember|       Adam Medrano|      Adam|  Medrano| 0.8187885459450652|\n",
            "|02/08/2017|Councilmember|       Casey Thomas|     Casey|   Thomas| 0.6855990001349068|\n",
            "|02/08/2017|Councilmember|Carolyn King Arnold|   Carolyn|   Arnold|    0.8179771995019|\n",
            "|02/08/2017|Councilmember|       Scott Griggs|     Scott|   Griggs| 0.2332541053554581|\n",
            "|02/08/2017|Councilmember|   B. Adam  McGough|        B.|  McGough| 0.6846945392367293|\n",
            "|02/08/2017|Councilmember|       Lee Kleinman|       Lee| Kleinman|0.20010521849755858|\n",
            "|02/08/2017|Councilmember|      Sandy Greyson|     Sandy|  Greyson| 0.0964229925634632|\n",
            "+----------+-------------+-------------------+----------+---------+-------------------+\n",
            "only showing top 10 rows\n",
            "\n"
          ]
        }
      ]
    },
    {
      "cell_type": "markdown",
      "source": [
        "### 다중조건문\n",
        "- Councilmember 일 경우에는 무작위 숫자\n",
        "- Mayor 일 경우에는 숫자 2를 입력\n",
        "- 그 외 나머지는 0으로 (otherwise)"
      ],
      "metadata": {
        "id": "VYrTxmIsSqi2"
      }
    },
    {
      "cell_type": "code",
      "source": [
        "voter_df = voter_df.withColumn('random_val',\n",
        "                               F.when(voter_df.TITLE == 'Councilmember', F.rand())\n",
        "                               .when(voter_df.TITLE == 'Mayor', 2)\n",
        "                               .otherwise(0))\n",
        "voter_df.show(10)"
      ],
      "metadata": {
        "colab": {
          "base_uri": "https://localhost:8080/"
        },
        "id": "4kuT0mUkS3at",
        "outputId": "e86a4dfa-b6ab-4db6-b6dc-607bf98ee60e"
      },
      "execution_count": 73,
      "outputs": [
        {
          "output_type": "stream",
          "name": "stdout",
          "text": [
            "+----------+-------------+-------------------+----------+---------+--------------------+\n",
            "|      DATE|        TITLE|         VOTER_NAME|first_name|last_name|          random_val|\n",
            "+----------+-------------+-------------------+----------+---------+--------------------+\n",
            "|02/08/2017|Councilmember|  Jennifer S. Gates|  Jennifer|    Gates|  0.9364138128782483|\n",
            "|02/08/2017|Councilmember| Philip T. Kingston|    Philip| Kingston| 0.19888420476418855|\n",
            "|02/08/2017|        Mayor|Michael S. Rawlings|   Michael| Rawlings|                 2.0|\n",
            "|02/08/2017|Councilmember|       Adam Medrano|      Adam|  Medrano|  0.5941073119978861|\n",
            "|02/08/2017|Councilmember|       Casey Thomas|     Casey|   Thomas|0.013628293134853697|\n",
            "|02/08/2017|Councilmember|Carolyn King Arnold|   Carolyn|   Arnold| 0.24306385463714986|\n",
            "|02/08/2017|Councilmember|       Scott Griggs|     Scott|   Griggs|  0.1306727753581427|\n",
            "|02/08/2017|Councilmember|   B. Adam  McGough|        B.|  McGough| 0.06829657485199203|\n",
            "|02/08/2017|Councilmember|       Lee Kleinman|       Lee| Kleinman|  0.3829833095566164|\n",
            "|02/08/2017|Councilmember|      Sandy Greyson|     Sandy|  Greyson|  0.5978833679184459|\n",
            "+----------+-------------+-------------------+----------+---------+--------------------+\n",
            "only showing top 10 rows\n",
            "\n"
          ]
        }
      ]
    },
    {
      "cell_type": "markdown",
      "source": [
        "### 행 추출\n",
        "- random_val 중에서 0인 경우만 추출\n",
        "- filter()"
      ],
      "metadata": {
        "id": "hpLDoE6gUSyM"
      }
    },
    {
      "cell_type": "code",
      "source": [
        "voter_df.filter(voter_df.random_val == 0).show(10)"
      ],
      "metadata": {
        "colab": {
          "base_uri": "https://localhost:8080/"
        },
        "id": "UQJ3PdsEUcbE",
        "outputId": "0e5cc630-4c00-4c15-8972-59c2ef16a5eb"
      },
      "execution_count": 76,
      "outputs": [
        {
          "output_type": "stream",
          "name": "stdout",
          "text": [
            "+----------+--------------------+-----------------+----------+---------+----------+\n",
            "|      DATE|               TITLE|       VOTER_NAME|first_name|last_name|random_val|\n",
            "+----------+--------------------+-----------------+----------+---------+----------+\n",
            "|04/25/2018|Deputy Mayor Pro Tem|     Adam Medrano|      Adam|  Medrano|       0.0|\n",
            "|04/25/2018|       Mayor Pro Tem|Dwaine R. Caraway|    Dwaine|  Caraway|       0.0|\n",
            "|06/20/2018|Deputy Mayor Pro Tem|     Adam Medrano|      Adam|  Medrano|       0.0|\n",
            "|06/20/2018|       Mayor Pro Tem|Dwaine R. Caraway|    Dwaine|  Caraway|       0.0|\n",
            "|06/20/2018|Deputy Mayor Pro Tem|     Adam Medrano|      Adam|  Medrano|       0.0|\n",
            "|06/20/2018|       Mayor Pro Tem|Dwaine R. Caraway|    Dwaine|  Caraway|       0.0|\n",
            "|08/15/2018|Deputy Mayor Pro Tem|     Adam Medrano|      Adam|  Medrano|       0.0|\n",
            "|08/15/2018|Deputy Mayor Pro Tem|     Adam Medrano|      Adam|  Medrano|       0.0|\n",
            "|09/18/2018|Deputy Mayor Pro Tem|     Adam Medrano|      Adam|  Medrano|       0.0|\n",
            "|09/18/2018|       Mayor Pro Tem|    Casey  Thomas|     Casey|   Thomas|       0.0|\n",
            "+----------+--------------------+-----------------+----------+---------+----------+\n",
            "only showing top 10 rows\n",
            "\n"
          ]
        }
      ]
    },
    {
      "cell_type": "markdown",
      "source": [
        "## 사용자 정의 함수 활용\n",
        "- 기존에는 주어진 메서드 쓰는 것에 초점\n",
        "- 사용자 정의 함수를 Spark에서 어떻게 활용하는지 확인해보자\n",
        "  + Point : return 값의 데이터타입을 정의해줘야 한다."
      ],
      "metadata": {
        "id": "r6YhxbGSVEYW"
      }
    },
    {
      "cell_type": "markdown",
      "source": [
        "- 미션\n",
        "-- first, middle name 동시에 가져오기"
      ],
      "metadata": {
        "id": "BfPzBw4YWmr1"
      }
    },
    {
      "cell_type": "code",
      "source": [
        "voter_df = voter_df.withColumn('splits', F.split(voter_df.VOTER_NAME, '\\s+'))\n",
        "voter_df.show(1)"
      ],
      "metadata": {
        "colab": {
          "base_uri": "https://localhost:8080/"
        },
        "id": "nKdNTNwTXSSB",
        "outputId": "a1b7c42f-9f60-432f-d5cd-93266fbc9d25"
      },
      "execution_count": 78,
      "outputs": [
        {
          "output_type": "stream",
          "name": "stdout",
          "text": [
            "+----------+-------------+-----------------+----------+---------+------------------+--------------------+\n",
            "|      DATE|        TITLE|       VOTER_NAME|first_name|last_name|        random_val|              splits|\n",
            "+----------+-------------+-----------------+----------+---------+------------------+--------------------+\n",
            "|02/08/2017|Councilmember|Jennifer S. Gates|  Jennifer|    Gates|0.9364138128782483|[Jennifer, S., Ga...|\n",
            "+----------+-------------+-----------------+----------+---------+------------------+--------------------+\n",
            "only showing top 1 row\n",
            "\n"
          ]
        }
      ]
    },
    {
      "cell_type": "code",
      "source": [
        "from pyspark.sql.types import *\n",
        "from pyspark.sql.functions import udf\n",
        "\n",
        "@udf(returnType = StringType())\n",
        "def getFirstAndMiddle(names):\n",
        "  return ' '.join(names[:-1])\n",
        "\n",
        "# udfgetFirstAndMiddle = F.udf(getFirstAndMiddle, StringType())\n",
        "\n",
        "voter_df = voter_df.withColumn('result', getFirstAndMiddle(voter_df.splits))\n",
        "voter_df.show(10)"
      ],
      "metadata": {
        "colab": {
          "base_uri": "https://localhost:8080/"
        },
        "id": "-PdeziO0Witv",
        "outputId": "29d2837d-3d0a-49ec-8f29-682ff2ed1fb6"
      },
      "execution_count": 83,
      "outputs": [
        {
          "output_type": "stream",
          "name": "stdout",
          "text": [
            "+----------+-------------+-------------------+----------+---------+--------------------+--------------------+------------+\n",
            "|      DATE|        TITLE|         VOTER_NAME|first_name|last_name|          random_val|              splits|      result|\n",
            "+----------+-------------+-------------------+----------+---------+--------------------+--------------------+------------+\n",
            "|02/08/2017|Councilmember|  Jennifer S. Gates|  Jennifer|    Gates|  0.9364138128782483|[Jennifer, S., Ga...| Jennifer S.|\n",
            "|02/08/2017|Councilmember| Philip T. Kingston|    Philip| Kingston| 0.19888420476418855|[Philip, T., King...|   Philip T.|\n",
            "|02/08/2017|        Mayor|Michael S. Rawlings|   Michael| Rawlings|                 2.0|[Michael, S., Raw...|  Michael S.|\n",
            "|02/08/2017|Councilmember|       Adam Medrano|      Adam|  Medrano|  0.5941073119978861|     [Adam, Medrano]|        Adam|\n",
            "|02/08/2017|Councilmember|       Casey Thomas|     Casey|   Thomas|0.013628293134853697|     [Casey, Thomas]|       Casey|\n",
            "|02/08/2017|Councilmember|Carolyn King Arnold|   Carolyn|   Arnold| 0.24306385463714986|[Carolyn, King, A...|Carolyn King|\n",
            "|02/08/2017|Councilmember|       Scott Griggs|     Scott|   Griggs|  0.1306727753581427|     [Scott, Griggs]|       Scott|\n",
            "|02/08/2017|Councilmember|   B. Adam  McGough|        B.|  McGough| 0.06829657485199203| [B., Adam, McGough]|     B. Adam|\n",
            "|02/08/2017|Councilmember|       Lee Kleinman|       Lee| Kleinman|  0.3829833095566164|     [Lee, Kleinman]|         Lee|\n",
            "|02/08/2017|Councilmember|      Sandy Greyson|     Sandy|  Greyson|  0.5978833679184459|    [Sandy, Greyson]|       Sandy|\n",
            "+----------+-------------+-------------------+----------+---------+--------------------+--------------------+------------+\n",
            "only showing top 10 rows\n",
            "\n"
          ]
        }
      ]
    },
    {
      "cell_type": "markdown",
      "source": [
        "### ROW_ID 추가\n",
        "- 기존 데이터프레임에서 ROW_ID"
      ],
      "metadata": {
        "id": "59WPXcyuZTfz"
      }
    },
    {
      "cell_type": "code",
      "source": [
        "voter_df = voter_df.withColumn('ROW_ID', F.monotonically_increasing_id()+1)\n",
        "voter_df.show()"
      ],
      "metadata": {
        "colab": {
          "base_uri": "https://localhost:8080/"
        },
        "id": "ubi-GIL_ZfTX",
        "outputId": "13098368-1615-4561-9de3-3db2bb8e352c"
      },
      "execution_count": 85,
      "outputs": [
        {
          "output_type": "stream",
          "name": "stdout",
          "text": [
            "+----------+-------------+-------------------+----------+---------+--------------------+--------------------+------------+------+\n",
            "|      DATE|        TITLE|         VOTER_NAME|first_name|last_name|          random_val|              splits|      result|ROW_ID|\n",
            "+----------+-------------+-------------------+----------+---------+--------------------+--------------------+------------+------+\n",
            "|02/08/2017|Councilmember|  Jennifer S. Gates|  Jennifer|    Gates|  0.9364138128782483|[Jennifer, S., Ga...| Jennifer S.|     1|\n",
            "|02/08/2017|Councilmember| Philip T. Kingston|    Philip| Kingston| 0.19888420476418855|[Philip, T., King...|   Philip T.|     2|\n",
            "|02/08/2017|        Mayor|Michael S. Rawlings|   Michael| Rawlings|                 2.0|[Michael, S., Raw...|  Michael S.|     3|\n",
            "|02/08/2017|Councilmember|       Adam Medrano|      Adam|  Medrano|  0.5941073119978861|     [Adam, Medrano]|        Adam|     4|\n",
            "|02/08/2017|Councilmember|       Casey Thomas|     Casey|   Thomas|0.013628293134853697|     [Casey, Thomas]|       Casey|     5|\n",
            "|02/08/2017|Councilmember|Carolyn King Arnold|   Carolyn|   Arnold| 0.24306385463714986|[Carolyn, King, A...|Carolyn King|     6|\n",
            "|02/08/2017|Councilmember|       Scott Griggs|     Scott|   Griggs|  0.1306727753581427|     [Scott, Griggs]|       Scott|     7|\n",
            "|02/08/2017|Councilmember|   B. Adam  McGough|        B.|  McGough| 0.06829657485199203| [B., Adam, McGough]|     B. Adam|     8|\n",
            "|02/08/2017|Councilmember|       Lee Kleinman|       Lee| Kleinman|  0.3829833095566164|     [Lee, Kleinman]|         Lee|     9|\n",
            "|02/08/2017|Councilmember|      Sandy Greyson|     Sandy|  Greyson|  0.5978833679184459|    [Sandy, Greyson]|       Sandy|    10|\n",
            "|02/08/2017|Councilmember|  Jennifer S. Gates|  Jennifer|    Gates|  0.8867447003189971|[Jennifer, S., Ga...| Jennifer S.|    11|\n",
            "|02/08/2017|Councilmember| Philip T. Kingston|    Philip| Kingston| 0.30832717803692167|[Philip, T., King...|   Philip T.|    12|\n",
            "|02/08/2017|        Mayor|Michael S. Rawlings|   Michael| Rawlings|                 2.0|[Michael, S., Raw...|  Michael S.|    13|\n",
            "|02/08/2017|Councilmember|       Adam Medrano|      Adam|  Medrano| 0.36364767435352285|     [Adam, Medrano]|        Adam|    14|\n",
            "|02/08/2017|Councilmember|       Casey Thomas|     Casey|   Thomas|   0.826662021406722|     [Casey, Thomas]|       Casey|    15|\n",
            "|02/08/2017|Councilmember|Carolyn King Arnold|   Carolyn|   Arnold|  0.7935111227883243|[Carolyn, King, A...|Carolyn King|    16|\n",
            "|02/08/2017|Councilmember| Rickey D. Callahan|    Rickey| Callahan| 0.32523850356071793|[Rickey, D., Call...|   Rickey D.|    17|\n",
            "|01/11/2017|Councilmember|  Jennifer S. Gates|  Jennifer|    Gates|   0.480746430603345|[Jennifer, S., Ga...| Jennifer S.|    18|\n",
            "|04/25/2018|Councilmember|     Sandy  Greyson|     Sandy|  Greyson|  0.3032861467358392|    [Sandy, Greyson]|       Sandy|    19|\n",
            "|04/25/2018|Councilmember| Jennifer S.  Gates|  Jennifer|    Gates| 0.28528038188773497|[Jennifer, S., Ga...| Jennifer S.|    20|\n",
            "+----------+-------------+-------------------+----------+---------+--------------------+--------------------+------------+------+\n",
            "only showing top 20 rows\n",
            "\n"
          ]
        }
      ]
    },
    {
      "cell_type": "code",
      "source": [
        "result_df = voter_df.select(voter_df['VOTER_NAME']).distinct()\n",
        "result_df.count()"
      ],
      "metadata": {
        "colab": {
          "base_uri": "https://localhost:8080/"
        },
        "id": "RJsR6W67Z7eQ",
        "outputId": "aee2e255-5478-4d9d-adb9-61a8d9ad9f1f"
      },
      "execution_count": 87,
      "outputs": [
        {
          "output_type": "execute_result",
          "data": {
            "text/plain": [
              "27"
            ]
          },
          "metadata": {},
          "execution_count": 87
        }
      ]
    },
    {
      "cell_type": "code",
      "source": [
        "result_df = result_df.withColumn('ROW_ID', F.monotonically_increasing_id()+1)\n",
        "result_df.orderBy(result_df.ROW_ID.desc()).show(10)"
      ],
      "metadata": {
        "colab": {
          "base_uri": "https://localhost:8080/"
        },
        "id": "B5EfI2LCaJb4",
        "outputId": "eb213c8e-1598-4b6e-9789-58ba668fd6ce"
      },
      "execution_count": 96,
      "outputs": [
        {
          "output_type": "stream",
          "name": "stdout",
          "text": [
            "+-------------------+------+\n",
            "|         VOTER_NAME|ROW_ID|\n",
            "+-------------------+------+\n",
            "|       Lee Kleinman|    27|\n",
            "|        Erik Wilson|    26|\n",
            "|Carolyn King Arnold|    25|\n",
            "|Rickey D.  Callahan|    24|\n",
            "|   Monica R. Alonzo|    23|\n",
            "|    Lee M. Kleinman|    22|\n",
            "|  Jennifer S. Gates|    21|\n",
            "|Philip T.  Kingston|    20|\n",
            "|  Dwaine R. Caraway|    19|\n",
            "| Rickey D. Callahan|    18|\n",
            "+-------------------+------+\n",
            "only showing top 10 rows\n",
            "\n"
          ]
        }
      ]
    },
    {
      "cell_type": "code",
      "source": [
        "# ROW_ID의 값 중 가장 큰 값을 추출\n",
        "result_df.select('ROW_ID').rdd.max()[0]"
      ],
      "metadata": {
        "colab": {
          "base_uri": "https://localhost:8080/"
        },
        "id": "mLh07egPbdLM",
        "outputId": "d84e7538-cae2-45d1-a03e-d87b449d4372"
      },
      "execution_count": 97,
      "outputs": [
        {
          "output_type": "execute_result",
          "data": {
            "text/plain": [
              "27"
            ]
          },
          "metadata": {},
          "execution_count": 97
        }
      ]
    },
    {
      "cell_type": "markdown",
      "source": [
        "## 속도 측정"
      ],
      "metadata": {
        "id": "kZ7YsIgUgdjp"
      }
    },
    {
      "cell_type": "code",
      "source": [
        "import time\n",
        "import pyspark.sql.functions as F\n",
        "\n",
        "departures_df = spark.read.format(\"csv\").options(Header=True).load(DATA_PATH + \"AA_DFW_2014_Departures_Short.csv.gz\")\n",
        "departures_df.show(1)"
      ],
      "metadata": {
        "colab": {
          "base_uri": "https://localhost:8080/"
        },
        "id": "KHMdCEBogI4h",
        "outputId": "0683deee-29d3-4c66-edfc-0e9347f55516"
      },
      "execution_count": 101,
      "outputs": [
        {
          "output_type": "stream",
          "name": "stdout",
          "text": [
            "+-----------------+-------------+-------------------+-----------------------------+\n",
            "|Date (MM/DD/YYYY)|Flight Number|Destination Airport|Actual elapsed time (Minutes)|\n",
            "+-----------------+-------------+-------------------+-----------------------------+\n",
            "|       01/01/2014|         0005|                HNL|                          519|\n",
            "+-----------------+-------------+-------------------+-----------------------------+\n",
            "only showing top 1 row\n",
            "\n"
          ]
        }
      ]
    },
    {
      "cell_type": "code",
      "source": [
        "start_time = time.time()\n",
        "\n",
        "# cache() 메서드를 활용해서 속도가 실제로 향상이 되는지 확인한다.\n",
        "# 처음 메서드 실행할 때와, 재실행 시 속도가 좀 빨라지더라\n",
        "\n",
        "departuers_df = departures_df.distinct().cache() # 1차 가공된 데이터를 임시 저장\n",
        "print(departures_df.count(), time.time() - start_time) # 2차 가공 시작"
      ],
      "metadata": {
        "colab": {
          "base_uri": "https://localhost:8080/"
        },
        "id": "sTytSdYcg1Kd",
        "outputId": "a2ec754b-1f1c-4ef1-8ca4-c964bfb5b98b"
      },
      "execution_count": 105,
      "outputs": [
        {
          "output_type": "stream",
          "name": "stdout",
          "text": [
            "157198 0.28300952911376953\n"
          ]
        }
      ]
    },
    {
      "cell_type": "code",
      "source": [
        "start_time = time.time()\n",
        "print(departures_df.count(), time.time() - start_time)"
      ],
      "metadata": {
        "colab": {
          "base_uri": "https://localhost:8080/"
        },
        "id": "0EM6R_jLhm2K",
        "outputId": "cd20d4d8-ef83-494d-bea0-36c985ee0f3d"
      },
      "execution_count": 106,
      "outputs": [
        {
          "output_type": "stream",
          "name": "stdout",
          "text": [
            "157198 0.23595118522644043\n"
          ]
        }
      ]
    },
    {
      "cell_type": "code",
      "source": [
        "# cache에 저장이 되엄ㅆ는지 확인하자.\n",
        "departuers_df.is_cached"
      ],
      "metadata": {
        "colab": {
          "base_uri": "https://localhost:8080/"
        },
        "id": "ZE6Pcl5ah_4V",
        "outputId": "436f0757-a4e2-490e-fac5-7559addd26bf"
      },
      "execution_count": 107,
      "outputs": [
        {
          "output_type": "execute_result",
          "data": {
            "text/plain": [
              "True"
            ]
          },
          "metadata": {},
          "execution_count": 107
        }
      ]
    },
    {
      "cell_type": "code",
      "source": [
        "# cache 메모리에 있는 것을 제거하자\n",
        "departuers_df.unpersist()"
      ],
      "metadata": {
        "colab": {
          "base_uri": "https://localhost:8080/"
        },
        "id": "QNeN46RIiJwC",
        "outputId": "e03974c5-9d4f-49a2-f107-376cc052b41d"
      },
      "execution_count": 108,
      "outputs": [
        {
          "output_type": "execute_result",
          "data": {
            "text/plain": [
              "DataFrame[Date (MM/DD/YYYY): string, Flight Number: string, Destination Airport: string, Actual elapsed time (Minutes): string]"
            ]
          },
          "metadata": {},
          "execution_count": 108
        }
      ]
    },
    {
      "cell_type": "code",
      "source": [
        "departuers_df.is_cached"
      ],
      "metadata": {
        "colab": {
          "base_uri": "https://localhost:8080/"
        },
        "id": "FIJmBBELiQSb",
        "outputId": "4e54d187-f2f4-45a7-c497-aa34a53c944c"
      },
      "execution_count": 109,
      "outputs": [
        {
          "output_type": "execute_result",
          "data": {
            "text/plain": [
              "False"
            ]
          },
          "metadata": {},
          "execution_count": 109
        }
      ]
    },
    {
      "cell_type": "markdown",
      "source": [
        "- 메모리 : 가정집\n",
        "- 캐시메모리 : 사물보관함(역)"
      ],
      "metadata": {
        "id": "GyYmqaZ7iyIM"
      }
    },
    {
      "cell_type": "code",
      "source": [
        "# Partitions\n",
        "app_name = spark.conf.get('spark.app.name')\n",
        "driver_tcp_port = spark.conf.get('spark.driver.port')\n",
        "num_partitions = spark.conf.get('spark.sql.shuffle.partitions')\n",
        "print(\"Number of partitions: %s\" % num_partitions)\n",
        "\n",
        "print(\"Name: %s\" % app_name)\n",
        "print(\"Driver TCP port: %s\" % driver_tcp_port)\n",
        "print(\"Number of partitions: %s\" % num_partitions)"
      ],
      "metadata": {
        "colab": {
          "base_uri": "https://localhost:8080/"
        },
        "id": "PA98HjYllfdz",
        "outputId": "43a5d6aa-2131-4fba-ca7e-1a32d6cf279e"
      },
      "execution_count": 110,
      "outputs": [
        {
          "output_type": "stream",
          "name": "stdout",
          "text": [
            "Number of partitions: 200\n",
            "Name: Sample\n",
            "Driver TCP port: 43467\n",
            "Number of partitions: 200\n"
          ]
        }
      ]
    },
    {
      "cell_type": "markdown",
      "source": [
        "- 쿼리플랜 : MySQL, Oracle에서 학습을 하는 것이 더 의미가 있음\n",
        "  + 중요한 것 : Spark에서 이러한 쿼리 플랜이 존재함"
      ],
      "metadata": {
        "id": "aK87GfkPl4oJ"
      }
    },
    {
      "cell_type": "code",
      "source": [],
      "metadata": {
        "id": "dO2jPKshmC2B"
      },
      "execution_count": null,
      "outputs": []
    }
  ]
}