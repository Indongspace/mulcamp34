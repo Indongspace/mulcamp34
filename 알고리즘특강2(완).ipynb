{
  "cells": [
    {
      "cell_type": "markdown",
      "metadata": {
        "id": "view-in-github",
        "colab_type": "text"
      },
      "source": [
        "<a href=\"https://colab.research.google.com/github/Indongspace/mulcamp34/blob/main/%EC%95%8C%EA%B3%A0%EB%A6%AC%EC%A6%98%ED%8A%B9%EA%B0%952(%EC%99%84).ipynb\" target=\"_parent\"><img src=\"https://colab.research.google.com/assets/colab-badge.svg\" alt=\"Open In Colab\"/></a>"
      ]
    },
    {
      "cell_type": "code",
      "execution_count": null,
      "id": "7fe3d01a-4430-45a4-9933-1327fa5b4f56",
      "metadata": {
        "id": "7fe3d01a-4430-45a4-9933-1327fa5b4f56",
        "outputId": "25aa2330-f863-4ae3-cff1-6975cda46947"
      },
      "outputs": [
        {
          "name": "stdout",
          "output_type": "stream",
          "text": [
            " ----- 초기 배열 -----\n",
            "    5    7   -5  100   73\n",
            "   35   23    4  190   33\n",
            "   49   85  662   39   81\n",
            "  124  -59   86   46   52\n",
            "   27    7    8   33  -56\n",
            "--------------------------------------\n",
            " ----- 치환 후 배열 -----\n",
            "    5    7    0  100   73\n",
            "   35   23    4   90   33\n",
            "   49   85   62   39   81\n",
            "   24    0   86   46   52\n",
            "   27    7    8   33    0\n",
            "--------------------------------------\n",
            "최대 영역의 합: 296\n"
          ]
        }
      ],
      "source": [
        "###### Q1 풀이\n",
        "ARRAY_LENGTH = 5  # 배열의 행과 열 크기(고정)\n",
        "\n",
        "def replaceData(numData): # numData\t2차원 정수 배열\n",
        "    retData = [] # 조건에 따라서 전처리된 2차원 배열\n",
        "\n",
        "    ###########   여기부터 코딩 (1) ---------------->\n",
        "    retData = numData[:]\n",
        "    for i in range(ARRAY_LENGTH) :\n",
        "        for k in range(ARRAY_LENGTH) :\n",
        "            if (retData[i][k] < 0) :\n",
        "                retData[i][k] = 0\n",
        "            if (retData[i][k] > 100) :\n",
        "                retData[i][k] = retData[i][k] % 100\n",
        "    ###########   <-------------- 여기까지 코딩 (1)\n",
        "\n",
        "    return retData\n",
        "\n",
        "\n",
        "# 2x2 크기의 배열의 최대합을 구한다.\n",
        "def getMaxSum(numData): # 요구 사항에 맞춰 처리된 2차원 정수 배열\n",
        "    maxSum = 0 # 최대합\n",
        "\n",
        "    ###########   여기부터 코딩 (2) ---------------->\n",
        "    for i in range(ARRAY_LENGTH-1) :\n",
        "        for k in range(ARRAY_LENGTH-1) :\n",
        "            hap = numData[i][k] + numData[i][k+1] + numData[i+1][k] + numData[i+1][k+1]\n",
        "            if (hap > maxSum) :\n",
        "                maxSum = hap\n",
        "    ###########   <-------------- 여기까지 코딩 (2)\n",
        "\n",
        "    return maxSum\n",
        "\n",
        "## 전역 변수 선언 부분\n",
        "numData =[] # 5x5 배열\n",
        "ARRAY_LENGTH = 5 # 배열의 행과 열 크기(고정)\n",
        "\n",
        "def main() :\n",
        "        global numData\n",
        "\n",
        "        loadData() # 2차원 배열 읽어오기\n",
        "\n",
        "        ## 원본 출력\n",
        "        print(' ----- 초기 배열 -----')\n",
        "        printData()\n",
        "\n",
        "        # 1. 데이터 치환 작업\n",
        "        numData = replaceData(numData)\n",
        "        print(' ----- 치환 후 배열 -----')\n",
        "        printData()\n",
        "\n",
        "        # 2. 최대 합 구하기.(2x2 크기)\n",
        "        maxSum = getMaxSum(numData)\n",
        "        print('최대 영역의 합: %d' % maxSum)\n",
        "\n",
        "\n",
        "## 함수 선언 부분\n",
        "def  loadData() : # 데이터 불러오기\n",
        "    global numData\n",
        "\n",
        "    ###########\n",
        "    # 제공 데이터 세트 1\n",
        "    # 5x5 숫자 배열.\n",
        "    ###########\n",
        "    numData = \\\n",
        "    [\n",
        "        [ 5, 7, -5, 100, 73 ],\n",
        "        [ 35, 23, 4, 190, 33 ],\n",
        "        [ 49, 85, 662, 39, 81 ],\n",
        "        [ 124, -59, 86, 46, 52 ],\n",
        "        [ 27, 7, 8, 33, -56 ]\n",
        "    ]\n",
        "\n",
        "\n",
        "\n",
        "def printData() :\n",
        "        for i in range(0, ARRAY_LENGTH) :\n",
        "                for k in range(0, ARRAY_LENGTH) :\n",
        "                        try :\n",
        "                                print(\"%5d\" % numData[i][k], end='')\n",
        "                        except :\n",
        "                                pass\n",
        "                print()\n",
        "        print('--------------------------------------')\n",
        "\n",
        "## 메인 함수 호출 ##\n",
        "if __name__ == \"__main__\" :\n",
        "    main()"
      ]
    },
    {
      "cell_type": "code",
      "execution_count": null,
      "id": "ddf9b13c-3b78-4bc2-a320-e0d1dde0ad6a",
      "metadata": {
        "id": "ddf9b13c-3b78-4bc2-a320-e0d1dde0ad6a",
        "outputId": "6a80e712-f60e-4633-ad9e-bbafb5c9ad74"
      },
      "outputs": [
        {
          "name": "stdout",
          "output_type": "stream",
          "text": [
            "바닥 :  ['커피', '녹차', '꿀물', None, None]\n",
            "팝--> 커피\n",
            "바닥 :  [None, None, None, None, None]\n"
          ]
        }
      ],
      "source": [
        "###### 스택\n",
        "## 함수\n",
        "\n",
        "## 변수\n",
        "#stack = [None,None,None,None,None]\n",
        "SIZE = 5\n",
        "stack = [None for _ in range(SIZE)]\n",
        "top = -1\n",
        "\n",
        "## 메인\n",
        "# Push()\n",
        "top += 1\n",
        "stack[top] = '커피'\n",
        "\n",
        "top += 1\n",
        "stack[top] = '녹차'\n",
        "\n",
        "top += 1\n",
        "stack[top] = '꿀물'\n",
        "\n",
        "print('바닥 : ',stack)\n",
        "\n",
        "# Pop()\n",
        "data = stack[top]\n",
        "stack[top] = None\n",
        "top -= 1\n",
        "\n",
        "data = stack[top]\n",
        "stack[top] = None\n",
        "top -= 1\n",
        "\n",
        "data = stack[top]\n",
        "stack[top] = None\n",
        "top -= 1\n",
        "print('팝-->',data)\n",
        "print('바닥 : ',stack)"
      ]
    },
    {
      "cell_type": "code",
      "execution_count": null,
      "id": "3c9ada9b-bc99-46bd-853d-e2363a2c6ee5",
      "metadata": {
        "id": "3c9ada9b-bc99-46bd-853d-e2363a2c6ee5",
        "outputId": "91e43953-3f57-46a0-a8e6-8e9c11a86fa7"
      },
      "outputs": [
        {
          "name": "stdout",
          "output_type": "stream",
          "text": [
            "바닥 :  ['coffee', 'greentea', None, None, None]\n",
            "다음 예정 :  greentea\n",
            "팝한 것 :  greentea\n",
            "다음 예정 :  coffee\n",
            "바닥 :  ['coffee', None, None, None, None]\n",
            "다음 예정 :  coffee\n"
          ]
        }
      ],
      "source": [
        "###### 스택 - 실무\n",
        "## 함수\n",
        "def isStackFull():\n",
        "    global SIZE,stack,top\n",
        "    if (top>=SIZE-1):\n",
        "        return True\n",
        "    else:\n",
        "        return False\n",
        "\n",
        "\n",
        "def push(data):\n",
        "    global SIZE,stack,top\n",
        "    if (isStackFull()):\n",
        "        print('Stack is Full')\n",
        "        return\n",
        "    top+=1\n",
        "    stack[top] = data\n",
        "\n",
        "def isStackEmpty():\n",
        "    global SIZE,stack,top\n",
        "    if (top<=-1):\n",
        "        return True\n",
        "    else:\n",
        "        return False\n",
        "\n",
        "def pop():\n",
        "    global SIZE,stack,top\n",
        "    if (isStackEmpty()):\n",
        "        print('Stack is Empty')\n",
        "        return\n",
        "    data = stack[top]\n",
        "    stack[top] = None\n",
        "    top-=1\n",
        "    return data\n",
        "\n",
        "def peek():\n",
        "    global SIZE,stack,top\n",
        "    if (isStackEmpty()):\n",
        "        print('Stack is Empty')\n",
        "        return\n",
        "    return stack[top]\n",
        "\n",
        "\n",
        "## 전역\n",
        "SIZE = 5\n",
        "stack = [None for _ in range(SIZE)]\n",
        "top = -1\n",
        "\n",
        "\n",
        "\n",
        "\n",
        "## 메인\n",
        "push('coffee')\n",
        "push('greentea')\n",
        "#push('honey')\n",
        "#push('cola')\n",
        "#push('fanta')\n",
        "#print('바닥 : ',stack)\n",
        "\n",
        "#push('getoray')\n",
        "print('바닥 : ',stack)\n",
        "print('다음 예정 : ',peek())\n",
        "retData = pop()\n",
        "print('팝한 것 : ',retData)\n",
        "print('다음 예정 : ',peek())\n",
        "print('바닥 : ',stack)\n",
        "print('다음 예정 : ',peek())"
      ]
    },
    {
      "cell_type": "code",
      "execution_count": null,
      "id": "bb7024f9-05e0-4994-a329-48d7761dc2fe",
      "metadata": {
        "id": "bb7024f9-05e0-4994-a329-48d7761dc2fe",
        "outputId": "7638c59c-c121-4abc-afa4-ac532aa810c4"
      },
      "outputs": [
        {
          "name": "stdout",
          "output_type": "stream",
          "text": [
            "exit<--  ['irene', 'seulgi', 'wendy', None, None]  <--entrance\n",
            "guest :  irene\n",
            "exit<--  [None, 'seulgi', 'wendy', None, None]  <--entrance\n",
            "guest :  seulgi\n",
            "exit<--  [None, None, 'wendy', None, None]  <--entrance\n",
            "guest :  wendy\n",
            "exit<--  [None, None, None, None, None]  <--entrance\n"
          ]
        }
      ],
      "source": [
        "###### 큐\n",
        "## 함수\n",
        "\n",
        "## 변수\n",
        "SIZE = 5\n",
        "queue = [None for _ in range(SIZE)]\n",
        "front = rear = -1\n",
        "\n",
        "## 메인\n",
        "# enQueue()\n",
        "rear+=1\n",
        "queue[rear] = 'irene'\n",
        "\n",
        "rear+=1\n",
        "queue[rear] = 'seulgi'\n",
        "\n",
        "rear+=1\n",
        "queue[rear] = 'wendy'\n",
        "\n",
        "print('exit<-- ',queue,' <--entrance')\n",
        "\n",
        "#deQueue()\n",
        "front+=1\n",
        "data = queue[front]\n",
        "print('guest : ',data)\n",
        "queue[front] = None\n",
        "print('exit<-- ',queue,' <--entrance')\n",
        "\n",
        "front+=1\n",
        "data = queue[front]\n",
        "print('guest : ',data)\n",
        "queue[front] = None\n",
        "print('exit<-- ',queue,' <--entrance')\n",
        "\n",
        "front+=1\n",
        "data = queue[front]\n",
        "print('guest : ',data)\n",
        "queue[front] = None\n",
        "print('exit<-- ',queue,' <--entrance')"
      ]
    },
    {
      "cell_type": "code",
      "execution_count": null,
      "id": "b8d8f34c-7813-407f-94a2-fa821525a5c6",
      "metadata": {
        "id": "b8d8f34c-7813-407f-94a2-fa821525a5c6",
        "outputId": "f39efab5-dbe3-406f-c4bf-b8d7ea29cb1f"
      },
      "outputs": [
        {
          "name": "stdout",
          "output_type": "stream",
          "text": [
            "출구<-- ['화사', '솔라', '문별', '휘인', '선미'] <--입구\n",
            "식사 손님 : 화사\n",
            "식사 손님 : 솔라\n",
            "출구<-- [None, None, '문별', '휘인', '선미'] <--입구\n",
            "출구<-- [None, '문별', '휘인', '선미', '아이린'] <--입구\n",
            "출구<-- ['문별', '휘인', '선미', '아이린', '정국'] <--입구\n",
            "큐 꽉!\n",
            "출구<-- ['문별', '휘인', '선미', '아이린', '정국'] <--입구\n"
          ]
        }
      ],
      "source": [
        "###### 큐 - 실무\n",
        "## 함수\n",
        "def isQueueFull() :\n",
        "    global SIZE, queue, front, rear\n",
        "    if (rear != SIZE-1) : # case 1\n",
        "        return False\n",
        "    elif (rear==SIZE-1 and front == -1) : # case 2\n",
        "        return True\n",
        "    elif (rear==SIZE-1 and front != -1) : # case 3.  else\n",
        "        for i in range(front+1, SIZE, 1) :\n",
        "            queue[i-1] = queue[i]\n",
        "            queue[i] = None\n",
        "        front -= 1\n",
        "        rear  -= 1\n",
        "        return False\n",
        "\n",
        "def enQueue(data) :\n",
        "    global SIZE, queue, front, rear\n",
        "    if (isQueueFull()) :\n",
        "        print('큐 꽉!')\n",
        "        return\n",
        "    rear += 1\n",
        "    queue[rear] = data\n",
        "\n",
        "def isQueueEmpty() :\n",
        "    global SIZE, queue, front, rear\n",
        "    if (front == rear) :\n",
        "        return True\n",
        "    else :\n",
        "        return False\n",
        "\n",
        "def deQueue() :\n",
        "    global SIZE, queue, front, rear\n",
        "    if (isQueueEmpty()) :\n",
        "        print('큐 텅~')\n",
        "        return\n",
        "    front += 1\n",
        "    data = queue[front]\n",
        "    queue[front] = None\n",
        "    return data\n",
        "\n",
        "def peek() :\n",
        "    global SIZE, queue, front, rear\n",
        "    if (isQueueEmpty()):\n",
        "        print('큐 텅~')\n",
        "        return\n",
        "    return queue[front+1]\n",
        "\n",
        "## 변수\n",
        "SIZE = 5\n",
        "queue = [None for _ in range(SIZE)]\n",
        "front = rear = -1\n",
        "\n",
        "## 메인\n",
        "enQueue('화사')\n",
        "enQueue('솔라')\n",
        "enQueue('문별')\n",
        "enQueue('휘인')\n",
        "enQueue('선미')\n",
        "print('출구<--', queue, '<--입구')\n",
        "\n",
        "retData = deQueue()\n",
        "print('식사 손님 :', retData)\n",
        "retData = deQueue()\n",
        "print('식사 손님 :', retData)\n",
        "print('출구<--', queue, '<--입구')\n",
        "\n",
        "enQueue('아이린')\n",
        "print('출구<--', queue, '<--입구')\n",
        "enQueue('정국')\n",
        "print('출구<--', queue, '<--입구')\n",
        "\n",
        "enQueue('길동')\n",
        "print('출구<--', queue, '<--입구')"
      ]
    },
    {
      "cell_type": "markdown",
      "id": "1e432751-6a21-4ff5-a80c-a021439a897a",
      "metadata": {
        "id": "1e432751-6a21-4ff5-a80c-a021439a897a"
      },
      "source": [
        "## 모듈화 프로그래밍 --> 함수!"
      ]
    },
    {
      "cell_type": "code",
      "execution_count": null,
      "id": "9eabc35a-7993-423a-9156-3b3ea2c456e7",
      "metadata": {
        "id": "9eabc35a-7993-423a-9156-3b3ea2c456e7",
        "outputId": "cdef72f6-2eef-4de5-aa4e-82f5682afc1b"
      },
      "outputs": [
        {
          "name": "stdout",
          "output_type": "stream",
          "text": [
            "출구<-- [None, '화사', '솔라', '문별', '휘인'] <--입구\n",
            "식사 손님 : 화사\n",
            "식사 손님 : 솔라\n",
            "출구<-- [None, None, None, '문별', '휘인'] <--입구\n",
            "출구<-- ['아이린', None, None, '문별', '휘인'] <--입구\n",
            "출구<-- ['아이린', '정국', None, '문별', '휘인'] <--입구\n",
            "큐 꽉!\n",
            "출구<-- ['아이린', '정국', None, '문별', '휘인'] <--입구\n"
          ]
        }
      ],
      "source": [
        "###### 원형 큐 - 실무\n",
        "## 함수\n",
        "def isQueueFull() :\n",
        "    global SIZE, queue, front, rear\n",
        "    if ((rear+1)%SIZE == front) :\n",
        "        return True\n",
        "    else:\n",
        "        return False\n",
        "\n",
        "def enQueue(data) :\n",
        "    global SIZE, queue, front, rear\n",
        "    if (isQueueFull()) :\n",
        "        print('큐 꽉!')\n",
        "        return\n",
        "    rear = (rear+1)%SIZE\n",
        "    queue[rear] = data\n",
        "\n",
        "def isQueueEmpty() :\n",
        "    global SIZE, queue, front, rear\n",
        "    if (front == rear) :\n",
        "        return True\n",
        "    else :\n",
        "        return False\n",
        "\n",
        "def deQueue() :\n",
        "    global SIZE, queue, front, rear\n",
        "    if (isQueueEmpty()) :\n",
        "        print('큐 텅~')\n",
        "        return\n",
        "    front = (front+1)%SIZE\n",
        "    data = queue[front]\n",
        "    queue[front] = None\n",
        "    return data\n",
        "\n",
        "def peek() :\n",
        "    global SIZE, queue, front, rear\n",
        "    if (isQueueEmpty()):\n",
        "        print('큐 텅~')\n",
        "        return\n",
        "    return queue[(front+1)%SIZE]\n",
        "\n",
        "## 변수\n",
        "SIZE = 5\n",
        "queue = [None for _ in range(SIZE)]\n",
        "front = rear = 0 # 순차 큐 코드와 바뀐 점\n",
        "\n",
        "## 메인\n",
        "enQueue('화사')\n",
        "enQueue('솔라')\n",
        "enQueue('문별')\n",
        "enQueue('휘인')\n",
        "#enQueue('선미')\n",
        "print('출구<--', queue, '<--입구')\n",
        "\n",
        "retData = deQueue()\n",
        "print('식사 손님 :', retData)\n",
        "retData = deQueue()\n",
        "print('식사 손님 :', retData)\n",
        "print('출구<--', queue, '<--입구')\n",
        "\n",
        "\n",
        "enQueue('아이린')\n",
        "print('출구<--', queue, '<--입구')\n",
        "enQueue('정국')\n",
        "print('출구<--', queue, '<--입구')\n",
        "\n",
        "enQueue('길동')\n",
        "print('출구<--', queue, '<--입구')"
      ]
    },
    {
      "cell_type": "code",
      "execution_count": null,
      "id": "508856e6-93fe-4faa-a45d-bb2ea652a47b",
      "metadata": {
        "id": "508856e6-93fe-4faa-a45d-bb2ea652a47b",
        "outputId": "492dab68-1e66-4be9-cb32-e026823d18b7"
      },
      "outputs": [
        {
          "name": "stdout",
          "output_type": "stream",
          "text": [
            "irene\n",
            "seulgi wendy\n",
            "joy yeri cr7\n"
          ]
        }
      ],
      "source": [
        "###### 이진트리\n",
        "## 함수\n",
        "class TreeNode():\n",
        "    def __init__(self):\n",
        "        self.left = None\n",
        "        self.data = None\n",
        "        self.right = None\n",
        "\n",
        "\n",
        "## 변수\n",
        "\n",
        "\n",
        "\n",
        "## 메인\n",
        "node1 = TreeNode()\n",
        "node1.data = 'irene'\n",
        "\n",
        "node2 = TreeNode()\n",
        "node2.data = 'seulgi'\n",
        "node1.left = node2\n",
        "\n",
        "node3 = TreeNode()\n",
        "node3.data = 'wendy'\n",
        "node1.right = node3\n",
        "\n",
        "node4 = TreeNode()\n",
        "node4.data = 'joy'\n",
        "node2.left = node4\n",
        "\n",
        "node5 = TreeNode()\n",
        "node5.data = 'yeri'\n",
        "node2.right = node5\n",
        "\n",
        "node6 = TreeNode()\n",
        "node6.data = 'cr7'\n",
        "node3.left = node6\n",
        "\n",
        "root = node1\n",
        "print(root.data)\n",
        "print(root.left.data, root.right.data)\n",
        "print(root.left.left.data, root.left.right.data, root.right.left.data)"
      ]
    },
    {
      "cell_type": "code",
      "execution_count": null,
      "id": "1c83d37b-6ec6-4c9c-8724-bb200d8200cc",
      "metadata": {
        "id": "1c83d37b-6ec6-4c9c-8724-bb200d8200cc",
        "outputId": "133ad848-011d-450e-fad2-ad432c28bad4"
      },
      "outputs": [
        {
          "name": "stdout",
          "output_type": "stream",
          "text": [
            "최소값  33\n"
          ]
        }
      ],
      "source": [
        "###### 선택 정렬 알고리즘\n",
        "## 함수\n",
        "def findMinIndex(ary):\n",
        "    minIdx = 0\n",
        "    for i in range(1,len(ary)):\n",
        "        if (ary[minIdx]>ary[i]):\n",
        "            minIdx = i\n",
        "    return minIdx\n",
        "\n",
        "\n",
        "## 변수\n",
        "testAry = [55,88,33,77]\n",
        "\n",
        "\n",
        "\n",
        "\n",
        "## 메인\n",
        "minPos = findMinIndex(testAry)\n",
        "print('최소값 ',testAry[minPos])"
      ]
    },
    {
      "cell_type": "code",
      "execution_count": null,
      "id": "8ca42d92-5a8f-41b3-8a5a-97cbd3346f15",
      "metadata": {
        "id": "8ca42d92-5a8f-41b3-8a5a-97cbd3346f15",
        "outputId": "01a9b5b0-a36b-4680-c719-aa70686fbbbc"
      },
      "outputs": [
        {
          "name": "stdout",
          "output_type": "stream",
          "text": [
            "정렬 전 :  [155, 188, 186, 185, 40, 38, 161, 129]\n",
            "정렬 후 :  [38, 40, 129, 155, 161, 185, 186, 188]\n",
            "[]\n"
          ]
        }
      ],
      "source": [
        "###### 선택 정렬 알고리즘 - 실무\n",
        "## 함수\n",
        "from random import randint\n",
        "def findMinIndex(ary):\n",
        "    minIdx = 0\n",
        "    for i in range(1,len(ary)):\n",
        "        if (ary[minIdx]>ary[i]):\n",
        "            minIdx = i\n",
        "    return minIdx\n",
        "\n",
        "\n",
        "## 변수\n",
        "before = [randint(30,190) for _ in range(8)]\n",
        "after = []\n",
        "\n",
        "\n",
        "## 메인\n",
        "print('정렬 전 : ',before)\n",
        "for _ in range(len(before)):\n",
        "    minPos = findMinIndex(before)\n",
        "    after.append(before[minPos])\n",
        "    del(before[minPos])\n",
        "\n",
        "\n",
        "print('정렬 후 : ',after)\n",
        "print(before)"
      ]
    },
    {
      "cell_type": "code",
      "execution_count": null,
      "id": "9b011f6d-1fd0-4907-a071-dd0d9a0e2dc5",
      "metadata": {
        "id": "9b011f6d-1fd0-4907-a071-dd0d9a0e2dc5",
        "outputId": "1991c452-7c7e-4756-98c5-f5b461619b8a"
      },
      "outputs": [
        {
          "name": "stdout",
          "output_type": "stream",
          "text": [
            "array :  [115, 70, 143, 171, 35, 166, 168, 40]\n",
            "40  는  7  위치\n"
          ]
        }
      ],
      "source": [
        "###### 순차 검색 알고리즘\n",
        "## 함수\n",
        "from random import randint, choice\n",
        "def seqSearch(ary,fdata):\n",
        "    pos = -1\n",
        "    for i in range(len(ary)):\n",
        "        if (ary[i]==fdata):\n",
        "            pos = i\n",
        "            break\n",
        "\n",
        "    return pos\n",
        "\n",
        "## 변수\n",
        "dataAry = [randint(30,190) for _ in range(8)]\n",
        "findData = choice(dataAry)\n",
        "\n",
        "\n",
        "\n",
        "## 메인\n",
        "print('array : ',dataAry)\n",
        "position = seqSearch(dataAry,findData)\n",
        "\n",
        "if (position != -1):\n",
        "    print(findData,' 는 ',position,' 위치')\n",
        "else:\n",
        "    print(findData,' Nowhere')"
      ]
    },
    {
      "cell_type": "code",
      "execution_count": null,
      "id": "82a5e7e4-5132-4c4b-80bc-3b54d968c450",
      "metadata": {
        "id": "82a5e7e4-5132-4c4b-80bc-3b54d968c450",
        "outputId": "c442d79a-b6c0-48d7-d883-3bdfcd4ca00b"
      },
      "outputs": [
        {
          "name": "stdout",
          "output_type": "stream",
          "text": [
            "배열 --> [908205, 1221477, 1315642, 1359033, 2988558, 4929778, 5719805, 6953996, 7312425, 7830641, 7840847, 8201354, 9293444, 9645739, 9669060, 10808058, 11026099, 11307986, 12628290, 12964704]\n",
            "9761649000742 는 9762082 위치에 있어요.  23  번\n"
          ]
        }
      ],
      "source": [
        "###### 이진 검색 알고리즘\n",
        "# 정렬이 되어있는 것을 전제로 함\n",
        "## 함수\n",
        "from random import randint, choice\n",
        "def binSearch(ary, fdata) :\n",
        "    global count\n",
        "    pos = -1\n",
        "    start = 0\n",
        "    end = len(ary)-1\n",
        "    while (start <= end) :\n",
        "        count+=1\n",
        "        mid = (start + end) // 2\n",
        "        if(ary[mid] == fdata) :\n",
        "            pos = mid\n",
        "            break\n",
        "        elif(ary[mid] < fdata) :\n",
        "            start = mid + 1\n",
        "        else :\n",
        "            end = mid - 1\n",
        "    return  pos\n",
        "\n",
        "## 변수\n",
        "count = 0\n",
        "#dataAry = [randint(0,10000000000000) for _ in range(10000000)]\n",
        "dataAry.sort()\n",
        "findData = choice(dataAry)\n",
        "\n",
        "## 메인\n",
        "print('배열 -->', dataAry[:20])\n",
        "position = binSearch(dataAry, findData)\n",
        "if(position != -1) :\n",
        "    print(findData,'는', position, '위치에 있어요. ',count,\" 번\")\n",
        "else :\n",
        "    print(findData,'는 없어요ㅠ')"
      ]
    },
    {
      "cell_type": "code",
      "execution_count": null,
      "id": "a1097211-13cf-40d2-aaa5-2d22c59ebfa5",
      "metadata": {
        "id": "a1097211-13cf-40d2-aaa5-2d22c59ebfa5",
        "outputId": "96b48b0b-92e2-495e-fce9-b745f2e8dd61"
      },
      "outputs": [
        {
          "name": "stdout",
          "output_type": "stream",
          "text": [
            "open box\n",
            "open box\n",
            "open box\n",
            "open box\n",
            "open box\n",
            "open box\n",
            "open box\n",
            "open box\n",
            "open box\n",
            "open box\n",
            "present\n",
            "close box\n",
            "close box\n",
            "close box\n",
            "close box\n",
            "close box\n",
            "close box\n",
            "close box\n",
            "close box\n",
            "close box\n"
          ]
        }
      ],
      "source": [
        "###### 재귀\n",
        "## 함수\n",
        "def openBox():\n",
        "    global count\n",
        "    print('open box')\n",
        "    count-=1\n",
        "    if (count==0):\n",
        "        print('present')\n",
        "        return\n",
        "    openBox()\n",
        "    print('close box')\n",
        "\n",
        "\n",
        "\n",
        "## 메인\n",
        "count = 10\n",
        "openBox()"
      ]
    },
    {
      "cell_type": "code",
      "execution_count": null,
      "id": "5f1813b9-99b6-41d1-bf79-5392a71d60fd",
      "metadata": {
        "id": "5f1813b9-99b6-41d1-bf79-5392a71d60fd",
        "outputId": "5067cbc5-25da-45b2-f5e2-42144355eb95"
      },
      "outputs": [
        {
          "name": "stdout",
          "output_type": "stream",
          "text": [
            "5050\n"
          ]
        }
      ],
      "source": [
        "## 함수\n",
        "def addNumber(num):\n",
        "    if num==1:\n",
        "        return 1\n",
        "    return num + addNumber(num-1)\n",
        "\n",
        "\n",
        "\n",
        "## 메인\n",
        "print(addNumber(100))"
      ]
    },
    {
      "cell_type": "code",
      "execution_count": null,
      "id": "f55c4cd5-76bc-48f4-ab04-582205dacb12",
      "metadata": {
        "id": "f55c4cd5-76bc-48f4-ab04-582205dacb12",
        "outputId": "46aa6306-bbdf-494f-df29-29af928ae036"
      },
      "outputs": [
        {
          "name": "stdout",
          "output_type": "stream",
          "text": [
            "5 * 4! 호출\n",
            "4 * 3! 호출\n",
            "3 * 2! 호출\n",
            "2 * 1! 호출\n",
            "1반환\n",
            "2 * 1!(=1) 반환\n",
            "3 * 2!(=2) 반환\n",
            "4 * 3!(=6) 반환\n",
            "5 * 4!(=24) 반환\n",
            "\n",
            "5! =  120\n"
          ]
        }
      ],
      "source": [
        "## 함수\n",
        "def factorial(num):\n",
        "    if num<=1:\n",
        "        print('1반환')\n",
        "        return 1\n",
        "    print(\"%d * %d! 호출\"%(num,num-1))\n",
        "    retVal = factorial(num-1)\n",
        "\n",
        "    print(\"%d * %d!(=%d) 반환\"%(num,num-1,retVal))\n",
        "    return num*retVal\n",
        "\n",
        "## 메인\n",
        "print('\\n5! = ',factorial(5))"
      ]
    }
  ],
  "metadata": {
    "kernelspec": {
      "display_name": "Python 3 (ipykernel)",
      "language": "python",
      "name": "python3"
    },
    "language_info": {
      "codemirror_mode": {
        "name": "ipython",
        "version": 3
      },
      "file_extension": ".py",
      "mimetype": "text/x-python",
      "name": "python",
      "nbconvert_exporter": "python",
      "pygments_lexer": "ipython3",
      "version": "3.12.1"
    },
    "colab": {
      "provenance": [],
      "include_colab_link": true
    }
  },
  "nbformat": 4,
  "nbformat_minor": 5
}