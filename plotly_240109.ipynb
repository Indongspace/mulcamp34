{
  "cells": [
    {
      "cell_type": "markdown",
      "metadata": {
        "id": "view-in-github",
        "colab_type": "text"
      },
      "source": [
        "<a href=\"https://colab.research.google.com/github/Indongspace/mulcamp34/blob/main/plotly_240109.ipynb\" target=\"_parent\"><img src=\"https://colab.research.google.com/assets/colab-badge.svg\" alt=\"Open In Colab\"/></a>"
      ]
    },
    {
      "cell_type": "code",
      "execution_count": null,
      "id": "f537364f-8114-4f16-ae2f-955ebd1e4773",
      "metadata": {
        "colab": {
          "base_uri": "https://localhost:8080/",
          "height": 36
        },
        "id": "f537364f-8114-4f16-ae2f-955ebd1e4773",
        "outputId": "56dc311d-c793-4137-a268-9d8857ffd26b"
      },
      "outputs": [
        {
          "output_type": "execute_result",
          "data": {
            "text/plain": [
              "'5.15.0'"
            ],
            "application/vnd.google.colaboratory.intrinsic+json": {
              "type": "string"
            }
          },
          "metadata": {},
          "execution_count": 1
        }
      ],
      "source": [
        "import plotly\n",
        "\n",
        "plotly.__version__"
      ]
    },
    {
      "cell_type": "code",
      "execution_count": null,
      "id": "b4fdacbf-dc2d-4b0e-b18d-a6d495e149c1",
      "metadata": {
        "colab": {
          "base_uri": "https://localhost:8080/"
        },
        "id": "b4fdacbf-dc2d-4b0e-b18d-a6d495e149c1",
        "outputId": "8467e99a-41ca-4fb9-9c83-4181e42707ab"
      },
      "outputs": [
        {
          "output_type": "execute_result",
          "data": {
            "text/plain": [
              "Renderers configuration\n",
              "-----------------------\n",
              "    Default renderer: 'colab'\n",
              "    Available renderers:\n",
              "        ['plotly_mimetype', 'jupyterlab', 'nteract', 'vscode',\n",
              "         'notebook', 'notebook_connected', 'kaggle', 'azure', 'colab',\n",
              "         'cocalc', 'databricks', 'json', 'png', 'jpeg', 'jpg', 'svg',\n",
              "         'pdf', 'browser', 'firefox', 'chrome', 'chromium', 'iframe',\n",
              "         'iframe_connected', 'sphinx_gallery', 'sphinx_gallery_png']"
            ]
          },
          "metadata": {},
          "execution_count": 2
        }
      ],
      "source": [
        "import plotly.io as pio\n",
        "pio.renderers\n",
        "# pio.renderers.default = 'xxx' (이용가능한 renderers 삽입하여 상황에 맞게 사용)"
      ]
    },
    {
      "cell_type": "code",
      "execution_count": null,
      "id": "fc07d8c1-eed4-4556-90d8-bdcebf05efb1",
      "metadata": {
        "colab": {
          "base_uri": "https://localhost:8080/",
          "height": 542
        },
        "id": "fc07d8c1-eed4-4556-90d8-bdcebf05efb1",
        "outputId": "9c19bda8-7b1a-43cd-eaeb-5ef9d915f996"
      },
      "outputs": [
        {
          "output_type": "display_data",
          "data": {
            "text/html": [
              "<html>\n",
              "<head><meta charset=\"utf-8\" /></head>\n",
              "<body>\n",
              "    <div>            <script src=\"https://cdnjs.cloudflare.com/ajax/libs/mathjax/2.7.5/MathJax.js?config=TeX-AMS-MML_SVG\"></script><script type=\"text/javascript\">if (window.MathJax && window.MathJax.Hub && window.MathJax.Hub.Config) {window.MathJax.Hub.Config({SVG: {font: \"STIX-Web\"}});}</script>                <script type=\"text/javascript\">window.PlotlyConfig = {MathJaxConfig: 'local'};</script>\n",
              "        <script charset=\"utf-8\" src=\"https://cdn.plot.ly/plotly-2.24.1.min.js\"></script>                <div id=\"7762c9ed-ee87-42f0-bcfb-3b70ce707283\" class=\"plotly-graph-div\" style=\"height:525px; width:100%;\"></div>            <script type=\"text/javascript\">                                    window.PLOTLYENV=window.PLOTLYENV || {};                                    if (document.getElementById(\"7762c9ed-ee87-42f0-bcfb-3b70ce707283\")) {                    Plotly.newPlot(                        \"7762c9ed-ee87-42f0-bcfb-3b70ce707283\",                        [{\"y\":[3,10,6],\"type\":\"bar\"}],                        {\"template\":{\"data\":{\"histogram2dcontour\":[{\"type\":\"histogram2dcontour\",\"colorbar\":{\"outlinewidth\":0,\"ticks\":\"\"},\"colorscale\":[[0.0,\"#0d0887\"],[0.1111111111111111,\"#46039f\"],[0.2222222222222222,\"#7201a8\"],[0.3333333333333333,\"#9c179e\"],[0.4444444444444444,\"#bd3786\"],[0.5555555555555556,\"#d8576b\"],[0.6666666666666666,\"#ed7953\"],[0.7777777777777778,\"#fb9f3a\"],[0.8888888888888888,\"#fdca26\"],[1.0,\"#f0f921\"]]}],\"choropleth\":[{\"type\":\"choropleth\",\"colorbar\":{\"outlinewidth\":0,\"ticks\":\"\"}}],\"histogram2d\":[{\"type\":\"histogram2d\",\"colorbar\":{\"outlinewidth\":0,\"ticks\":\"\"},\"colorscale\":[[0.0,\"#0d0887\"],[0.1111111111111111,\"#46039f\"],[0.2222222222222222,\"#7201a8\"],[0.3333333333333333,\"#9c179e\"],[0.4444444444444444,\"#bd3786\"],[0.5555555555555556,\"#d8576b\"],[0.6666666666666666,\"#ed7953\"],[0.7777777777777778,\"#fb9f3a\"],[0.8888888888888888,\"#fdca26\"],[1.0,\"#f0f921\"]]}],\"heatmap\":[{\"type\":\"heatmap\",\"colorbar\":{\"outlinewidth\":0,\"ticks\":\"\"},\"colorscale\":[[0.0,\"#0d0887\"],[0.1111111111111111,\"#46039f\"],[0.2222222222222222,\"#7201a8\"],[0.3333333333333333,\"#9c179e\"],[0.4444444444444444,\"#bd3786\"],[0.5555555555555556,\"#d8576b\"],[0.6666666666666666,\"#ed7953\"],[0.7777777777777778,\"#fb9f3a\"],[0.8888888888888888,\"#fdca26\"],[1.0,\"#f0f921\"]]}],\"heatmapgl\":[{\"type\":\"heatmapgl\",\"colorbar\":{\"outlinewidth\":0,\"ticks\":\"\"},\"colorscale\":[[0.0,\"#0d0887\"],[0.1111111111111111,\"#46039f\"],[0.2222222222222222,\"#7201a8\"],[0.3333333333333333,\"#9c179e\"],[0.4444444444444444,\"#bd3786\"],[0.5555555555555556,\"#d8576b\"],[0.6666666666666666,\"#ed7953\"],[0.7777777777777778,\"#fb9f3a\"],[0.8888888888888888,\"#fdca26\"],[1.0,\"#f0f921\"]]}],\"contourcarpet\":[{\"type\":\"contourcarpet\",\"colorbar\":{\"outlinewidth\":0,\"ticks\":\"\"}}],\"contour\":[{\"type\":\"contour\",\"colorbar\":{\"outlinewidth\":0,\"ticks\":\"\"},\"colorscale\":[[0.0,\"#0d0887\"],[0.1111111111111111,\"#46039f\"],[0.2222222222222222,\"#7201a8\"],[0.3333333333333333,\"#9c179e\"],[0.4444444444444444,\"#bd3786\"],[0.5555555555555556,\"#d8576b\"],[0.6666666666666666,\"#ed7953\"],[0.7777777777777778,\"#fb9f3a\"],[0.8888888888888888,\"#fdca26\"],[1.0,\"#f0f921\"]]}],\"surface\":[{\"type\":\"surface\",\"colorbar\":{\"outlinewidth\":0,\"ticks\":\"\"},\"colorscale\":[[0.0,\"#0d0887\"],[0.1111111111111111,\"#46039f\"],[0.2222222222222222,\"#7201a8\"],[0.3333333333333333,\"#9c179e\"],[0.4444444444444444,\"#bd3786\"],[0.5555555555555556,\"#d8576b\"],[0.6666666666666666,\"#ed7953\"],[0.7777777777777778,\"#fb9f3a\"],[0.8888888888888888,\"#fdca26\"],[1.0,\"#f0f921\"]]}],\"mesh3d\":[{\"type\":\"mesh3d\",\"colorbar\":{\"outlinewidth\":0,\"ticks\":\"\"}}],\"scatter\":[{\"fillpattern\":{\"fillmode\":\"overlay\",\"size\":10,\"solidity\":0.2},\"type\":\"scatter\"}],\"parcoords\":[{\"type\":\"parcoords\",\"line\":{\"colorbar\":{\"outlinewidth\":0,\"ticks\":\"\"}}}],\"scatterpolargl\":[{\"type\":\"scatterpolargl\",\"marker\":{\"colorbar\":{\"outlinewidth\":0,\"ticks\":\"\"}}}],\"bar\":[{\"error_x\":{\"color\":\"#2a3f5f\"},\"error_y\":{\"color\":\"#2a3f5f\"},\"marker\":{\"line\":{\"color\":\"#E5ECF6\",\"width\":0.5},\"pattern\":{\"fillmode\":\"overlay\",\"size\":10,\"solidity\":0.2}},\"type\":\"bar\"}],\"scattergeo\":[{\"type\":\"scattergeo\",\"marker\":{\"colorbar\":{\"outlinewidth\":0,\"ticks\":\"\"}}}],\"scatterpolar\":[{\"type\":\"scatterpolar\",\"marker\":{\"colorbar\":{\"outlinewidth\":0,\"ticks\":\"\"}}}],\"histogram\":[{\"marker\":{\"pattern\":{\"fillmode\":\"overlay\",\"size\":10,\"solidity\":0.2}},\"type\":\"histogram\"}],\"scattergl\":[{\"type\":\"scattergl\",\"marker\":{\"colorbar\":{\"outlinewidth\":0,\"ticks\":\"\"}}}],\"scatter3d\":[{\"type\":\"scatter3d\",\"line\":{\"colorbar\":{\"outlinewidth\":0,\"ticks\":\"\"}},\"marker\":{\"colorbar\":{\"outlinewidth\":0,\"ticks\":\"\"}}}],\"scattermapbox\":[{\"type\":\"scattermapbox\",\"marker\":{\"colorbar\":{\"outlinewidth\":0,\"ticks\":\"\"}}}],\"scatterternary\":[{\"type\":\"scatterternary\",\"marker\":{\"colorbar\":{\"outlinewidth\":0,\"ticks\":\"\"}}}],\"scattercarpet\":[{\"type\":\"scattercarpet\",\"marker\":{\"colorbar\":{\"outlinewidth\":0,\"ticks\":\"\"}}}],\"carpet\":[{\"aaxis\":{\"endlinecolor\":\"#2a3f5f\",\"gridcolor\":\"white\",\"linecolor\":\"white\",\"minorgridcolor\":\"white\",\"startlinecolor\":\"#2a3f5f\"},\"baxis\":{\"endlinecolor\":\"#2a3f5f\",\"gridcolor\":\"white\",\"linecolor\":\"white\",\"minorgridcolor\":\"white\",\"startlinecolor\":\"#2a3f5f\"},\"type\":\"carpet\"}],\"table\":[{\"cells\":{\"fill\":{\"color\":\"#EBF0F8\"},\"line\":{\"color\":\"white\"}},\"header\":{\"fill\":{\"color\":\"#C8D4E3\"},\"line\":{\"color\":\"white\"}},\"type\":\"table\"}],\"barpolar\":[{\"marker\":{\"line\":{\"color\":\"#E5ECF6\",\"width\":0.5},\"pattern\":{\"fillmode\":\"overlay\",\"size\":10,\"solidity\":0.2}},\"type\":\"barpolar\"}],\"pie\":[{\"automargin\":true,\"type\":\"pie\"}]},\"layout\":{\"autotypenumbers\":\"strict\",\"colorway\":[\"#636efa\",\"#EF553B\",\"#00cc96\",\"#ab63fa\",\"#FFA15A\",\"#19d3f3\",\"#FF6692\",\"#B6E880\",\"#FF97FF\",\"#FECB52\"],\"font\":{\"color\":\"#2a3f5f\"},\"hovermode\":\"closest\",\"hoverlabel\":{\"align\":\"left\"},\"paper_bgcolor\":\"white\",\"plot_bgcolor\":\"#E5ECF6\",\"polar\":{\"bgcolor\":\"#E5ECF6\",\"angularaxis\":{\"gridcolor\":\"white\",\"linecolor\":\"white\",\"ticks\":\"\"},\"radialaxis\":{\"gridcolor\":\"white\",\"linecolor\":\"white\",\"ticks\":\"\"}},\"ternary\":{\"bgcolor\":\"#E5ECF6\",\"aaxis\":{\"gridcolor\":\"white\",\"linecolor\":\"white\",\"ticks\":\"\"},\"baxis\":{\"gridcolor\":\"white\",\"linecolor\":\"white\",\"ticks\":\"\"},\"caxis\":{\"gridcolor\":\"white\",\"linecolor\":\"white\",\"ticks\":\"\"}},\"coloraxis\":{\"colorbar\":{\"outlinewidth\":0,\"ticks\":\"\"}},\"colorscale\":{\"sequential\":[[0.0,\"#0d0887\"],[0.1111111111111111,\"#46039f\"],[0.2222222222222222,\"#7201a8\"],[0.3333333333333333,\"#9c179e\"],[0.4444444444444444,\"#bd3786\"],[0.5555555555555556,\"#d8576b\"],[0.6666666666666666,\"#ed7953\"],[0.7777777777777778,\"#fb9f3a\"],[0.8888888888888888,\"#fdca26\"],[1.0,\"#f0f921\"]],\"sequentialminus\":[[0.0,\"#0d0887\"],[0.1111111111111111,\"#46039f\"],[0.2222222222222222,\"#7201a8\"],[0.3333333333333333,\"#9c179e\"],[0.4444444444444444,\"#bd3786\"],[0.5555555555555556,\"#d8576b\"],[0.6666666666666666,\"#ed7953\"],[0.7777777777777778,\"#fb9f3a\"],[0.8888888888888888,\"#fdca26\"],[1.0,\"#f0f921\"]],\"diverging\":[[0,\"#8e0152\"],[0.1,\"#c51b7d\"],[0.2,\"#de77ae\"],[0.3,\"#f1b6da\"],[0.4,\"#fde0ef\"],[0.5,\"#f7f7f7\"],[0.6,\"#e6f5d0\"],[0.7,\"#b8e186\"],[0.8,\"#7fbc41\"],[0.9,\"#4d9221\"],[1,\"#276419\"]]},\"xaxis\":{\"gridcolor\":\"white\",\"linecolor\":\"white\",\"ticks\":\"\",\"title\":{\"standoff\":15},\"zerolinecolor\":\"white\",\"automargin\":true,\"zerolinewidth\":2},\"yaxis\":{\"gridcolor\":\"white\",\"linecolor\":\"white\",\"ticks\":\"\",\"title\":{\"standoff\":15},\"zerolinecolor\":\"white\",\"automargin\":true,\"zerolinewidth\":2},\"scene\":{\"xaxis\":{\"backgroundcolor\":\"#E5ECF6\",\"gridcolor\":\"white\",\"linecolor\":\"white\",\"showbackground\":true,\"ticks\":\"\",\"zerolinecolor\":\"white\",\"gridwidth\":2},\"yaxis\":{\"backgroundcolor\":\"#E5ECF6\",\"gridcolor\":\"white\",\"linecolor\":\"white\",\"showbackground\":true,\"ticks\":\"\",\"zerolinecolor\":\"white\",\"gridwidth\":2},\"zaxis\":{\"backgroundcolor\":\"#E5ECF6\",\"gridcolor\":\"white\",\"linecolor\":\"white\",\"showbackground\":true,\"ticks\":\"\",\"zerolinecolor\":\"white\",\"gridwidth\":2}},\"shapedefaults\":{\"line\":{\"color\":\"#2a3f5f\"}},\"annotationdefaults\":{\"arrowcolor\":\"#2a3f5f\",\"arrowhead\":0,\"arrowwidth\":1},\"geo\":{\"bgcolor\":\"white\",\"landcolor\":\"#E5ECF6\",\"subunitcolor\":\"white\",\"showland\":true,\"showlakes\":true,\"lakecolor\":\"white\"},\"title\":{\"x\":0.05},\"mapbox\":{\"style\":\"light\"}}}},                        {\"responsive\": true}                    ).then(function(){\n",
              "                            \n",
              "var gd = document.getElementById('7762c9ed-ee87-42f0-bcfb-3b70ce707283');\n",
              "var x = new MutationObserver(function (mutations, observer) {{\n",
              "        var display = window.getComputedStyle(gd).display;\n",
              "        if (!display || display === 'none') {{\n",
              "            console.log([gd, 'removed!']);\n",
              "            Plotly.purge(gd);\n",
              "            observer.disconnect();\n",
              "        }}\n",
              "}});\n",
              "\n",
              "// Listen for the removal of the full notebook cells\n",
              "var notebookContainer = gd.closest('#notebook-container');\n",
              "if (notebookContainer) {{\n",
              "    x.observe(notebookContainer, {childList: true});\n",
              "}}\n",
              "\n",
              "// Listen for the clearing of the current output cell\n",
              "var outputEl = gd.closest('.output');\n",
              "if (outputEl) {{\n",
              "    x.observe(outputEl, {childList: true});\n",
              "}}\n",
              "\n",
              "                        })                };                            </script>        </div>\n",
              "</body>\n",
              "</html>"
            ]
          },
          "metadata": {}
        }
      ],
      "source": [
        "import plotly.graph_objects as go\n",
        "\n",
        "y = [3,10,6]\n",
        "\n",
        "fig = go.Figure(\n",
        "    data = [go.Bar(y=y)]\n",
        ")\n",
        "\n",
        "fig.show()"
      ]
    },
    {
      "cell_type": "markdown",
      "id": "0bede92b-8555-4e7e-9c0e-131c5b926cb7",
      "metadata": {
        "id": "0bede92b-8555-4e7e-9c0e-131c5b926cb7"
      },
      "source": [
        "## 파일 목록 확인"
      ]
    },
    {
      "cell_type": "code",
      "execution_count": null,
      "id": "8048cd14-4449-4fbe-932f-f289317b9894",
      "metadata": {
        "id": "8048cd14-4449-4fbe-932f-f289317b9894"
      },
      "outputs": [],
      "source": [
        "import os\n",
        "for dirname,_,filenames in os.walk('./kaggle/kaggle/input'):\n",
        "    for filename in filenames:\n",
        "        print(os.path.join(dirname,filename))"
      ]
    },
    {
      "cell_type": "markdown",
      "id": "0415cdc0-f02d-4072-bc9a-b1db6778094a",
      "metadata": {
        "id": "0415cdc0-f02d-4072-bc9a-b1db6778094a"
      },
      "source": [
        "## 데이터 불러오기"
      ]
    },
    {
      "cell_type": "code",
      "execution_count": null,
      "id": "2185afe8-dc09-442a-adc5-e5a86a81d71d",
      "metadata": {
        "colab": {
          "base_uri": "https://localhost:8080/",
          "height": 415
        },
        "id": "2185afe8-dc09-442a-adc5-e5a86a81d71d",
        "outputId": "d71bed4f-5526-443a-f3af-7ccf10cb7d08"
      },
      "outputs": [
        {
          "output_type": "error",
          "ename": "FileNotFoundError",
          "evalue": "[Errno 2] No such file or directory: './kaggle/kaggle/input/kaggle-survey-2021/kaggle_survey_2021_responses.csv'",
          "traceback": [
            "\u001b[0;31m---------------------------------------------------------------------------\u001b[0m",
            "\u001b[0;31mFileNotFoundError\u001b[0m                         Traceback (most recent call last)",
            "\u001b[0;32m<ipython-input-5-8229da4dce0f>\u001b[0m in \u001b[0;36m<cell line: 5>\u001b[0;34m()\u001b[0m\n\u001b[1;32m      3\u001b[0m \u001b[0;32mimport\u001b[0m \u001b[0mnumpy\u001b[0m \u001b[0;32mas\u001b[0m \u001b[0mnp\u001b[0m\u001b[0;34m\u001b[0m\u001b[0;34m\u001b[0m\u001b[0m\n\u001b[1;32m      4\u001b[0m \u001b[0;34m\u001b[0m\u001b[0m\n\u001b[0;32m----> 5\u001b[0;31m \u001b[0mdf\u001b[0m \u001b[0;34m=\u001b[0m \u001b[0mpd\u001b[0m\u001b[0;34m.\u001b[0m\u001b[0mread_csv\u001b[0m\u001b[0;34m(\u001b[0m\u001b[0;34m\"./kaggle/kaggle/input/kaggle-survey-2021/kaggle_survey_2021_responses.csv\"\u001b[0m\u001b[0;34m)\u001b[0m\u001b[0;34m\u001b[0m\u001b[0;34m\u001b[0m\u001b[0m\n\u001b[0m\u001b[1;32m      6\u001b[0m \u001b[0mdf\u001b[0m\u001b[0;34m.\u001b[0m\u001b[0mhead\u001b[0m\u001b[0;34m(\u001b[0m\u001b[0;36m2\u001b[0m\u001b[0;34m)\u001b[0m\u001b[0;34m\u001b[0m\u001b[0;34m\u001b[0m\u001b[0m\n",
            "\u001b[0;32m/usr/local/lib/python3.10/dist-packages/pandas/util/_decorators.py\u001b[0m in \u001b[0;36mwrapper\u001b[0;34m(*args, **kwargs)\u001b[0m\n\u001b[1;32m    209\u001b[0m                 \u001b[0;32melse\u001b[0m\u001b[0;34m:\u001b[0m\u001b[0;34m\u001b[0m\u001b[0;34m\u001b[0m\u001b[0m\n\u001b[1;32m    210\u001b[0m                     \u001b[0mkwargs\u001b[0m\u001b[0;34m[\u001b[0m\u001b[0mnew_arg_name\u001b[0m\u001b[0;34m]\u001b[0m \u001b[0;34m=\u001b[0m \u001b[0mnew_arg_value\u001b[0m\u001b[0;34m\u001b[0m\u001b[0;34m\u001b[0m\u001b[0m\n\u001b[0;32m--> 211\u001b[0;31m             \u001b[0;32mreturn\u001b[0m \u001b[0mfunc\u001b[0m\u001b[0;34m(\u001b[0m\u001b[0;34m*\u001b[0m\u001b[0margs\u001b[0m\u001b[0;34m,\u001b[0m \u001b[0;34m**\u001b[0m\u001b[0mkwargs\u001b[0m\u001b[0;34m)\u001b[0m\u001b[0;34m\u001b[0m\u001b[0;34m\u001b[0m\u001b[0m\n\u001b[0m\u001b[1;32m    212\u001b[0m \u001b[0;34m\u001b[0m\u001b[0m\n\u001b[1;32m    213\u001b[0m         \u001b[0;32mreturn\u001b[0m \u001b[0mcast\u001b[0m\u001b[0;34m(\u001b[0m\u001b[0mF\u001b[0m\u001b[0;34m,\u001b[0m \u001b[0mwrapper\u001b[0m\u001b[0;34m)\u001b[0m\u001b[0;34m\u001b[0m\u001b[0;34m\u001b[0m\u001b[0m\n",
            "\u001b[0;32m/usr/local/lib/python3.10/dist-packages/pandas/util/_decorators.py\u001b[0m in \u001b[0;36mwrapper\u001b[0;34m(*args, **kwargs)\u001b[0m\n\u001b[1;32m    329\u001b[0m                     \u001b[0mstacklevel\u001b[0m\u001b[0;34m=\u001b[0m\u001b[0mfind_stack_level\u001b[0m\u001b[0;34m(\u001b[0m\u001b[0;34m)\u001b[0m\u001b[0;34m,\u001b[0m\u001b[0;34m\u001b[0m\u001b[0;34m\u001b[0m\u001b[0m\n\u001b[1;32m    330\u001b[0m                 )\n\u001b[0;32m--> 331\u001b[0;31m             \u001b[0;32mreturn\u001b[0m \u001b[0mfunc\u001b[0m\u001b[0;34m(\u001b[0m\u001b[0;34m*\u001b[0m\u001b[0margs\u001b[0m\u001b[0;34m,\u001b[0m \u001b[0;34m**\u001b[0m\u001b[0mkwargs\u001b[0m\u001b[0;34m)\u001b[0m\u001b[0;34m\u001b[0m\u001b[0;34m\u001b[0m\u001b[0m\n\u001b[0m\u001b[1;32m    332\u001b[0m \u001b[0;34m\u001b[0m\u001b[0m\n\u001b[1;32m    333\u001b[0m         \u001b[0;31m# error: \"Callable[[VarArg(Any), KwArg(Any)], Any]\" has no\u001b[0m\u001b[0;34m\u001b[0m\u001b[0;34m\u001b[0m\u001b[0m\n",
            "\u001b[0;32m/usr/local/lib/python3.10/dist-packages/pandas/io/parsers/readers.py\u001b[0m in \u001b[0;36mread_csv\u001b[0;34m(filepath_or_buffer, sep, delimiter, header, names, index_col, usecols, squeeze, prefix, mangle_dupe_cols, dtype, engine, converters, true_values, false_values, skipinitialspace, skiprows, skipfooter, nrows, na_values, keep_default_na, na_filter, verbose, skip_blank_lines, parse_dates, infer_datetime_format, keep_date_col, date_parser, dayfirst, cache_dates, iterator, chunksize, compression, thousands, decimal, lineterminator, quotechar, quoting, doublequote, escapechar, comment, encoding, encoding_errors, dialect, error_bad_lines, warn_bad_lines, on_bad_lines, delim_whitespace, low_memory, memory_map, float_precision, storage_options)\u001b[0m\n\u001b[1;32m    948\u001b[0m     \u001b[0mkwds\u001b[0m\u001b[0;34m.\u001b[0m\u001b[0mupdate\u001b[0m\u001b[0;34m(\u001b[0m\u001b[0mkwds_defaults\u001b[0m\u001b[0;34m)\u001b[0m\u001b[0;34m\u001b[0m\u001b[0;34m\u001b[0m\u001b[0m\n\u001b[1;32m    949\u001b[0m \u001b[0;34m\u001b[0m\u001b[0m\n\u001b[0;32m--> 950\u001b[0;31m     \u001b[0;32mreturn\u001b[0m \u001b[0m_read\u001b[0m\u001b[0;34m(\u001b[0m\u001b[0mfilepath_or_buffer\u001b[0m\u001b[0;34m,\u001b[0m \u001b[0mkwds\u001b[0m\u001b[0;34m)\u001b[0m\u001b[0;34m\u001b[0m\u001b[0;34m\u001b[0m\u001b[0m\n\u001b[0m\u001b[1;32m    951\u001b[0m \u001b[0;34m\u001b[0m\u001b[0m\n\u001b[1;32m    952\u001b[0m \u001b[0;34m\u001b[0m\u001b[0m\n",
            "\u001b[0;32m/usr/local/lib/python3.10/dist-packages/pandas/io/parsers/readers.py\u001b[0m in \u001b[0;36m_read\u001b[0;34m(filepath_or_buffer, kwds)\u001b[0m\n\u001b[1;32m    603\u001b[0m \u001b[0;34m\u001b[0m\u001b[0m\n\u001b[1;32m    604\u001b[0m     \u001b[0;31m# Create the parser.\u001b[0m\u001b[0;34m\u001b[0m\u001b[0;34m\u001b[0m\u001b[0m\n\u001b[0;32m--> 605\u001b[0;31m     \u001b[0mparser\u001b[0m \u001b[0;34m=\u001b[0m \u001b[0mTextFileReader\u001b[0m\u001b[0;34m(\u001b[0m\u001b[0mfilepath_or_buffer\u001b[0m\u001b[0;34m,\u001b[0m \u001b[0;34m**\u001b[0m\u001b[0mkwds\u001b[0m\u001b[0;34m)\u001b[0m\u001b[0;34m\u001b[0m\u001b[0;34m\u001b[0m\u001b[0m\n\u001b[0m\u001b[1;32m    606\u001b[0m \u001b[0;34m\u001b[0m\u001b[0m\n\u001b[1;32m    607\u001b[0m     \u001b[0;32mif\u001b[0m \u001b[0mchunksize\u001b[0m \u001b[0;32mor\u001b[0m \u001b[0miterator\u001b[0m\u001b[0;34m:\u001b[0m\u001b[0;34m\u001b[0m\u001b[0;34m\u001b[0m\u001b[0m\n",
            "\u001b[0;32m/usr/local/lib/python3.10/dist-packages/pandas/io/parsers/readers.py\u001b[0m in \u001b[0;36m__init__\u001b[0;34m(self, f, engine, **kwds)\u001b[0m\n\u001b[1;32m   1440\u001b[0m \u001b[0;34m\u001b[0m\u001b[0m\n\u001b[1;32m   1441\u001b[0m         \u001b[0mself\u001b[0m\u001b[0;34m.\u001b[0m\u001b[0mhandles\u001b[0m\u001b[0;34m:\u001b[0m \u001b[0mIOHandles\u001b[0m \u001b[0;34m|\u001b[0m \u001b[0;32mNone\u001b[0m \u001b[0;34m=\u001b[0m \u001b[0;32mNone\u001b[0m\u001b[0;34m\u001b[0m\u001b[0;34m\u001b[0m\u001b[0m\n\u001b[0;32m-> 1442\u001b[0;31m         \u001b[0mself\u001b[0m\u001b[0;34m.\u001b[0m\u001b[0m_engine\u001b[0m \u001b[0;34m=\u001b[0m \u001b[0mself\u001b[0m\u001b[0;34m.\u001b[0m\u001b[0m_make_engine\u001b[0m\u001b[0;34m(\u001b[0m\u001b[0mf\u001b[0m\u001b[0;34m,\u001b[0m \u001b[0mself\u001b[0m\u001b[0;34m.\u001b[0m\u001b[0mengine\u001b[0m\u001b[0;34m)\u001b[0m\u001b[0;34m\u001b[0m\u001b[0;34m\u001b[0m\u001b[0m\n\u001b[0m\u001b[1;32m   1443\u001b[0m \u001b[0;34m\u001b[0m\u001b[0m\n\u001b[1;32m   1444\u001b[0m     \u001b[0;32mdef\u001b[0m \u001b[0mclose\u001b[0m\u001b[0;34m(\u001b[0m\u001b[0mself\u001b[0m\u001b[0;34m)\u001b[0m \u001b[0;34m->\u001b[0m \u001b[0;32mNone\u001b[0m\u001b[0;34m:\u001b[0m\u001b[0;34m\u001b[0m\u001b[0;34m\u001b[0m\u001b[0m\n",
            "\u001b[0;32m/usr/local/lib/python3.10/dist-packages/pandas/io/parsers/readers.py\u001b[0m in \u001b[0;36m_make_engine\u001b[0;34m(self, f, engine)\u001b[0m\n\u001b[1;32m   1733\u001b[0m                 \u001b[0;32mif\u001b[0m \u001b[0;34m\"b\"\u001b[0m \u001b[0;32mnot\u001b[0m \u001b[0;32min\u001b[0m \u001b[0mmode\u001b[0m\u001b[0;34m:\u001b[0m\u001b[0;34m\u001b[0m\u001b[0;34m\u001b[0m\u001b[0m\n\u001b[1;32m   1734\u001b[0m                     \u001b[0mmode\u001b[0m \u001b[0;34m+=\u001b[0m \u001b[0;34m\"b\"\u001b[0m\u001b[0;34m\u001b[0m\u001b[0;34m\u001b[0m\u001b[0m\n\u001b[0;32m-> 1735\u001b[0;31m             self.handles = get_handle(\n\u001b[0m\u001b[1;32m   1736\u001b[0m                 \u001b[0mf\u001b[0m\u001b[0;34m,\u001b[0m\u001b[0;34m\u001b[0m\u001b[0;34m\u001b[0m\u001b[0m\n\u001b[1;32m   1737\u001b[0m                 \u001b[0mmode\u001b[0m\u001b[0;34m,\u001b[0m\u001b[0;34m\u001b[0m\u001b[0;34m\u001b[0m\u001b[0m\n",
            "\u001b[0;32m/usr/local/lib/python3.10/dist-packages/pandas/io/common.py\u001b[0m in \u001b[0;36mget_handle\u001b[0;34m(path_or_buf, mode, encoding, compression, memory_map, is_text, errors, storage_options)\u001b[0m\n\u001b[1;32m    854\u001b[0m         \u001b[0;32mif\u001b[0m \u001b[0mioargs\u001b[0m\u001b[0;34m.\u001b[0m\u001b[0mencoding\u001b[0m \u001b[0;32mand\u001b[0m \u001b[0;34m\"b\"\u001b[0m \u001b[0;32mnot\u001b[0m \u001b[0;32min\u001b[0m \u001b[0mioargs\u001b[0m\u001b[0;34m.\u001b[0m\u001b[0mmode\u001b[0m\u001b[0;34m:\u001b[0m\u001b[0;34m\u001b[0m\u001b[0;34m\u001b[0m\u001b[0m\n\u001b[1;32m    855\u001b[0m             \u001b[0;31m# Encoding\u001b[0m\u001b[0;34m\u001b[0m\u001b[0;34m\u001b[0m\u001b[0m\n\u001b[0;32m--> 856\u001b[0;31m             handle = open(\n\u001b[0m\u001b[1;32m    857\u001b[0m                 \u001b[0mhandle\u001b[0m\u001b[0;34m,\u001b[0m\u001b[0;34m\u001b[0m\u001b[0;34m\u001b[0m\u001b[0m\n\u001b[1;32m    858\u001b[0m                 \u001b[0mioargs\u001b[0m\u001b[0;34m.\u001b[0m\u001b[0mmode\u001b[0m\u001b[0;34m,\u001b[0m\u001b[0;34m\u001b[0m\u001b[0;34m\u001b[0m\u001b[0m\n",
            "\u001b[0;31mFileNotFoundError\u001b[0m: [Errno 2] No such file or directory: './kaggle/kaggle/input/kaggle-survey-2021/kaggle_survey_2021_responses.csv'"
          ]
        }
      ],
      "source": [
        "# 2021년 설문조사 데이터\n",
        "import pandas as pd\n",
        "import numpy as np\n",
        "\n",
        "df = pd.read_csv(\"./kaggle/kaggle/input/kaggle-survey-2021/kaggle_survey_2021_responses.csv\")\n",
        "df.head(2)"
      ]
    },
    {
      "cell_type": "code",
      "execution_count": null,
      "id": "0e5079c2-f029-4103-b135-5a000256ac19",
      "metadata": {
        "id": "0e5079c2-f029-4103-b135-5a000256ac19"
      },
      "outputs": [],
      "source": [
        "questions = df.iloc[0,:].T\n",
        "questions"
      ]
    },
    {
      "cell_type": "code",
      "execution_count": null,
      "id": "793e2f7a-b9d1-4d20-acdc-be2f11a84b32",
      "metadata": {
        "id": "793e2f7a-b9d1-4d20-acdc-be2f11a84b32"
      },
      "outputs": [],
      "source": [
        "df = df.iloc[1:,:].reset_index(drop=True)\n",
        "df.head(2)"
      ]
    },
    {
      "cell_type": "code",
      "execution_count": null,
      "id": "7ad983e9-c20f-452b-abc9-a6f061a0a7e5",
      "metadata": {
        "id": "7ad983e9-c20f-452b-abc9-a6f061a0a7e5"
      },
      "outputs": [],
      "source": [
        "temp = pd.DataFrame({\n",
        "  \"Fruit\": [\"Apples\", \"Oranges\", \"Bananas\", \"Apples\", \"Oranges\", \"Bananas\"],\n",
        "  \"Contestant\": [\"Alex\", \"Alex\", \"Alex\", \"Jordan\", \"Jordan\", \"Jordan\"],\n",
        "  \"Number Eaten\": [2, 1, 3, 1, 3, 2],\n",
        "})\n",
        "\n",
        "temp"
      ]
    },
    {
      "cell_type": "markdown",
      "id": "fb004f13-ea1a-4431-80b9-530d0a588831",
      "metadata": {
        "id": "fb004f13-ea1a-4431-80b9-530d0a588831"
      },
      "source": [
        "## express 방식\n",
        "- 막대 그래프 그리기"
      ]
    },
    {
      "cell_type": "code",
      "execution_count": null,
      "id": "f45077f5-aab8-48ad-ac05-e8c78cad3f8c",
      "metadata": {
        "id": "f45077f5-aab8-48ad-ac05-e8c78cad3f8c"
      },
      "outputs": [],
      "source": [
        "import plotly.express as px\n",
        "\n",
        "fig = px.bar(temp,x='Fruit',y='Number Eaten',color='Contestant',barmode='group') # barmode가 없었을땐 그래프가 누적처럼 쌓여있었음\n",
        "fig.show()"
      ]
    },
    {
      "cell_type": "code",
      "execution_count": null,
      "id": "05ad3e18-69dc-486b-b7e9-da3dd095ef20",
      "metadata": {
        "id": "05ad3e18-69dc-486b-b7e9-da3dd095ef20"
      },
      "outputs": [],
      "source": [
        "long_df = px.data.medals_long()\n",
        "long_df"
      ]
    },
    {
      "cell_type": "code",
      "execution_count": null,
      "id": "25844296-6ea1-4d6d-96d6-b50d6e537bf9",
      "metadata": {
        "id": "25844296-6ea1-4d6d-96d6-b50d6e537bf9"
      },
      "outputs": [],
      "source": [
        "fig = px.bar(long_df,x='nation',y='count',\n",
        "             color='medal',\n",
        "             barmode='group',\n",
        "             title='Long-Form Input')\n",
        "fig.show()"
      ]
    },
    {
      "cell_type": "code",
      "execution_count": null,
      "id": "38365d2b-a5cd-48b7-b9b6-f56e45ab68a1",
      "metadata": {
        "id": "38365d2b-a5cd-48b7-b9b6-f56e45ab68a1"
      },
      "outputs": [],
      "source": [
        "import plotly.graph_objects as go\n",
        "fig = go.Figure()\n",
        "fig.add_trace(go.Bar(name = \"Alex\", x = temp['Fruit'], y = temp[temp['Contestant'] == \"Alex\"]['Number Eaten'].values))\n",
        "fig.add_trace(go.Bar(name = \"Jordan\", x = temp['Fruit'], y = temp[temp['Contestant'] == \"Jordan\"]['Number Eaten'].values))\n",
        "fig.update_layout(barmode='group')\n",
        "fig.show()"
      ]
    },
    {
      "cell_type": "code",
      "execution_count": null,
      "id": "5d0f1fa7-7048-4b32-ab0b-bd34786c2ebd",
      "metadata": {
        "id": "5d0f1fa7-7048-4b32-ab0b-bd34786c2ebd"
      },
      "outputs": [],
      "source": [
        "import plotly.graph_objects as go\n",
        "fig = go.Figure()\n",
        "fig.add_trace(go.Bar(name = \"Alex\", x = temp['Fruit'], y = temp[temp['Contestant'] == \"Alex\"]['Number Eaten'].values))\n",
        "fig.add_trace(go.Bar(name = \"Jordan\", x = temp['Fruit'], y = temp[temp['Contestant'] == \"Jordan\"]['Number Eaten'].values))\n",
        "fig.update_layout(barmode='group')\n",
        "fig.show('json')"
      ]
    },
    {
      "cell_type": "markdown",
      "id": "ca14bc0e-e2c0-4d9b-b0d7-b02dec007883",
      "metadata": {
        "id": "ca14bc0e-e2c0-4d9b-b0d7-b02dec007883"
      },
      "source": [
        "## 응답자의 연령대 시각화"
      ]
    },
    {
      "cell_type": "code",
      "execution_count": null,
      "id": "245d85c1-3e25-4dac-8572-96e393369d9a",
      "metadata": {
        "id": "245d85c1-3e25-4dac-8572-96e393369d9a"
      },
      "outputs": [],
      "source": [
        "df['Q1'].value_counts()"
      ]
    },
    {
      "cell_type": "markdown",
      "id": "f8023cb1-d2ee-41e9-8189-7f58400e4e42",
      "metadata": {
        "id": "f8023cb1-d2ee-41e9-8189-7f58400e4e42"
      },
      "source": [
        "## Q1 막대 그래프\n",
        "- 위 결과값을 q1_df 저장"
      ]
    },
    {
      "cell_type": "code",
      "execution_count": null,
      "id": "f7f2a089-5835-4673-b753-c57ccd65e997",
      "metadata": {
        "id": "f7f2a089-5835-4673-b753-c57ccd65e997"
      },
      "outputs": [],
      "source": [
        "q1_df = df['Q1'].value_counts()\n",
        "\n",
        "CATEGORY_ORDER = [\"18-21\", \"22-24\", \"25-29\", \"30-34\", \"35-39\", \"40-44\", \"45-49\", \"50-54\", \"55-59\", \"60-69\", \"70+\"]\n",
        "\n",
        "fig = go.Figure()\n",
        "fig.add_trace(\n",
        "    go.Bar(x=q1_df.index,y=q1_df.values) # 시각화 종류\n",
        ") # 시각화 차트 생성\n",
        "\n",
        "# 시각화 스타일을 변경\n",
        "fig.update_layout(\n",
        "    xaxis=dict(categoryorder='array',categoryarray=CATEGORY_ORDER),\n",
        "    yaxis=dict(title='your y-axis title',linecolor='red'),\n",
        "    plot_bgcolor='lightblue'\n",
        ")\n",
        "\n",
        "\n",
        "\n",
        "fig.show()"
      ]
    },
    {
      "cell_type": "code",
      "execution_count": null,
      "id": "d5fbad5e-56df-42cf-ab00-1c9c63c2572e",
      "metadata": {
        "id": "d5fbad5e-56df-42cf-ab00-1c9c63c2572e"
      },
      "outputs": [],
      "source": [
        "df['Q2'].value_counts()"
      ]
    },
    {
      "cell_type": "code",
      "execution_count": null,
      "id": "559bbfdb-3946-4899-b647-9e5cb7e40f0b",
      "metadata": {
        "id": "559bbfdb-3946-4899-b647-9e5cb7e40f0b"
      },
      "outputs": [],
      "source": [
        "q1_q2_df = df.loc[:, [\"Q1\", \"Q2\"]].replace({'Prefer not to say':'etc', 'Nonbinary':\"etc\", \"Prefer to self-describe\": \"etc\"})\n",
        "q1_q2_df['Q2'].value_counts()"
      ]
    },
    {
      "cell_type": "code",
      "execution_count": null,
      "id": "dfa60b12-a2f5-491b-bdd9-1f5728781995",
      "metadata": {
        "id": "dfa60b12-a2f5-491b-bdd9-1f5728781995"
      },
      "outputs": [],
      "source": [
        "q1_q2_df = q1_q2_df.groupby(['Q2','Q1']).size().reset_index().rename(columns = {0:\"Count\"})\n",
        "q1_q2_df.head()"
      ]
    },
    {
      "cell_type": "code",
      "execution_count": null,
      "id": "60f3aa8b-081d-4a5d-89fc-31126b7eeaf7",
      "metadata": {
        "id": "60f3aa8b-081d-4a5d-89fc-31126b7eeaf7"
      },
      "outputs": [],
      "source": [
        "fig = go.Figure()\n",
        "for gender,group in q1_q2_df.groupby(\"Q2\"):\n",
        "    fig.add_trace(go.Bar(x=group['Q1'],y=group['Count'],name=gender))\n",
        "\n",
        "fig.update_layout(plot_bgcolor='white')\n",
        "fig.show()"
      ]
    },
    {
      "cell_type": "code",
      "execution_count": null,
      "id": "15b3309e-85c8-4522-93c6-0f7a959251a8",
      "metadata": {
        "id": "15b3309e-85c8-4522-93c6-0f7a959251a8"
      },
      "outputs": [],
      "source": [
        "q3_df = df['Q3'].value_counts()\n",
        "\n",
        "fig = go.Figure()\n",
        "fig.add_trace(go.Bar(x = q3_df.index, y = q3_df.values))\n",
        "fig.show()"
      ]
    },
    {
      "cell_type": "code",
      "execution_count": null,
      "id": "59804822-f3a7-46aa-b370-48c84f6b4107",
      "metadata": {
        "id": "59804822-f3a7-46aa-b370-48c84f6b4107"
      },
      "outputs": [],
      "source": [
        "q3_q25 = df.loc[:,['Q3','Q25']]\n",
        "q3_q25.head(1)"
      ]
    },
    {
      "cell_type": "code",
      "execution_count": null,
      "id": "cf673264-565b-4236-958c-9522df9c4fac",
      "metadata": {
        "id": "cf673264-565b-4236-958c-9522df9c4fac"
      },
      "outputs": [],
      "source": [
        "q3_q25['Q25'].value_counts()\n",
        "\n",
        "q3_q25['Q25'] = q3_q25['Q25'].replace(['$0-999', '1,000-1,999'], '$0-1,999')\n",
        "q3_q25['Q25'].value_counts()"
      ]
    },
    {
      "cell_type": "code",
      "execution_count": null,
      "id": "5e0eab86-566d-401e-b50c-c72c0e87be48",
      "metadata": {
        "id": "5e0eab86-566d-401e-b50c-c72c0e87be48"
      },
      "outputs": [],
      "source": [
        "q3_q25['Q25'] = q3_q25['Q25'].replace(['$0-999', '1,000-1,999'], '$0-1,999')\n",
        "q3_q25['Q25'] = q3_q25['Q25'].replace(['2,000-2,999', '3,000-3,999'], '$2,000-3,999')\n",
        "q3_q25['Q25'] = q3_q25['Q25'].replace(['4,000-4,999', '5,000-7,499'], '$4,000-7,499')\n",
        "q3_q25['Q25'] = q3_q25['Q25'].replace(['25,000-29,999', '60,000-69,999',\n",
        "                       '30,000-39,999','15,000-19,999', '70,000-79,999',\n",
        "                       '10,000-14,999', '20,000-24,999', '7,500-9,999',\n",
        "                       '100,000-124,999', '40,000-49,999', '50,000-59,999',\n",
        "                       '300,000-499,999', '200,000-249,999', '125,000-149,999',\n",
        "                       '250,000-299,999', '80,000-89,999', '90,000-99,999',\n",
        "                       '150,000-199,999', '>$1,000,000', '$500,000-999,999'], '$7,500+')\n",
        "\n",
        "q3_q25['Q25'].value_counts()"
      ]
    },
    {
      "cell_type": "code",
      "execution_count": null,
      "id": "576ad78b-79cb-4f4b-957a-fbe16bb5e6c9",
      "metadata": {
        "id": "576ad78b-79cb-4f4b-957a-fbe16bb5e6c9"
      },
      "outputs": [],
      "source": [
        "q3_q25.info()"
      ]
    },
    {
      "cell_type": "code",
      "execution_count": null,
      "id": "e6572cfa-8658-436c-8548-8c90213670eb",
      "metadata": {
        "id": "e6572cfa-8658-436c-8548-8c90213670eb"
      },
      "outputs": [],
      "source": [
        "q3_q25 = q3_q25.dropna(subset=['Q25']) # 결측치 삭제\n",
        "q3_q25.info()"
      ]
    },
    {
      "cell_type": "code",
      "execution_count": null,
      "id": "1167c407-6b52-4ec2-87d7-63f7f0c76f5e",
      "metadata": {
        "id": "1167c407-6b52-4ec2-87d7-63f7f0c76f5e"
      },
      "outputs": [],
      "source": [
        "q3_q25 = q3_q25.groupby(['Q3','Q25']).size().reset_index().rename(columns={0:\"Count\"})\n",
        "q3_q25"
      ]
    },
    {
      "cell_type": "code",
      "execution_count": null,
      "id": "fca2c5c6-a57d-4b8a-a674-a828e070cb2c",
      "metadata": {
        "id": "fca2c5c6-a57d-4b8a-a674-a828e070cb2c"
      },
      "outputs": [],
      "source": [
        "india_df = q3_q25.loc[q3_q25['Q3']==\"India\",:].reset_index(drop=True)\n",
        "india_df['Percentage'] = india_df['Count'] / india_df['Count'].sum()\n",
        "usa_df = q3_q25.loc[q3_q25['Q3']==\"United States of America\",:].reset_index(drop=True)\n",
        "usa_df['Percentage'] = usa_df['Count'] / usa_df['Count'].sum()"
      ]
    },
    {
      "cell_type": "code",
      "execution_count": null,
      "id": "3bc8ced9-ac29-4fcf-a404-dc0374237b7b",
      "metadata": {
        "id": "3bc8ced9-ac29-4fcf-a404-dc0374237b7b"
      },
      "outputs": [],
      "source": [
        "usa_df"
      ]
    },
    {
      "cell_type": "code",
      "execution_count": null,
      "id": "4cae9d10-efda-4cf2-a40a-ce9dad4c61ed",
      "metadata": {
        "id": "4cae9d10-efda-4cf2-a40a-ce9dad4c61ed"
      },
      "outputs": [],
      "source": [
        "india_df"
      ]
    },
    {
      "cell_type": "code",
      "execution_count": null,
      "id": "8ad26ff5-9eb6-46b9-9f2e-e565a5fde37a",
      "metadata": {
        "id": "8ad26ff5-9eb6-46b9-9f2e-e565a5fde37a"
      },
      "outputs": [],
      "source": [
        "india_df['%'] = np.round(india_df['Percentage'] * 100, 1)\n",
        "usa_df['%'] = np.round(usa_df['Percentage'] * 100, 1)"
      ]
    },
    {
      "cell_type": "code",
      "execution_count": null,
      "id": "39d3b0ab-cd05-4b3f-a593-bfe4d2d78f67",
      "metadata": {
        "id": "39d3b0ab-cd05-4b3f-a593-bfe4d2d78f67"
      },
      "outputs": [],
      "source": [
        "india_df"
      ]
    },
    {
      "cell_type": "code",
      "execution_count": null,
      "id": "a05b253e-43fd-48a3-b8ac-03ed71c4f5b9",
      "metadata": {
        "id": "a05b253e-43fd-48a3-b8ac-03ed71c4f5b9"
      },
      "outputs": [],
      "source": [
        "usa_df"
      ]
    },
    {
      "cell_type": "code",
      "execution_count": null,
      "id": "7f7b9a46-1823-4063-9f74-96f0aa529321",
      "metadata": {
        "id": "7f7b9a46-1823-4063-9f74-96f0aa529321"
      },
      "outputs": [],
      "source": [
        "import plotly.graph_objects as go\n",
        "fig = go.Figure()\n",
        "fig.add_trace(go.Bar(name = \"India\", x = india_df['Q25'], y = india_df['%'].values))\n",
        "fig.add_trace(go.Bar(name = \"America\", x = usa_df['Q25'], y = usa_df['%'].values))\n",
        "fig.update_layout(barmode='group')\n",
        "fig.show()"
      ]
    },
    {
      "cell_type": "code",
      "execution_count": null,
      "id": "98cdcac6-040c-4e5d-9b4a-316597f3b4e5",
      "metadata": {
        "id": "98cdcac6-040c-4e5d-9b4a-316597f3b4e5"
      },
      "outputs": [],
      "source": [
        "india_usa_df = pd.concat([india_df, usa_df]).reset_index()\n",
        "fig = go.Figure()\n",
        "for country, group in india_usa_df.groupby(\"Q3\"):\n",
        "   fig.add_trace(go.Bar(x = group['Q25'],\n",
        "                        y = group['%'],\n",
        "                        name = country,\n",
        "                        text = group['%'].astype(str) + \"%\",\n",
        "                        textposition='auto'))\n",
        "fig.update_layout(barmode=\"group\",\n",
        "                  plot_bgcolor = \"white\")\n",
        "fig.show()"
      ]
    }
  ],
  "metadata": {
    "kernelspec": {
      "display_name": "Python 3 (ipykernel)",
      "language": "python",
      "name": "python3"
    },
    "language_info": {
      "codemirror_mode": {
        "name": "ipython",
        "version": 3
      },
      "file_extension": ".py",
      "mimetype": "text/x-python",
      "name": "python",
      "nbconvert_exporter": "python",
      "pygments_lexer": "ipython3",
      "version": "3.12.1"
    },
    "colab": {
      "provenance": [],
      "include_colab_link": true
    }
  },
  "nbformat": 4,
  "nbformat_minor": 5
}