{
  "nbformat": 4,
  "nbformat_minor": 0,
  "metadata": {
    "colab": {
      "provenance": [],
      "include_colab_link": true
    },
    "kernelspec": {
      "name": "python3",
      "display_name": "Python 3"
    },
    "language_info": {
      "name": "python"
    }
  },
  "cells": [
    {
      "cell_type": "markdown",
      "metadata": {
        "id": "view-in-github",
        "colab_type": "text"
      },
      "source": [
        "<a href=\"https://colab.research.google.com/github/Indongspace/mulcamp34/blob/main/ch10_ML.ipynb\" target=\"_parent\"><img src=\"https://colab.research.google.com/assets/colab-badge.svg\" alt=\"Open In Colab\"/></a>"
      ]
    },
    {
      "cell_type": "markdown",
      "source": [
        "## Google Drive 연동"
      ],
      "metadata": {
        "id": "jUeo2k4ZggC0"
      }
    },
    {
      "cell_type": "code",
      "source": [
        "from google.colab import drive\n",
        "drive.mount(\"/content/drive\")"
      ],
      "metadata": {
        "colab": {
          "base_uri": "https://localhost:8080/"
        },
        "id": "lpDmq5lqghp-",
        "outputId": "493347b4-74fb-4f34-9c76-7e6a363a7743"
      },
      "execution_count": 1,
      "outputs": [
        {
          "output_type": "stream",
          "name": "stdout",
          "text": [
            "Mounted at /content/drive\n"
          ]
        }
      ]
    },
    {
      "cell_type": "markdown",
      "source": [
        "## Spark 설치\n",
        "- 주소 : https://spark.apache.org/downloads.html\n",
        "- 주소 : https://www.apache.org/dyn/closer.lua/spark/spark-3.5.1/spark-3.5.1-bin-hadoop3.tgz"
      ],
      "metadata": {
        "id": "cj6B5I-fgTiP"
      }
    },
    {
      "cell_type": "code",
      "execution_count": 2,
      "metadata": {
        "colab": {
          "base_uri": "https://localhost:8080/"
        },
        "id": "nB4JEJP2gBz5",
        "outputId": "e8647d55-b1a9-474f-fe2a-3acd7d1a5306"
      },
      "outputs": [
        {
          "output_type": "stream",
          "name": "stdout",
          "text": [
            "Reading package lists... Done\n",
            "Building dependency tree... Done\n",
            "Reading state information... Done\n",
            "The following additional packages will be installed:\n",
            "  libxtst6 openjdk-8-jre-headless\n",
            "Suggested packages:\n",
            "  openjdk-8-demo openjdk-8-source libnss-mdns fonts-dejavu-extra fonts-nanum fonts-ipafont-gothic\n",
            "  fonts-ipafont-mincho fonts-wqy-microhei fonts-wqy-zenhei fonts-indic\n",
            "The following NEW packages will be installed:\n",
            "  libxtst6 openjdk-8-jdk-headless openjdk-8-jre-headless\n",
            "0 upgraded, 3 newly installed, 0 to remove and 45 not upgraded.\n",
            "Need to get 39.7 MB of archives.\n",
            "After this operation, 144 MB of additional disk space will be used.\n",
            "Get:1 http://archive.ubuntu.com/ubuntu jammy/main amd64 libxtst6 amd64 2:1.2.3-1build4 [13.4 kB]\n",
            "Get:2 http://archive.ubuntu.com/ubuntu jammy-updates/universe amd64 openjdk-8-jre-headless amd64 8u402-ga-2ubuntu1~22.04 [30.8 MB]\n",
            "Get:3 http://archive.ubuntu.com/ubuntu jammy-updates/universe amd64 openjdk-8-jdk-headless amd64 8u402-ga-2ubuntu1~22.04 [8,873 kB]\n",
            "Fetched 39.7 MB in 2s (18.0 MB/s)\n",
            "Selecting previously unselected package libxtst6:amd64.\n",
            "(Reading database ... 121752 files and directories currently installed.)\n",
            "Preparing to unpack .../libxtst6_2%3a1.2.3-1build4_amd64.deb ...\n",
            "Unpacking libxtst6:amd64 (2:1.2.3-1build4) ...\n",
            "Selecting previously unselected package openjdk-8-jre-headless:amd64.\n",
            "Preparing to unpack .../openjdk-8-jre-headless_8u402-ga-2ubuntu1~22.04_amd64.deb ...\n",
            "Unpacking openjdk-8-jre-headless:amd64 (8u402-ga-2ubuntu1~22.04) ...\n",
            "Selecting previously unselected package openjdk-8-jdk-headless:amd64.\n",
            "Preparing to unpack .../openjdk-8-jdk-headless_8u402-ga-2ubuntu1~22.04_amd64.deb ...\n",
            "Unpacking openjdk-8-jdk-headless:amd64 (8u402-ga-2ubuntu1~22.04) ...\n",
            "Setting up libxtst6:amd64 (2:1.2.3-1build4) ...\n",
            "Setting up openjdk-8-jre-headless:amd64 (8u402-ga-2ubuntu1~22.04) ...\n",
            "update-alternatives: using /usr/lib/jvm/java-8-openjdk-amd64/jre/bin/orbd to provide /usr/bin/orbd (orbd) in auto mode\n",
            "update-alternatives: using /usr/lib/jvm/java-8-openjdk-amd64/jre/bin/servertool to provide /usr/bin/servertool (servertool) in auto mode\n",
            "update-alternatives: using /usr/lib/jvm/java-8-openjdk-amd64/jre/bin/tnameserv to provide /usr/bin/tnameserv (tnameserv) in auto mode\n",
            "Setting up openjdk-8-jdk-headless:amd64 (8u402-ga-2ubuntu1~22.04) ...\n",
            "update-alternatives: using /usr/lib/jvm/java-8-openjdk-amd64/bin/clhsdb to provide /usr/bin/clhsdb (clhsdb) in auto mode\n",
            "update-alternatives: using /usr/lib/jvm/java-8-openjdk-amd64/bin/extcheck to provide /usr/bin/extcheck (extcheck) in auto mode\n",
            "update-alternatives: using /usr/lib/jvm/java-8-openjdk-amd64/bin/hsdb to provide /usr/bin/hsdb (hsdb) in auto mode\n",
            "update-alternatives: using /usr/lib/jvm/java-8-openjdk-amd64/bin/idlj to provide /usr/bin/idlj (idlj) in auto mode\n",
            "update-alternatives: using /usr/lib/jvm/java-8-openjdk-amd64/bin/javah to provide /usr/bin/javah (javah) in auto mode\n",
            "update-alternatives: using /usr/lib/jvm/java-8-openjdk-amd64/bin/jhat to provide /usr/bin/jhat (jhat) in auto mode\n",
            "update-alternatives: using /usr/lib/jvm/java-8-openjdk-amd64/bin/jsadebugd to provide /usr/bin/jsadebugd (jsadebugd) in auto mode\n",
            "update-alternatives: using /usr/lib/jvm/java-8-openjdk-amd64/bin/native2ascii to provide /usr/bin/native2ascii (native2ascii) in auto mode\n",
            "update-alternatives: using /usr/lib/jvm/java-8-openjdk-amd64/bin/schemagen to provide /usr/bin/schemagen (schemagen) in auto mode\n",
            "update-alternatives: using /usr/lib/jvm/java-8-openjdk-amd64/bin/wsgen to provide /usr/bin/wsgen (wsgen) in auto mode\n",
            "update-alternatives: using /usr/lib/jvm/java-8-openjdk-amd64/bin/wsimport to provide /usr/bin/wsimport (wsimport) in auto mode\n",
            "update-alternatives: using /usr/lib/jvm/java-8-openjdk-amd64/bin/xjc to provide /usr/bin/xjc (xjc) in auto mode\n",
            "Processing triggers for libc-bin (2.35-0ubuntu3.4) ...\n",
            "/sbin/ldconfig.real: /usr/local/lib/libtbbmalloc.so.2 is not a symbolic link\n",
            "\n",
            "/sbin/ldconfig.real: /usr/local/lib/libtbbbind_2_0.so.3 is not a symbolic link\n",
            "\n",
            "/sbin/ldconfig.real: /usr/local/lib/libtbb.so.12 is not a symbolic link\n",
            "\n",
            "/sbin/ldconfig.real: /usr/local/lib/libtbbmalloc_proxy.so.2 is not a symbolic link\n",
            "\n",
            "/sbin/ldconfig.real: /usr/local/lib/libtbbbind_2_5.so.3 is not a symbolic link\n",
            "\n",
            "/sbin/ldconfig.real: /usr/local/lib/libtbbbind.so.3 is not a symbolic link\n",
            "\n"
          ]
        }
      ],
      "source": [
        "!apt-get install openjdk-8-jdk-headless\n",
        "!wget -q https://dlcdn.apache.org/spark/spark-3.5.1/spark-3.5.1-bin-hadoop3.tgz\n",
        "!tar -zxf spark-3.5.1-bin-hadoop3.tgz"
      ]
    },
    {
      "cell_type": "code",
      "source": [
        "import os\n",
        "os.environ[\"JAVA_HOME\"] = \"/usr/lib/jvm/java-8-openjdk-amd64\"\n",
        "os.environ[\"SPARK_HOME\"] = \"/content/spark-3.5.1-bin-hadoop3\""
      ],
      "metadata": {
        "id": "CJrCzU60gYEW"
      },
      "execution_count": 3,
      "outputs": []
    },
    {
      "cell_type": "code",
      "source": [
        "!pip install findspark -q"
      ],
      "metadata": {
        "id": "nFUHJW_6gZZB"
      },
      "execution_count": 4,
      "outputs": []
    },
    {
      "cell_type": "code",
      "source": [
        "import findspark\n",
        "findspark.init()"
      ],
      "metadata": {
        "id": "exojfBd6gaxl"
      },
      "execution_count": 5,
      "outputs": []
    },
    {
      "cell_type": "code",
      "source": [
        "import pyspark\n",
        "spark_version = pyspark.__version__\n",
        "print(\"Apache Spark 버전 확인: \" + spark_version)"
      ],
      "metadata": {
        "colab": {
          "base_uri": "https://localhost:8080/"
        },
        "id": "ka4X0gUkgcC1",
        "outputId": "55a43c7e-8813-4f7e-9512-87ea430ada7f"
      },
      "execution_count": 6,
      "outputs": [
        {
          "output_type": "stream",
          "name": "stdout",
          "text": [
            "Apache Spark 버전 확인: 3.5.1\n"
          ]
        }
      ]
    },
    {
      "cell_type": "markdown",
      "source": [
        "# 데이터 수집 및 탐색"
      ],
      "metadata": {
        "id": "H9ZiWjc2j1bx"
      }
    },
    {
      "cell_type": "code",
      "source": [
        "from pyspark.sql import SparkSession\n",
        "import seaborn as sns\n",
        "\n",
        "spark = SparkSession.builder.appName('chapter10').getOrCreate()\n",
        "\n",
        "filePath = \"/content/drive/MyDrive/멀티캠퍼스34/Spark/data/sf-airbnb.csv\"\n",
        "rawDF = spark.read.csv(filePath, header=\"true\", inferSchema=\"true\", multiLine=\"true\", escape='\"')\n",
        "rawDF.show(1)"
      ],
      "metadata": {
        "colab": {
          "base_uri": "https://localhost:8080/"
        },
        "id": "9UTx_i3Hj93l",
        "outputId": "205243fa-96d0-4959-f055-99019976a837"
      },
      "execution_count": 8,
      "outputs": [
        {
          "output_type": "stream",
          "name": "stdout",
          "text": [
            "+---+--------------------+--------------+------------+--------------------+--------------------+--------------------+--------------------+-------------------+---------------------+--------------------+--------------------+--------------------+--------------------+--------------------+-------------+----------+--------------------+--------------+-------+--------------------+---------+----------+--------------------+--------------------+------------------+------------------+--------------------+-----------------+--------------------+--------------------+------------------+-------------------+-------------------------+--------------------+--------------------+----------------------+--------------------+---------------+----------------------+----------------------------+-------------+-----+-------+-------------+-----------------+------------+-------------+--------+----------+-----------------+-------------+---------------+------------+---------+--------+----+--------+--------------------+-----------+-------+------------+-------------+----------------+------------+---------------+------------+--------------+--------------+----------------------+----------------------+----------------------+----------------------+----------------------+----------------------+----------------+----------------+---------------+---------------+---------------+----------------+---------------------+-----------------+---------------------+------------+-----------+--------------------+----------------------+-------------------------+---------------------+---------------------------+----------------------+-------------------+----------------+-----------+------------------+----------------+------------------------+-------------------+-----------------------------+--------------------------------+------------------------------+-------------------------------------------+--------------------------------------------+-------------------------------------------+-----------------+\n",
            "| id|         listing_url|     scrape_id|last_scraped|                name|             summary|               space|         description|experiences_offered|neighborhood_overview|               notes|             transit|              access|         interaction|         house_rules|thumbnail_url|medium_url|         picture_url|xl_picture_url|host_id|            host_url|host_name|host_since|       host_location|          host_about|host_response_time|host_response_rate|host_acceptance_rate|host_is_superhost|  host_thumbnail_url|    host_picture_url|host_neighbourhood|host_listings_count|host_total_listings_count|  host_verifications|host_has_profile_pic|host_identity_verified|              street|  neighbourhood|neighbourhood_cleansed|neighbourhood_group_cleansed|         city|state|zipcode|       market|   smart_location|country_code|      country|latitude| longitude|is_location_exact|property_type|      room_type|accommodates|bathrooms|bedrooms|beds|bed_type|           amenities|square_feet|  price|weekly_price|monthly_price|security_deposit|cleaning_fee|guests_included|extra_people|minimum_nights|maximum_nights|minimum_minimum_nights|maximum_minimum_nights|minimum_maximum_nights|maximum_maximum_nights|minimum_nights_avg_ntm|maximum_nights_avg_ntm|calendar_updated|has_availability|availability_30|availability_60|availability_90|availability_365|calendar_last_scraped|number_of_reviews|number_of_reviews_ltm|first_review|last_review|review_scores_rating|review_scores_accuracy|review_scores_cleanliness|review_scores_checkin|review_scores_communication|review_scores_location|review_scores_value|requires_license|    license|jurisdiction_names|instant_bookable|is_business_travel_ready|cancellation_policy|require_guest_profile_picture|require_guest_phone_verification|calculated_host_listings_count|calculated_host_listings_count_entire_homes|calculated_host_listings_count_private_rooms|calculated_host_listings_count_shared_rooms|reviews_per_month|\n",
            "+---+--------------------+--------------+------------+--------------------+--------------------+--------------------+--------------------+-------------------+---------------------+--------------------+--------------------+--------------------+--------------------+--------------------+-------------+----------+--------------------+--------------+-------+--------------------+---------+----------+--------------------+--------------------+------------------+------------------+--------------------+-----------------+--------------------+--------------------+------------------+-------------------+-------------------------+--------------------+--------------------+----------------------+--------------------+---------------+----------------------+----------------------------+-------------+-----+-------+-------------+-----------------+------------+-------------+--------+----------+-----------------+-------------+---------------+------------+---------+--------+----+--------+--------------------+-----------+-------+------------+-------------+----------------+------------+---------------+------------+--------------+--------------+----------------------+----------------------+----------------------+----------------------+----------------------+----------------------+----------------+----------------+---------------+---------------+---------------+----------------+---------------------+-----------------+---------------------+------------+-----------+--------------------+----------------------+-------------------------+---------------------+---------------------------+----------------------+-------------------+----------------+-----------+------------------+----------------+------------------------+-------------------+-----------------------------+--------------------------------+------------------------------+-------------------------------------------+--------------------------------------------+-------------------------------------------+-----------------+\n",
            "|958|https://www.airbn...|20190306152813|  2019-03-06|Bright, Modern Ga...|New update: the h...|Newly remodeled, ...|New update: the h...|               none| *Quiet cul de sac...|Due to the fact t...|*Public Transport...|*Full access to p...|A family of 4 liv...|* No Pets - even ...|         NULL|      NULL|https://a0.muscac...|          NULL|   1169|https://www.airbn...|    Holly|2008-07-31|San Francisco, Ca...|We are a family w...|    within an hour|              100%|                 N/A|                t|https://a0.muscac...|https://a0.muscac...|   Duboce Triangle|                  1|                        1|['email', 'phone'...|                   t|                     t|San Francisco, CA...|Duboce Triangle|      Western Addition|                        NULL|San Francisco|   CA|  94117|San Francisco|San Francisco, CA|          US|United States|37.76931|-122.43386|                t|    Apartment|Entire home/apt|           3|      1.0|       1|   2|Real Bed|{TV,\"Cable TV\",In...|       NULL|$170.00|   $1,120.00|    $4,200.00|         $100.00|     $100.00|              2|      $25.00|             1|            30|                     1|                     1|                    30|                    30|                   1.0|                  30.0|           today|               t|              1|              1|              2|              64|           2019-03-06|              180|                   52|  2009-07-23| 2019-02-17|                  97|                    10|                       10|                   10|                         10|                    10|                 10|               t|STR-0001256| {\"SAN FRANCISCO\"}|               t|                       f|           moderate|                            f|                               f|                             1|                                          1|                                           0|                                          0|             1.54|\n",
            "+---+--------------------+--------------+------------+--------------------+--------------------+--------------------+--------------------+-------------------+---------------------+--------------------+--------------------+--------------------+--------------------+--------------------+-------------+----------+--------------------+--------------+-------+--------------------+---------+----------+--------------------+--------------------+------------------+------------------+--------------------+-----------------+--------------------+--------------------+------------------+-------------------+-------------------------+--------------------+--------------------+----------------------+--------------------+---------------+----------------------+----------------------------+-------------+-----+-------+-------------+-----------------+------------+-------------+--------+----------+-----------------+-------------+---------------+------------+---------+--------+----+--------+--------------------+-----------+-------+------------+-------------+----------------+------------+---------------+------------+--------------+--------------+----------------------+----------------------+----------------------+----------------------+----------------------+----------------------+----------------+----------------+---------------+---------------+---------------+----------------+---------------------+-----------------+---------------------+------------+-----------+--------------------+----------------------+-------------------------+---------------------+---------------------------+----------------------+-------------------+----------------+-----------+------------------+----------------+------------------------+-------------------+-----------------------------+--------------------------------+------------------------------+-------------------------------------------+--------------------------------------------+-------------------------------------------+-----------------+\n",
            "only showing top 1 row\n",
            "\n"
          ]
        }
      ]
    },
    {
      "cell_type": "code",
      "source": [
        "len(rawDF.columns)"
      ],
      "metadata": {
        "colab": {
          "base_uri": "https://localhost:8080/"
        },
        "id": "v4berHHVkw9m",
        "outputId": "eaf47e0d-5c3f-4f09-c4e5-d30ee0e94bc3"
      },
      "execution_count": 9,
      "outputs": [
        {
          "output_type": "execute_result",
          "data": {
            "text/plain": [
              "106"
            ]
          },
          "metadata": {},
          "execution_count": 9
        }
      ]
    },
    {
      "cell_type": "markdown",
      "source": [
        "## 데이터 특정 열 선택"
      ],
      "metadata": {
        "id": "qnOdoPaBlF6T"
      }
    },
    {
      "cell_type": "code",
      "source": [
        "columnsToKeep = [\n",
        "  \"host_is_superhost\",\n",
        "  \"cancellation_policy\",\n",
        "  \"instant_bookable\",\n",
        "  \"host_total_listings_count\",\n",
        "  \"neighbourhood_cleansed\",\n",
        "  \"latitude\",\n",
        "  \"longitude\",\n",
        "  \"property_type\",\n",
        "  \"room_type\",\n",
        "  \"accommodates\",\n",
        "  \"bathrooms\",\n",
        "  \"bedrooms\",\n",
        "  \"beds\",\n",
        "  \"bed_type\",\n",
        "  \"minimum_nights\",\n",
        "  \"number_of_reviews\",\n",
        "  \"review_scores_rating\",\n",
        "  \"review_scores_accuracy\",\n",
        "  \"review_scores_cleanliness\",\n",
        "  \"review_scores_checkin\",\n",
        "  \"review_scores_communication\",\n",
        "  \"review_scores_location\",\n",
        "  \"review_scores_value\",\n",
        "  \"price\"]\n",
        "\n",
        "baseDF = rawDF.select(columnsToKeep)\n",
        "baseDF.cache().count()\n",
        "baseDF.show(1)"
      ],
      "metadata": {
        "colab": {
          "base_uri": "https://localhost:8080/"
        },
        "id": "gVir0SVwk9PW",
        "outputId": "199fa8a7-0e38-44d2-a25a-9fa0673a5aad"
      },
      "execution_count": 10,
      "outputs": [
        {
          "output_type": "stream",
          "name": "stdout",
          "text": [
            "+-----------------+-------------------+----------------+-------------------------+----------------------+--------+----------+-------------+---------------+------------+---------+--------+----+--------+--------------+-----------------+--------------------+----------------------+-------------------------+---------------------+---------------------------+----------------------+-------------------+-------+\n",
            "|host_is_superhost|cancellation_policy|instant_bookable|host_total_listings_count|neighbourhood_cleansed|latitude| longitude|property_type|      room_type|accommodates|bathrooms|bedrooms|beds|bed_type|minimum_nights|number_of_reviews|review_scores_rating|review_scores_accuracy|review_scores_cleanliness|review_scores_checkin|review_scores_communication|review_scores_location|review_scores_value|  price|\n",
            "+-----------------+-------------------+----------------+-------------------------+----------------------+--------+----------+-------------+---------------+------------+---------+--------+----+--------+--------------+-----------------+--------------------+----------------------+-------------------------+---------------------+---------------------------+----------------------+-------------------+-------+\n",
            "|                t|           moderate|               t|                        1|      Western Addition|37.76931|-122.43386|    Apartment|Entire home/apt|           3|      1.0|       1|   2|Real Bed|             1|              180|                  97|                    10|                       10|                   10|                         10|                    10|                 10|$170.00|\n",
            "+-----------------+-------------------+----------------+-------------------------+----------------------+--------+----------+-------------+---------------+------------+---------+--------+----+--------+--------------+-----------------+--------------------+----------------------+-------------------------+---------------------+---------------------------+----------------------+-------------------+-------+\n",
            "only showing top 1 row\n",
            "\n"
          ]
        }
      ]
    },
    {
      "cell_type": "markdown",
      "source": [
        "- 데이터타입 수정"
      ],
      "metadata": {
        "id": "OtxBY2LPlKYH"
      }
    },
    {
      "cell_type": "code",
      "source": [
        "from pyspark.sql.functions import col, translate\n",
        "fixedPriceDF = baseDF.withColumn(\"price\", translate(col(\"price\"), \"$,\", \"\").cast(\"double\"))\n",
        "fixedPriceDF.show(1)"
      ],
      "metadata": {
        "colab": {
          "base_uri": "https://localhost:8080/"
        },
        "id": "_0Z3SzBflE53",
        "outputId": "94a272f4-e19a-400c-9ca4-cac9f0d58f30"
      },
      "execution_count": 11,
      "outputs": [
        {
          "output_type": "stream",
          "name": "stdout",
          "text": [
            "+-----------------+-------------------+----------------+-------------------------+----------------------+--------+----------+-------------+---------------+------------+---------+--------+----+--------+--------------+-----------------+--------------------+----------------------+-------------------------+---------------------+---------------------------+----------------------+-------------------+-----+\n",
            "|host_is_superhost|cancellation_policy|instant_bookable|host_total_listings_count|neighbourhood_cleansed|latitude| longitude|property_type|      room_type|accommodates|bathrooms|bedrooms|beds|bed_type|minimum_nights|number_of_reviews|review_scores_rating|review_scores_accuracy|review_scores_cleanliness|review_scores_checkin|review_scores_communication|review_scores_location|review_scores_value|price|\n",
            "+-----------------+-------------------+----------------+-------------------------+----------------------+--------+----------+-------------+---------------+------------+---------+--------+----+--------+--------------+-----------------+--------------------+----------------------+-------------------------+---------------------+---------------------------+----------------------+-------------------+-----+\n",
            "|                t|           moderate|               t|                        1|      Western Addition|37.76931|-122.43386|    Apartment|Entire home/apt|           3|      1.0|       1|   2|Real Bed|             1|              180|                  97|                    10|                       10|                   10|                         10|                    10|                 10|170.0|\n",
            "+-----------------+-------------------+----------------+-------------------------+----------------------+--------+----------+-------------+---------------+------------+---------+--------+----+--------+--------------+-----------------+--------------------+----------------------+-------------------------+---------------------+---------------------------+----------------------+-------------------+-----+\n",
            "only showing top 1 row\n",
            "\n"
          ]
        }
      ]
    },
    {
      "cell_type": "code",
      "source": [
        "fixedPriceDF.describe().show()"
      ],
      "metadata": {
        "colab": {
          "base_uri": "https://localhost:8080/"
        },
        "id": "iRgkTolUlZXi",
        "outputId": "a194de3f-10b3-400d-b550-f35eb4e4ce50"
      },
      "execution_count": 12,
      "outputs": [
        {
          "output_type": "stream",
          "name": "stdout",
          "text": [
            "+-------+-----------------+-------------------+----------------+-------------------------+----------------------+--------------------+--------------------+-------------+---------------+------------------+------------------+------------------+------------------+--------+------------------+-----------------+--------------------+----------------------+-------------------------+---------------------+---------------------------+----------------------+-------------------+------------------+\n",
            "|summary|host_is_superhost|cancellation_policy|instant_bookable|host_total_listings_count|neighbourhood_cleansed|            latitude|           longitude|property_type|      room_type|      accommodates|         bathrooms|          bedrooms|              beds|bed_type|    minimum_nights|number_of_reviews|review_scores_rating|review_scores_accuracy|review_scores_cleanliness|review_scores_checkin|review_scores_communication|review_scores_location|review_scores_value|             price|\n",
            "+-------+-----------------+-------------------+----------------+-------------------------+----------------------+--------------------+--------------------+-------------+---------------+------------------+------------------+------------------+------------------+--------+------------------+-----------------+--------------------+----------------------+-------------------------+---------------------+---------------------------+----------------------+-------------------+------------------+\n",
            "|  count|             7151|               7151|            7151|                     7151|                  7151|                7151|                7151|         7151|           7151|              7151|              7130|              7149|              7144|    7151|              7151|             7151|                5730|                  5726|                     5727|                 5724|                       5728|                  5724|               5723|              7151|\n",
            "|   mean|             NULL|               NULL|            NULL|        52.56957068941407|                  NULL|   37.76580945042649| -122.43052552230478|         NULL|           NULL|3.2009509159558105| 1.328962131837307|1.3425653937613653|1.7648376259798433|    NULL|14000.302335337716|43.52915676129213|   95.54694589877836|     9.775585050646175|        9.624934520691461|    9.870020964360586|          9.841305865921788|      9.64937106918239|   9.40573125982876| 213.6540344007831|\n",
            "| stddev|             NULL|               NULL|            NULL|       177.37165167124357|                  NULL|0.022527191846014046|0.026791775802673057|         NULL|           NULL|1.9146923115947185|0.7945555125892707|0.9326852094201303| 1.176852628831775|    NULL|1182541.9078980184|72.51922886627213|    6.93515172677721|    0.6651167005432524|       0.7683441047916056|   0.4979945098078443|         0.5794253386655072|    0.7198160859533849| 0.7969151479310892|313.28222046853125|\n",
            "|    min|                f|           flexible|               f|                        0|               Bayview|            37.70743|          -122.51306|   Aparthotel|Entire home/apt|                 1|               0.0|                 0|                 0|  Airbed|                 1|                0|                  20|                     2|                        2|                    2|                          2|                     2|                  2|               0.0|\n",
            "|    max|                t|    super_strict_60|               t|                     1199|      Western Addition|            37.81031|          -122.36979|        Villa|    Shared room|                16|              14.0|                14|                14|Real Bed|         100000000|              677|                 100|                    10|                       10|                   10|                         10|                    10|                 10|           10000.0|\n",
            "+-------+-----------------+-------------------+----------------+-------------------------+----------------------+--------------------+--------------------+-------------+---------------+------------------+------------------+------------------+------------------+--------+------------------+-----------------+--------------------+----------------------+-------------------------+---------------------+---------------------------+----------------------+-------------------+------------------+\n",
            "\n"
          ]
        }
      ]
    },
    {
      "cell_type": "markdown",
      "source": [
        "- 데이터 요약"
      ],
      "metadata": {
        "id": "ovE4TXwvlikL"
      }
    },
    {
      "cell_type": "code",
      "source": [
        "fixedPriceDF.summary().show()"
      ],
      "metadata": {
        "colab": {
          "base_uri": "https://localhost:8080/"
        },
        "id": "hGVsppsKljqs",
        "outputId": "0ca2c910-e2ec-414b-d66c-6fbb3a682297"
      },
      "execution_count": 13,
      "outputs": [
        {
          "output_type": "stream",
          "name": "stdout",
          "text": [
            "+-------+-----------------+-------------------+----------------+-------------------------+----------------------+--------------------+--------------------+-------------+---------------+------------------+------------------+------------------+------------------+--------+------------------+-----------------+--------------------+----------------------+-------------------------+---------------------+---------------------------+----------------------+-------------------+------------------+\n",
            "|summary|host_is_superhost|cancellation_policy|instant_bookable|host_total_listings_count|neighbourhood_cleansed|            latitude|           longitude|property_type|      room_type|      accommodates|         bathrooms|          bedrooms|              beds|bed_type|    minimum_nights|number_of_reviews|review_scores_rating|review_scores_accuracy|review_scores_cleanliness|review_scores_checkin|review_scores_communication|review_scores_location|review_scores_value|             price|\n",
            "+-------+-----------------+-------------------+----------------+-------------------------+----------------------+--------------------+--------------------+-------------+---------------+------------------+------------------+------------------+------------------+--------+------------------+-----------------+--------------------+----------------------+-------------------------+---------------------+---------------------------+----------------------+-------------------+------------------+\n",
            "|  count|             7151|               7151|            7151|                     7151|                  7151|                7151|                7151|         7151|           7151|              7151|              7130|              7149|              7144|    7151|              7151|             7151|                5730|                  5726|                     5727|                 5724|                       5728|                  5724|               5723|              7151|\n",
            "|   mean|             NULL|               NULL|            NULL|        52.56957068941407|                  NULL|   37.76580945042649| -122.43052552230478|         NULL|           NULL|3.2009509159558105| 1.328962131837307|1.3425653937613653|1.7648376259798433|    NULL|14000.302335337716|43.52915676129213|   95.54694589877836|     9.775585050646175|        9.624934520691461|    9.870020964360586|          9.841305865921788|      9.64937106918239|   9.40573125982876| 213.6540344007831|\n",
            "| stddev|             NULL|               NULL|            NULL|       177.37165167124357|                  NULL|0.022527191846014046|0.026791775802673057|         NULL|           NULL|1.9146923115947185|0.7945555125892707|0.9326852094201303| 1.176852628831775|    NULL|1182541.9078980184|72.51922886627213|    6.93515172677721|    0.6651167005432524|       0.7683441047916056|   0.4979945098078443|         0.5794253386655072|    0.7198160859533849| 0.7969151479310892|313.28222046853125|\n",
            "|    min|                f|           flexible|               f|                        0|               Bayview|            37.70743|          -122.51306|   Aparthotel|Entire home/apt|                 1|               0.0|                 0|                 0|  Airbed|                 1|                0|                  20|                     2|                        2|                    2|                          2|                     2|                  2|               0.0|\n",
            "|    25%|             NULL|               NULL|            NULL|                        1|                  NULL|            37.75111|          -122.44298|         NULL|           NULL|                 2|               1.0|                 1|                 1|    NULL|                 2|                1|                  94|                    10|                        9|                   10|                         10|                     9|                  9|             100.0|\n",
            "|    50%|             NULL|               NULL|            NULL|                        2|                  NULL|            37.76748|          -122.42548|         NULL|           NULL|                 2|               1.0|                 1|                 1|    NULL|                 4|               11|                  98|                    10|                       10|                   10|                         10|                    10|                 10|             150.0|\n",
            "|    75%|             NULL|               NULL|            NULL|                        8|                  NULL|            37.78461|          -122.41107|         NULL|           NULL|                 4|               1.5|                 2|                 2|    NULL|                30|               54|                 100|                    10|                       10|                   10|                         10|                    10|                 10|             235.0|\n",
            "|    max|                t|    super_strict_60|               t|                     1199|      Western Addition|            37.81031|          -122.36979|        Villa|    Shared room|                16|              14.0|                14|                14|Real Bed|         100000000|              677|                 100|                    10|                       10|                   10|                         10|                    10|                 10|           10000.0|\n",
            "+-------+-----------------+-------------------+----------------+-------------------------+----------------------+--------------------+--------------------+-------------+---------------+------------------+------------------+------------------+------------------+--------+------------------+-----------------+--------------------+----------------------+-------------------------+---------------------+---------------------------+----------------------+-------------------+------------------+\n",
            "\n"
          ]
        }
      ]
    },
    {
      "cell_type": "markdown",
      "source": [
        "- 일부 결측치 데이터 삭제"
      ],
      "metadata": {
        "id": "w8i7NFwwlpDL"
      }
    },
    {
      "cell_type": "code",
      "source": [
        "noNullsDF = fixedPriceDF.na.drop(subset=[\"host_is_superhost\"])\n",
        "noNullsDF.show(1)"
      ],
      "metadata": {
        "colab": {
          "base_uri": "https://localhost:8080/"
        },
        "id": "KIIhwrUclsRN",
        "outputId": "ce4dda6f-f3be-496f-8ca4-53ee799e0aac"
      },
      "execution_count": 14,
      "outputs": [
        {
          "output_type": "stream",
          "name": "stdout",
          "text": [
            "+-----------------+-------------------+----------------+-------------------------+----------------------+--------+----------+-------------+---------------+------------+---------+--------+----+--------+--------------+-----------------+--------------------+----------------------+-------------------------+---------------------+---------------------------+----------------------+-------------------+-----+\n",
            "|host_is_superhost|cancellation_policy|instant_bookable|host_total_listings_count|neighbourhood_cleansed|latitude| longitude|property_type|      room_type|accommodates|bathrooms|bedrooms|beds|bed_type|minimum_nights|number_of_reviews|review_scores_rating|review_scores_accuracy|review_scores_cleanliness|review_scores_checkin|review_scores_communication|review_scores_location|review_scores_value|price|\n",
            "+-----------------+-------------------+----------------+-------------------------+----------------------+--------+----------+-------------+---------------+------------+---------+--------+----+--------+--------------+-----------------+--------------------+----------------------+-------------------------+---------------------+---------------------------+----------------------+-------------------+-----+\n",
            "|                t|           moderate|               t|                        1|      Western Addition|37.76931|-122.43386|    Apartment|Entire home/apt|           3|      1.0|       1|   2|Real Bed|             1|              180|                  97|                    10|                       10|                   10|                         10|                    10|                 10|170.0|\n",
            "+-----------------+-------------------+----------------+-------------------------+----------------------+--------+----------+-------------+---------------+------------+---------+--------+----+--------+--------------+-----------------+--------------------+----------------------+-------------------------+---------------------+---------------------------+----------------------+-------------------+-----+\n",
            "only showing top 1 row\n",
            "\n"
          ]
        }
      ]
    },
    {
      "cell_type": "markdown",
      "source": [
        "- 데이터 타입 변형"
      ],
      "metadata": {
        "id": "kiaxHCDsl5sR"
      }
    },
    {
      "cell_type": "code",
      "source": [
        "from pyspark.sql.functions import col\n",
        "from pyspark.sql.types import IntegerType\n",
        "\n",
        "integerColumns = [x.name for x in baseDF.schema.fields if x.dataType == IntegerType()]\n",
        "doublesDF = noNullsDF\n",
        "\n",
        "for c in integerColumns:\n",
        "  doublesDF = doublesDF.withColumn(c, col(c).cast(\"double\"))\n",
        "\n",
        "columns = \"\\n - \".join(integerColumns)\n",
        "print(f\"Columns converted from Integer to Double:\\n - {columns}\")"
      ],
      "metadata": {
        "colab": {
          "base_uri": "https://localhost:8080/"
        },
        "id": "dJdlwk5pl7Y4",
        "outputId": "ae7a0a44-3e6e-4f7d-db5a-618e42fa916e"
      },
      "execution_count": 15,
      "outputs": [
        {
          "output_type": "stream",
          "name": "stdout",
          "text": [
            "Columns converted from Integer to Double:\n",
            " - host_total_listings_count\n",
            " - accommodates\n",
            " - bedrooms\n",
            " - beds\n",
            " - minimum_nights\n",
            " - number_of_reviews\n",
            " - review_scores_rating\n",
            " - review_scores_accuracy\n",
            " - review_scores_cleanliness\n",
            " - review_scores_checkin\n",
            " - review_scores_communication\n",
            " - review_scores_location\n",
            " - review_scores_value\n"
          ]
        }
      ]
    },
    {
      "cell_type": "markdown",
      "source": [
        "- 일부 컬럼 숫자 채우기"
      ],
      "metadata": {
        "id": "L_qs9vDWmJbD"
      }
    },
    {
      "cell_type": "code",
      "source": [
        "from pyspark.sql.functions import when\n",
        "\n",
        "imputeCols = [\n",
        "  \"bedrooms\",\n",
        "  \"bathrooms\",\n",
        "  \"beds\",\n",
        "  \"review_scores_rating\",\n",
        "  \"review_scores_accuracy\",\n",
        "  \"review_scores_cleanliness\",\n",
        "  \"review_scores_checkin\",\n",
        "  \"review_scores_communication\",\n",
        "  \"review_scores_location\",\n",
        "  \"review_scores_value\"\n",
        "]\n",
        "\n",
        "for c in imputeCols:\n",
        "  doublesDF = doublesDF.withColumn(c + \"_na\", when(col(c).isNull(), 1.0).otherwise(0.0))\n",
        "\n",
        "doublesDF.describe().show()"
      ],
      "metadata": {
        "colab": {
          "base_uri": "https://localhost:8080/"
        },
        "id": "iGwTOMuUmLFM",
        "outputId": "6054ec6a-3c75-421c-a2c1-4a8708e90c33"
      },
      "execution_count": 16,
      "outputs": [
        {
          "output_type": "stream",
          "name": "stdout",
          "text": [
            "+-------+-----------------+-------------------+----------------+-------------------------+----------------------+--------------------+--------------------+-------------+---------------+------------------+------------------+------------------+------------------+--------+------------------+-----------------+--------------------+----------------------+-------------------------+---------------------+---------------------------+----------------------+-------------------+------------------+--------------------+--------------------+--------------------+-----------------------+-------------------------+----------------------------+------------------------+------------------------------+-------------------------+----------------------+\n",
            "|summary|host_is_superhost|cancellation_policy|instant_bookable|host_total_listings_count|neighbourhood_cleansed|            latitude|           longitude|property_type|      room_type|      accommodates|         bathrooms|          bedrooms|              beds|bed_type|    minimum_nights|number_of_reviews|review_scores_rating|review_scores_accuracy|review_scores_cleanliness|review_scores_checkin|review_scores_communication|review_scores_location|review_scores_value|             price|         bedrooms_na|        bathrooms_na|             beds_na|review_scores_rating_na|review_scores_accuracy_na|review_scores_cleanliness_na|review_scores_checkin_na|review_scores_communication_na|review_scores_location_na|review_scores_value_na|\n",
            "+-------+-----------------+-------------------+----------------+-------------------------+----------------------+--------------------+--------------------+-------------+---------------+------------------+------------------+------------------+------------------+--------+------------------+-----------------+--------------------+----------------------+-------------------------+---------------------+---------------------------+----------------------+-------------------+------------------+--------------------+--------------------+--------------------+-----------------------+-------------------------+----------------------------+------------------------+------------------------------+-------------------------+----------------------+\n",
            "|  count|             7151|               7151|            7151|                     7151|                  7151|                7151|                7151|         7151|           7151|              7151|              7130|              7149|              7144|    7151|              7151|             7151|                5730|                  5726|                     5727|                 5724|                       5728|                  5724|               5723|              7151|                7151|                7151|                7151|                   7151|                     7151|                        7151|                    7151|                          7151|                     7151|                  7151|\n",
            "|   mean|             NULL|               NULL|            NULL|        52.56957068941407|                  NULL|   37.76580945042649| -122.43052552230478|         NULL|           NULL|3.2009509159558105| 1.328962131837307|1.3425653937613653|1.7648376259798433|    NULL|14000.302335337716|43.52915676129213|   95.54694589877836|     9.775585050646175|        9.624934520691461|    9.870020964360586|          9.841305865921788|      9.64937106918239|   9.40573125982876| 213.6540344007831|2.796811634736400...|0.002936652216473...|9.788840721577402E-4|    0.19871346664802125|      0.19927282897496854|          0.1991329883932317|     0.19955251013844216|            0.1989931478114949|      0.19955251013844216|     0.199692350720179|\n",
            "| stddev|             NULL|               NULL|            NULL|       177.37165167124357|                  NULL|0.022527191846014046|0.026791775802673057|         NULL|           NULL|1.9146923115947185|0.7945555125892707|0.9326852094201303| 1.176852628831775|    NULL|1182541.9078980184|72.51922886627213|    6.93515172677721|    0.6651167005432524|       0.7683441047916056|   0.4979945098078443|         0.5794253386655072|    0.7198160859533849| 0.7969151479310892|313.28222046853125| 0.01672250122520554|0.054115042314303766| 0.03127399288511635|    0.39905976275589555|      0.39948152039156903|           0.399376196195814|     0.39969193872113984|            0.3992707952318437|      0.39969193872113984|   0.39979703297604047|\n",
            "|    min|                f|           flexible|               f|                      0.0|               Bayview|            37.70743|          -122.51306|   Aparthotel|Entire home/apt|               1.0|               0.0|               0.0|               0.0|  Airbed|               1.0|              0.0|                20.0|                   2.0|                      2.0|                  2.0|                        2.0|                   2.0|                2.0|               0.0|                 0.0|                 0.0|                 0.0|                    0.0|                      0.0|                         0.0|                     0.0|                           0.0|                      0.0|                   0.0|\n",
            "|    max|                t|    super_strict_60|               t|                   1199.0|      Western Addition|            37.81031|          -122.36979|        Villa|    Shared room|              16.0|              14.0|              14.0|              14.0|Real Bed|             1.0E8|            677.0|               100.0|                  10.0|                     10.0|                 10.0|                       10.0|                  10.0|               10.0|           10000.0|                 1.0|                 1.0|                 1.0|                    1.0|                      1.0|                         1.0|                     1.0|                           1.0|                      1.0|                   1.0|\n",
            "+-------+-----------------+-------------------+----------------+-------------------------+----------------------+--------------------+--------------------+-------------+---------------+------------------+------------------+------------------+------------------+--------+------------------+-----------------+--------------------+----------------------+-------------------------+---------------------+---------------------------+----------------------+-------------------+------------------+--------------------+--------------------+--------------------+-----------------------+-------------------------+----------------------------+------------------------+------------------------------+-------------------------+----------------------+\n",
            "\n"
          ]
        }
      ]
    },
    {
      "cell_type": "markdown",
      "source": [
        "- 일부 결측치가 있는 데이터는 중간값으로 채우기"
      ],
      "metadata": {
        "id": "qsYT-zldme6n"
      }
    },
    {
      "cell_type": "code",
      "source": [
        "from pyspark.ml.feature import Imputer\n",
        "\n",
        "imputer = Imputer(strategy=\"median\", inputCols=imputeCols, outputCols=imputeCols)\n",
        "imputedDF = imputer.fit(doublesDF).transform(doublesDF)\n",
        "\n",
        "imputedDF.select(\"price\").describe().show()"
      ],
      "metadata": {
        "colab": {
          "base_uri": "https://localhost:8080/"
        },
        "id": "0gb4nmwCmcS8",
        "outputId": "4ee59bc0-da12-418d-cd31-fc65109cb212"
      },
      "execution_count": 17,
      "outputs": [
        {
          "output_type": "stream",
          "name": "stdout",
          "text": [
            "+-------+------------------+\n",
            "|summary|             price|\n",
            "+-------+------------------+\n",
            "|  count|              7151|\n",
            "|   mean| 213.6540344007831|\n",
            "| stddev|313.28222046853125|\n",
            "|    min|               0.0|\n",
            "|    max|           10000.0|\n",
            "+-------+------------------+\n",
            "\n"
          ]
        }
      ]
    },
    {
      "cell_type": "code",
      "source": [
        "imputedDF.filter(col(\"price\") == 0).count()\n",
        "posPricesDF = imputedDF.filter(col(\"price\") > 0)\n",
        "posPricesDF.select(\"minimum_nights\").describe().show()\n",
        "\n",
        "posPricesDF\\\n",
        "  .groupBy(\"minimum_nights\")\\\n",
        "  .count()\\\n",
        "  .orderBy(col(\"count\")\\\n",
        "           .desc(), col(\"minimum_nights\")).show()"
      ],
      "metadata": {
        "colab": {
          "base_uri": "https://localhost:8080/"
        },
        "id": "59QyHigDlWa2",
        "outputId": "d58f8fbf-f20a-4699-d94a-07dba912552f"
      },
      "execution_count": 18,
      "outputs": [
        {
          "output_type": "stream",
          "name": "stdout",
          "text": [
            "+-------+------------------+\n",
            "|summary|    minimum_nights|\n",
            "+-------+------------------+\n",
            "|  count|              7150|\n",
            "|   mean| 14002.25986013986|\n",
            "| stddev|1182624.6002248244|\n",
            "|    min|               1.0|\n",
            "|    max|             1.0E8|\n",
            "+-------+------------------+\n",
            "\n",
            "+--------------+-----+\n",
            "|minimum_nights|count|\n",
            "+--------------+-----+\n",
            "|          30.0| 2757|\n",
            "|           2.0| 1455|\n",
            "|           1.0| 1251|\n",
            "|           3.0|  822|\n",
            "|           4.0|  270|\n",
            "|           5.0|  176|\n",
            "|          31.0|  133|\n",
            "|           7.0|   72|\n",
            "|          60.0|   32|\n",
            "|           6.0|   31|\n",
            "|          32.0|   31|\n",
            "|          90.0|   28|\n",
            "|         180.0|   28|\n",
            "|          45.0|    7|\n",
            "|         365.0|    7|\n",
            "|         120.0|    6|\n",
            "|          14.0|    4|\n",
            "|          10.0|    3|\n",
            "|          40.0|    3|\n",
            "|          28.0|    2|\n",
            "+--------------+-----+\n",
            "only showing top 20 rows\n",
            "\n"
          ]
        }
      ]
    },
    {
      "cell_type": "code",
      "source": [
        "cleanDF = posPricesDF.filter(col(\"minimum_nights\") <= 365)\n",
        "cleanDF.show()"
      ],
      "metadata": {
        "colab": {
          "base_uri": "https://localhost:8080/"
        },
        "id": "V7DL3wnUm-ye",
        "outputId": "0fe7c37d-d309-490f-d37f-abd53ce770f5"
      },
      "execution_count": 19,
      "outputs": [
        {
          "output_type": "stream",
          "name": "stdout",
          "text": [
            "+-----------------+--------------------+----------------+-------------------------+----------------------+--------+----------+-------------+---------------+------------+---------+--------+----+--------+--------------+-----------------+--------------------+----------------------+-------------------------+---------------------+---------------------------+----------------------+-------------------+-----+-----------+------------+-------+-----------------------+-------------------------+----------------------------+------------------------+------------------------------+-------------------------+----------------------+\n",
            "|host_is_superhost| cancellation_policy|instant_bookable|host_total_listings_count|neighbourhood_cleansed|latitude| longitude|property_type|      room_type|accommodates|bathrooms|bedrooms|beds|bed_type|minimum_nights|number_of_reviews|review_scores_rating|review_scores_accuracy|review_scores_cleanliness|review_scores_checkin|review_scores_communication|review_scores_location|review_scores_value|price|bedrooms_na|bathrooms_na|beds_na|review_scores_rating_na|review_scores_accuracy_na|review_scores_cleanliness_na|review_scores_checkin_na|review_scores_communication_na|review_scores_location_na|review_scores_value_na|\n",
            "+-----------------+--------------------+----------------+-------------------------+----------------------+--------+----------+-------------+---------------+------------+---------+--------+----+--------+--------------+-----------------+--------------------+----------------------+-------------------------+---------------------+---------------------------+----------------------+-------------------+-----+-----------+------------+-------+-----------------------+-------------------------+----------------------------+------------------------+------------------------------+-------------------------+----------------------+\n",
            "|                t|            moderate|               t|                      1.0|      Western Addition|37.76931|-122.43386|    Apartment|Entire home/apt|         3.0|      1.0|     1.0| 2.0|Real Bed|           1.0|            180.0|                97.0|                  10.0|                     10.0|                 10.0|                       10.0|                  10.0|               10.0|170.0|        0.0|         0.0|    0.0|                    0.0|                      0.0|                         0.0|                     0.0|                           0.0|                      0.0|                   0.0|\n",
            "|                f|strict_14_with_gr...|               f|                      2.0|        Bernal Heights|37.74511|-122.42102|    Apartment|Entire home/apt|         5.0|      1.0|     2.0| 3.0|Real Bed|          30.0|            111.0|                98.0|                  10.0|                     10.0|                 10.0|                       10.0|                  10.0|                9.0|235.0|        0.0|         0.0|    0.0|                    0.0|                      0.0|                         0.0|                     0.0|                           0.0|                      0.0|                   0.0|\n",
            "|                f|strict_14_with_gr...|               f|                     10.0|        Haight Ashbury|37.76669| -122.4525|    Apartment|   Private room|         2.0|      4.0|     1.0| 1.0|Real Bed|          32.0|             17.0|                85.0|                   8.0|                      8.0|                  9.0|                        9.0|                   9.0|                8.0| 65.0|        0.0|         0.0|    0.0|                    0.0|                      0.0|                         0.0|                     0.0|                           0.0|                      0.0|                   0.0|\n",
            "|                f|strict_14_with_gr...|               f|                     10.0|        Haight Ashbury|37.76487|-122.45183|    Apartment|   Private room|         2.0|      4.0|     1.0| 1.0|Real Bed|          32.0|              8.0|                93.0|                   9.0|                      9.0|                 10.0|                       10.0|                   9.0|                9.0| 65.0|        0.0|         0.0|    0.0|                    0.0|                      0.0|                         0.0|                     0.0|                           0.0|                      0.0|                   0.0|\n",
            "|                f|strict_14_with_gr...|               f|                      2.0|      Western Addition|37.77525|-122.43637|        House|Entire home/apt|         5.0|      1.5|     2.0| 2.0|Real Bed|           7.0|             27.0|                97.0|                  10.0|                     10.0|                 10.0|                       10.0|                  10.0|                9.0|785.0|        0.0|         0.0|    0.0|                    0.0|                      0.0|                         0.0|                     0.0|                           0.0|                      0.0|                   0.0|\n",
            "|                f|            moderate|               f|                      1.0|      Western Addition|37.78471|-122.44555|    Apartment|Entire home/apt|         6.0|      1.0|     2.0| 3.0|Real Bed|           2.0|             31.0|                90.0|                   9.0|                      8.0|                 10.0|                       10.0|                   9.0|                9.0|255.0|        0.0|         0.0|    0.0|                    0.0|                      0.0|                         0.0|                     0.0|                           0.0|                      0.0|                   0.0|\n",
            "|                t|strict_14_with_gr...|               t|                      2.0|               Mission|37.75919|-122.42237|  Condominium|   Private room|         3.0|      1.0|     1.0| 2.0|Real Bed|           1.0|            647.0|                98.0|                  10.0|                     10.0|                 10.0|                       10.0|                  10.0|               10.0|139.0|        0.0|         0.0|    0.0|                    0.0|                      0.0|                         0.0|                     0.0|                           0.0|                      0.0|                   0.0|\n",
            "|                f|strict_14_with_gr...|               f|                      1.0|          Potrero Hill|37.76259|-122.40543|        House|   Private room|         2.0|      1.0|     1.0| 1.0|Real Bed|           1.0|            453.0|                94.0|                  10.0|                     10.0|                 10.0|                       10.0|                  10.0|               10.0|135.0|        0.0|         0.0|    0.0|                    0.0|                      0.0|                         0.0|                     0.0|                           0.0|                      0.0|                   0.0|\n",
            "|                t|            moderate|               f|                      1.0|               Mission|37.75874|-122.41327|    Apartment|Entire home/apt|         6.0|      1.0|     2.0| 3.0|Real Bed|           3.0|            320.0|                96.0|                  10.0|                     10.0|                 10.0|                       10.0|                  10.0|                9.0|265.0|        0.0|         0.0|    0.0|                    0.0|                      0.0|                         0.0|                     0.0|                           0.0|                      0.0|                   0.0|\n",
            "|                f|strict_14_with_gr...|               f|                     44.0|        Haight Ashbury|37.77187|-122.43859|    Apartment|Entire home/apt|         3.0|      1.0|     3.0| 3.0|Real Bed|          30.0|             37.0|                89.0|                   9.0|                      9.0|                 10.0|                        9.0|                   9.0|                9.0|177.0|        0.0|         0.0|    0.0|                    0.0|                      0.0|                         0.0|                     0.0|                           0.0|                      0.0|                   0.0|\n",
            "|                f|strict_14_with_gr...|               f|                     44.0|      Western Addition|37.77355|-122.42436|    Apartment|Entire home/apt|         5.0|      2.0|     3.0| 3.0|Real Bed|          30.0|             14.0|                91.0|                  10.0|                     10.0|                 10.0|                        9.0|                  10.0|                9.0|194.0|        0.0|         0.0|    0.0|                    0.0|                      0.0|                         0.0|                     0.0|                           0.0|                      0.0|                   0.0|\n",
            "|                f|strict_14_with_gr...|               f|                     44.0|  Downtown/Civic Ce...|37.78574|-122.40798|    Apartment|Entire home/apt|         2.0|      1.5|     1.0| 1.0|Real Bed|          30.0|             19.0|                92.0|                  10.0|                      9.0|                 10.0|                       10.0|                  10.0|                9.0|139.0|        0.0|         0.0|    0.0|                    0.0|                      0.0|                         0.0|                     0.0|                           0.0|                      0.0|                   0.0|\n",
            "|                f|strict_14_with_gr...|               f|                     10.0|        Haight Ashbury|37.77019|-122.44594|    Apartment|   Private room|         2.0|      4.0|     1.0| 2.0|Real Bed|          32.0|              6.0|                80.0|                   9.0|                      8.0|                  9.0|                       10.0|                   9.0|                7.0| 85.0|        0.0|         0.0|    0.0|                    0.0|                      0.0|                         0.0|                     0.0|                           0.0|                      0.0|                   0.0|\n",
            "|                f|strict_14_with_gr...|               f|                     10.0|        Haight Ashbury|37.76894|-122.44778|    Apartment|   Private room|         2.0|      3.0|     1.0| 2.0|Real Bed|          32.0|              5.0|                64.0|                   6.0|                      6.0|                 10.0|                        9.0|                   9.0|                8.0| 85.0|        0.0|         0.0|    0.0|                    0.0|                      0.0|                         0.0|                     0.0|                           0.0|                      0.0|                   0.0|\n",
            "|                t|strict_14_with_gr...|               t|                      1.0|   Castro/Upper Market|37.76075|-122.43032|    Apartment|   Private room|         1.0|      1.0|     1.0| 1.0|Real Bed|           3.0|            390.0|                98.0|                  10.0|                     10.0|                 10.0|                       10.0|                  10.0|               10.0| 79.0|        0.0|         0.0|    0.0|                    0.0|                      0.0|                         0.0|                     0.0|                           0.0|                      0.0|                   0.0|\n",
            "|                t|strict_14_with_gr...|               f|                      2.0|          Inner Sunset|37.76203|-122.45455|    Townhouse|Entire home/apt|         3.0|      1.0|     2.0| 3.0|Real Bed|          30.0|             16.0|                95.0|                   9.0|                      9.0|                  9.0|                        9.0|                   9.0|                9.0|136.0|        0.0|         0.0|    0.0|                    0.0|                      0.0|                         0.0|                     0.0|                           0.0|                      0.0|                   0.0|\n",
            "|                f|            moderate|               f|                      1.0|               Mission|37.75491|-122.42246|    Apartment|Entire home/apt|         3.0|      1.0|     1.0| 2.0|Real Bed|           3.0|            103.0|                97.0|                  10.0|                      9.0|                 10.0|                       10.0|                  10.0|               10.0|215.0|        0.0|         0.0|    0.0|                    0.0|                      0.0|                         0.0|                     0.0|                           0.0|                      0.0|                   0.0|\n",
            "|                f|strict_14_with_gr...|               f|                      3.0|       South of Market|37.78647|-122.39072|  Condominium|Entire home/apt|         4.0|      2.0|     2.0| 2.0|Real Bed|          90.0|             14.0|                96.0|                  10.0|                     10.0|                 10.0|                       10.0|                  10.0|                9.0|450.0|        0.0|         0.0|    0.0|                    0.0|                      0.0|                         0.0|                     0.0|                           0.0|                      0.0|                   0.0|\n",
            "|                t|strict_14_with_gr...|               f|                      1.0|            Noe Valley|37.74888|-122.42982|    Apartment|Entire home/apt|         3.0|      1.0|     0.0| 1.0|Real Bed|          30.0|             61.0|                96.0|                  10.0|                     10.0|                 10.0|                       10.0|                  10.0|               10.0|107.0|        0.0|         0.0|    0.0|                    0.0|                      0.0|                         0.0|                     0.0|                           0.0|                      0.0|                   0.0|\n",
            "|                t|strict_14_with_gr...|               f|                      3.0|      Western Addition|37.77252|-122.43216|    Townhouse|   Private room|         2.0|      1.0|     1.0| 1.0|Real Bed|           2.0|            363.0|                97.0|                  10.0|                     10.0|                 10.0|                       10.0|                  10.0|               10.0|110.0|        0.0|         0.0|    0.0|                    0.0|                      0.0|                         0.0|                     0.0|                           0.0|                      0.0|                   0.0|\n",
            "+-----------------+--------------------+----------------+-------------------------+----------------------+--------+----------+-------------+---------------+------------+---------+--------+----+--------+--------------+-----------------+--------------------+----------------------+-------------------------+---------------------+---------------------------+----------------------+-------------------+-----+-----------+------------+-------+-----------------------+-------------------------+----------------------------+------------------------+------------------------------+-------------------------+----------------------+\n",
            "only showing top 20 rows\n",
            "\n"
          ]
        }
      ]
    },
    {
      "cell_type": "markdown",
      "source": [
        "## 데이터 내보내기"
      ],
      "metadata": {
        "id": "-JwCx8atnEEj"
      }
    },
    {
      "cell_type": "code",
      "source": [
        "outputPath = \"sf-airbnb-clean.parquet\"\n",
        "cleanDF.write.mode(\"overwrite\").parquet(outputPath)"
      ],
      "metadata": {
        "id": "gVEpwy0Lmzhm"
      },
      "execution_count": 20,
      "outputs": []
    },
    {
      "cell_type": "markdown",
      "source": [
        "# Linear Regression"
      ],
      "metadata": {
        "id": "GnDduIxfnYUg"
      }
    },
    {
      "cell_type": "markdown",
      "source": [
        "## parquet 데이터 가져오기"
      ],
      "metadata": {
        "id": "_4HoTfWlnwLd"
      }
    },
    {
      "cell_type": "code",
      "source": [
        "filePath = \"sf-airbnb-clean.parquet\"\n",
        "airbnbDF = spark.read.parquet(filePath)\n",
        "airbnbDF.show(1)"
      ],
      "metadata": {
        "colab": {
          "base_uri": "https://localhost:8080/"
        },
        "id": "AsDCXFZJnvfy",
        "outputId": "3b44c242-9eca-44ec-8947-db029b6d1f18"
      },
      "execution_count": 21,
      "outputs": [
        {
          "output_type": "stream",
          "name": "stdout",
          "text": [
            "+-----------------+-------------------+----------------+-------------------------+----------------------+--------+----------+-------------+---------------+------------+---------+--------+----+--------+--------------+-----------------+--------------------+----------------------+-------------------------+---------------------+---------------------------+----------------------+-------------------+-----+-----------+------------+-------+-----------------------+-------------------------+----------------------------+------------------------+------------------------------+-------------------------+----------------------+\n",
            "|host_is_superhost|cancellation_policy|instant_bookable|host_total_listings_count|neighbourhood_cleansed|latitude| longitude|property_type|      room_type|accommodates|bathrooms|bedrooms|beds|bed_type|minimum_nights|number_of_reviews|review_scores_rating|review_scores_accuracy|review_scores_cleanliness|review_scores_checkin|review_scores_communication|review_scores_location|review_scores_value|price|bedrooms_na|bathrooms_na|beds_na|review_scores_rating_na|review_scores_accuracy_na|review_scores_cleanliness_na|review_scores_checkin_na|review_scores_communication_na|review_scores_location_na|review_scores_value_na|\n",
            "+-----------------+-------------------+----------------+-------------------------+----------------------+--------+----------+-------------+---------------+------------+---------+--------+----+--------+--------------+-----------------+--------------------+----------------------+-------------------------+---------------------+---------------------------+----------------------+-------------------+-----+-----------+------------+-------+-----------------------+-------------------------+----------------------------+------------------------+------------------------------+-------------------------+----------------------+\n",
            "|                t|           moderate|               t|                      1.0|      Western Addition|37.76931|-122.43386|    Apartment|Entire home/apt|         3.0|      1.0|     1.0| 2.0|Real Bed|           1.0|            180.0|                97.0|                  10.0|                     10.0|                 10.0|                       10.0|                  10.0|               10.0|170.0|        0.0|         0.0|    0.0|                    0.0|                      0.0|                         0.0|                     0.0|                           0.0|                      0.0|                   0.0|\n",
            "+-----------------+-------------------+----------------+-------------------------+----------------------+--------+----------+-------------+---------------+------------+---------+--------+----+--------+--------------+-----------------+--------------------+----------------------+-------------------------+---------------------+---------------------------+----------------------+-------------------+-----+-----------+------------+-------+-----------------------+-------------------------+----------------------------+------------------------+------------------------------+-------------------------+----------------------+\n",
            "only showing top 1 row\n",
            "\n"
          ]
        }
      ]
    },
    {
      "cell_type": "markdown",
      "source": [
        "## 데이터셋 분리"
      ],
      "metadata": {
        "id": "jWtkIl3bn3I1"
      }
    },
    {
      "cell_type": "code",
      "source": [
        "trainDF, testDF = airbnbDF.randomSplit([.8, .2], seed=42)\n",
        "print(f\"There are {trainDF.cache().count()} rows in the training set, and {testDF.cache().count()} in the test set\")\n",
        "\n",
        "(trainRepartitionDF, testRepartitionDF) = (airbnbDF\n",
        "                                           .repartition(24)\n",
        "                                           .randomSplit([.8, .2], seed=42))\n",
        "\n",
        "print(trainRepartitionDF.count())"
      ],
      "metadata": {
        "colab": {
          "base_uri": "https://localhost:8080/"
        },
        "id": "J-H1vPiSn-Uj",
        "outputId": "6f523142-b8ab-43fc-b9c0-94036c1cac18"
      },
      "execution_count": 22,
      "outputs": [
        {
          "output_type": "stream",
          "name": "stdout",
          "text": [
            "There are 5780 rows in the training set, and 1366 in the test set\n",
            "5738\n"
          ]
        }
      ]
    },
    {
      "cell_type": "markdown",
      "source": [
        "- 가격 예측전 데이터 확인"
      ],
      "metadata": {
        "id": "QR7sYZADoMrY"
      }
    },
    {
      "cell_type": "code",
      "source": [
        "# 일부 이상치 확인\n",
        "trainDF.select(\"price\", \"bedrooms\").summary().show()"
      ],
      "metadata": {
        "colab": {
          "base_uri": "https://localhost:8080/"
        },
        "id": "-40o9nTWoQmH",
        "outputId": "8d142474-0efc-406f-9163-ccbd2273839f"
      },
      "execution_count": 23,
      "outputs": [
        {
          "output_type": "stream",
          "name": "stdout",
          "text": [
            "+-------+------------------+------------------+\n",
            "|summary|             price|          bedrooms|\n",
            "+-------+------------------+------------------+\n",
            "|  count|              5780|              5780|\n",
            "|   mean|214.47249134948098|              1.35|\n",
            "| stddev| 325.8499109968376|0.9396893597086263|\n",
            "|    min|              10.0|               0.0|\n",
            "|    25%|             100.0|               1.0|\n",
            "|    50%|             150.0|               1.0|\n",
            "|    75%|             240.0|               2.0|\n",
            "|    max|           10000.0|              14.0|\n",
            "+-------+------------------+------------------+\n",
            "\n"
          ]
        }
      ]
    },
    {
      "cell_type": "code",
      "source": [
        "trainDF.select(\"price\", \"bedrooms\").summary().show()"
      ],
      "metadata": {
        "colab": {
          "base_uri": "https://localhost:8080/"
        },
        "id": "_4e90-B2nfx8",
        "outputId": "f167e186-de7d-4ca8-832c-a3b35ef4c3b9"
      },
      "execution_count": 24,
      "outputs": [
        {
          "output_type": "stream",
          "name": "stdout",
          "text": [
            "+-------+------------------+------------------+\n",
            "|summary|             price|          bedrooms|\n",
            "+-------+------------------+------------------+\n",
            "|  count|              5780|              5780|\n",
            "|   mean|214.47249134948098|              1.35|\n",
            "| stddev| 325.8499109968376|0.9396893597086263|\n",
            "|    min|              10.0|               0.0|\n",
            "|    25%|             100.0|               1.0|\n",
            "|    50%|             150.0|               1.0|\n",
            "|    75%|             240.0|               2.0|\n",
            "|    max|           10000.0|              14.0|\n",
            "+-------+------------------+------------------+\n",
            "\n"
          ]
        }
      ]
    },
    {
      "cell_type": "markdown",
      "source": [
        "## 모형 학습"
      ],
      "metadata": {
        "id": "2yF2I0mHovIW"
      }
    },
    {
      "cell_type": "code",
      "source": [
        "from pyspark.ml.feature import VectorAssembler\n",
        "from pyspark.ml.regression import LinearRegression\n",
        "\n",
        "vecAssembler = VectorAssembler(inputCols=[\"bedrooms\"], outputCol=\"features\")\n",
        "vecTrainDF = vecAssembler.transform(trainDF)\n",
        "vecTrainDF.select(\"bedrooms\", \"features\", \"price\").show(10)\n",
        "\n",
        "lr = LinearRegression(featuresCol=\"features\", labelCol=\"price\")\n",
        "lrModel = lr.fit(vecTrainDF)\n",
        "\n",
        "m = round(lrModel.coefficients[0], 2)\n",
        "b = round(lrModel.intercept, 2)\n",
        "\n",
        "print(f\"The formula for the linear regression line is price = {m}*bedrooms + {b}\")"
      ],
      "metadata": {
        "colab": {
          "base_uri": "https://localhost:8080/"
        },
        "id": "r9W9Rr4GolFH",
        "outputId": "92ffcd8b-2660-468d-cfe8-57261fdc282d"
      },
      "execution_count": 25,
      "outputs": [
        {
          "output_type": "stream",
          "name": "stdout",
          "text": [
            "+--------+--------+-----+\n",
            "|bedrooms|features|price|\n",
            "+--------+--------+-----+\n",
            "|     1.0|   [1.0]|200.0|\n",
            "|     1.0|   [1.0]|130.0|\n",
            "|     1.0|   [1.0]| 95.0|\n",
            "|     1.0|   [1.0]|250.0|\n",
            "|     3.0|   [3.0]|250.0|\n",
            "|     1.0|   [1.0]|115.0|\n",
            "|     1.0|   [1.0]|105.0|\n",
            "|     1.0|   [1.0]| 86.0|\n",
            "|     1.0|   [1.0]|100.0|\n",
            "|     2.0|   [2.0]|220.0|\n",
            "+--------+--------+-----+\n",
            "only showing top 10 rows\n",
            "\n",
            "The formula for the linear regression line is price = 123.68*bedrooms + 47.51\n"
          ]
        }
      ]
    },
    {
      "cell_type": "markdown",
      "source": [
        "## 모형 테스트"
      ],
      "metadata": {
        "id": "w9KpRYCno0wt"
      }
    },
    {
      "cell_type": "code",
      "source": [
        "from pyspark.ml import Pipeline\n",
        "\n",
        "pipeline = Pipeline(stages=[vecAssembler, lr])\n",
        "pipelineModel = pipeline.fit(trainDF)\n",
        "predDF = pipelineModel.transform(testDF)\n",
        "predDF.select(\"bedrooms\", \"features\", \"price\", \"prediction\").show(10)"
      ],
      "metadata": {
        "colab": {
          "base_uri": "https://localhost:8080/"
        },
        "id": "wQlP4x_4ouD2",
        "outputId": "20b32bce-3b5b-4ca9-a7e3-73f185ea831e"
      },
      "execution_count": 26,
      "outputs": [
        {
          "output_type": "stream",
          "name": "stdout",
          "text": [
            "+--------+--------+------+------------------+\n",
            "|bedrooms|features| price|        prediction|\n",
            "+--------+--------+------+------------------+\n",
            "|     1.0|   [1.0]|  85.0|171.18598011578285|\n",
            "|     1.0|   [1.0]|  45.0|171.18598011578285|\n",
            "|     1.0|   [1.0]|  70.0|171.18598011578285|\n",
            "|     1.0|   [1.0]| 128.0|171.18598011578285|\n",
            "|     1.0|   [1.0]| 159.0|171.18598011578285|\n",
            "|     2.0|   [2.0]| 250.0|294.86172649777757|\n",
            "|     1.0|   [1.0]|  99.0|171.18598011578285|\n",
            "|     1.0|   [1.0]|  95.0|171.18598011578285|\n",
            "|     1.0|   [1.0]| 100.0|171.18598011578285|\n",
            "|     1.0|   [1.0]|2010.0|171.18598011578285|\n",
            "+--------+--------+------+------------------+\n",
            "only showing top 10 rows\n",
            "\n"
          ]
        }
      ]
    },
    {
      "cell_type": "markdown",
      "source": [
        "# Baseline 모델"
      ],
      "metadata": {
        "id": "s7HBXJaZpBr4"
      }
    },
    {
      "cell_type": "code",
      "source": [
        "from pyspark.sql.functions import avg, lit\n",
        "from pyspark.ml.evaluation import RegressionEvaluator\n",
        "\n",
        "filePath = \"sf-airbnb-clean.parquet\"\n",
        "airbnbDF = spark.read.parquet(filePath)\n",
        "trainDF, testDF = airbnbDF.randomSplit([.8, .2], seed=42)\n",
        "avgPrice = float(trainDF.select(avg(\"price\")).first()[0])\n",
        "predDF = testDF.withColumn(\"avgPrediction\", lit(avgPrice))\n",
        "\n",
        "regressionMeanEvaluator = RegressionEvaluator(predictionCol=\"avgPrediction\", labelCol=\"price\", metricName=\"rmse\")\n",
        "print(f\"The RMSE for predicting the average price is: {regressionMeanEvaluator.evaluate(predDF):.2f}\")"
      ],
      "metadata": {
        "colab": {
          "base_uri": "https://localhost:8080/"
        },
        "id": "ZFdLbW5LpDXt",
        "outputId": "a29595f4-823e-4177-f1cb-fb621cdb1c57"
      },
      "execution_count": 27,
      "outputs": [
        {
          "output_type": "stream",
          "name": "stdout",
          "text": [
            "The RMSE for predicting the average price is: 240.71\n"
          ]
        }
      ]
    },
    {
      "cell_type": "markdown",
      "source": [
        "## Feature Engineering"
      ],
      "metadata": {
        "id": "SmhtstptpZA5"
      }
    },
    {
      "cell_type": "markdown",
      "source": [
        "### Option 1"
      ],
      "metadata": {
        "id": "7A7VW5BEpySm"
      }
    },
    {
      "cell_type": "code",
      "source": [
        "from pyspark.ml.feature import OneHotEncoder, StringIndexer\n",
        "from pyspark.ml.feature import VectorAssembler\n",
        "\n",
        "filePath = \"sf-airbnb-clean.parquet\"\n",
        "airbnbDF = spark.read.parquet(filePath)\n",
        "trainDF, testDF = airbnbDF.randomSplit([.8, .2], seed=42)\n",
        "\n",
        "categoricalCols = [field for (field, dataType) in trainDF.dtypes\n",
        "                   if dataType == \"string\"]\n",
        "indexOutputCols = [x + \"Index\" for x in categoricalCols]\n",
        "oheOutputCols = [x + \"OHE\" for x in categoricalCols]\n",
        "\n",
        "stringIndexer = StringIndexer(inputCols=categoricalCols,\n",
        "                              outputCols=indexOutputCols,\n",
        "                              handleInvalid=\"skip\")\n",
        "oheEncoder = OneHotEncoder(inputCols=indexOutputCols,\n",
        "                           outputCols=oheOutputCols)\n",
        "\n",
        "numericCols = [field for (field, dataType) in trainDF.dtypes\n",
        "               if ((dataType == \"double\") & (field != \"price\"))]\n",
        "assemblerInputs = oheOutputCols + numericCols\n",
        "vecAssembler = VectorAssembler(inputCols=assemblerInputs,\n",
        "                               outputCol=\"features\")"
      ],
      "metadata": {
        "id": "xv4Puflkpzn2"
      },
      "execution_count": 28,
      "outputs": []
    },
    {
      "cell_type": "code",
      "source": [
        "from pyspark.ml.regression import LinearRegression\n",
        "from pyspark.ml import Pipeline\n",
        "\n",
        "lr = LinearRegression(labelCol=\"price\", featuresCol=\"features\")\n",
        "stages = [stringIndexer, oheEncoder, vecAssembler, lr]\n",
        "pipeline = Pipeline(stages=stages)\n",
        "\n",
        "pipelineModel = pipeline.fit(trainDF)\n",
        "predDF = pipelineModel.transform(testDF)\n",
        "predDF.select(\"features\", \"price\", \"prediction\").show(5)"
      ],
      "metadata": {
        "colab": {
          "base_uri": "https://localhost:8080/"
        },
        "id": "yku-ILphp_mS",
        "outputId": "f7de7e53-5e0d-4458-ab84-22e4aec0e092"
      },
      "execution_count": 29,
      "outputs": [
        {
          "output_type": "stream",
          "name": "stdout",
          "text": [
            "+--------------------+-----+------------------+\n",
            "|            features|price|        prediction|\n",
            "+--------------------+-----+------------------+\n",
            "|(98,[0,3,6,22,43,...| 85.0| 55.86406437022288|\n",
            "|(98,[0,3,6,22,43,...| 45.0| 22.87558895398388|\n",
            "|(98,[0,3,6,22,43,...| 70.0|27.382602888721067|\n",
            "|(98,[0,3,6,12,42,...|128.0|-91.50712171182795|\n",
            "|(98,[0,3,6,12,43,...|159.0| 94.66621817641771|\n",
            "+--------------------+-----+------------------+\n",
            "only showing top 5 rows\n",
            "\n"
          ]
        }
      ]
    },
    {
      "cell_type": "markdown",
      "source": [
        "### Option 2"
      ],
      "metadata": {
        "id": "upY0S8vcp03F"
      }
    },
    {
      "cell_type": "code",
      "source": [
        "from pyspark.ml.feature import RFormula\n",
        "rFormula = RFormula(formula=\"price ~ .\", featuresCol=\"features\", labelCol=\"price\", handleInvalid=\"skip\")"
      ],
      "metadata": {
        "id": "iCFiGeLgp2AM"
      },
      "execution_count": 30,
      "outputs": []
    },
    {
      "cell_type": "code",
      "source": [
        "from pyspark.ml.regression import LinearRegression\n",
        "from pyspark.ml import Pipeline\n",
        "\n",
        "lr = LinearRegression(labelCol=\"price\", featuresCol=\"features\")\n",
        "pipeline = Pipeline(stages = [rFormula, lr])\n",
        "\n",
        "pipelineModel = pipeline.fit(trainDF)\n",
        "predDF = pipelineModel.transform(testDF)\n",
        "predDF.select(\"features\", \"price\", \"prediction\").show(5)\n",
        "\n"
      ],
      "metadata": {
        "colab": {
          "base_uri": "https://localhost:8080/"
        },
        "id": "oHCD-uOFpIGE",
        "outputId": "5d5c6dbd-c235-414e-f1d5-e13e424522df"
      },
      "execution_count": 31,
      "outputs": [
        {
          "output_type": "stream",
          "name": "stdout",
          "text": [
            "+--------------------+-----+------------------+\n",
            "|            features|price|        prediction|\n",
            "+--------------------+-----+------------------+\n",
            "|(98,[0,3,6,7,23,4...| 85.0| 55.40518338251741|\n",
            "|(98,[0,3,6,7,23,4...| 45.0|22.558643930734434|\n",
            "|(98,[0,3,6,7,23,4...| 70.0|27.035891181432817|\n",
            "|(98,[0,3,6,7,13,4...|128.0|-91.29310091873367|\n",
            "|(98,[0,3,6,7,13,4...|159.0| 94.66473870534765|\n",
            "+--------------------+-----+------------------+\n",
            "only showing top 5 rows\n",
            "\n"
          ]
        }
      ]
    },
    {
      "cell_type": "markdown",
      "source": [
        "### 모형 평가"
      ],
      "metadata": {
        "id": "Cc0nQnf1qQ5z"
      }
    },
    {
      "cell_type": "code",
      "source": [
        "from pyspark.ml.evaluation import RegressionEvaluator\n",
        "regressionEvaluator = RegressionEvaluator(predictionCol=\"prediction\", labelCol=\"price\", metricName=\"rmse\")\n",
        "\n",
        "rmse = round(regressionEvaluator.evaluate(predDF), 2)\n",
        "print(f\"RMSE is {rmse}\")\n",
        "\n",
        "r2 = round(regressionEvaluator.setMetricName(\"r2\").evaluate(predDF), 2)\n",
        "print(f\"R2 is {r2}\")"
      ],
      "metadata": {
        "colab": {
          "base_uri": "https://localhost:8080/"
        },
        "id": "ZHz0XRTzqQZN",
        "outputId": "a6b69399-ec46-4049-8915-966e75e5012c"
      },
      "execution_count": 32,
      "outputs": [
        {
          "output_type": "stream",
          "name": "stdout",
          "text": [
            "RMSE is 220.69\n",
            "R2 is 0.16\n"
          ]
        }
      ]
    },
    {
      "cell_type": "markdown",
      "source": [
        "### 모형 저장"
      ],
      "metadata": {
        "id": "vNny1BIWqg5e"
      }
    },
    {
      "cell_type": "code",
      "source": [
        "from pyspark.ml import PipelineModel\n",
        "\n",
        "pipelinePath = \"lr-pipeline-model\"\n",
        "pipelineModel.write().overwrite().save(pipelinePath)\n",
        "savedPipelineModel = PipelineModel.load(pipelinePath)"
      ],
      "metadata": {
        "id": "Dl9t5BulqiWG"
      },
      "execution_count": 33,
      "outputs": []
    },
    {
      "cell_type": "markdown",
      "source": [
        "# Log Scale"
      ],
      "metadata": {
        "id": "0SV7N3h2qqL9"
      }
    },
    {
      "cell_type": "code",
      "source": [
        "from pyspark.sql.functions import col, log\n",
        "from pyspark.ml import Pipeline\n",
        "from pyspark.ml.feature import RFormula\n",
        "from pyspark.ml.regression import LinearRegression\n",
        "from pyspark.ml.evaluation import RegressionEvaluator\n",
        "from pyspark.sql.functions import col, exp\n",
        "\n",
        "filePath = \"sf-airbnb-clean.parquet\"\n",
        "airbnbDF = spark.read.parquet(filePath)\n",
        "(trainDF, testDF) = airbnbDF.randomSplit([.8, .2], seed=42)\n",
        "\n",
        "# Log 적용\n",
        "logTrainDF = trainDF.withColumn(\"log_price\", log(col(\"price\")))\n",
        "logTestDF = testDF.withColumn(\"log_price\", log(col(\"price\")))\n",
        "\n",
        "rFormula = RFormula(formula=\"log_price ~ . - price\", featuresCol=\"features\", labelCol=\"log_price\", handleInvalid=\"skip\")\n",
        "\n",
        "lr = LinearRegression(labelCol=\"log_price\", predictionCol=\"log_pred\")\n",
        "pipeline = Pipeline(stages = [rFormula, lr])\n",
        "pipelineModel = pipeline.fit(logTrainDF)\n",
        "predDF = pipelineModel.transform(logTestDF)\n",
        "\n",
        "expDF = predDF.withColumn(\"prediction\", exp(col(\"log_pred\")))\n",
        "\n",
        "regressionEvaluator = RegressionEvaluator(labelCol=\"price\", predictionCol=\"prediction\")\n",
        "rmse = regressionEvaluator.setMetricName(\"rmse\").evaluate(expDF)\n",
        "r2 = regressionEvaluator.setMetricName(\"r2\").evaluate(expDF)\n",
        "print(f\"RMSE is {rmse}\")\n",
        "print(f\"R2 is {r2}\")"
      ],
      "metadata": {
        "colab": {
          "base_uri": "https://localhost:8080/"
        },
        "id": "1lnCboRoqgpH",
        "outputId": "c366632b-c23b-4691-f1c4-5b483ff39923"
      },
      "execution_count": 34,
      "outputs": [
        {
          "output_type": "stream",
          "name": "stdout",
          "text": [
            "RMSE is 208.41093081345025\n",
            "R2 is 0.25039912467770375\n"
          ]
        }
      ]
    },
    {
      "cell_type": "markdown",
      "source": [
        "# Decision Tree"
      ],
      "metadata": {
        "id": "W7wa4YRlrEXw"
      }
    },
    {
      "cell_type": "code",
      "source": [
        "from pyspark.ml.feature import StringIndexer\n",
        "from pyspark.ml.feature import VectorAssembler\n",
        "from pyspark.ml.regression import DecisionTreeRegressor\n",
        "from pyspark.ml import Pipeline\n",
        "\n",
        "filePath = \"sf-airbnb-clean.parquet\"\n",
        "airbnbDF = spark.read.parquet(filePath)\n",
        "trainDF, testDF = airbnbDF.randomSplit([.8, .2], seed=42)\n",
        "\n",
        "categoricalCols = [field for (field, dataType) in trainDF.dtypes if dataType == \"string\"]\n",
        "indexOutputCols = [x + \"Index\" for x in categoricalCols]\n",
        "stringIndexer = StringIndexer(inputCols=categoricalCols, outputCols=indexOutputCols, handleInvalid=\"skip\")\n",
        "\n",
        "numericCols = [field for (field, dataType) in trainDF.dtypes\n",
        "               if ((dataType == \"double\") & (field != \"price\"))]\n",
        "\n",
        "assemblerInputs = indexOutputCols + numericCols\n",
        "vecAssembler = VectorAssembler(inputCols=assemblerInputs, outputCol=\"features\")\n",
        "\n",
        "dt = DecisionTreeRegressor(labelCol=\"price\")\n",
        "\n",
        "stages = [stringIndexer, vecAssembler, dt]\n",
        "pipeline = Pipeline(stages=stages)\n",
        "# pipelineModel = pipeline.fit(trainDF)\n",
        "dt.setMaxBins(40)\n",
        "\n",
        "pipelineModel = pipeline.fit(trainDF)\n",
        "dtModel = pipelineModel.stages[-1]\n",
        "print(dtModel.toDebugString)"
      ],
      "metadata": {
        "colab": {
          "base_uri": "https://localhost:8080/"
        },
        "id": "VimlxDbZrKjV",
        "outputId": "21a8f25a-ddff-485e-c64e-2971443095d4"
      },
      "execution_count": 35,
      "outputs": [
        {
          "output_type": "stream",
          "name": "stdout",
          "text": [
            "DecisionTreeRegressionModel: uid=DecisionTreeRegressor_6af86ba3d76d, depth=5, numNodes=47, numFeatures=33\n",
            "  If (feature 12 <= 2.5)\n",
            "   If (feature 12 <= 1.5)\n",
            "    If (feature 5 in {1.0,2.0})\n",
            "     If (feature 4 in {0.0,1.0,3.0,5.0,9.0,10.0,11.0,13.0,14.0,16.0,18.0,24.0})\n",
            "      If (feature 3 in {0.0,1.0,2.0,3.0,4.0,5.0,6.0,7.0,8.0,9.0,10.0,11.0,12.0,13.0,14.0,15.0,16.0,17.0,18.0,19.0,20.0,21.0,23.0,24.0,25.0,26.0,27.0,28.0,29.0,30.0,31.0,32.0,33.0,34.0})\n",
            "       Predict: 104.23992784125075\n",
            "      Else (feature 3 not in {0.0,1.0,2.0,3.0,4.0,5.0,6.0,7.0,8.0,9.0,10.0,11.0,12.0,13.0,14.0,15.0,16.0,17.0,18.0,19.0,20.0,21.0,23.0,24.0,25.0,26.0,27.0,28.0,29.0,30.0,31.0,32.0,33.0,34.0})\n",
            "       Predict: 250.7111111111111\n",
            "     Else (feature 4 not in {0.0,1.0,3.0,5.0,9.0,10.0,11.0,13.0,14.0,16.0,18.0,24.0})\n",
            "      If (feature 3 in {0.0,2.0,3.0,4.0,5.0,6.0,7.0,8.0,9.0,10.0,11.0,12.0,13.0,14.0,15.0,16.0,17.0,18.0,19.0,20.0,21.0,22.0,23.0,27.0,33.0,35.0})\n",
            "       Predict: 151.94179894179894\n",
            "      Else (feature 3 not in {0.0,2.0,3.0,4.0,5.0,6.0,7.0,8.0,9.0,10.0,11.0,12.0,13.0,14.0,15.0,16.0,17.0,18.0,19.0,20.0,21.0,22.0,23.0,27.0,33.0,35.0})\n",
            "       Predict: 245.8507462686567\n",
            "    Else (feature 5 not in {1.0,2.0})\n",
            "     If (feature 3 in {1.0,5.0,6.0,7.0,8.0,9.0,11.0,13.0,15.0,16.0,17.0,19.0,22.0,23.0,24.0,25.0,26.0,28.0,29.0,30.0,33.0})\n",
            "      If (feature 3 in {5.0,8.0,13.0,15.0,16.0,19.0,22.0,23.0,24.0,25.0,28.0,30.0,33.0})\n",
            "       Predict: 131.96658097686375\n",
            "      Else (feature 3 not in {5.0,8.0,13.0,15.0,16.0,19.0,22.0,23.0,24.0,25.0,28.0,30.0,33.0})\n",
            "       Predict: 164.19959266802445\n",
            "     Else (feature 3 not in {1.0,5.0,6.0,7.0,8.0,9.0,11.0,13.0,15.0,16.0,17.0,19.0,22.0,23.0,24.0,25.0,26.0,28.0,29.0,30.0,33.0})\n",
            "      If (feature 10 <= 6.5)\n",
            "       Predict: 205.5814889336016\n",
            "      Else (feature 10 > 6.5)\n",
            "       Predict: 841.6666666666666\n",
            "   Else (feature 12 > 1.5)\n",
            "    If (feature 13 <= 4.5)\n",
            "     If (feature 3 in {0.0,1.0,2.0,3.0,4.0,5.0,6.0,7.0,8.0,9.0,10.0,11.0,12.0,13.0,15.0,16.0,17.0,18.0,19.0,22.0,23.0,24.0,25.0,26.0,27.0,28.0,29.0,30.0,31.0,33.0,34.0})\n",
            "      If (feature 14 <= 26.5)\n",
            "       Predict: 290.8357933579336\n",
            "      Else (feature 14 > 26.5)\n",
            "       Predict: 214.04819277108433\n",
            "     Else (feature 3 not in {0.0,1.0,2.0,3.0,4.0,5.0,6.0,7.0,8.0,9.0,10.0,11.0,12.0,13.0,15.0,16.0,17.0,18.0,19.0,22.0,23.0,24.0,25.0,26.0,27.0,28.0,29.0,30.0,31.0,33.0,34.0})\n",
            "      If (feature 14 <= 3.5)\n",
            "       Predict: 741.64\n",
            "      Else (feature 14 > 3.5)\n",
            "       Predict: 309.03921568627453\n",
            "    Else (feature 13 > 4.5)\n",
            "     If (feature 15 <= 0.5)\n",
            "      If (feature 2 in {1.0})\n",
            "       Predict: 300.0\n",
            "      Else (feature 2 not in {1.0})\n",
            "       Predict: 10000.0\n",
            "     Else (feature 15 > 0.5)\n",
            "      If (feature 3 in {1.0,4.0,5.0,7.0,8.0,19.0})\n",
            "       Predict: 222.91666666666666\n",
            "      Else (feature 3 not in {1.0,4.0,5.0,7.0,8.0,19.0})\n",
            "       Predict: 398.0\n",
            "  Else (feature 12 > 2.5)\n",
            "   If (feature 1 in {0.0,1.0,2.0,3.0,4.0})\n",
            "    If (feature 12 <= 5.5)\n",
            "     If (feature 3 in {0.0,1.0,2.0,3.0,4.0,5.0,6.0,7.0,8.0,10.0,11.0,13.0,14.0,15.0,16.0,17.0,18.0,19.0,21.0,22.0,23.0,24.0,25.0,26.0,28.0,29.0,30.0,33.0})\n",
            "      If (feature 14 <= 7.5)\n",
            "       Predict: 493.3795620437956\n",
            "      Else (feature 14 > 7.5)\n",
            "       Predict: 296.76666666666665\n",
            "     Else (feature 3 not in {0.0,1.0,2.0,3.0,4.0,5.0,6.0,7.0,8.0,10.0,11.0,13.0,14.0,15.0,16.0,17.0,18.0,19.0,21.0,22.0,23.0,24.0,25.0,26.0,28.0,29.0,30.0,33.0})\n",
            "      If (feature 9 <= -122.411075)\n",
            "       Predict: 722.96875\n",
            "      Else (feature 9 > -122.411075)\n",
            "       Predict: 2399.4\n",
            "    Else (feature 12 > 5.5)\n",
            "     If (feature 4 in {0.0,1.0,5.0,7.0})\n",
            "      If (feature 3 in {0.0,3.0,6.0,25.0})\n",
            "       Predict: 609.5\n",
            "      Else (feature 3 not in {0.0,3.0,6.0,25.0})\n",
            "       Predict: 1715.0\n",
            "     Else (feature 4 not in {0.0,1.0,5.0,7.0})\n",
            "      Predict: 8000.0\n",
            "   Else (feature 1 not in {0.0,1.0,2.0,3.0,4.0})\n",
            "    Predict: 8000.0\n",
            "\n"
          ]
        }
      ]
    },
    {
      "cell_type": "code",
      "source": [
        "dtModel = pipelineModel.stages[-1]\n",
        "dtModel.featureImportances"
      ],
      "metadata": {
        "colab": {
          "base_uri": "https://localhost:8080/"
        },
        "id": "fdDeY5DssBKP",
        "outputId": "7d93148c-301a-484b-8031-7eb73ff46e97"
      },
      "execution_count": 36,
      "outputs": [
        {
          "output_type": "execute_result",
          "data": {
            "text/plain": [
              "SparseVector(33, {1: 0.1679, 2: 0.1401, 3: 0.0562, 4: 0.1282, 5: 0.0109, 9: 0.0388, 10: 0.0036, 12: 0.2834, 13: 0.0152, 14: 0.0295, 15: 0.1262})"
            ]
          },
          "metadata": {},
          "execution_count": 36
        }
      ]
    },
    {
      "cell_type": "code",
      "source": [
        "import pandas as pd\n",
        "dtModel = pipelineModel.stages[-1]\n",
        "featureImp = pd.DataFrame(\n",
        "  list(zip(vecAssembler.getInputCols(), dtModel.featureImportances)),\n",
        "  columns=[\"feature\", \"importance\"])\n",
        "featureImp.sort_values(by=\"importance\", ascending=False)"
      ],
      "metadata": {
        "colab": {
          "base_uri": "https://localhost:8080/",
          "height": 1000
        },
        "id": "KjRrmCw8rplc",
        "outputId": "9391bc67-2ebb-4768-a05b-5af9150bf6ef"
      },
      "execution_count": 37,
      "outputs": [
        {
          "output_type": "execute_result",
          "data": {
            "text/plain": [
              "                           feature  importance\n",
              "12                        bedrooms    0.283406\n",
              "1         cancellation_policyIndex    0.167893\n",
              "2            instant_bookableIndex    0.140081\n",
              "4               property_typeIndex    0.128179\n",
              "15               number_of_reviews    0.126233\n",
              "3      neighbourhood_cleansedIndex    0.056200\n",
              "9                        longitude    0.038810\n",
              "14                  minimum_nights    0.029473\n",
              "13                            beds    0.015218\n",
              "5                   room_typeIndex    0.010905\n",
              "10                    accommodates    0.003603\n",
              "0           host_is_superhostIndex    0.000000\n",
              "24                    bathrooms_na    0.000000\n",
              "25                         beds_na    0.000000\n",
              "26         review_scores_rating_na    0.000000\n",
              "27       review_scores_accuracy_na    0.000000\n",
              "28    review_scores_cleanliness_na    0.000000\n",
              "22             review_scores_value    0.000000\n",
              "29        review_scores_checkin_na    0.000000\n",
              "30  review_scores_communication_na    0.000000\n",
              "31       review_scores_location_na    0.000000\n",
              "23                     bedrooms_na    0.000000\n",
              "16            review_scores_rating    0.000000\n",
              "21          review_scores_location    0.000000\n",
              "20     review_scores_communication    0.000000\n",
              "19           review_scores_checkin    0.000000\n",
              "18       review_scores_cleanliness    0.000000\n",
              "17          review_scores_accuracy    0.000000\n",
              "11                       bathrooms    0.000000\n",
              "8                         latitude    0.000000\n",
              "7        host_total_listings_count    0.000000\n",
              "6                    bed_typeIndex    0.000000\n",
              "32          review_scores_value_na    0.000000"
            ],
            "text/html": [
              "\n",
              "  <div id=\"df-52fee643-fc67-496d-94c5-e1deee7185ed\" class=\"colab-df-container\">\n",
              "    <div>\n",
              "<style scoped>\n",
              "    .dataframe tbody tr th:only-of-type {\n",
              "        vertical-align: middle;\n",
              "    }\n",
              "\n",
              "    .dataframe tbody tr th {\n",
              "        vertical-align: top;\n",
              "    }\n",
              "\n",
              "    .dataframe thead th {\n",
              "        text-align: right;\n",
              "    }\n",
              "</style>\n",
              "<table border=\"1\" class=\"dataframe\">\n",
              "  <thead>\n",
              "    <tr style=\"text-align: right;\">\n",
              "      <th></th>\n",
              "      <th>feature</th>\n",
              "      <th>importance</th>\n",
              "    </tr>\n",
              "  </thead>\n",
              "  <tbody>\n",
              "    <tr>\n",
              "      <th>12</th>\n",
              "      <td>bedrooms</td>\n",
              "      <td>0.283406</td>\n",
              "    </tr>\n",
              "    <tr>\n",
              "      <th>1</th>\n",
              "      <td>cancellation_policyIndex</td>\n",
              "      <td>0.167893</td>\n",
              "    </tr>\n",
              "    <tr>\n",
              "      <th>2</th>\n",
              "      <td>instant_bookableIndex</td>\n",
              "      <td>0.140081</td>\n",
              "    </tr>\n",
              "    <tr>\n",
              "      <th>4</th>\n",
              "      <td>property_typeIndex</td>\n",
              "      <td>0.128179</td>\n",
              "    </tr>\n",
              "    <tr>\n",
              "      <th>15</th>\n",
              "      <td>number_of_reviews</td>\n",
              "      <td>0.126233</td>\n",
              "    </tr>\n",
              "    <tr>\n",
              "      <th>3</th>\n",
              "      <td>neighbourhood_cleansedIndex</td>\n",
              "      <td>0.056200</td>\n",
              "    </tr>\n",
              "    <tr>\n",
              "      <th>9</th>\n",
              "      <td>longitude</td>\n",
              "      <td>0.038810</td>\n",
              "    </tr>\n",
              "    <tr>\n",
              "      <th>14</th>\n",
              "      <td>minimum_nights</td>\n",
              "      <td>0.029473</td>\n",
              "    </tr>\n",
              "    <tr>\n",
              "      <th>13</th>\n",
              "      <td>beds</td>\n",
              "      <td>0.015218</td>\n",
              "    </tr>\n",
              "    <tr>\n",
              "      <th>5</th>\n",
              "      <td>room_typeIndex</td>\n",
              "      <td>0.010905</td>\n",
              "    </tr>\n",
              "    <tr>\n",
              "      <th>10</th>\n",
              "      <td>accommodates</td>\n",
              "      <td>0.003603</td>\n",
              "    </tr>\n",
              "    <tr>\n",
              "      <th>0</th>\n",
              "      <td>host_is_superhostIndex</td>\n",
              "      <td>0.000000</td>\n",
              "    </tr>\n",
              "    <tr>\n",
              "      <th>24</th>\n",
              "      <td>bathrooms_na</td>\n",
              "      <td>0.000000</td>\n",
              "    </tr>\n",
              "    <tr>\n",
              "      <th>25</th>\n",
              "      <td>beds_na</td>\n",
              "      <td>0.000000</td>\n",
              "    </tr>\n",
              "    <tr>\n",
              "      <th>26</th>\n",
              "      <td>review_scores_rating_na</td>\n",
              "      <td>0.000000</td>\n",
              "    </tr>\n",
              "    <tr>\n",
              "      <th>27</th>\n",
              "      <td>review_scores_accuracy_na</td>\n",
              "      <td>0.000000</td>\n",
              "    </tr>\n",
              "    <tr>\n",
              "      <th>28</th>\n",
              "      <td>review_scores_cleanliness_na</td>\n",
              "      <td>0.000000</td>\n",
              "    </tr>\n",
              "    <tr>\n",
              "      <th>22</th>\n",
              "      <td>review_scores_value</td>\n",
              "      <td>0.000000</td>\n",
              "    </tr>\n",
              "    <tr>\n",
              "      <th>29</th>\n",
              "      <td>review_scores_checkin_na</td>\n",
              "      <td>0.000000</td>\n",
              "    </tr>\n",
              "    <tr>\n",
              "      <th>30</th>\n",
              "      <td>review_scores_communication_na</td>\n",
              "      <td>0.000000</td>\n",
              "    </tr>\n",
              "    <tr>\n",
              "      <th>31</th>\n",
              "      <td>review_scores_location_na</td>\n",
              "      <td>0.000000</td>\n",
              "    </tr>\n",
              "    <tr>\n",
              "      <th>23</th>\n",
              "      <td>bedrooms_na</td>\n",
              "      <td>0.000000</td>\n",
              "    </tr>\n",
              "    <tr>\n",
              "      <th>16</th>\n",
              "      <td>review_scores_rating</td>\n",
              "      <td>0.000000</td>\n",
              "    </tr>\n",
              "    <tr>\n",
              "      <th>21</th>\n",
              "      <td>review_scores_location</td>\n",
              "      <td>0.000000</td>\n",
              "    </tr>\n",
              "    <tr>\n",
              "      <th>20</th>\n",
              "      <td>review_scores_communication</td>\n",
              "      <td>0.000000</td>\n",
              "    </tr>\n",
              "    <tr>\n",
              "      <th>19</th>\n",
              "      <td>review_scores_checkin</td>\n",
              "      <td>0.000000</td>\n",
              "    </tr>\n",
              "    <tr>\n",
              "      <th>18</th>\n",
              "      <td>review_scores_cleanliness</td>\n",
              "      <td>0.000000</td>\n",
              "    </tr>\n",
              "    <tr>\n",
              "      <th>17</th>\n",
              "      <td>review_scores_accuracy</td>\n",
              "      <td>0.000000</td>\n",
              "    </tr>\n",
              "    <tr>\n",
              "      <th>11</th>\n",
              "      <td>bathrooms</td>\n",
              "      <td>0.000000</td>\n",
              "    </tr>\n",
              "    <tr>\n",
              "      <th>8</th>\n",
              "      <td>latitude</td>\n",
              "      <td>0.000000</td>\n",
              "    </tr>\n",
              "    <tr>\n",
              "      <th>7</th>\n",
              "      <td>host_total_listings_count</td>\n",
              "      <td>0.000000</td>\n",
              "    </tr>\n",
              "    <tr>\n",
              "      <th>6</th>\n",
              "      <td>bed_typeIndex</td>\n",
              "      <td>0.000000</td>\n",
              "    </tr>\n",
              "    <tr>\n",
              "      <th>32</th>\n",
              "      <td>review_scores_value_na</td>\n",
              "      <td>0.000000</td>\n",
              "    </tr>\n",
              "  </tbody>\n",
              "</table>\n",
              "</div>\n",
              "    <div class=\"colab-df-buttons\">\n",
              "\n",
              "  <div class=\"colab-df-container\">\n",
              "    <button class=\"colab-df-convert\" onclick=\"convertToInteractive('df-52fee643-fc67-496d-94c5-e1deee7185ed')\"\n",
              "            title=\"Convert this dataframe to an interactive table.\"\n",
              "            style=\"display:none;\">\n",
              "\n",
              "  <svg xmlns=\"http://www.w3.org/2000/svg\" height=\"24px\" viewBox=\"0 -960 960 960\">\n",
              "    <path d=\"M120-120v-720h720v720H120Zm60-500h600v-160H180v160Zm220 220h160v-160H400v160Zm0 220h160v-160H400v160ZM180-400h160v-160H180v160Zm440 0h160v-160H620v160ZM180-180h160v-160H180v160Zm440 0h160v-160H620v160Z\"/>\n",
              "  </svg>\n",
              "    </button>\n",
              "\n",
              "  <style>\n",
              "    .colab-df-container {\n",
              "      display:flex;\n",
              "      gap: 12px;\n",
              "    }\n",
              "\n",
              "    .colab-df-convert {\n",
              "      background-color: #E8F0FE;\n",
              "      border: none;\n",
              "      border-radius: 50%;\n",
              "      cursor: pointer;\n",
              "      display: none;\n",
              "      fill: #1967D2;\n",
              "      height: 32px;\n",
              "      padding: 0 0 0 0;\n",
              "      width: 32px;\n",
              "    }\n",
              "\n",
              "    .colab-df-convert:hover {\n",
              "      background-color: #E2EBFA;\n",
              "      box-shadow: 0px 1px 2px rgba(60, 64, 67, 0.3), 0px 1px 3px 1px rgba(60, 64, 67, 0.15);\n",
              "      fill: #174EA6;\n",
              "    }\n",
              "\n",
              "    .colab-df-buttons div {\n",
              "      margin-bottom: 4px;\n",
              "    }\n",
              "\n",
              "    [theme=dark] .colab-df-convert {\n",
              "      background-color: #3B4455;\n",
              "      fill: #D2E3FC;\n",
              "    }\n",
              "\n",
              "    [theme=dark] .colab-df-convert:hover {\n",
              "      background-color: #434B5C;\n",
              "      box-shadow: 0px 1px 3px 1px rgba(0, 0, 0, 0.15);\n",
              "      filter: drop-shadow(0px 1px 2px rgba(0, 0, 0, 0.3));\n",
              "      fill: #FFFFFF;\n",
              "    }\n",
              "  </style>\n",
              "\n",
              "    <script>\n",
              "      const buttonEl =\n",
              "        document.querySelector('#df-52fee643-fc67-496d-94c5-e1deee7185ed button.colab-df-convert');\n",
              "      buttonEl.style.display =\n",
              "        google.colab.kernel.accessAllowed ? 'block' : 'none';\n",
              "\n",
              "      async function convertToInteractive(key) {\n",
              "        const element = document.querySelector('#df-52fee643-fc67-496d-94c5-e1deee7185ed');\n",
              "        const dataTable =\n",
              "          await google.colab.kernel.invokeFunction('convertToInteractive',\n",
              "                                                    [key], {});\n",
              "        if (!dataTable) return;\n",
              "\n",
              "        const docLinkHtml = 'Like what you see? Visit the ' +\n",
              "          '<a target=\"_blank\" href=https://colab.research.google.com/notebooks/data_table.ipynb>data table notebook</a>'\n",
              "          + ' to learn more about interactive tables.';\n",
              "        element.innerHTML = '';\n",
              "        dataTable['output_type'] = 'display_data';\n",
              "        await google.colab.output.renderOutput(dataTable, element);\n",
              "        const docLink = document.createElement('div');\n",
              "        docLink.innerHTML = docLinkHtml;\n",
              "        element.appendChild(docLink);\n",
              "      }\n",
              "    </script>\n",
              "  </div>\n",
              "\n",
              "\n",
              "<div id=\"df-60e72669-e099-4730-a42b-03325564fea1\">\n",
              "  <button class=\"colab-df-quickchart\" onclick=\"quickchart('df-60e72669-e099-4730-a42b-03325564fea1')\"\n",
              "            title=\"Suggest charts\"\n",
              "            style=\"display:none;\">\n",
              "\n",
              "<svg xmlns=\"http://www.w3.org/2000/svg\" height=\"24px\"viewBox=\"0 0 24 24\"\n",
              "     width=\"24px\">\n",
              "    <g>\n",
              "        <path d=\"M19 3H5c-1.1 0-2 .9-2 2v14c0 1.1.9 2 2 2h14c1.1 0 2-.9 2-2V5c0-1.1-.9-2-2-2zM9 17H7v-7h2v7zm4 0h-2V7h2v10zm4 0h-2v-4h2v4z\"/>\n",
              "    </g>\n",
              "</svg>\n",
              "  </button>\n",
              "\n",
              "<style>\n",
              "  .colab-df-quickchart {\n",
              "      --bg-color: #E8F0FE;\n",
              "      --fill-color: #1967D2;\n",
              "      --hover-bg-color: #E2EBFA;\n",
              "      --hover-fill-color: #174EA6;\n",
              "      --disabled-fill-color: #AAA;\n",
              "      --disabled-bg-color: #DDD;\n",
              "  }\n",
              "\n",
              "  [theme=dark] .colab-df-quickchart {\n",
              "      --bg-color: #3B4455;\n",
              "      --fill-color: #D2E3FC;\n",
              "      --hover-bg-color: #434B5C;\n",
              "      --hover-fill-color: #FFFFFF;\n",
              "      --disabled-bg-color: #3B4455;\n",
              "      --disabled-fill-color: #666;\n",
              "  }\n",
              "\n",
              "  .colab-df-quickchart {\n",
              "    background-color: var(--bg-color);\n",
              "    border: none;\n",
              "    border-radius: 50%;\n",
              "    cursor: pointer;\n",
              "    display: none;\n",
              "    fill: var(--fill-color);\n",
              "    height: 32px;\n",
              "    padding: 0;\n",
              "    width: 32px;\n",
              "  }\n",
              "\n",
              "  .colab-df-quickchart:hover {\n",
              "    background-color: var(--hover-bg-color);\n",
              "    box-shadow: 0 1px 2px rgba(60, 64, 67, 0.3), 0 1px 3px 1px rgba(60, 64, 67, 0.15);\n",
              "    fill: var(--button-hover-fill-color);\n",
              "  }\n",
              "\n",
              "  .colab-df-quickchart-complete:disabled,\n",
              "  .colab-df-quickchart-complete:disabled:hover {\n",
              "    background-color: var(--disabled-bg-color);\n",
              "    fill: var(--disabled-fill-color);\n",
              "    box-shadow: none;\n",
              "  }\n",
              "\n",
              "  .colab-df-spinner {\n",
              "    border: 2px solid var(--fill-color);\n",
              "    border-color: transparent;\n",
              "    border-bottom-color: var(--fill-color);\n",
              "    animation:\n",
              "      spin 1s steps(1) infinite;\n",
              "  }\n",
              "\n",
              "  @keyframes spin {\n",
              "    0% {\n",
              "      border-color: transparent;\n",
              "      border-bottom-color: var(--fill-color);\n",
              "      border-left-color: var(--fill-color);\n",
              "    }\n",
              "    20% {\n",
              "      border-color: transparent;\n",
              "      border-left-color: var(--fill-color);\n",
              "      border-top-color: var(--fill-color);\n",
              "    }\n",
              "    30% {\n",
              "      border-color: transparent;\n",
              "      border-left-color: var(--fill-color);\n",
              "      border-top-color: var(--fill-color);\n",
              "      border-right-color: var(--fill-color);\n",
              "    }\n",
              "    40% {\n",
              "      border-color: transparent;\n",
              "      border-right-color: var(--fill-color);\n",
              "      border-top-color: var(--fill-color);\n",
              "    }\n",
              "    60% {\n",
              "      border-color: transparent;\n",
              "      border-right-color: var(--fill-color);\n",
              "    }\n",
              "    80% {\n",
              "      border-color: transparent;\n",
              "      border-right-color: var(--fill-color);\n",
              "      border-bottom-color: var(--fill-color);\n",
              "    }\n",
              "    90% {\n",
              "      border-color: transparent;\n",
              "      border-bottom-color: var(--fill-color);\n",
              "    }\n",
              "  }\n",
              "</style>\n",
              "\n",
              "  <script>\n",
              "    async function quickchart(key) {\n",
              "      const quickchartButtonEl =\n",
              "        document.querySelector('#' + key + ' button');\n",
              "      quickchartButtonEl.disabled = true;  // To prevent multiple clicks.\n",
              "      quickchartButtonEl.classList.add('colab-df-spinner');\n",
              "      try {\n",
              "        const charts = await google.colab.kernel.invokeFunction(\n",
              "            'suggestCharts', [key], {});\n",
              "      } catch (error) {\n",
              "        console.error('Error during call to suggestCharts:', error);\n",
              "      }\n",
              "      quickchartButtonEl.classList.remove('colab-df-spinner');\n",
              "      quickchartButtonEl.classList.add('colab-df-quickchart-complete');\n",
              "    }\n",
              "    (() => {\n",
              "      let quickchartButtonEl =\n",
              "        document.querySelector('#df-60e72669-e099-4730-a42b-03325564fea1 button');\n",
              "      quickchartButtonEl.style.display =\n",
              "        google.colab.kernel.accessAllowed ? 'block' : 'none';\n",
              "    })();\n",
              "  </script>\n",
              "</div>\n",
              "\n",
              "    </div>\n",
              "  </div>\n"
            ],
            "application/vnd.google.colaboratory.intrinsic+json": {
              "type": "dataframe",
              "summary": "{\n  \"name\": \"featureImp\",\n  \"rows\": 33,\n  \"fields\": [\n    {\n      \"column\": \"feature\",\n      \"properties\": {\n        \"dtype\": \"string\",\n        \"num_unique_values\": 33,\n        \"samples\": [\n          \"bed_typeIndex\",\n          \"review_scores_accuracy_na\",\n          \"review_scores_cleanliness\"\n        ],\n        \"semantic_type\": \"\",\n        \"description\": \"\"\n      }\n    },\n    {\n      \"column\": \"importance\",\n      \"properties\": {\n        \"dtype\": \"number\",\n        \"std\": 0.06521308212734254,\n        \"min\": 0.0,\n        \"max\": 0.283405972136928,\n        \"num_unique_values\": 12,\n        \"samples\": [\n          0.003603370582286062,\n          0.010905025670823841,\n          0.283405972136928\n        ],\n        \"semantic_type\": \"\",\n        \"description\": \"\"\n      }\n    }\n  ]\n}"
            }
          },
          "metadata": {},
          "execution_count": 37
        }
      ]
    },
    {
      "cell_type": "code",
      "source": [
        "predDF = pipelineModel.transform(testDF)\n",
        "predDF.select(\"features\", \"price\", \"prediction\").orderBy(\"price\", ascending=False).show()"
      ],
      "metadata": {
        "colab": {
          "base_uri": "https://localhost:8080/"
        },
        "id": "uDPw3pY7sGN-",
        "outputId": "f3e1fec7-4440-4d6d-e141-49c2154472c1"
      },
      "execution_count": 38,
      "outputs": [
        {
          "output_type": "stream",
          "name": "stdout",
          "text": [
            "+--------------------+------+------------------+\n",
            "|            features| price|        prediction|\n",
            "+--------------------+------+------------------+\n",
            "|(33,[1,2,3,4,7,8,...|4500.0| 205.5814889336016|\n",
            "|[0.0,2.0,1.0,16.0...|3800.0|214.04819277108433|\n",
            "|(33,[0,2,3,4,7,8,...|2282.0|            8000.0|\n",
            "|[0.0,2.0,0.0,21.0...|2010.0| 205.5814889336016|\n",
            "|[0.0,0.0,1.0,21.0...|1599.0|309.03921568627453|\n",
            "|(33,[1,3,4,5,7,8,...|1500.0|104.23992784125075|\n",
            "|(33,[1,3,4,7,8,9,...|1252.0|            8000.0|\n",
            "|(33,[0,1,3,4,7,8,...|1250.0|         722.96875|\n",
            "|[0.0,2.0,1.0,2.0,...|1200.0|104.23992784125075|\n",
            "|(33,[1,3,4,7,8,9,...|1200.0| 493.3795620437956|\n",
            "|[1.0,0.0,1.0,3.0,...|1200.0| 205.5814889336016|\n",
            "|(33,[0,3,4,7,8,9,...|1195.0|         722.96875|\n",
            "|(33,[2,3,4,5,7,8,...|1099.0|            741.64|\n",
            "|(33,[3,4,7,8,9,10...|1075.0| 493.3795620437956|\n",
            "|[0.0,0.0,0.0,26.0...|1000.0| 493.3795620437956|\n",
            "|(33,[3,4,7,8,9,10...|1000.0|296.76666666666665|\n",
            "|(33,[3,4,7,8,9,10...|1000.0| 493.3795620437956|\n",
            "|[1.0,1.0,1.0,20.0...|1000.0|151.94179894179894|\n",
            "|(33,[0,2,3,7,8,9,...|1000.0|             398.0|\n",
            "|(33,[4,7,8,9,10,1...| 950.0| 290.8357933579336|\n",
            "+--------------------+------+------------------+\n",
            "only showing top 20 rows\n",
            "\n"
          ]
        }
      ]
    },
    {
      "cell_type": "code",
      "source": [
        "from pyspark.ml.evaluation import RegressionEvaluator\n",
        "\n",
        "regressionEvaluator = RegressionEvaluator(predictionCol=\"prediction\",\n",
        "                                          labelCol=\"price\",\n",
        "                                          metricName=\"rmse\")\n",
        "\n",
        "rmse = regressionEvaluator.evaluate(predDF)\n",
        "r2 = regressionEvaluator.setMetricName(\"r2\").evaluate(predDF)\n",
        "print(f\"RMSE is {rmse}\")\n",
        "print(f\"R2 is {r2}\")"
      ],
      "metadata": {
        "colab": {
          "base_uri": "https://localhost:8080/"
        },
        "id": "LgC_8QUTr1Cn",
        "outputId": "9fd82798-5c1d-4406-e402-469bb2be08f6"
      },
      "execution_count": 39,
      "outputs": [
        {
          "output_type": "stream",
          "name": "stdout",
          "text": [
            "RMSE is 385.8704264527981\n",
            "R2 is -1.5696388432265533\n"
          ]
        }
      ]
    },
    {
      "cell_type": "markdown",
      "source": [
        "# RandomForest & HypyerParameter Tuning"
      ],
      "metadata": {
        "id": "Mcz_el0ZsQSr"
      }
    },
    {
      "cell_type": "code",
      "source": [
        "from pyspark.ml.feature import StringIndexer, VectorAssembler\n",
        "from pyspark.ml.regression import RandomForestRegressor\n",
        "from pyspark.ml import Pipeline\n",
        "from pyspark.ml.tuning import ParamGridBuilder\n",
        "from pyspark.ml.evaluation import RegressionEvaluator\n",
        "from pyspark.ml.tuning import CrossValidator\n",
        "\n",
        "filePath = \"sf-airbnb-clean.parquet\"\n",
        "airbnbDF = spark.read.parquet(filePath)\n",
        "(trainDF, testDF) = airbnbDF.randomSplit([.8, .2], seed=42)\n",
        "\n",
        "categoricalCols = [field for (field, dataType) in trainDF.dtypes if dataType == \"string\"]\n",
        "indexOutputCols = [x + \"Index\" for x in categoricalCols]\n",
        "\n",
        "stringIndexer = StringIndexer(inputCols=categoricalCols, outputCols=indexOutputCols, handleInvalid=\"skip\")\n",
        "\n",
        "numericCols = [field for (field, dataType) in trainDF.dtypes if ((dataType == \"double\") & (field != \"price\"))]\n",
        "assemblerInputs = indexOutputCols + numericCols\n",
        "vecAssembler = VectorAssembler(inputCols=assemblerInputs, outputCol=\"features\")\n",
        "\n",
        "rf = RandomForestRegressor(labelCol=\"price\", maxBins=40, seed=42)\n",
        "pipeline = Pipeline(stages = [stringIndexer, vecAssembler, rf])\n",
        "\n",
        "paramGrid = (ParamGridBuilder()\n",
        "            .addGrid(rf.maxDepth, [2, 4, 6])\n",
        "            .addGrid(rf.numTrees, [10, 100])\n",
        "            .build())\n",
        "\n",
        "\n",
        "\n",
        "evaluator = RegressionEvaluator(labelCol=\"price\",\n",
        "                                predictionCol=\"prediction\",\n",
        "                                metricName=\"rmse\")\n",
        "\n",
        "cv = CrossValidator(estimator=pipeline,\n",
        "                    evaluator=evaluator,\n",
        "                    estimatorParamMaps=paramGrid,\n",
        "                    numFolds=3,\n",
        "                    seed=42)\n",
        "\n",
        "cvModel = cv.fit(trainDF)\n",
        "cvModel = cv.setParallelism(4).fit(trainDF)\n",
        "\n",
        "cv = CrossValidator(estimator=rf,\n",
        "                    evaluator=evaluator,\n",
        "                    estimatorParamMaps=paramGrid,\n",
        "                    numFolds=3,\n",
        "                    parallelism=4,\n",
        "                    seed=42)\n",
        "\n",
        "pipeline = Pipeline(stages=[stringIndexer, vecAssembler, cv])\n",
        "pipelineModel = pipeline.fit(trainDF)\n",
        "\n",
        "list(zip(cvModel.getEstimatorParamMaps(), cvModel.avgMetrics))\n",
        "\n",
        "predDF = pipelineModel.transform(testDF)\n",
        "regressionEvaluator = RegressionEvaluator(predictionCol=\"prediction\", labelCol=\"price\", metricName=\"rmse\")\n",
        "\n",
        "rmse = regressionEvaluator.evaluate(predDF)\n",
        "r2 = regressionEvaluator.setMetricName(\"r2\").evaluate(predDF)\n",
        "print(f\"RMSE is {rmse}\")\n",
        "print(f\"R2 is {r2}\")"
      ],
      "metadata": {
        "colab": {
          "base_uri": "https://localhost:8080/"
        },
        "id": "5rqJSjhxsVSE",
        "outputId": "2147a031-2b19-4d5f-fb9d-3f41773c029f"
      },
      "execution_count": 40,
      "outputs": [
        {
          "output_type": "stream",
          "name": "stdout",
          "text": [
            "RMSE is 211.70370310223277\n",
            "R2 is 0.2265254865671944\n"
          ]
        }
      ]
    }
  ]
}